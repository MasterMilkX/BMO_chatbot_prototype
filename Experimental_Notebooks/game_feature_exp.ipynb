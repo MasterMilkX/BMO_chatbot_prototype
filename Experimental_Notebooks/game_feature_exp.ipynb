{
 "cells": [
  {
   "cell_type": "markdown",
   "metadata": {},
   "source": [
    "## Game Feature Recommendation System\n",
    "Recommends to the user on prompting game features extracted from game database information"
   ]
  },
  {
   "cell_type": "code",
   "execution_count": 21,
   "metadata": {},
   "outputs": [],
   "source": [
    "# Library imports\n",
    "\n",
    "import numpy as np\n",
    "import spacy\n",
    "from nltk.tokenize import word_tokenize\n",
    "from nltk.corpus import stopwords\n",
    "nlp = spacy.load(\"en_core_web_sm\")"
   ]
  },
  {
   "cell_type": "code",
   "execution_count": 22,
   "metadata": {},
   "outputs": [],
   "source": [
    "# External data imports\n",
    "def loadFeatData():\n",
    "    DAT = {}\n",
    "    with open(\"../data/game_datfeat.txt\", \"r\") as f:\n",
    "        lines = [l.strip() for l in f.readlines()]\n",
    "        CUR_GAME = \"\"\n",
    "        for l in lines:\n",
    "            # empty line (between entries)\n",
    "            if l == \"\":\n",
    "                continue\n",
    "            #new entry\n",
    "            else:\n",
    "                if l[0] == \"+\":\n",
    "                    CUR_GAME = l[2:]\n",
    "                    DAT[CUR_GAME] = {\"tags\":[],\"entities\":[],\"features\":[]}\n",
    "                elif l[0] == \"#\":\n",
    "                    DAT[CUR_GAME][\"tags\"] = l[2:].split(\",\")\n",
    "                elif l[0] == \"@\":\n",
    "                    DAT[CUR_GAME][\"entities\"] = l[2:].split(\",\")\n",
    "                else:\n",
    "                    DAT[CUR_GAME][\"features\"].append(l)\n",
    "    return DAT\n",
    "\n",
    "GAME_DATA = loadFeatData()"
   ]
  },
  {
   "cell_type": "markdown",
   "metadata": {},
   "source": [
    "### Note: Embedding doesn't work with unbalanced dataset - try something else"
   ]
  },
  {
   "cell_type": "code",
   "execution_count": 28,
   "metadata": {},
   "outputs": [],
   "source": [
    "###   EMBED THE TAGS AND ENTITIES   ###\n",
    "\n",
    "# get all of the tags and entities\n",
    "ALL_TAGS = []\n",
    "ALL_ENTITIES = []\n",
    "for g in GAME_DATA:\n",
    "    ALL_TAGS += [t.lower() for t in GAME_DATA[g][\"tags\"]]\n",
    "    ALL_ENTITIES += [e.lower() for e in GAME_DATA[g][\"entities\"]]\n",
    "\n",
    "# remove duplicates\n",
    "ALL_TAGS = list(set(ALL_TAGS))\n",
    "ALL_ENTITIES = list(set(ALL_ENTITIES))\n",
    "\n",
    "#make a tag embedding\n",
    "def tagEmbed(tags):\n",
    "    vec = [0]*len(ALL_TAGS)\n",
    "    for t in tags:\n",
    "        tt = t.lower()\n",
    "        if tt in ALL_TAGS:\n",
    "            vec[ALL_TAGS.index(tt)] = 1\n",
    "    return vec\n",
    "\n",
    "#make a entity embedding\n",
    "def entEmbed(entities):\n",
    "    vec = [0]*len(ALL_ENTITIES)\n",
    "    for e in entities:\n",
    "        ee = e.lower()\n",
    "        if ee in ALL_ENTITIES:\n",
    "            vec[ALL_ENTITIES.index(ee)] = 1\n",
    "    return vec\n",
    "\n",
    "\n",
    "# make the embeddings for each game\n",
    "TAG_EMBEDDINGS = {}\n",
    "ENTITY_EMBEDDINGS = {}\n",
    "for g in GAME_DATA:\n",
    "    TAG_EMBEDDINGS[g] = tagEmbed(GAME_DATA[g][\"tags\"])\n",
    "    ENTITY_EMBEDDINGS[g] = entEmbed(GAME_DATA[g][\"entities\"])\n",
    "\n",
    "#make a combined embedding\n",
    "FULL_EMVEDDINGS = {}\n",
    "for g in GAME_DATA:\n",
    "    FULL_EMVEDDINGS[g] = TAG_EMBEDDINGS[g]+ENTITY_EMBEDDINGS[g]\n",
    "    "
   ]
  },
  {
   "cell_type": "code",
   "execution_count": 39,
   "metadata": {},
   "outputs": [],
   "source": [
    "## GET CLOSEST GAME FROM TEXT BASED ON EMBEDDINGS ##\n",
    "def getClosestGames(txt,k=3):\n",
    "    # tokenize and remove all stop words\n",
    "    raw_toks = word_tokenize(txt)\n",
    "    toks = [w.lower() for w in raw_toks if w.lower() not in stopwords.words(\"english\") and w.isalpha()]\n",
    "    print(toks)\n",
    "\n",
    "    # get the embedding for the text\n",
    "    txt_embed = tagEmbed(toks)+entEmbed(toks)\n",
    "\n",
    "    # get the closest games using distance metrics\n",
    "    dists = {}\n",
    "    for g in GAME_DATA:\n",
    "        dists[g] = np.linalg.norm(np.array(txt_embed) - np.array(FULL_EMVEDDINGS[g]))\n",
    "    dists = sorted(dists.items(), key=lambda x: x[1])\n",
    "    print(dists)\n",
    "    return dists[:k]\n"
   ]
  },
  {
   "cell_type": "markdown",
   "metadata": {},
   "source": [
    "### Steps: \n",
    "1. Load the data (games => tags, entities, features)\n",
    "2. Get a user prompt for a game and its genre\n",
    "3. Recommend some random features based on the text similarity and closest tags\n",
    "\n",
    "* Note: Keep in mind, there are over 150k games with tags, features, and entities - the search cannot be too large\n"
   ]
  },
  {
   "cell_type": "code",
   "execution_count": 40,
   "metadata": {},
   "outputs": [],
   "source": [
    "# recommend some features to the user based on a prompt\n",
    "def recommendFeatures(userPrompt):\n",
    "    # get the closest game\n",
    "    closestGames = getClosestGames(userPrompt)\n",
    "\n",
    "    # get the features for that game\n",
    "    for g in closestGames:\n",
    "        print(g[0])\n",
    "        print(GAME_DATA[g[0]][\"features\"])"
   ]
  },
  {
   "cell_type": "code",
   "execution_count": 41,
   "metadata": {},
   "outputs": [
    {
     "name": "stdout",
     "output_type": "stream",
     "text": [
      "['multiplayer', 'action', 'game', 'knights']\n",
      "[('THE RAMP', 4.242640687119285), ('BATMAN: ARKHAM CITY', 4.47213595499958), ('KINDERGARTEN', 4.898979485566356), ('AMONG US', 5.0), ('ELDEN RING', 5.0), ('HADES', 5.291502622129181), ('SUPER FANCY PANTS ADVENTURE', 5.477225575051661), ('VAMPIRE SURVIVORS', 5.5677643628300215), ('BABA IS YOU', 5.656854249492381), ('A SHORT HIKE', 5.656854249492381), ('OUTER WILDS', 5.744562646538029), ('ESCAPE SIMULATOR', 5.830951894845301), ('NIDHOGG', 5.830951894845301), ('SPELUNKY', 5.916079783099616), ('ULTRAKILL', 5.916079783099616), ('DONUT COUNTY', 6.0), ('OVERCOOKED! 2', 6.0), ('SCRIBBLENAUTS UNLIMITED', 6.082762530298219), ('CASTLE CRASHERS', 6.164414002968976), ('THE ELDER SCROLLS V: SKYRIM', 6.244997998398398), ('DOWNWELL', 6.4031242374328485), ('OMORI', 6.4031242374328485), ('CYBERPUNK 2077', 6.48074069840786), ('KINGSWAY', 6.557438524302), ('STARDEW VALLEY', 6.557438524302), ('THE BINDING OF ISAAC', 6.6332495807108), ('CUPHEAD', 6.708203932499369), ('EMILY IS AWAY TOO', 6.708203932499369), ('QUADRILATERAL COWBOY', 6.782329983125268), ('BATTLEBLOCK THEATER', 6.855654600401044), (\"MIRROR'S EDGE\", 6.855654600401044), ('HYPER LIGHT DRIFTER', 6.928203230275509), ('THIEF', 6.928203230275509), ('STREETS OF ROGUE', 7.0710678118654755), ('MINI NINJAS', 7.211102550927978), ('FEZ', 7.280109889280518), ('NIGHT IN THE WOODS', 7.280109889280518), ('HAMMERWATCH', 7.416198487095663), ('JET SET RADIO', 7.416198487095663), ('GOAT SIMULATOR', 7.615773105863909), ('PORTAL', 7.615773105863909), ('RETROWAVE', 7.615773105863909), ('TROMBONE CHAMP', 7.745966692414834), ('SUPER MEAT BOY', 8.06225774829855), ('GRAND THEFT AUTO V', 8.48528137423857), ('UNDERTALE', 8.602325267042627), ('LAST CALL BBS', 9.055385138137417), ('CAVEBLAZERS', 9.539392014169456), ('CHROMA SQUAD', 9.643650760992955), ('MONSTER PROM', 10.392304845413264)]\n",
      "THE RAMP\n",
      "[]\n",
      "BATMAN: ARKHAM CITY\n",
      "[]\n",
      "KINDERGARTEN\n",
      "[]\n"
     ]
    }
   ],
   "source": [
    "user_txt = \"top-down multiplayer action game about knights\"\n",
    "recommendFeatures(user_txt)"
   ]
  }
 ],
 "metadata": {
  "kernelspec": {
   "display_name": "Python 3.8.9 ('bmo-venv': venv)",
   "language": "python",
   "name": "python3"
  },
  "language_info": {
   "codemirror_mode": {
    "name": "ipython",
    "version": 3
   },
   "file_extension": ".py",
   "mimetype": "text/x-python",
   "name": "python",
   "nbconvert_exporter": "python",
   "pygments_lexer": "ipython3",
   "version": "3.8.9"
  },
  "orig_nbformat": 4,
  "vscode": {
   "interpreter": {
    "hash": "f94925f3cff0b0ac90dd538919dcd2d4d02467fa3fdafdf86812e92b857d43c1"
   }
  }
 },
 "nbformat": 4,
 "nbformat_minor": 2
}
