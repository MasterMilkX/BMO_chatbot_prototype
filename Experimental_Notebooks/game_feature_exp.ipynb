{
 "cells": [
  {
   "cell_type": "markdown",
   "metadata": {},
   "source": [
    "## Game Feature Recommendation System\n",
    "Recommends to the user on prompting game features extracted from game database information"
   ]
  },
  {
   "cell_type": "code",
   "execution_count": 2,
   "metadata": {},
   "outputs": [],
   "source": [
    "# Library imports\n",
    "\n",
    "import numpy as np\n",
    "import spacy\n",
    "import csv\n",
    "nlp = spacy.load(\"en_core_web_sm\")"
   ]
  },
  {
   "cell_type": "code",
   "execution_count": null,
   "metadata": {},
   "outputs": [],
   "source": [
    "# External script imports\n"
   ]
  },
  {
   "cell_type": "code",
   "execution_count": null,
   "metadata": {},
   "outputs": [],
   "source": []
  },
  {
   "cell_type": "markdown",
   "metadata": {},
   "source": [
    "### Steps: \n",
    "1. Load the data (tags => game features)\n",
    "2. Sort each tag by the co-occurence matrix\n",
    "3. Get a user prompt for a game and its genre\n",
    "4. Recommend some random features based on the text similarity and closest tags"
   ]
  },
  {
   "cell_type": "code",
   "execution_count": 4,
   "metadata": {},
   "outputs": [
    {
     "name": "stdout",
     "output_type": "stream",
     "text": [
      "['jump', 'on', 'powerlines']\n",
      "['VERB', 'ADP', 'NOUN']\n",
      "['VB', 'IN', 'NNS']\n",
      "\n",
      "['picks', 'up', 'in', 'the', 'titular', 'metropolis']\n",
      "['VERB', 'ADP', 'ADP', 'DET', 'ADJ', 'NOUN']\n",
      "['VBZ', 'RP', 'IN', 'DT', 'JJ', 'NN']\n",
      "\n",
      "['bending', 'trials']\n",
      "['VERB', 'NOUN']\n",
      "['VBG', 'NNS']\n",
      "\n"
     ]
    }
   ],
   "source": []
  }
 ],
 "metadata": {
  "kernelspec": {
   "display_name": "Python 3.8.9 ('bmo-venv': venv)",
   "language": "python",
   "name": "python3"
  },
  "language_info": {
   "codemirror_mode": {
    "name": "ipython",
    "version": 3
   },
   "file_extension": ".py",
   "mimetype": "text/x-python",
   "name": "python",
   "nbconvert_exporter": "python",
   "pygments_lexer": "ipython3",
   "version": "3.8.9"
  },
  "orig_nbformat": 4,
  "vscode": {
   "interpreter": {
    "hash": "f94925f3cff0b0ac90dd538919dcd2d4d02467fa3fdafdf86812e92b857d43c1"
   }
  }
 },
 "nbformat": 4,
 "nbformat_minor": 2
}
