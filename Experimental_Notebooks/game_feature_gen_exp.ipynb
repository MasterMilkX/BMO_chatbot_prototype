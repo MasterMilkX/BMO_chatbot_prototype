{
 "cells": [
  {
   "attachments": {},
   "cell_type": "markdown",
   "metadata": {},
   "source": [
    "# GAME FEATURE GENERATOR (POOR MAN'S NLP)\n",
    "\n",
    "Generates new game features using N-Grams and W2V and grammar structures of existing feature sets"
   ]
  },
  {
   "cell_type": "code",
   "execution_count": 1,
   "metadata": {},
   "outputs": [
    {
     "name": "stderr",
     "output_type": "stream",
     "text": [
      "/Users/milk/Desktop/GIL_Lab/BMO/BMO_chatbot_prototype/bmo-venv/lib/python3.8/site-packages/tqdm/auto.py:22: TqdmWarning: IProgress not found. Please update jupyter and ipywidgets. See https://ipywidgets.readthedocs.io/en/stable/user_install.html\n",
      "  from .autonotebook import tqdm as notebook_tqdm\n"
     ]
    }
   ],
   "source": [
    "# Library imports\n",
    "\n",
    "import numpy as np\n",
    "import spacy\n",
    "import math\n",
    "import re\n",
    "import random\n",
    "from nltk.tokenize import word_tokenize\n",
    "from tqdm import tqdm\n",
    "from nltk.corpus import stopwords\n",
    "from sklearn.metrics.pairwise import cosine_similarity\n",
    "import requests\n",
    "import json\n",
    "from nltk.corpus import wordnet as wn\n",
    "# from nltk.stem.wordnet import WordNetLemmatizer as wnl\n",
    "\n",
    "\n",
    "# other files\n",
    "import sys\n",
    "sys.path.append('../')\n",
    "import Python.utils as utils\n",
    "\n",
    "# setup\n",
    "nlp = spacy.load(\"en_core_web_sm\")"
   ]
  },
  {
   "attachments": {},
   "cell_type": "markdown",
   "metadata": {},
   "source": [
    "### Make the Game Recommender (as a class for easy access and modularization)"
   ]
  },
  {
   "cell_type": "code",
   "execution_count": 2,
   "metadata": {},
   "outputs": [],
   "source": [
    "'''\n",
    "    This class is used to generate the game features for the game recommender system\n",
    "'''\n",
    "class GameRecModel():\n",
    "    # init function\n",
    "    def __init__(self):\n",
    "        # big variables\n",
    "        self.GAME_DATA = {}\n",
    "        self.ALL_TAGS = []\n",
    "        self.ALL_ENTITIES = []\n",
    "        self.GAME_DAT_TFIDF = {}\n",
    "        self.GLOVE_DAT = {}\n",
    "\n",
    "        #helper variables\n",
    "        self.custom_stopwords = [\"game\", \",\", \".\", \"!\"]\n",
    "\n",
    "    # creates everything needed for the game recommender\n",
    "    def setup(self, full=True, glove_size=50):\n",
    "        self.importGameData(full=full)\n",
    "        self.getTagsEntities()\n",
    "        self.importGlove(size=glove_size)\n",
    "        self.importGameDatTfidf()\n",
    "\n",
    "\n",
    "    #import the game data from the game_datfeat.txt file\n",
    "    def importGameData(self,full=True):\n",
    "        #select which file to import\n",
    "        if full:\n",
    "            print(\"Importing full game data...\")\n",
    "            game_import_file = \"../data/game_datfeat_FULL.txt\"\n",
    "        else:\n",
    "            print(\"Importing subset of game data...\")\n",
    "            game_import_file = \"../data/game_datfeat.txt\"\n",
    "\n",
    "        #import the data\n",
    "        self.GAME_DATA = {}\n",
    "        with open(game_import_file, \"r\") as f:\n",
    "            lines = [l.strip() for l in f.readlines()]\n",
    "            CUR_GAME = \"\"\n",
    "            for l in lines:\n",
    "                # empty line (between entries)\n",
    "                if l == \"\":\n",
    "                    continue\n",
    "                #new entry\n",
    "                else:\n",
    "                    if l[0] == \"+\":\n",
    "                        CUR_GAME = l[2:].upper()\n",
    "                        self.GAME_DATA[CUR_GAME] = {\"tags\":[],\"entities\":[],\"features\":[]}\n",
    "                    elif l[0] == \"#\":\n",
    "                        self.GAME_DATA[CUR_GAME][\"tags\"] = [t.lower() for t in l[2:].split(\",\")]\n",
    "                    elif l[0] == \"@\":\n",
    "                        self.GAME_DATA[CUR_GAME][\"entities\"] = [e.lower() for e in l[2:].split(\",\")]\n",
    "                    elif l[0] == \"-\":\n",
    "                        self.GAME_DATA[CUR_GAME][\"features\"].append(l[2:])\n",
    "\n",
    "\n",
    "    #get all of the tags and the entities from the game data\n",
    "    def getTagsEntities(self):\n",
    "        # get all of the tags and entities\n",
    "        ALL_TAGS = []\n",
    "        ALL_ENTITIES = []\n",
    "        for g in self.GAME_DATA:\n",
    "            ALL_TAGS += [t.lower() for t in self.GAME_DATA[g][\"tags\"]]\n",
    "            ALL_ENTITIES += [e.lower() for e in self.GAME_DATA[g][\"entities\"]]\n",
    "\n",
    "        # remove duplicates and set the value\n",
    "        self.ALL_TAGS = list(set(ALL_TAGS))\n",
    "        self.ALL_ENTITIES = list(set(ALL_ENTITIES))\n",
    "\n",
    "\n",
    "    #import the word embedding data from the GloVe dataset\n",
    "    def importGlove(self,size=50):\n",
    "        GLOVE_DAT = {}\n",
    "        with open(f\"../data/glove.6B/glove.6B.{size}d.txt\", \"r\", encoding=\"utf-8\") as f:\n",
    "            lines = f.readlines()\n",
    "            for line in tqdm(lines,desc='Importing GloVe'):\n",
    "                line = line.split()\n",
    "                self.GLOVE_DAT[line[0]] = np.array([float(x) for x in line[1:]])\n",
    "\n",
    "    \n",
    "    # get the tfidf scores for each game\n",
    "    def importGameDatTfidf(self):\n",
    "        GAME_DOCS = {}\n",
    "        for g in self.GAME_DATA:\n",
    "            GAME_DOCS[g] = list(set(self.GAME_DATA[g][\"tags\"]+self.GAME_DATA[g][\"entities\"]))\n",
    "        self.GAME_DAT_TFIDF = utils.idf_docs(GAME_DOCS)\n",
    "\n",
    "\n",
    "\n",
    "    # return the similarity score between 2 game theme word sets\n",
    "    # takes as input 2 lists of tokens from each game\n",
    "    def gameSim(self,prompt_game,comp_game): \n",
    "        # Get the cosine similarity between each word in g1 and g2 to make a matrix\n",
    "        d = cosine_similarity([self.GLOVE_DAT[w] for w in prompt_game if w in self.GLOVE_DAT],[self.GLOVE_DAT[w] for w in comp_game if w in self.GLOVE_DAT if w in self.GLOVE_DAT])\n",
    "\n",
    "        #return the average of the max similarity score for each word in the prompt game\n",
    "        return sum([max(x) for x in d])\n",
    "\n",
    "\n",
    "    #tokenizes the text\n",
    "    def tokenize(self, txt):\n",
    "        raw_toks = word_tokenize(txt)\n",
    "        toks = [w.lower() for w in raw_toks if w.lower() not in stopwords.words(\"english\") and w.lower() not in self.custom_stopwords]\n",
    "        #add the custom tag words (can be compound words)\n",
    "        for t in self.ALL_TAGS:\n",
    "            if t in txt and t not in toks:\n",
    "                toks.append(t)\n",
    "        return toks\n",
    "\n",
    "\n",
    "    ### MAIN FUNCTIONS ###\n",
    "\n",
    "    # turns the prompt into a dataset item [tags, entities]\n",
    "    def toDataStr(self, txt):\n",
    "        prompt_toks = self.tokenize(txt)\n",
    "        tags = [t for t in prompt_toks if t in self.ALL_TAGS]\n",
    "        entities = [e for e in prompt_toks if e in self.ALL_ENTITIES]\n",
    "        return f\"{','.join(tags)}\\n{','.join(entities)}\"\n",
    "\n",
    "    # get the closest games to the prompt game\n",
    "    def getClosestGames(self, prompt_txt, num_games=3):\n",
    "        # get the prompt game tokens\n",
    "        prompt_toks = self.tokenize(prompt_txt)\n",
    "\n",
    "        # get the similarity scores for each game\n",
    "        sim_scores = {}\n",
    "        for g in self.GAME_DATA.keys():\n",
    "            other_toks = self.GAME_DATA[g]['tags'] + self.GAME_DATA[g]['entities']\n",
    "            sim_scores[g] = self.gameSim(prompt_toks,other_toks)\n",
    "\n",
    "        #add tf-idf scores where found\n",
    "        tot_scores = {}\n",
    "        for g in sim_scores:\n",
    "            for t in prompt_toks:\n",
    "                if t in self.GAME_DAT_TFIDF[g]:\n",
    "                    tot_scores[g] = sim_scores[g]+self.GAME_DAT_TFIDF[g][t]\n",
    "\n",
    "        # sort the games by similarity score\n",
    "        sorted_games = sorted(tot_scores.items(), key=lambda x: x[1], reverse=True)\n",
    "\n",
    "        # return the top num_games and their distances (for debugging)\n",
    "        best = sorted_games[:num_games]\n",
    "        return [b[0] for b in best], [b[1] for b in best]\n",
    "\n",
    "    # returns the list of features for a game\n",
    "    def getGameFeats(self,game):\n",
    "        return self.GAME_DATA[game][\"features\"]\n",
    "\n",
    "    # returns the list of entities for a game\n",
    "    def getGameEntities(self,game):\n",
    "        return self.GAME_DATA[game][\"entities\"]\n",
    "\n",
    "    # returns some features from the top games recommended\n",
    "    def getTopGameFeats(self, prompt_txt, num_games=3):\n",
    "        top_games, _ = self.getClosestGames(prompt_txt,num_games=num_games)\n",
    "        feats = []\n",
    "        for g in top_games:\n",
    "            feats += self.getGameFeats(g)\n",
    "        return feats\n",
    "\n",
    "    # returns the first n game features from the top selected games\n",
    "    def getNumGameFeats(self, prompt_txt, num_feats=30):\n",
    "        top_games, _ = self.getClosestGames(prompt_txt,num_games=num_feats)  #assume each game has at least 1 feature\n",
    "        feats = []\n",
    "        for g in top_games:\n",
    "            feats += self.getGameFeats(g)\n",
    "            if len(feats) >= num_feats:\n",
    "                break\n",
    "        return feats[:num_feats]\n",
    "\n",
    "    # returns some entities from the top games recommended\n",
    "    def getTopGameEntities(self, prompt_txt, num_games=3):\n",
    "        top_games, _ = self.getClosestGames(prompt_txt,num_games=num_games)\n",
    "        ents = []\n",
    "        for g in top_games:\n",
    "            ents += self.getGameEntities(g)\n",
    "        return list(set(ents))\n",
    "\n"
   ]
  },
  {
   "cell_type": "code",
   "execution_count": 3,
   "metadata": {},
   "outputs": [
    {
     "name": "stdout",
     "output_type": "stream",
     "text": [
      "Importing subset of game data...\n"
     ]
    },
    {
     "name": "stderr",
     "output_type": "stream",
     "text": [
      "Importing GloVe: 100%|██████████| 400000/400000 [00:06<00:00, 64338.79it/s]\n"
     ]
    }
   ],
   "source": [
    "GameRec = GameRecModel()\n",
    "GameRec.setup(False)"
   ]
  },
  {
   "cell_type": "code",
   "execution_count": 4,
   "metadata": {},
   "outputs": [
    {
     "name": "stdout",
     "output_type": "stream",
     "text": [
      "rpg\n",
      "rpg,princess,swords,turn\n",
      "(['CASTLE CRASHERS', 'CHROMA SQUAD', 'UNDERTALE', 'NIDHOGG', 'THE BINDING OF ISAAC'], [9.396202793135762, 9.019775167666664, 8.619144312145528, 8.232175826270373, 7.0947548845780135])\n",
      "['defend your kingdom', 'smash your way to victory', 'play locally or online to save your princess', 'crash some castles', 'destroy the city', 'hire actors', 'ensure further combats', 'upgrade your gear', 'change the marketing', 'buy or craft improvements', 'conquer the hearts', 'save the city', 'combine your heroes', 'provide cash', 'produce ( actors', 'deal more damage', 'do this with than others', 'need to perform certain actions', 'show mercy to the opponent in order', 'resolve conflict without bloodshed', 'attack monsters', 'try to find peaceful resolutions', 'choose to perform friendly actions in battle', 'finish every encounter', 'run towards their opponent', 'reach the end', 'throw their swords', 'run, jump', 'find bizarre treasures', 'discover secrets and fight his way to safety']\n",
      "['defend your kingdom', 'smash your way to victory', 'play locally or online to save your princess', 'crash some castles', 'destroy the city', 'hire actors', 'ensure further combats', 'upgrade your gear', 'change the marketing', 'buy or craft improvements', 'conquer the hearts', 'save the city', 'combine your heroes', 'provide cash', 'produce ( actors', 'deal more damage', 'do this with than others', 'need to perform certain actions', 'show mercy to the opponent in order', 'resolve conflict without bloodshed', 'attack monsters', 'try to find peaceful resolutions', 'choose to perform friendly actions in battle', 'finish every encounter', 'run towards their opponent', 'reach the end', 'throw their swords', 'run, jump', 'find bizarre treasures', 'discover secrets and fight his way to safety', 'find out what riches', 'encounter AI characters', 'explore and a massive amount', 'Go for it!-', 'take a punt', 'explore, new weapons', 'feature a set', 'discover new areas', 'encounter a boss', 'manage your adventure', 'Defeat enemies and plunder crypts and caves', 'Choose from various character', 'steal and murder your way', 'Discover a strange land of monsters', 'suit your play', 'Organize the interface', 'progress, the player', 'need to accomplish specific mission', 'quiet the vicious disease', 'learn to live off the land']\n",
      "['weapons', 'friends', 'system', 'show', 'elements', 'skill', 'underground', 'fights', 'voice', 'improvements', 'mercy', 'combats', 'endings', 'soul', 'power', 'maneuvers', 'player', 'arcade', 'upgrades', 'basics', 'robots', 'droves', 'puzzles', 'enemies', 'combos', 'form', 'hi', 'conflict', 'twist', 'box', 'storyline', 'encounter', 'fight', 'warriors', 'season', 'jumpsuit', 'love', 'rangers', 'episodes', 'overworld', 'award', 'cardboard', 'humans', 'meter', 'action', 'basement', 'bloodshed', 'resolutions', 'seconds', 'hack', 'letter', 'kingdom', 'end', 'episode', 'talks', 'woman', 'game', 'battles', 'audience', 'wins', 'child', 'aspects', 'others', 'adventure', 'secrets', 'brothers', 'way', 'money', 'one', 'opponent', 'sacrifice', 'actors', 'command', 'journey', 'combat', 'tv', 'slide', 'side', 'turn', 'spectators', 'experience', 'abilities', 'players', 'marketing', 'faith', 'points', 'treasures', 'sisters', 'attack', 'years', 'battle', 'heart', 'justice', 'playthroughs', 'craft', 'areas', 'television', 'rpg', 'term', 'crafting', 'strength', 'world', 'mother', 'pixel', 'binding', 'gear', 'hole', 'fears', 'save', 'care', 'equipment', 'items', 'princess', 'fan', 'costumes', 'war', 'safety', 'moves', 'time', 'jump', 'strategies', 'environment', 'isaac', 'duct', 'creatures', 'tape', 'victory', 'attacks', 'respawns', 'campaign', 'cast', 'timing', 'file', 'series', 'cash', 'damage', 'crashers', 'hand', 'purchase', 'studio', 'flow', 'monsters', 'screen', 'boss', 'trees', 'fighting', 'hearts', 'res', 'swords', 'castles', 'slash', 'order', 'heroes', 'actions', 'reference', 'depth', 'villains', 'visuals', 'cameras', 'characters', 'story', 'npcs', 'city']\n"
     ]
    }
   ],
   "source": [
    "# test out the game recommendation\n",
    "prompt = \"an rpg about a princess who collects swords and flowers to turn into potions and is secretly a frog\"\n",
    "print(GameRec.toDataStr(prompt))\n",
    "print(GameRec.getClosestGames(prompt, num_games=5))\n",
    "print(GameRec.getTopGameFeats(prompt, num_games=5))\n",
    "print(GameRec.getNumGameFeats(prompt, num_feats=50))\n",
    "print(GameRec.getTopGameEntities(prompt, num_games=5))"
   ]
  },
  {
   "attachments": {},
   "cell_type": "markdown",
   "metadata": {},
   "source": [
    "## Generate new features from the set given\n",
    "\n",
    "1. Mix and match words to generate to new grammars\n",
    "2. Mix and match with random grammar structure probabilities extracted from the features\n",
    "3. N-grams on the words \n",
    "4. #2 but with fill in with synonyms and related words (WordNet)\n",
    "5. #2 but with fill in related thematic words (ConceptNet)\n",
    "6. Gamify features from the CapableOf and UsedFor descriptions from ConceptNet\n"
   ]
  },
  {
   "attachments": {},
   "cell_type": "markdown",
   "metadata": {},
   "source": [
    "### Experiment 1: Mix and Match\n",
    "Note: Not terrible - could be better\n",
    "\n",
    "-> ['try the way', 'run to the conflict', 'choose every victory or perform their secrets']"
   ]
  },
  {
   "cell_type": "code",
   "execution_count": 9,
   "metadata": {},
   "outputs": [],
   "source": [
    "class FeatureGenerator():\n",
    "    def __init__(self, train_feat_set):\n",
    "        self.grammar_groups = self.breakDown(train_feat_set)\n",
    "\n",
    "    # breaks down a set of texts to their grammar groups\n",
    "    def breakDown(self, txt_set):\n",
    "        gram_groups = {}\n",
    "        for txt in txt_set:\n",
    "            # get the part of speech\n",
    "            doc = nlp(txt)\n",
    "            texts = [t.text for t in doc]\n",
    "            pos = [t.pos_ for t in doc]\n",
    "\n",
    "            # add the grammar groups\n",
    "            for i in range(len(texts)):\n",
    "                if pos[i] not in gram_groups:\n",
    "                    gram_groups[pos[i]] = []\n",
    "                gram_groups[pos[i]].append(texts[i])\n",
    "        return gram_groups\n",
    "\n",
    "    # generates a feature set from a grammar setup\n",
    "    def generate(self, grammar):\n",
    "        feats = []\n",
    "        for g in grammar:\n",
    "            if g in self.grammar_groups:\n",
    "                feats.append(random.choice(self.grammar_groups[g]))\n",
    "        return \" \".join(feats)\n",
    "        \n",
    "    "
   ]
  },
  {
   "cell_type": "code",
   "execution_count": 10,
   "metadata": {},
   "outputs": [
    {
     "name": "stdout",
     "output_type": "stream",
     "text": [
      "{'VERB': ['defend', 'smash', 'play', 'save', 'crash', 'destroy', 'hire', 'ensure', 'upgrade', 'change', 'buy', 'craft', 'conquer', 'save', 'combine', 'provide', 'produce', 'deal', 'do', 'need', 'perform', 'show', 'resolve', 'try', 'find', 'choose', 'perform', 'finish', 'run', 'reach', 'throw', 'run', 'jump', 'find', 'discover', 'fight'], 'PRON': ['your', 'your', 'your', 'your', 'your', 'this', 'their', 'their', 'his'], 'NOUN': ['kingdom', 'way', 'victory', 'princess', 'castles', 'city', 'actors', 'combats', 'gear', 'marketing', 'improvements', 'hearts', 'city', 'heroes', 'cash', 'actors', 'damage', 'others', 'actions', 'mercy', 'opponent', 'order', 'conflict', 'bloodshed', 'attack', 'monsters', 'resolutions', 'actions', 'battle', 'encounter', 'opponent', 'end', 'swords', 'treasures', 'secrets', 'way', 'safety'], 'ADP': ['to', 'with', 'than', 'to', 'in', 'without', 'in', 'towards', 'to'], 'ADV': ['locally', 'online'], 'CCONJ': ['or', 'or', 'and'], 'PART': ['to', 'to', 'to', 'to'], 'DET': ['some', 'the', 'the', 'the', 'the', 'the', 'every', 'the'], 'ADJ': ['further', 'more', 'certain', 'peaceful', 'friendly', 'bizarre'], 'PUNCT': ['(', ',']}\n"
     ]
    }
   ],
   "source": [
    "# test it out lol\n",
    "prompt = \"an rpg about a princess who collects swords and flowers to turn into potions and is secretly a frog\"\n",
    "rec_feats = GameRec.getTopGameFeats(prompt, num_games=5)\n",
    "\n",
    "FG = FeatureGenerator(rec_feats)\n",
    "print(FG.grammar_groups)"
   ]
  },
  {
   "cell_type": "code",
   "execution_count": 11,
   "metadata": {},
   "outputs": [
    {
     "name": "stdout",
     "output_type": "stream",
     "text": [
      "smash the encounter\n",
      "choose the treasures\n",
      "fight the safety\n",
      "produce the cash\n",
      "ensure the opponent\n",
      "hire to the heroes\n",
      "craft in the marketing\n",
      "do to some heroes\n",
      "reach to the victory\n",
      "jump without the actions\n",
      "jump the city and conquer their damage\n",
      "find the actions or combine your resolutions\n",
      "change the hearts or need his swords\n",
      "need the resolutions or smash your conflict\n",
      "play the city or reach your gear\n",
      "['throw the damage', 'perform to the princess', 'fight the improvements or smash your way']\n"
     ]
    }
   ],
   "source": [
    "test_grams = [[\"VERB\", \"DET\", \"NOUN\"], [\"VERB\", \"ADP\", \"DET\", \"NOUN\"], [\"VERB\", \"DET\", \"NOUN\", \"CCONJ\", \"VERB\", \"PRON\", \"NOUN\"]]\n",
    "\n",
    "for g in test_grams:\n",
    "    for i in range(5):\n",
    "        print(FeatureGenerator(rec_feats).generate(g))\n",
    "\n",
    "print([FeatureGenerator(rec_feats).generate(g) for g in test_grams])\n"
   ]
  },
  {
   "attachments": {},
   "cell_type": "markdown",
   "metadata": {},
   "source": [
    "### Experiment 2: Mix and Match+\n",
    "Note: Better results and structuring and faster - still needs diversity in word choice and grammar fixes \n",
    "\n",
    "-> ['change to defend bizarre princess', 'destroy your kingdom', 'provide bizarre city', 'save friendly monsters', 'buy way towards every opponent to way']\n",
    "\n"
   ]
  },
  {
   "cell_type": "code",
   "execution_count": 12,
   "metadata": {},
   "outputs": [],
   "source": [
    "class FeatureGeneratorPlus():\n",
    "    def __init__(self, train_feat_set):\n",
    "        self.grammar_groups, self.grammar_structs = self.breakDown(train_feat_set)\n",
    "\n",
    "    # breaks down a set of texts to their grammar groups and get their structures\n",
    "    def breakDown(self, txt_set):\n",
    "        gram_groups = {}\n",
    "        gram_struct = {}\n",
    "        for txt in txt_set:\n",
    "            # get the part of speech\n",
    "            doc = nlp(txt)\n",
    "            texts = [t.text for t in doc]\n",
    "            pos = [t.pos_ for t in doc]\n",
    "\n",
    "            # add the grammar structure\n",
    "            pos_struct = \" \".join(pos)\n",
    "            if pos_struct not in gram_struct:\n",
    "                gram_struct[pos_struct] = 0\n",
    "            gram_struct[pos_struct] += 1\n",
    "            \n",
    "            # add the grammar groups\n",
    "            for i in range(len(texts)):\n",
    "                if pos[i] not in gram_groups:\n",
    "                    gram_groups[pos[i]] = []\n",
    "                gram_groups[pos[i]].append(texts[i])\n",
    "\n",
    "        #count up the structures and convert to probabilities\n",
    "        tot = sum(gram_struct.values())\n",
    "        for g in gram_struct:\n",
    "            gram_struct[g] /= tot\n",
    "            \n",
    "        return gram_groups, gram_struct\n",
    "\n",
    "    # generates a feature set from a grammar setup\n",
    "    def generate(self):\n",
    "        feats = []\n",
    "        # select a structure probabilistically\n",
    "        struct = random.choices(list(self.grammar_structs.keys()), list(self.grammar_structs.values()))[0]\n",
    "        grammar = struct.split(\" \")\n",
    "\n",
    "        for g in grammar:\n",
    "            if g in self.grammar_groups:\n",
    "                feats.append(random.choice(self.grammar_groups[g]))\n",
    "        return \" \".join(feats)"
   ]
  },
  {
   "cell_type": "code",
   "execution_count": 13,
   "metadata": {},
   "outputs": [
    {
     "name": "stdout",
     "output_type": "stream",
     "text": [
      "{'VERB': ['defend', 'smash', 'play', 'save', 'crash', 'destroy', 'hire', 'ensure', 'upgrade', 'change', 'buy', 'craft', 'conquer', 'save', 'combine', 'provide', 'produce', 'deal', 'do', 'need', 'perform', 'show', 'resolve', 'try', 'find', 'choose', 'perform', 'finish', 'run', 'reach', 'throw', 'run', 'jump', 'find', 'discover', 'fight'], 'PRON': ['your', 'your', 'your', 'your', 'your', 'this', 'their', 'their', 'his'], 'NOUN': ['kingdom', 'way', 'victory', 'princess', 'castles', 'city', 'actors', 'combats', 'gear', 'marketing', 'improvements', 'hearts', 'city', 'heroes', 'cash', 'actors', 'damage', 'others', 'actions', 'mercy', 'opponent', 'order', 'conflict', 'bloodshed', 'attack', 'monsters', 'resolutions', 'actions', 'battle', 'encounter', 'opponent', 'end', 'swords', 'treasures', 'secrets', 'way', 'safety'], 'ADP': ['to', 'with', 'than', 'to', 'in', 'without', 'in', 'towards', 'to'], 'ADV': ['locally', 'online'], 'CCONJ': ['or', 'or', 'and'], 'PART': ['to', 'to', 'to', 'to'], 'DET': ['some', 'the', 'the', 'the', 'the', 'the', 'every', 'the'], 'ADJ': ['further', 'more', 'certain', 'peaceful', 'friendly', 'bizarre'], 'PUNCT': ['(', ',']}\n",
      "{'VERB PRON NOUN': 0.13333333333333333, 'VERB PRON NOUN ADP NOUN': 0.03333333333333333, 'VERB ADV CCONJ ADV PART VERB PRON NOUN': 0.03333333333333333, 'VERB DET NOUN': 0.23333333333333334, 'VERB NOUN': 0.06666666666666667, 'VERB ADJ NOUN': 0.1, 'VERB CCONJ VERB NOUN': 0.03333333333333333, 'VERB PUNCT NOUN': 0.03333333333333333, 'VERB PRON ADP ADP NOUN': 0.03333333333333333, 'VERB PART VERB ADJ NOUN': 0.06666666666666667, 'VERB NOUN ADP DET NOUN ADP NOUN': 0.03333333333333333, 'VERB NOUN ADP NOUN': 0.03333333333333333, 'NOUN NOUN': 0.03333333333333333, 'VERB PART VERB ADJ NOUN ADP NOUN': 0.03333333333333333, 'VERB ADP PRON NOUN': 0.03333333333333333, 'VERB PUNCT VERB': 0.03333333333333333, 'VERB NOUN CCONJ VERB PRON NOUN ADP NOUN': 0.03333333333333333}\n"
     ]
    }
   ],
   "source": [
    "# test it out lol again\n",
    "prompt = \"an rpg about a princess who collects swords and flowers to turn into potions and is secretly a frog\"\n",
    "rec_feats = GameRec.getTopGameFeats(prompt, num_games=5)\n",
    "\n",
    "FGP = FeatureGeneratorPlus(rec_feats)\n",
    "print(FGP.grammar_groups)\n",
    "print(FGP.grammar_structs)"
   ]
  },
  {
   "cell_type": "code",
   "execution_count": 14,
   "metadata": {},
   "outputs": [
    {
     "name": "stdout",
     "output_type": "stream",
     "text": [
      "ensure online or locally to do their actions\n",
      "destroy , crash\n",
      "city treasures\n",
      "destroy your end\n",
      "conquer more marketing\n",
      "need than your castles\n",
      "perform , way\n",
      "crash every actors\n",
      "change your damage\n",
      "resolve friendly way\n",
      "run the actors\n",
      "destroy with this actions\n",
      "save your to towards monsters\n",
      "try the hearts\n",
      "show , provide\n",
      "['resolve the mercy', 'find in your opponent', 'crash every castles', 'finish to crash friendly battle', 'crash online or online to crash their combats']\n"
     ]
    }
   ],
   "source": [
    "for i in range(15):\n",
    "    print(FGP.generate())\n",
    "\n",
    "print([FGP.generate() for i in range(5)])"
   ]
  },
  {
   "attachments": {},
   "cell_type": "markdown",
   "metadata": {},
   "source": [
    "### Experiment 3: N-Grams\n",
    "Note: Fast, but no diversity with the subset of top 5 games and n=3; too many copies from original featureset (80-90% from original); grammar is a little off\n",
    "\n",
    "-> ['find bizarre treasures', 'produce actors', 'play locally or online to save your princess', 'save the city', 'crash some castles']"
   ]
  },
  {
   "cell_type": "code",
   "execution_count": 15,
   "metadata": {},
   "outputs": [],
   "source": [
    "# makes an n-grams generator from the dataset\n",
    "class FeatureGeneratorNGrams():\n",
    "    def __init__(self, train_feat_set,n=3):\n",
    "        self.n = n\n",
    "        self.makeNGramSet(train_feat_set)\n",
    "        \n",
    "    # setup the n-grams\n",
    "    def makeNGramSet(self, dataset):\n",
    "        gram_set = {}  #key = gram set (array), value = { ct = how many times the context shows, next_word = list of words occuring after and their counts}\n",
    "        n = self.n\n",
    "\n",
    "        for f in dataset:\n",
    "            tokens = f.split(\" \")\n",
    "            tokens = [t.lower() for t in tokens]\n",
    "\n",
    "            #add starts and end\n",
    "            tokens = [\"__START__\"]*(n-1) + tokens + [\"__END__\"]\n",
    "\n",
    "            for i in range(len(tokens)-(n-1)):\n",
    "                    g = tuple(tokens[i:i+n-1])   #get the gram\n",
    "                    nw = tokens[i+n-1]         #get the next word\n",
    "                    #print(f\"{g} -> {nw}\")\n",
    "                    \n",
    "                    #add to the gram set\n",
    "                    if g not in gram_set:\n",
    "                        gram_set[g] = {\"ct\":0,\"next_word\":{}}\n",
    "                    gram_set[g]['ct']+=1\n",
    "                    \n",
    "                    #add count of seeing next word\n",
    "                    if nw not in gram_set[g]['next_word']:\n",
    "                        gram_set[g]['next_word'][nw] = 0\n",
    "                    gram_set[g]['next_word'][nw]+=1\n",
    "        self.gram_set = gram_set\n",
    "\n",
    "    # return the bayesian probability of seeing a particular token given context\n",
    "    def prob(self,context,token):\n",
    "        tc = tuple(context)\n",
    "        if tc in self.gram_set and token in self.gram_set[tc]['next_word']:\n",
    "            return self.gram_set[tc]['next_word'][token] / self.gram_set[tc][\"ct\"]\n",
    "        else:\n",
    "            return 0.0\n",
    "        \n",
    "    # randomly select the next token given context\n",
    "    def rand_token(self,context,auto_end=False):\n",
    "        # assume context is in the gram set\n",
    "        nd = self.gram_set[context]['next_word']\n",
    "        words = []\n",
    "        probs = []\n",
    "        for w in nd.keys():\n",
    "            words.append(w)\n",
    "            probs.append(self.prob(context,w))\n",
    "        if auto_end and \"__END__\" in words:\n",
    "            return \"__END__\"\n",
    "        #return random.choices(words,weights=probs,k=1)[0]   # weighted probability\n",
    "        return random.choice(words)                          # normal probability\n",
    "\n",
    "\n",
    "    # generate a feature from the n-gram set\n",
    "    def generate(self,mintok=5):\n",
    "        context = tuple([\"__START__\"] * (self.n-1))\n",
    "        out_set = []\n",
    "        next_token = self.rand_token(context)\n",
    "        while next_token != \"__END__\":\n",
    "            # add to output\n",
    "            out_set.append(next_token)\n",
    "            \n",
    "            # extend context\n",
    "            cl = list(context)\n",
    "            cl.append(next_token)\n",
    "            cl.pop(0)\n",
    "            context = tuple(cl)\n",
    "            \n",
    "            # get the next context\n",
    "            next_token = self.rand_token(context,(len(out_set) >= abs(mintok)))\n",
    "        \n",
    "        \n",
    "        #return the combined text\n",
    "        out_text = \" \".join(out_set)\n",
    "        out_text = re.sub(r'\\s*(,|\\.|\\?)\\s*', r'\\1 ', out_text)\n",
    "        out_text = re.sub(r'\\s+(\\“|\\’)\\s*',r'\\1', out_text)\n",
    "        out_text = re.sub(r'(\\(|\\))\\s*',r'', out_text)\n",
    "        \n",
    "        return out_text\n",
    "        "
   ]
  },
  {
   "cell_type": "code",
   "execution_count": 16,
   "metadata": {},
   "outputs": [
    {
     "name": "stdout",
     "output_type": "stream",
     "text": [
      "{('__START__', '__START__'): {'ct': 52, 'next_word': {'defend': 1, 'smash': 1, 'play': 1, 'crash': 1, 'destroy': 1, 'hire': 1, 'ensure': 1, 'upgrade': 1, 'change': 1, 'buy': 1, 'conquer': 1, 'save': 1, 'combine': 1, 'provide': 1, 'produce': 1, 'deal': 1, 'do': 1, 'need': 2, 'show': 1, 'resolve': 1, 'attack': 1, 'try': 1, 'choose': 2, 'finish': 1, 'run': 1, 'reach': 1, 'throw': 1, 'run,': 1, 'find': 2, 'discover': 3, 'encounter': 2, 'explore': 1, 'go': 1, 'take': 1, 'explore,': 1, 'feature': 1, 'manage': 1, 'defeat': 1, 'steal': 1, 'suit': 1, 'organize': 1, 'progress,': 1, 'quiet': 1, 'learn': 1, 'restore': 1, 'turn': 1}}, ('__START__', 'defend'): {'ct': 1, 'next_word': {'your': 1}}, ('defend', 'your'): {'ct': 1, 'next_word': {'kingdom': 1}}, ('your', 'kingdom'): {'ct': 1, 'next_word': {'__END__': 1}}, ('__START__', 'smash'): {'ct': 1, 'next_word': {'your': 1}}, ('smash', 'your'): {'ct': 1, 'next_word': {'way': 1}}, ('your', 'way'): {'ct': 2, 'next_word': {'to': 1, '__END__': 1}}, ('way', 'to'): {'ct': 2, 'next_word': {'victory': 1, 'safety': 1}}, ('to', 'victory'): {'ct': 1, 'next_word': {'__END__': 1}}, ('__START__', 'play'): {'ct': 1, 'next_word': {'locally': 1}}, ('play', 'locally'): {'ct': 1, 'next_word': {'or': 1}}, ('locally', 'or'): {'ct': 1, 'next_word': {'online': 1}}, ('or', 'online'): {'ct': 1, 'next_word': {'to': 1}}, ('online', 'to'): {'ct': 1, 'next_word': {'save': 1}}, ('to', 'save'): {'ct': 1, 'next_word': {'your': 1}}, ('save', 'your'): {'ct': 1, 'next_word': {'princess': 1}}, ('your', 'princess'): {'ct': 1, 'next_word': {'__END__': 1}}, ('__START__', 'crash'): {'ct': 1, 'next_word': {'some': 1}}, ('crash', 'some'): {'ct': 1, 'next_word': {'castles': 1}}, ('some', 'castles'): {'ct': 1, 'next_word': {'__END__': 1}}, ('__START__', 'destroy'): {'ct': 1, 'next_word': {'the': 1}}, ('destroy', 'the'): {'ct': 1, 'next_word': {'city': 1}}, ('the', 'city'): {'ct': 2, 'next_word': {'__END__': 2}}, ('__START__', 'hire'): {'ct': 1, 'next_word': {'actors': 1}}, ('hire', 'actors'): {'ct': 1, 'next_word': {'__END__': 1}}, ('__START__', 'ensure'): {'ct': 1, 'next_word': {'further': 1}}, ('ensure', 'further'): {'ct': 1, 'next_word': {'combats': 1}}, ('further', 'combats'): {'ct': 1, 'next_word': {'__END__': 1}}, ('__START__', 'upgrade'): {'ct': 1, 'next_word': {'your': 1}}, ('upgrade', 'your'): {'ct': 1, 'next_word': {'gear': 1}}, ('your', 'gear'): {'ct': 1, 'next_word': {'__END__': 1}}, ('__START__', 'change'): {'ct': 1, 'next_word': {'the': 1}}, ('change', 'the'): {'ct': 1, 'next_word': {'marketing': 1}}, ('the', 'marketing'): {'ct': 1, 'next_word': {'__END__': 1}}, ('__START__', 'buy'): {'ct': 1, 'next_word': {'or': 1}}, ('buy', 'or'): {'ct': 1, 'next_word': {'craft': 1}}, ('or', 'craft'): {'ct': 1, 'next_word': {'improvements': 1}}, ('craft', 'improvements'): {'ct': 1, 'next_word': {'__END__': 1}}, ('__START__', 'conquer'): {'ct': 1, 'next_word': {'the': 1}}, ('conquer', 'the'): {'ct': 1, 'next_word': {'hearts': 1}}, ('the', 'hearts'): {'ct': 1, 'next_word': {'__END__': 1}}, ('__START__', 'save'): {'ct': 1, 'next_word': {'the': 1}}, ('save', 'the'): {'ct': 1, 'next_word': {'city': 1}}, ('__START__', 'combine'): {'ct': 1, 'next_word': {'your': 1}}, ('combine', 'your'): {'ct': 1, 'next_word': {'heroes': 1}}, ('your', 'heroes'): {'ct': 1, 'next_word': {'__END__': 1}}, ('__START__', 'provide'): {'ct': 1, 'next_word': {'cash': 1}}, ('provide', 'cash'): {'ct': 1, 'next_word': {'__END__': 1}}, ('__START__', 'produce'): {'ct': 1, 'next_word': {'(': 1}}, ('produce', '('): {'ct': 1, 'next_word': {'actors': 1}}, ('(', 'actors'): {'ct': 1, 'next_word': {'__END__': 1}}, ('__START__', 'deal'): {'ct': 1, 'next_word': {'more': 1}}, ('deal', 'more'): {'ct': 1, 'next_word': {'damage': 1}}, ('more', 'damage'): {'ct': 1, 'next_word': {'__END__': 1}}, ('__START__', 'do'): {'ct': 1, 'next_word': {'this': 1}}, ('do', 'this'): {'ct': 1, 'next_word': {'with': 1}}, ('this', 'with'): {'ct': 1, 'next_word': {'than': 1}}, ('with', 'than'): {'ct': 1, 'next_word': {'others': 1}}, ('than', 'others'): {'ct': 1, 'next_word': {'__END__': 1}}, ('__START__', 'need'): {'ct': 2, 'next_word': {'to': 2}}, ('need', 'to'): {'ct': 2, 'next_word': {'perform': 1, 'accomplish': 1}}, ('to', 'perform'): {'ct': 2, 'next_word': {'certain': 1, 'friendly': 1}}, ('perform', 'certain'): {'ct': 1, 'next_word': {'actions': 1}}, ('certain', 'actions'): {'ct': 1, 'next_word': {'__END__': 1}}, ('__START__', 'show'): {'ct': 1, 'next_word': {'mercy': 1}}, ('show', 'mercy'): {'ct': 1, 'next_word': {'to': 1}}, ('mercy', 'to'): {'ct': 1, 'next_word': {'the': 1}}, ('to', 'the'): {'ct': 1, 'next_word': {'opponent': 1}}, ('the', 'opponent'): {'ct': 1, 'next_word': {'in': 1}}, ('opponent', 'in'): {'ct': 1, 'next_word': {'order': 1}}, ('in', 'order'): {'ct': 1, 'next_word': {'__END__': 1}}, ('__START__', 'resolve'): {'ct': 1, 'next_word': {'conflict': 1}}, ('resolve', 'conflict'): {'ct': 1, 'next_word': {'without': 1}}, ('conflict', 'without'): {'ct': 1, 'next_word': {'bloodshed': 1}}, ('without', 'bloodshed'): {'ct': 1, 'next_word': {'__END__': 1}}, ('__START__', 'attack'): {'ct': 1, 'next_word': {'monsters': 1}}, ('attack', 'monsters'): {'ct': 1, 'next_word': {'__END__': 1}}, ('__START__', 'try'): {'ct': 1, 'next_word': {'to': 1}}, ('try', 'to'): {'ct': 1, 'next_word': {'find': 1}}, ('to', 'find'): {'ct': 1, 'next_word': {'peaceful': 1}}, ('find', 'peaceful'): {'ct': 1, 'next_word': {'resolutions': 1}}, ('peaceful', 'resolutions'): {'ct': 1, 'next_word': {'__END__': 1}}, ('__START__', 'choose'): {'ct': 2, 'next_word': {'to': 1, 'from': 1}}, ('choose', 'to'): {'ct': 1, 'next_word': {'perform': 1}}, ('perform', 'friendly'): {'ct': 1, 'next_word': {'actions': 1}}, ('friendly', 'actions'): {'ct': 1, 'next_word': {'in': 1}}, ('actions', 'in'): {'ct': 1, 'next_word': {'battle': 1}}, ('in', 'battle'): {'ct': 1, 'next_word': {'__END__': 1}}, ('__START__', 'finish'): {'ct': 1, 'next_word': {'every': 1}}, ('finish', 'every'): {'ct': 1, 'next_word': {'encounter': 1}}, ('every', 'encounter'): {'ct': 1, 'next_word': {'__END__': 1}}, ('__START__', 'run'): {'ct': 1, 'next_word': {'towards': 1}}, ('run', 'towards'): {'ct': 1, 'next_word': {'their': 1}}, ('towards', 'their'): {'ct': 1, 'next_word': {'opponent': 1}}, ('their', 'opponent'): {'ct': 1, 'next_word': {'__END__': 1}}, ('__START__', 'reach'): {'ct': 1, 'next_word': {'the': 1}}, ('reach', 'the'): {'ct': 1, 'next_word': {'end': 1}}, ('the', 'end'): {'ct': 1, 'next_word': {'__END__': 1}}, ('__START__', 'throw'): {'ct': 1, 'next_word': {'their': 1}}, ('throw', 'their'): {'ct': 1, 'next_word': {'swords': 1}}, ('their', 'swords'): {'ct': 1, 'next_word': {'__END__': 1}}, ('__START__', 'run,'): {'ct': 1, 'next_word': {'jump': 1}}, ('run,', 'jump'): {'ct': 1, 'next_word': {'__END__': 1}}, ('__START__', 'find'): {'ct': 2, 'next_word': {'bizarre': 1, 'out': 1}}, ('find', 'bizarre'): {'ct': 1, 'next_word': {'treasures': 1}}, ('bizarre', 'treasures'): {'ct': 1, 'next_word': {'__END__': 1}}, ('__START__', 'discover'): {'ct': 3, 'next_word': {'secrets': 1, 'new': 1, 'a': 1}}, ('discover', 'secrets'): {'ct': 1, 'next_word': {'and': 1}}, ('secrets', 'and'): {'ct': 1, 'next_word': {'fight': 1}}, ('and', 'fight'): {'ct': 1, 'next_word': {'his': 1}}, ('fight', 'his'): {'ct': 1, 'next_word': {'way': 1}}, ('his', 'way'): {'ct': 1, 'next_word': {'to': 1}}, ('to', 'safety'): {'ct': 1, 'next_word': {'__END__': 1}}, ('find', 'out'): {'ct': 1, 'next_word': {'what': 1}}, ('out', 'what'): {'ct': 1, 'next_word': {'riches': 1}}, ('what', 'riches'): {'ct': 1, 'next_word': {'__END__': 1}}, ('__START__', 'encounter'): {'ct': 2, 'next_word': {'ai': 1, 'a': 1}}, ('encounter', 'ai'): {'ct': 1, 'next_word': {'characters': 1}}, ('ai', 'characters'): {'ct': 1, 'next_word': {'__END__': 1}}, ('__START__', 'explore'): {'ct': 1, 'next_word': {'and': 1}}, ('explore', 'and'): {'ct': 1, 'next_word': {'a': 1}}, ('and', 'a'): {'ct': 1, 'next_word': {'massive': 1}}, ('a', 'massive'): {'ct': 1, 'next_word': {'amount': 1}}, ('massive', 'amount'): {'ct': 1, 'next_word': {'__END__': 1}}, ('__START__', 'go'): {'ct': 1, 'next_word': {'for': 1}}, ('go', 'for'): {'ct': 1, 'next_word': {'it!-': 1}}, ('for', 'it!-'): {'ct': 1, 'next_word': {'__END__': 1}}, ('__START__', 'take'): {'ct': 1, 'next_word': {'a': 1}}, ('take', 'a'): {'ct': 1, 'next_word': {'punt': 1}}, ('a', 'punt'): {'ct': 1, 'next_word': {'__END__': 1}}, ('__START__', 'explore,'): {'ct': 1, 'next_word': {'new': 1}}, ('explore,', 'new'): {'ct': 1, 'next_word': {'weapons': 1}}, ('new', 'weapons'): {'ct': 1, 'next_word': {'__END__': 1}}, ('__START__', 'feature'): {'ct': 1, 'next_word': {'a': 1}}, ('feature', 'a'): {'ct': 1, 'next_word': {'set': 1}}, ('a', 'set'): {'ct': 1, 'next_word': {'__END__': 1}}, ('discover', 'new'): {'ct': 1, 'next_word': {'areas': 1}}, ('new', 'areas'): {'ct': 1, 'next_word': {'__END__': 1}}, ('encounter', 'a'): {'ct': 1, 'next_word': {'boss': 1}}, ('a', 'boss'): {'ct': 1, 'next_word': {'__END__': 1}}, ('__START__', 'manage'): {'ct': 1, 'next_word': {'your': 1}}, ('manage', 'your'): {'ct': 1, 'next_word': {'adventure': 1}}, ('your', 'adventure'): {'ct': 1, 'next_word': {'__END__': 1}}, ('__START__', 'defeat'): {'ct': 1, 'next_word': {'enemies': 1}}, ('defeat', 'enemies'): {'ct': 1, 'next_word': {'and': 1}}, ('enemies', 'and'): {'ct': 1, 'next_word': {'plunder': 1}}, ('and', 'plunder'): {'ct': 1, 'next_word': {'crypts': 1}}, ('plunder', 'crypts'): {'ct': 1, 'next_word': {'and': 1}}, ('crypts', 'and'): {'ct': 1, 'next_word': {'caves': 1}}, ('and', 'caves'): {'ct': 1, 'next_word': {'__END__': 1}}, ('choose', 'from'): {'ct': 1, 'next_word': {'various': 1}}, ('from', 'various'): {'ct': 1, 'next_word': {'character': 1}}, ('various', 'character'): {'ct': 1, 'next_word': {'__END__': 1}}, ('__START__', 'steal'): {'ct': 1, 'next_word': {'and': 1}}, ('steal', 'and'): {'ct': 1, 'next_word': {'murder': 1}}, ('and', 'murder'): {'ct': 1, 'next_word': {'your': 1}}, ('murder', 'your'): {'ct': 1, 'next_word': {'way': 1}}, ('discover', 'a'): {'ct': 1, 'next_word': {'strange': 1}}, ('a', 'strange'): {'ct': 1, 'next_word': {'land': 1}}, ('strange', 'land'): {'ct': 1, 'next_word': {'of': 1}}, ('land', 'of'): {'ct': 1, 'next_word': {'monsters': 1}}, ('of', 'monsters'): {'ct': 1, 'next_word': {'__END__': 1}}, ('__START__', 'suit'): {'ct': 1, 'next_word': {'your': 1}}, ('suit', 'your'): {'ct': 1, 'next_word': {'play': 1}}, ('your', 'play'): {'ct': 1, 'next_word': {'__END__': 1}}, ('__START__', 'organize'): {'ct': 1, 'next_word': {'the': 1}}, ('organize', 'the'): {'ct': 1, 'next_word': {'interface': 1}}, ('the', 'interface'): {'ct': 1, 'next_word': {'__END__': 1}}, ('__START__', 'progress,'): {'ct': 1, 'next_word': {'the': 1}}, ('progress,', 'the'): {'ct': 1, 'next_word': {'player': 1}}, ('the', 'player'): {'ct': 1, 'next_word': {'__END__': 1}}, ('to', 'accomplish'): {'ct': 1, 'next_word': {'specific': 1}}, ('accomplish', 'specific'): {'ct': 1, 'next_word': {'mission': 1}}, ('specific', 'mission'): {'ct': 1, 'next_word': {'__END__': 1}}, ('__START__', 'quiet'): {'ct': 1, 'next_word': {'the': 1}}, ('quiet', 'the'): {'ct': 1, 'next_word': {'vicious': 1}}, ('the', 'vicious'): {'ct': 1, 'next_word': {'disease': 1}}, ('vicious', 'disease'): {'ct': 1, 'next_word': {'__END__': 1}}, ('__START__', 'learn'): {'ct': 1, 'next_word': {'to': 1}}, ('learn', 'to'): {'ct': 1, 'next_word': {'live': 1}}, ('to', 'live'): {'ct': 1, 'next_word': {'off': 1}}, ('live', 'off'): {'ct': 1, 'next_word': {'the': 1}}, ('off', 'the'): {'ct': 1, 'next_word': {'land': 1}}, ('the', 'land'): {'ct': 1, 'next_word': {'__END__': 1}}, ('__START__', 'restore'): {'ct': 1, 'next_word': {'stardew': 1}}, ('restore', 'stardew'): {'ct': 1, 'next_word': {'valley': 1}}, ('stardew', 'valley'): {'ct': 1, 'next_word': {'to': 1}}, ('valley', 'to'): {'ct': 1, 'next_word': {'greatness': 1}}, ('to', 'greatness'): {'ct': 1, 'next_word': {'__END__': 1}}, ('__START__', 'turn'): {'ct': 1, 'next_word': {'these': 1}}, ('turn', 'these'): {'ct': 1, 'next_word': {'overgrown': 1}}, ('these', 'overgrown'): {'ct': 1, 'next_word': {'fields': 1}}, ('overgrown', 'fields'): {'ct': 1, 'next_word': {'__END__': 1}}}\n"
     ]
    }
   ],
   "source": [
    "# test it out again again lol\n",
    "prompt = \"an rpg about a princess who collects swords and flowers to turn into potions and is secretly a frog\"\n",
    "rec_feats = GameRec.getTopGameFeats(prompt, num_games=10)\n",
    "\n",
    "N = 3\n",
    "FGNG = FeatureGeneratorNGrams(rec_feats, N)\n",
    "print(FGNG.gram_set)"
   ]
  },
  {
   "cell_type": "code",
   "execution_count": 17,
   "metadata": {},
   "outputs": [
    {
     "name": "stdout",
     "output_type": "stream",
     "text": [
      "smash your way to victory\n",
      "restore stardew valley to greatness\n",
      "provide cash\n",
      "defeat enemies and plunder crypts and caves\n",
      "buy or craft improvements\n",
      "deal more damage\n",
      "try to find peaceful resolutions\n",
      "upgrade your gear\n",
      "progress, the player\n",
      "deal more damage\n",
      "['feature a set', 'discover a strange land of monsters', 'deal more damage', 'encounter ai characters', 'choose from various character']\n"
     ]
    }
   ],
   "source": [
    "for i in range(10):\n",
    "    print(FGNG.generate())\n",
    "\n",
    "print([FGNG.generate() for i in range(5)])"
   ]
  },
  {
   "cell_type": "code",
   "execution_count": 18,
   "metadata": {},
   "outputs": [
    {
     "name": "stdout",
     "output_type": "stream",
     "text": [
      "82.0%\n"
     ]
    }
   ],
   "source": [
    "# count repetitions of features generated\n",
    "def countRepeats(GENERATOR, og_feats, gen_num=10, trials=5):\n",
    "    repeat_ct = []\n",
    "    for i in range(trials):\n",
    "        tct = 0\n",
    "        for j in range(gen_num):\n",
    "            feat = GENERATOR.generate()\n",
    "            if feat in og_feats:\n",
    "                tct+=1\n",
    "        repeat_ct.append(tct)\n",
    "\n",
    "    perc_repeat = sum(repeat_ct) / (gen_num*trials)\n",
    "    return perc_repeat\n",
    "\n",
    "print(f\"{(countRepeats(FGNG, rec_feats, gen_num=10, trials=5)*100)}%\")"
   ]
  },
  {
   "attachments": {},
   "cell_type": "markdown",
   "metadata": {},
   "source": [
    "### Experiment 4: #2 but use synonyms and related thematic words (using WordNet)\n",
    "Note: Garbage - only gets synonyms and high - low level word roots for the same word\n",
    "\n",
    "castle -> [Synset('mansion.n.02'), Synset('fortification.n.01'), Synset('chessman.n.01'), Synset('chess_move.n.01')]"
   ]
  },
  {
   "cell_type": "code",
   "execution_count": 21,
   "metadata": {},
   "outputs": [],
   "source": [
    "# TEST WORDNET\n",
    "\n",
    "# get the related thematic words for a word (use same POS)\n",
    "def getHyperWords(word):\n",
    "    syns = wn.synsets(word, pos='n')\n",
    "    other_words = []\n",
    "    if len(syns) > 0:\n",
    "        other_words += [[h for h in word.hypernyms()] for word in syns]\n",
    "    return sum(other_words, [])\n",
    "\n",
    "\n"
   ]
  },
  {
   "cell_type": "code",
   "execution_count": 22,
   "metadata": {},
   "outputs": [
    {
     "name": "stdout",
     "output_type": "stream",
     "text": [
      "dungeon -> [Synset('stronghold.n.01'), Synset('cell.n.07')]\n",
      "castle -> [Synset('mansion.n.02'), Synset('fortification.n.01'), Synset('chessman.n.01'), Synset('chess_move.n.01')]\n",
      "alien -> [Synset('traveler.n.01'), Synset('intruder.n.01'), Synset('hypothetical_creature.n.01')]\n",
      "skateboard -> [Synset('board.n.03'), Synset('wheeled_vehicle.n.01')]\n",
      "rabbit -> [Synset('leporid.n.01'), Synset('fur.n.01'), Synset('game.n.07')]\n",
      "sword -> [Synset('weapon.n.01')]\n",
      "wizard -> [Synset('expert.n.01'), Synset('occultist.n.01')]\n",
      "pistol -> [Synset('firearm.n.01')]\n",
      "brain -> [Synset('neural_structure.n.01'), Synset('intelligence.n.01'), Synset('cognition.n.01'), Synset('intellectual.n.01'), Synset('variety_meat.n.01')]\n"
     ]
    }
   ],
   "source": [
    "tests = [\"dungeon\", \"castle\", \"alien\", \"skateboard\", \"rabbit\", \"sword\", \"wizard\", \"pistol\", \"brain\"]\n",
    "for t in tests:\n",
    "    print(f\"{t} -> {getHyperWords(t)}\")"
   ]
  },
  {
   "attachments": {},
   "cell_type": "markdown",
   "metadata": {},
   "source": [
    "### Experiment 5: #2 but with fill in related thematic words (ConceptNet)\n",
    "Note: Gets way more words and verbs, but the generating is very lacking - too many options\n",
    "\n",
    "--> ['smell to smash friendly end', 'be show on the victory', 'a princess', 'cover to your swords', 'rotate to be a hearts']"
   ]
  },
  {
   "cell_type": "code",
   "execution_count": 23,
   "metadata": {},
   "outputs": [
    {
     "name": "stdout",
     "output_type": "stream",
     "text": [
      "{('RelatedTo', 'fortress'), ('AtLocation', 'Germany'), ('RelatedTo', 'kings'), ('RelatedTo', 'castle'), ('IsA', 'a large, richly decorated building'), ('AtLocation', 'Europe'), ('RelatedTo', 'building'), ('RelatedTo', 'palace'), ('RelatedTo', 'home'), ('HasContext', 'chess'), ('RelatedTo', 'house'), ('AtLocation', 'a castle'), ('Synonym', 'castle'), ('RelatedTo', 'moat')}\n"
     ]
    }
   ],
   "source": [
    "obj = requests.get('http://api.conceptnet.io/c/en/castle').json()\n",
    "print(set([(e['rel']['label'], e['end']['label']) for e in obj['edges']]))"
   ]
  },
  {
   "cell_type": "code",
   "execution_count": 61,
   "metadata": {},
   "outputs": [
    {
     "name": "stdout",
     "output_type": "stream",
     "text": [
      "dungeon -> ['keep', 'cell', 'dungeon']\n",
      "castle -> ['Germany', 'a large, richly decorated building', 'house', 'castle', 'moat', 'building', 'fortress', 'palace', 'Europe', 'kings', 'a castle', 'home']\n",
      "alien -> ['foreigner', 'stranger', 'foreign', 'alien', 'extraterrestrial being', 'person', 'exotic']\n",
      "skateboard -> ['wheeled vehicle', 'skateboard', 'board']\n",
      "rabbit -> ['big', 'small', 'bunny', 'rodent', 'ears', 'animal', 'furry', 'tail', 'big ears', 'an animal', 'pet', 'hare', 'long ears', 'mammal', 'long', 'bugs', 'carrots', 'easter', 'a mammal', 'fluffy']\n",
      "sword -> ['steel', 'sword', 'a sheath']\n",
      "wizard -> ['sorcerer', 'wizard', 'ace']\n",
      "pistol -> ['a gun', 'a police station', 'a handheld gun', 'a weapon, that is', 'pistol']\n",
      "brain -> ['a person', 'your brain', 'brain', 'your body', 'the brain', 'a skull', 'neurons', 'a human body', 'biological organ', 'a brain']\n",
      "ninja -> ['class', 'mercenary', 'ninja']\n",
      "fantasy -> ['fantasy', 'fiction', 'fantasize']\n",
      "rpg -> ['larp', 'rocket propelled grenade', 'rebound', 'rpg', 'roleplaying game']\n",
      "frog -> ['frog', 'a pond']\n"
     ]
    }
   ],
   "source": [
    "def getNextWords(word):\n",
    "    obj = requests.get(f'http://api.conceptnet.io/c/en/{word}').json()\n",
    "    rel_set = ['RelatedTo','PartOf','IsA','HasA','MadeOf','Synonym','AtLocation']\n",
    "    save_set = []\n",
    "    del_set = []\n",
    "    for e in obj['edges']:\n",
    "        if 'language' in e['end'] and e['end']['language'] != 'en':\n",
    "            continue\n",
    "\n",
    "        if e['rel']['label'] in rel_set:\n",
    "            save_set.append(e['end']['label'])\n",
    "        else:\n",
    "            del_set.append((e['rel']['label'],e['end']['label']))\n",
    "    return list(set(save_set)), del_set\n",
    "\n",
    "\n",
    "tests = [\"dungeon\", \"castle\", \"alien\", \"skateboard\", \"rabbit\", \"sword\", \"wizard\", \"pistol\", \"brain\",'ninja','fantasy','rpg', 'frog']\n",
    "for t in tests:\n",
    "    s,d = getNextWords(t)\n",
    "    print(f\"{t} -> {s}\")"
   ]
  },
  {
   "cell_type": "code",
   "execution_count": 62,
   "metadata": {},
   "outputs": [],
   "source": [
    "# get everything a frog is capable of\n",
    "frog_obj = requests.get(f'http://api.conceptnet.io/c/en/frog').json()\n",
    "for e in frog_obj['edges']:\n",
    "    if e['rel']['label'] == 'CapableOf':\n",
    "        print(e['end']['label'])\n"
   ]
  },
  {
   "cell_type": "code",
   "execution_count": 77,
   "metadata": {},
   "outputs": [],
   "source": [
    "class ConceptNetGenerator():\n",
    "    def __init__(self, train_entity_set, train_feat_set):\n",
    "        self.noun_rel = ['RelatedTo','PartOf','IsA','HasA','MadeOf','Synonym']\n",
    "        self.verb_rel = ['CapableOf','UsedFor']\n",
    "\n",
    "        # get related thematic words and features from the entity set\n",
    "        self.cnet_nouns = self.getThemeNouns(train_entity_set)\n",
    "        self.cnet_feats = self.getThemeFeats(train_entity_set)\n",
    "        self.gram_groups, self.gram_structs = self.breakDown(train_feat_set+self.cnet_feats)\n",
    "        self.addThemeWords()\n",
    "\n",
    "    #use concept net to get the new entities related to it\n",
    "    def getThemeNouns(self, word_set):\n",
    "        noun_set = []\n",
    "\n",
    "        # go through each word's connections\n",
    "        for word in word_set:\n",
    "            # get the related thematic words for a word (use same POS)\n",
    "            obj = requests.get(f'http://api.conceptnet.io/c/en/{word}').json()\n",
    "            for e in obj['edges']:\n",
    "\n",
    "                #skip non-english words\n",
    "                if 'language' in e['end'] and e['end']['language'] != 'en':\n",
    "                    continue\n",
    "\n",
    "                if e['rel']['label'] in self.noun_rel:\n",
    "                    noun_set.append(e['end']['label'])\n",
    "        \n",
    "        #clean up\n",
    "        return list(set(noun_set))\n",
    "\n",
    "    #get more features from the entity set using the relational set (capableof, usedfor)\n",
    "    def getThemeFeats(self, word_set):\n",
    "        feat_set = []\n",
    "\n",
    "        # go through each word's connections\n",
    "        for word in word_set:\n",
    "            for rel in self.verb_rel:\n",
    "                # get the related thematic words for a word (use same POS)\n",
    "                obj = requests.get(f'https://api.conceptnet.io/query?node=/c/en/{word}&rel=/r/{rel}&offset=0&limit=30').json()\n",
    "                for e in obj['edges']:\n",
    "\n",
    "                    #skip non-english words\n",
    "                    if 'language' in e['end'] and e['end']['language'] != 'en':\n",
    "                        continue\n",
    "\n",
    "                    feat_set.append(e['end']['label'])\n",
    "        \n",
    "        #clean up\n",
    "        return list(set(feat_set))\n",
    "\n",
    "\n",
    "    # breaks down a set of texts to their grammar groups and get their structures\n",
    "    def breakDown(self, txt_set, base_verb=True):\n",
    "        gram_groups = {}\n",
    "        gram_struct = {}\n",
    "        for txt in txt_set:\n",
    "            # get the part of speech\n",
    "            doc = nlp(txt)\n",
    "            texts = [t.text for t in doc]\n",
    "            pos = [t.pos_ for t in doc]\n",
    "\n",
    "            #convert all verb to their base form if an option\n",
    "            if base_verb:\n",
    "                for i in range(len(pos)):\n",
    "                    if pos[i] == \"VERB\":\n",
    "                        texts[i] = doc[i].lemma_\n",
    "\n",
    "            # add the grammar structure\n",
    "            pos_struct = \" \".join(pos)\n",
    "            if pos_struct not in gram_struct:\n",
    "                gram_struct[pos_struct] = 0\n",
    "            gram_struct[pos_struct] += 1\n",
    "            \n",
    "            # add the grammar groups\n",
    "            for i in range(len(texts)):\n",
    "                if pos[i] not in gram_groups and len(pos[i]) > 1:\n",
    "                    gram_groups[pos[i]] = []\n",
    "                gram_groups[pos[i]].append(texts[i])\n",
    "\n",
    "        #count up the structures and convert to probabilities\n",
    "        tot = sum(gram_struct.values())\n",
    "        for g in gram_struct:\n",
    "            gram_struct[g] /= tot\n",
    "            \n",
    "        return gram_groups, gram_struct\n",
    "\n",
    "    # combine the theme words and features to the grammar groups\n",
    "    def addThemeWords(self):\n",
    "        #add the nouns\n",
    "        doc = nlp(\" \".join(self.cnet_nouns))\n",
    "        texts = [t.text for t in doc]\n",
    "        pos = [t.pos_ for t in doc]\n",
    "\n",
    "        for i in range(len(texts)):\n",
    "            if pos[i] not in self.gram_groups:\n",
    "                self.gram_groups[pos[i]] = []\n",
    "            if pos[i] == \"VERB\":\n",
    "                texts[i] = doc[i].lemma_\n",
    "            self.gram_groups[pos[i]].append(texts[i])\n",
    "        \n",
    "        #add the feats' words\n",
    "        gg, _ = self.breakDown(self.cnet_feats)\n",
    "        for k in gg:\n",
    "            if k in self.gram_groups:\n",
    "                self.gram_groups[k] += gg[k]\n",
    "\n",
    "\n",
    "    # generates a feature set from a grammar setup\n",
    "    def generate(self):\n",
    "        feats = []\n",
    "        # select a structure probabilistically\n",
    "        struct = random.choices(list(self.gram_structs.keys()), list(self.gram_structs.values()))[0]\n",
    "        grammar = struct.split(\" \")\n",
    "\n",
    "        for g in grammar:\n",
    "            if g in self.gram_groups:\n",
    "                feats.append(random.choice(self.gram_groups[g]))\n",
    "        return \" \".join(feats)\n",
    "\n",
    "            \n"
   ]
  },
  {
   "cell_type": "code",
   "execution_count": 78,
   "metadata": {},
   "outputs": [],
   "source": [
    "prompt = \"an rpg about a princess who collects swords and flowers to turn into potions and is secretly a frog\"\n",
    "rec_feats = GameRec.getTopGameFeats(prompt, num_games=5)\n",
    "tok_prompt = utils.tokenize(prompt)\n",
    "\n",
    "CNG = ConceptNetGenerator(tok_prompt, rec_feats)"
   ]
  },
  {
   "cell_type": "markdown",
   "metadata": {},
   "source": []
  },
  {
   "cell_type": "code",
   "execution_count": 79,
   "metadata": {},
   "outputs": [
    {
     "name": "stdout",
     "output_type": "stream",
     "text": [
      "['rpg', 'princess', 'collects', 'swords', 'flowers', 'turn', 'potions', 'secretly', 'frog']\n",
      "{'VERB': ['defend', 'smash', 'play', 'save', 'crash', 'destroy', 'hire', 'ensure', 'upgrade', 'change', 'buy', 'craft', 'conquer', 'save', 'combine', 'provide', 'produce', 'deal', 'do', 'need', 'perform', 'show', 'resolve', 'try', 'find', 'choose', 'perform', 'finish', 'run', 'reach', 'throw', 'run', 'jump', 'find', 'discover', 'fight', 'smell', 'continue', 'grow', 'decorate', 'spre', 'turn', 'plant', 'wave', 'add', 'return', 'jump', 'smell', 'position', 'face', 'smell', 'jump', 'leap', 'grow', 'jump', 'win', 'catch', 'jump', 'wish', 'cover', 'grow', 'melt', 'rpg', 'rotate', 'turn', 'drive', 'roleplay', 'leave', 'change', 'leave', 'go', 'propel', 'stem', 'corner', 'smell', 'continue', 'grow', 'decorate', 'spre', 'turn', 'plant', 'wave', 'add', 'return', 'jump', 'smell', 'position', 'face', 'smell', 'jump', 'leap', 'grow', 'jump', 'win', 'catch', 'jump', 'wish', 'cover', 'grow', 'melt'], 'PRON': ['your', 'your', 'your', 'your', 'your', 'this', 'their', 'their', 'his', 'your', 'its', 'themselves', 'her', 'your', 'themselves', 'your', 'its', 'themselves', 'her', 'your', 'themselves'], 'NOUN': ['kingdom', 'way', 'victory', 'princess', 'castles', 'city', 'actors', 'combats', 'gear', 'marketing', 'improvements', 'hearts', 'city', 'heroes', 'cash', 'actors', 'damage', 'others', 'actions', 'mercy', 'opponent', 'order', 'conflict', 'bloodshed', 'attack', 'monsters', 'resolutions', 'actions', 'battle', 'encounter', 'opponent', 'end', 'swords', 'treasures', 'secrets', 'way', 'safety', 'yard', 'catch', 'flies', 'tongue', 'pond', 'princess', 'hand', 'color', 'office', 'pond', 'women', 'pet', 'pond', 'sun', 'stream', 'colors', 'shrubs', 'princess', 'fly', 'air', 'flowers', 'prince', 'fields', 'trees', 'woman', 'heart', 'perennials', 'change', 'potion', 'movement', 'princess', 'action', 'word', 'frog', 'rebound', 'metal', 'midieval', 'weapons', 'game', 'county', 'fingal', 'sword', 'twist', 'potions', 'collects', 'direction', 'spin', 'flowers', 'larp', 'rocket', 'grenade', 'action', 'direction', 'swords', 'yard', 'catch', 'flies', 'tongue', 'pond', 'princess', 'hand', 'color', 'office', 'pond', 'women', 'pet', 'pond', 'sun', 'stream', 'colors', 'shrubs', 'princess', 'fly', 'air', 'flowers', 'prince', 'fields', 'trees', 'woman', 'heart'], 'ADP': ['to', 'with', 'than', 'to', 'in', 'without', 'in', 'towards', 'to', 'with', 'out', 'of', 'to', 'to', 'in', 'across', 'in', 'into', 'on', 'around', 'with', 'out', 'of', 'to', 'to', 'in', 'across', 'in', 'into', 'on'], 'ADV': ['locally', 'online', 'very', 'too', 'secretly', 'very', 'too'], 'CCONJ': ['or', 'or', 'and'], 'PART': ['to', 'to', 'to', 'to', 'to', 'to', 'to', \"'s\", 'to', 'to', 'to', \"'s\"], 'DET': ['some', 'the', 'the', 'the', 'the', 'the', 'every', 'the', 'a', 'a', 'the', 'a', 'the', 'the', 'a', 'a', 'a', 'the', 'a', 'the', 'a', 'an', 'a', 'a', 'the', 'a', 'the', 'the', 'a', 'a', 'a', 'the', 'a', 'the', 'a'], 'ADJ': ['further', 'more', 'certain', 'peaceful', 'friendly', 'bizarre', 'good', 'delight', 'nice', 'bad', 'many', 'high', 'right', 'collect', 'right', 'thorny', 'good', 'delight', 'nice', 'bad', 'many', 'high'], 'PUNCT': ['(', ','], 'AUX': ['be', 'be', 'be', 'be', 'be', 'be', 'be', 'be'], 'PROPN': ['prince']}\n",
      "['right', 'perennials', 'rpg', 'rotate', 'collect', 'change', 'turn', 'potion', 'movement', 'princess', 'driving', 'an action word', 'frog', 'rebound', 'metal midieval weapons', 'roleplaying game', 'county fingal', 'sword', 'prince', 'twist', 'potions', 'left', 'around', 'collects', 'change direction', 'secretly', 'left right', 'spin', 'flowers', 'go', 'larp', 'rocket propelled grenade', 'action', 'thorny stems', 'direction', 'swords', 'corner']\n",
      "['smell good', 'continue to grow', 'decorate your yard', 'catch flies with its tongue', 'spring out of a pond', 'a princess', 'turn', 'plant themselves', 'wave her hand', 'add color to your office', 'return to the pond', 'delight women', 'be a pet', 'jump in the pond', 'smell nice', 'position themselves to face the sun', 'smell bad', 'be jumping across a stream', 'be many colors', 'leap', 'grow in shrubs', 'jump very high', 'win a princess', 'catch a fly', 'jump into the air', 'flowers', 'wish to be a prince', 'cover the fields', 'grow on trees too', \"melt a woman's heart\"]\n"
     ]
    }
   ],
   "source": [
    "print(tok_prompt)\n",
    "print(CNG.gram_groups)\n",
    "print(CNG.cnet_nouns)\n",
    "print(CNG.cnet_feats)"
   ]
  },
  {
   "cell_type": "code",
   "execution_count": 84,
   "metadata": {},
   "outputs": [
    {
     "name": "stdout",
     "output_type": "stream",
     "text": [
      "craft to jump thorny catch\n",
      "jump to jump certain prince\n",
      "turn good flowers\n",
      "leap with out the sun\n",
      "decorate your opponent\n",
      "pet\n",
      "catch this into to pond\n",
      "melt castles\n",
      "roleplay their office\n",
      "melt 's win peaceful pond\n",
      "['smell to smash friendly end', 'be show on the victory', 'a princess', 'cover to your swords', 'rotate to be a hearts']\n"
     ]
    }
   ],
   "source": [
    "for i in range(10):\n",
    "    print(CNG.generate())\n",
    "\n",
    "print([CNG.generate() for i in range(5)])"
   ]
  },
  {
   "attachments": {},
   "cell_type": "markdown",
   "metadata": {},
   "source": [
    "### Experiment 6: Use randomly selected features from the CapableOf and UsedFor descriptions from ConceptNet\n",
    "Note: Pretty good! Maybe need to swap out some verbs or mix in with the recommended game set features. \n",
    "Use only the prompt nouns, combining with the games takes a long time - searching for adjacent neighbor entities takes even longer.\n",
    "Starts to deviate with the features and too many to choose from\n",
    "\n",
    "-> ['make boats', 'return to the pond', 'look cool', 'have roots', 'kill people']"
   ]
  },
  {
   "cell_type": "code",
   "execution_count": 28,
   "metadata": {},
   "outputs": [],
   "source": [
    "class ConceptNetFeatGamifier():\n",
    "    def __init__(self, train_entity_set,get_related=True,debug=False):\n",
    "        self.noun_rel = ['RelatedTo','PartOf','IsA','HasA','MadeOf','Synonym']\n",
    "        self.verb_rel = ['CapableOf','UsedFor']\n",
    "        \n",
    "        # get more entities that are related to the entity set\n",
    "        if get_related:\n",
    "            if debug:\n",
    "                print(f\"> Extracting related entities from ConceptNet...\")\n",
    "            cnet_nouns = self.getThemeNouns(train_entity_set)\n",
    "            self.full_entity_set = train_entity_set + cnet_nouns\n",
    "            print(f\"> Extracted [ {len(cnet_nouns)} ] entities from ConceptNet!\")\n",
    "        else:\n",
    "            self.full_entity_set = train_entity_set\n",
    "\n",
    "        if debug:\n",
    "            print(f\"> Total [ {len(self.full_entity_set)} ] entities in the entity set!\")\n",
    "\n",
    "        # get the features based on the entity sets\n",
    "        cnet_feats = self.getThemeFeats(self.full_entity_set)\n",
    "\n",
    "        #process features (turn into base verbs)\n",
    "        if debug:\n",
    "            print(f\"> Processing [ {len(cnet_feats)} ] features...\")\n",
    "\n",
    "        self.cnet_feats = []\n",
    "        for f in cnet_feats:\n",
    "            doc = nlp(f)    \n",
    "            has_verb = False\n",
    "            nf = []\n",
    "            for t in doc:\n",
    "                if t.pos_ == \"VERB\":\n",
    "                    has_verb = True\n",
    "                    nf.append(t.lemma_)\n",
    "                else:\n",
    "                    nf.append(t.text)\n",
    "            if has_verb and len(nf) > 1:\n",
    "                self.cnet_feats.append(\" \".join(nf))\n",
    "\n",
    "        if debug:\n",
    "            print(f\"> FINISHED!\")\n",
    "\n",
    "\n",
    "    \n",
    "    #use concept net to get the new entities related to it\n",
    "    def getThemeNouns(self, word_set):\n",
    "        noun_set = []\n",
    "\n",
    "        # go through each word's connections\n",
    "        for word in tqdm(word_set, desc=\"Getting related nouns\"):\n",
    "            # get the related thematic words for a word (use same POS)\n",
    "            obj = requests.get(f'http://api.conceptnet.io/c/en/{word}').json()\n",
    "            for e in obj['edges']:\n",
    "\n",
    "                #skip non-english words\n",
    "                if 'language' in e['end'] and e['end']['language'] != 'en':\n",
    "                    continue\n",
    "\n",
    "                if e['rel']['label'] in self.noun_rel:\n",
    "                    noun_set.append(e['end']['label'])\n",
    "        \n",
    "        #clean up\n",
    "        return list(set(noun_set))\n",
    "\n",
    "    #get more features from the entity set using the relational set (capableof, usedfor)\n",
    "    def getThemeFeats(self, word_set):\n",
    "        feat_set = []\n",
    "\n",
    "        # go through each word's connections\n",
    "        for word in tqdm(word_set, desc=\"Getting related features\"):\n",
    "            for rel in self.verb_rel:\n",
    "                # get the related thematic words for a word (use same POS)\n",
    "                obj = requests.get(f'https://api.conceptnet.io/query?node=/c/en/{word}&rel=/r/{rel}&offset=0&limit=30').json()\n",
    "                for e in obj['edges']:\n",
    "\n",
    "                    #skip non-english words\n",
    "                    if 'language' in e['end'] and e['end']['language'] != 'en':\n",
    "                        continue\n",
    "\n",
    "                    feat_set.append(e['end']['label'])\n",
    "        \n",
    "        #clean up\n",
    "        return list(set(feat_set))\n",
    "\n",
    "\n",
    "    # generates a feature set from a grammar setup\n",
    "    def generate(self):\n",
    "        return random.choice(self.cnet_feats)\n",
    "\n",
    "            \n"
   ]
  },
  {
   "cell_type": "code",
   "execution_count": 47,
   "metadata": {},
   "outputs": [
    {
     "name": "stdout",
     "output_type": "stream",
     "text": [
      "['rpg', 'princess', 'sword', 'flower', 'potion', 'frog']\n",
      "> Extracting related entities from ConceptNet...\n"
     ]
    },
    {
     "name": "stderr",
     "output_type": "stream",
     "text": [
      "Getting related nouns: 100%|██████████| 6/6 [00:00<00:00,  9.20it/s]\n"
     ]
    },
    {
     "name": "stdout",
     "output_type": "stream",
     "text": [
      "> Extracted [ 20 ] entities from ConceptNet!\n",
      "> Total [ 26 ] entities in the entity set!\n"
     ]
    },
    {
     "name": "stderr",
     "output_type": "stream",
     "text": [
      "Getting related features: 100%|██████████| 26/26 [00:03<00:00,  6.65it/s]\n"
     ]
    },
    {
     "name": "stdout",
     "output_type": "stream",
     "text": [
      "> Processing [ 80 ] features...\n",
      "> FINISHED!\n"
     ]
    }
   ],
   "source": [
    "# get prompt entities\n",
    "prompt = \"an rpg about a princess who collects swords and flowers to turn into potions and is secretly a frog\"\n",
    "tok = utils.tokenize(prompt)\n",
    "noun_toks = utils.single_noun(prompt)\n",
    "print(tok_prompt)\n",
    "CNFG = ConceptNetFeatGamifier(noun_toks, True, True)\n",
    "\n",
    "# get rec game entities\n",
    "# rec_entities = GameRec.getTopGameEntities(prompt, num_games=3)\n",
    "# print(rec_entities)\n",
    "# CNFG = ConceptNetFeatGamifier(tok_prompt+rec_entities, False, True)\n"
   ]
  },
  {
   "cell_type": "code",
   "execution_count": 48,
   "metadata": {},
   "outputs": [
    {
     "name": "stdout",
     "output_type": "stream",
     "text": [
      "['rpg', 'princess', 'sword', 'flower', 'potion', 'frog', 'a part of a plant', 'larp', 'flower', 'steel', 'roleplaying game', 'pretty', 'bloom', 'rocket propelled grenade', 'plant', 'sword', 'rpg', 'rose', 'prince', 'blossom', 'frog', 'rebound', 'petals', 'princess', 'potion', 'a flower']\n",
      "['kill people', 'have roots', 'be jump across a stream', 'be hold a bee', 'look cool', 'jump into the air', 'cast a shadow', 'produce fruit or seed', 'catch a fly', 'smell nice', 'jump in the pond', 'flower when water', 'make boats', 'use a hammer', 'chop up enemies', 'wave her hand', 'play a fairy tale character', 'give nectar to hummingbirds', 'delight a person', 'build a bridge', 'jump very high', \"cut off someone 's hand\", 'spre out of a pond', 'feel cold', 'govern a country', 'win a princess', 'build things', 'be suffer dehydration', 'succeed a king', 'become a king', 'extinguish a fire', 'kill a person', 'return to the pond', 'wish to be a prince', 'train a king', 'grow in a garden', 'kill a live thing', 'decorate the wall', 'make spoons', 'grow from a bulb', 'drop petals', 'spread its petals', 'attract pollinators', 'become a king', 'flower a room', 'build skyscraper', 'turn into a frog']\n"
     ]
    }
   ],
   "source": [
    "print(CNFG.full_entity_set)\n",
    "print(CNFG.cnet_feats)"
   ]
  },
  {
   "cell_type": "code",
   "execution_count": 49,
   "metadata": {},
   "outputs": [
    {
     "name": "stdout",
     "output_type": "stream",
     "text": [
      "jump very high\n",
      "train a king\n",
      "attract pollinators\n",
      "cut off someone 's hand\n",
      "make boats\n",
      "use a hammer\n",
      "build a bridge\n",
      "use a hammer\n",
      "cast a shadow\n",
      "spre out of a pond\n",
      "['have roots', 'spre out of a pond', 'become a king', 'wave her hand', 'look cool']\n"
     ]
    }
   ],
   "source": [
    "for i in range(10):\n",
    "    print(CNFG.generate())\n",
    "\n",
    "print([CNFG.generate() for i in range(5)])"
   ]
  }
 ],
 "metadata": {
  "kernelspec": {
   "display_name": "Python 3.8.9 ('bmo-venv': venv)",
   "language": "python",
   "name": "python3"
  },
  "language_info": {
   "codemirror_mode": {
    "name": "ipython",
    "version": 3
   },
   "file_extension": ".py",
   "mimetype": "text/x-python",
   "name": "python",
   "nbconvert_exporter": "python",
   "pygments_lexer": "ipython3",
   "version": "3.8.9"
  },
  "orig_nbformat": 4,
  "vscode": {
   "interpreter": {
    "hash": "f94925f3cff0b0ac90dd538919dcd2d4d02467fa3fdafdf86812e92b857d43c1"
   }
  }
 },
 "nbformat": 4,
 "nbformat_minor": 2
}
