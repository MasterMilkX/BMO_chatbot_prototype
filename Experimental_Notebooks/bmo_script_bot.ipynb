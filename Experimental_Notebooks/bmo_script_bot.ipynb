{
 "cells": [
  {
   "attachments": {},
   "cell_type": "markdown",
   "metadata": {},
   "source": [
    "## BMO Script Chatbot\n",
    "Uses the dialgoue from Adventure Time episodes to fine-tune chat transformer model"
   ]
  },
  {
   "attachments": {},
   "cell_type": "markdown",
   "metadata": {},
   "source": [
    "#### Imports"
   ]
  },
  {
   "cell_type": "code",
   "execution_count": 30,
   "metadata": {},
   "outputs": [],
   "source": [
    "import requests\n",
    "import time\n",
    "import re\n",
    "import os\n",
    "import string\n",
    "import sys\n",
    "from bs4 import BeautifulSoup\n",
    "import numpy as np\n",
    "from urllib.parse import urljoin\n",
    "from tqdm import tqdm\n",
    "from selenium import webdriver\n",
    "from webdriver_manager.chrome import ChromeDriverManager\n",
    "import spacy\n"
   ]
  },
  {
   "cell_type": "code",
   "execution_count": 28,
   "metadata": {},
   "outputs": [],
   "source": [
    "### CODE EXECUTION FLAGS\n",
    "# set to True to run the code; set to False to skip the code and just import\n",
    "\n",
    "SCRAPE_TRANSCRIPTS = False"
   ]
  },
  {
   "attachments": {},
   "cell_type": "markdown",
   "metadata": {},
   "source": [
    "#### Scrape transcript files from web"
   ]
  },
  {
   "cell_type": "code",
   "execution_count": 4,
   "metadata": {},
   "outputs": [],
   "source": [
    "# SETUP GENERAL SCRAPER FUNCTIONS\n",
    "\n",
    "driver = None;\n",
    "\n",
    "#retrieve the body content from a link\n",
    "def getLinkSoup(link,wait_time=1):\n",
    "    global driver\n",
    "    if driver is None:\n",
    "        driver = webdriver.Chrome(ChromeDriverManager().install())\n",
    "\n",
    "    #check if it is a valid link first before running\n",
    "    if not validLink(link):\n",
    "        return None\n",
    "    \n",
    "    driver.get(link)\n",
    "    time.sleep(wait_time) #if you want to wait 1 seconds for the page to load\n",
    "    response = driver.page_source\n",
    "    soup = BeautifulSoup(response, 'html.parser')\n",
    "    return soup\n",
    "\n",
    "#retrieve the body content from a link without using selenium\n",
    "def quickLinkSoup(link):\n",
    "    response = requests.get(\n",
    "        url=link,\n",
    "        headers = {'User-Agent':'Mozilla/5.0 (Macintosh; Intel Mac OS X 10_14_6) AppleWebKit/537.36 (KHTML, like Gecko) Chrome/102.0.0.0 Safari/537.36'}\n",
    "    )\n",
    "    if response.status_code != 200:\n",
    "        print(f\"> ERROR: Link [{link}] not found... (Response: {response.status_code})\")\n",
    "        return None\n",
    "    soup = BeautifulSoup(response.content, 'html.parser')\n",
    "    return soup\n",
    "\n",
    "#check if the link is valid\n",
    "def validLink(link):\n",
    "    response = requests.get(\n",
    "        url=link,\n",
    "        headers = {'User-Agent':'Mozilla/5.0 (Macintosh; Intel Mac OS X 10_14_6) AppleWebKit/537.36 (KHTML, like Gecko) Chrome/102.0.0.0 Safari/537.36'}\n",
    "    )\n",
    "    if response.status_code != 200:\n",
    "        print(f\"> ERROR: Link [{link}] not found... (Response: {response.status_code})\")\n",
    "        return False\n",
    "    else:\n",
    "        return True\n"
   ]
  },
  {
   "cell_type": "code",
   "execution_count": 5,
   "metadata": {},
   "outputs": [
    {
     "name": "stdout",
     "output_type": "stream",
     "text": [
      "dict_keys(['S0E1', 'S1E1', 'S1E2', 'S1E3', 'S1E4', 'S1E5', 'S1E6', 'S1E7', 'S1E8', 'S1E9', 'S1E10', 'S1E11', 'S1E12', 'S1E13', 'S1E14', 'S1E15', 'S1E16', 'S1E17', 'S1E18', 'S1E19', 'S1E20', 'S1E21', 'S1E22', 'S1E23', 'S1E24', 'S1E25', 'S1E26', 'S2E1', 'S2E2', 'S2E3', 'S2E4', 'S2E5', 'S2E6', 'S2E7', 'S2E8', 'S2E9', 'S2E10', 'S2E11', 'S2E12', 'S2E13', 'S2E14', 'S2E15', 'S2E16', 'S2E17', 'S2E18', 'S2E19', 'S2E20', 'S2E21', 'S2E22', 'S2E23', 'S2E24', 'S2E25', 'S2E26', 'S3E1', 'S3E2', 'S3E3', 'S3E4', 'S3E5', 'S3E6', 'S3E7', 'S3E8', 'S3E9', 'S3E10', 'S3E11', 'S3E12', 'S3E13', 'S3E14', 'S3E15', 'S3E16', 'S3E17', 'S3E18', 'S3E19', 'S3E20', 'S3E21', 'S3E22', 'S3E23', 'S3E24', 'S3E25', 'S3E26', 'S4E1', 'S4E2', 'S4E3', 'S4E4', 'S4E5', 'S4E6', 'S4E7', 'S4E8', 'S4E9', 'S4E10', 'S4E11', 'S4E12', 'S4E13', 'S4E14', 'S4E15', 'S4E16', 'S4E17', 'S4E18', 'S4E19', 'S4E20', 'S4E21', 'S4E22', 'S4E23', 'S4E24', 'S4E25', 'S4E26', 'S5E1', 'S5E2', 'S5E3', 'S5E4', 'S5E5', 'S5E6', 'S5E7', 'S5E8', 'S5E9', 'S5E10', 'S5E11', 'S5E12', 'S5E13', 'S5E14', 'S5E15', 'S5E16', 'S5E17', 'S5E18', 'S5E19', 'S5E20', 'S5E21', 'S5E22', 'S5E23', 'S5E24', 'S5E25', 'S5E26', 'S5E27', 'S5E28', 'S5E29', 'S5E30', 'S5E31', 'S5E32', 'S5E33', 'S5E34', 'S5E35', 'S5E36', 'S5E37', 'S5E38', 'S5E39', 'S5E40', 'S5E41', 'S5E42', 'S5E43', 'S5E44', 'S5E45', 'S5E46', 'S5E47', 'S5E48', 'S5E49', 'S5E50', 'S5E51', 'S5E52', 'S6E1', 'S6E2', 'S6E3', 'S6E4', 'S6E5', 'S6E6', 'S6E7', 'S6E8', 'S6E9', 'S6E10', 'S6E11', 'S6E12', 'S6E13', 'S6E14', 'S6E15', 'S6E16', 'S6E17', 'S6E18', 'S6E19', 'S6E20', 'S6E21', 'S6E22', 'S6E23', 'S6E24', 'S6E25', 'S6E26', 'S6E27', 'S6E28', 'S6E29', 'S6E30', 'S6E31', 'S6E32', 'S6E33', 'S6E34', 'S6E35', 'S6E36', 'S6E37', 'S6E38', 'S6E39', 'S6E40', 'S6E41', 'S6E42', 'S6E43', 'S7E1', 'S7E2', 'S7E3', 'S7E4', 'S7E5', 'S7E6', 'S7E7', 'S7E8', 'S7E9', 'S7E10', 'S7E11', 'S7E12', 'S7E13', 'S7E14', 'S7E15', 'S7E16', 'S7E17', 'S7E18', 'S7E19', 'S7E20', 'S7E21', 'S7E22', 'S7E23', 'S7E24', 'S7E25', 'S7E26', 'S8E1', 'S8E2', 'S8E3', 'S8E4', 'S8E5', 'S8E6', 'S8E7', 'S8E8', 'S8E9', 'S8E10', 'S8E11', 'S8E12', 'S8E13', 'S8E14', 'S8E15', 'S8E16', 'S8E17', 'S8E18', 'S8E19', 'S8E20', 'S8E21', 'S8E22', 'S8E23', 'S8E24', 'S8E25', 'S8E26', 'S8E27', 'S9E1', 'S9E2', 'S9E3', 'S9E4', 'S9E5', 'S9E6', 'S9E7', 'S9E8', 'S9E9', 'S9E10', 'S9E11', 'S9E12', 'S9E13', 'S9E14', 'S10E1', 'S10E2', 'S10E3', 'S10E4', 'S10E5', 'S10E6', 'S10E7', 'S10E8', 'S10E9', 'S10E10', 'S10E11', 'S10E12', 'S10E13'])\n"
     ]
    }
   ],
   "source": [
    "# SCRAPE FROM THE ADVENTURE TIME WIKI WEBSITE\n",
    "# SAVE TO A DICTIONARY LABELED BY EPISODES (S#E#)\n",
    "\n",
    "def getTranscriptLinkSet():\n",
    "    main_link = \"https://adventuretime.fandom.com/wiki/Category_talk:Transcripts\"\n",
    "    soup = quickLinkSoup(main_link)\n",
    "    if soup is None:\n",
    "        print(\"No soup for you!\")\n",
    "        return None\n",
    "    \n",
    "    #get h2 from soup\n",
    "    h2s = soup.findAll(\"h2\")\n",
    "    season_labels = [re.sub('\\s\\(.*\\)','',h.findChildren()[1].text) for h in h2s]\n",
    "    tables = [h.findNext(\"table\") for h in h2s]\n",
    "    transcripts = {}\n",
    "    for i in range(len(tables)):\n",
    "        table = tables[i]\n",
    "        if table is None:\n",
    "            continue\n",
    "        links = [urljoin(main_link, a['href']) for a in table.findAll(\"a\")]\n",
    "        for l in range(len(links)):\n",
    "            snum = season_labels[i].split(\" \")[1] if season_labels[i].split(\" \")[0] == \"Season\" else \"0\"\n",
    "            transcripts[f\"S{snum}E{l+1}\"] = links[l]\n",
    "\n",
    "    return transcripts\n",
    "    \n",
    "if SCRAPE_TRANSCRIPTS:\n",
    "    transcripts = getTranscriptLinkSet()"
   ]
  },
  {
   "cell_type": "code",
   "execution_count": 43,
   "metadata": {},
   "outputs": [
    {
     "name": "stderr",
     "output_type": "stream",
     "text": [
      "100%|██████████| 280/280 [01:25<00:00,  3.27it/s]\n"
     ]
    }
   ],
   "source": [
    "# get the dialogue from a link\n",
    "def scrapeTranscript(link,only_char='BMO'):\n",
    "    soup = quickLinkSoup(link)\n",
    "    if soup is None:\n",
    "        print(\"No soup for you!\")\n",
    "        return None\n",
    "    \n",
    "    #get dialogue\n",
    "    dialogues = soup.findAll(\"dd\")\n",
    "    dialogues = [d.text for d in dialogues]\n",
    "\n",
    "    #remove descriptions\n",
    "    dialogues = [re.sub('\\[.+\\]', '', d) for d in dialogues]\n",
    "    dialogues = [re.sub(r' ( )+',r' ',d) for d in dialogues]\n",
    "    dialogues = [d.strip() for d in dialogues]\n",
    "    dialogues = list(filter(lambda d: d != \"\", dialogues))\n",
    "    dialogues = list(filter(lambda d: re.sub('^(.*):', '', d).strip() != \"\", dialogues))\n",
    "\n",
    "    #add filtering \n",
    "    other_chars = []\n",
    "    if only_char is not None:\n",
    "        dial_edits = []\n",
    "        for d in dialogues:\n",
    "            if d.startswith(f\"{only_char}:\"):\n",
    "                dial_edits.append(d)\n",
    "            else:\n",
    "                anon_d = re.sub(\"^(.*):\",'X:',d)\n",
    "                c = re.compile(\"^(.*):\")\n",
    "                if(c.search(d) is not None):\n",
    "                    other_chars.append(re.sub('\\(.+\\)', '', c.search(d).group(1)))\n",
    "                dial_edits.append(anon_d)\n",
    "    else:\n",
    "        dial_edits = dialogues\n",
    "                \n",
    "    return dial_edits, set(other_chars)\n",
    "\n",
    "if SCRAPE_TRANSCRIPTS:\n",
    "    # get all the BMO lines from all the episodes\n",
    "    at_lines = {}\n",
    "    all_chars = []\n",
    "    with tqdm(total=len(transcripts.keys())) as pbar:\n",
    "        for k in transcripts.keys():\n",
    "            at_lines[k], chars = scrapeTranscript(transcripts[k])\n",
    "            all_chars.extend(chars)\n",
    "            pbar.update(1)\n",
    "    all_chars = set(all_chars)"
   ]
  },
  {
   "cell_type": "code",
   "execution_count": 44,
   "metadata": {},
   "outputs": [
    {
     "name": "stdout",
     "output_type": "stream",
     "text": [
      "Exported 78 / 280 scripts to file.\n"
     ]
    }
   ],
   "source": [
    "# export BMO lines to a text file\n",
    "if SCRAPE_TRANSCRIPTS:\n",
    "    exported_scripts = []\n",
    "    with open(\"../data/bmo_lines.txt\", \"w+\", encoding=\"utf-8\") as f:\n",
    "        # write the character list first\n",
    "        for c in all_chars:\n",
    "            f.write(f\"+ {c}\\n\")\n",
    "        f.write(\"\\n\\n\")\n",
    "\n",
    "        # write the BMO lines\n",
    "        for k in at_lines.keys():\n",
    "            #check if BMO is even in the episode\n",
    "            if \"BMO: \" not in \" \".join(at_lines[k]):\n",
    "                continue\n",
    "            else:\n",
    "                exported_scripts.append(k)\n",
    "\n",
    "            f.write(f\"=== {k} ===\\n\")\n",
    "            for l in at_lines[k]:\n",
    "                f.write(f\"{l}\\n\")\n",
    "            f.write(\"\\n\\n\")\n",
    "\n",
    "\n",
    "    print(f\"Exported {len(exported_scripts)} / {len(at_lines)} scripts to file.\")\n",
    "\n",
    "    bmo_lines = {}\n",
    "    for k in exported_scripts:\n",
    "        bmo_lines[k] = at_lines[k]\n",
    "\n",
    "# import BMO lines from a text file (thank you Copilot!)\n",
    "else:\n",
    "    bmo_lines = {}\n",
    "    all_chars = []\n",
    "    with open(\"../data/bmo_lines.txt\", \"r\", encoding=\"utf-8\") as f:\n",
    "        lines = f.readlines()\n",
    "        episode = None\n",
    "        for l in lines:\n",
    "            if l.startswith(\"+\"):\n",
    "                all_chars.append(l.replace(\"+\",\"\").strip())\n",
    "            elif l.startswith(\"===\"):\n",
    "                episode = l.replace(\"===\",\"\").strip()\n",
    "                bmo_lines[episode] = []\n",
    "            elif l.strip() == \"\":\n",
    "                continue\n",
    "            else:\n",
    "                bmo_lines[episode].append(l.strip())\n"
   ]
  },
  {
   "cell_type": "code",
   "execution_count": 57,
   "metadata": {},
   "outputs": [],
   "source": [
    "# remove the character name from the line\n",
    "def replaceCharName(script,chars,exclude='BMO'):\n",
    "    anon_script = []\n",
    "    for l in script:\n",
    "        nl = l\n",
    "        for c in chars:\n",
    "            if c != exclude and c in l:\n",
    "                nl = re.sub(rf\"\\b{c}\\b\",\"X\",nl)\n",
    "        anon_script.append(nl)\n",
    "    return anon_script\n",
    "\n",
    "\n",
    "# get the BMO lines from the episodes\n",
    "bmo_lines_anon = {}\n",
    "for k in bmo_lines.keys():\n",
    "    bmo_lines_anon[k] = replaceCharName(bmo_lines[k],all_chars)"
   ]
  },
  {
   "cell_type": "code",
   "execution_count": 56,
   "metadata": {},
   "outputs": [
    {
     "name": "stdout",
     "output_type": "stream",
     "text": [
      "['BMO: Hello?', 'X: BMO?', 'X: BMO?', 'X: BMO, are you okay?', 'X: What did you do?', \"BMO: It wasn't me. I didn't do noth- do noth- do nothing.\", 'X: Come on BMO. We got to get you to the hospital or whatevs.', 'BMO: No, no. I am fine. Really. Oh, yes. Okay. Please take me to get fixed. I need- need- need- need to get new core system drivers installed. We can get them at the X  Factory in the Bad Lands, where I was born.', 'X: The X  Factory?', \"BMO: Yeah. I am programmed with emergency instructions to get there. Come on! There's no- no- no- no- no time to lo- lo- lo- lo- lose.\", \"BMO: Okay. Now straight down this place. Okay, now take a right- right- right- right- left up here. The instructions also say that damaged X  get a full memoryX wipe before repairs. Don't let on what happened... or all the years we've been spent together will vanish like tears in the oven!\", 'X: Tears in the oven? !', \"BMO: Yeah, no fooling. Oh wait, there's more! It says here only X  are allowed in the factory. Wait what? Oh, that's just great.\", \"X: Hey, hey. Don't worry buddy. We're X and X , remember? Or should I say... X and JMO!\", 'BMO: Wow!', 'X: Hey BMO, check this out, too! Meet FMO.', \"BMO: X , you're dumb- you're dumb- you're dumb- you're da man! This is gonna be a snap!\", 'X: Hello, there.', \"X: Greetings, and welcome to X  Co. I'm X . Please state your business.\", 'X: Hey there, X . I am JMO.', \"X: And I'm FMO!\", 'X: Greetings, JMO. FMO, you look ridiculous. Are you damaged? Are you in need of repair?', 'X: Yes, absolutely. Thanks, X . I busted my core system drivers, and now I need new ones.', 'X: Fantastic. Okay. Please get ready for your total personality wipe.', \"X: Oh, right, right. Uh, right. I mean, no. I'm just here for the... nostalgic purposes.\", 'X: Ah, yes. 47.3% of X  eventually return to the factory for assorted sentimental biz. Please step 100% on the ultraX tram for your complimentary tour.', 'X: Greetings.', 'X: Wup!', 'X: We are now passing over the famous factory floor. Birthplace of each and every X . Behold the gleaming machinery! Teeming and wild with the throes of real creation. From this unlikely chaos emerges every shiny new X .', \"X: But nothing's moving down there. It's all shut down. What happened to this place?\", \"X: I'm sorry. I'm just a tram X . I'm not programmed to understand that question. Also, you're just a JMO. You're not programmed to ask that question.\", 'X: Uh, what question?', 'X: That question-', \"X: I'm serious...\", \"X: Anyway, X  Co. was founded over 1,000 years ago. By Moseph Mastro Giovanni. A sad and gentle man. Beloved by only those he built to belove him. On your left, you'll see the core system driver installation port bay.\", \"BMO: X ! X ! That's it! That's where the driver ports are!\", 'X: I know, I heard!', 'X: X ?! Are you crazy?! Get back here!', \"X: Hurry, X . I think he's calling the police or somethin'!\", \"X: None of these ports fit right! E, D, C, where's the B port?!\", 'X: Intruder spotted! Prepare to vaporize! Vaporize!', '[The four SMOs shoot lasers into the room. X and X jump behind some wreckage to protect themselves.', 'X: Cease fire! No intruder spotted. Vaporization complete.', 'X: Um, but what if they slipped past us, sir? In all the smoke?', \"X: Allllright, everyone. About face. Like I said, vaporization complete. Now let's head back to base. It's donut o' clock.\", \"X: X , how about those goofs? Tryin' to mess with our drivers?\", 'X: Yeah. You know the world these days. X  goofs.', \"X: Hey! You toss me one of them 'nuts? Ah. Yeah, hey, speaking of goofs? Haven't seen SMO 5681 lately.\", 'X: X , that goof.', \"X: Yeah, I hate that goof. You ever notice goofs always askin' how you're doin'? What is that? Uh, yeah, I'm fine.\", 'X: Yeah, 100%.', 'X: Oh! Hey, what are you doing over there by yourself?', \"X: Uh, oh, I-- I'm sad.\", \"X: Oh, yeah, y'know we've all been there. So anyway, how's your goofy wife doin'?\", 'X: BMO, how are you doing?', \"BMO: Get me close to that guy's port. I can hack into his computer and find out where my driver port is!\", 'X: Ah, we gotta hustle!', 'X: Yeah, pretty good, I guess. I prefer something yeastier. The wife is always giving me grief about that. But I mean, what am I, decent?', \"X: Hey, what are you two goofs doin'? Goofing?\", 'X: Dang, man, how deep does this place go?', 'X: Down, right, left, down, corkscrew, down. Down, right, left, down, corkscrew, down.', 'X: Psych!', 'X: Hey, woah!', 'X: Down that grate!', 'X: Hey! Only X  are allowed in the facility 1,000%! Get off of my tram!', 'X: Cram your tram! Womp!', 'X: Hang in there, BMO!', 'X: Hey, X ! Can this thing go any fast-', \"X: Woah! Shoot, it's the fuzz!\", \"X: Hit 'em again!\", 'X: Holy-', \"X: X , how are we getting to BMO's driver port?!\", 'X: Uh, turn right!', \"X: X  it, they're still behind us!\", 'X: Turn left!', 'X: Turn Corkscrew!', 'X: Now go down!', \"X: There's a driver port!\", 'X: Too spicy.', 'X: My bod!', 'X: NonX X  are forbidden in this facility!', 'BMO: I am not nonX X .', 'BMO: I am BMO!', 'X: BMO.', 'X: BMO? Did I hear BMO?', \"X: Wait, what's up?\", \"X: Hey, I'm X ! Don't worry! My legs don't work!\", \"X: You're X ?! Wait, are you human, too?\", 'X: My skin is human!', 'X: Dude, how old are you?!', 'X: Hey, come on, now! Hmm.', 'X: So...you made BMO?', \"X: Hey, you're not gonna reset our friend's personality, are you?\", \"X: Huh? X ? No...BMO's one of a kind. I built X to take care of my son. Hoping to find a family home. And then maybe even find somebody else's little boy to take care of.\", 'X: Aw.', \"X: Oh, there's that backX up driver disk!\", 'BMO: Ooh! Are you my grandpoop?', \"X: Nah, I'm just your poop.\", 'X: Wait, did you say you built a million robots?', 'X: Yeah, all we saw was that tram jerk and all those jerky security jerks!', 'X: Ah, those were just the surface jerks. BMO, say hello to your family.', 'BMO: Hello, family.', 'X: Hi, BMO!']\n"
     ]
    }
   ],
   "source": [
    "# print(bmo_lines_anon['S5E28'])"
   ]
  }
 ],
 "metadata": {
  "kernelspec": {
   "display_name": "bmo-venv",
   "language": "python",
   "name": "python3"
  },
  "language_info": {
   "codemirror_mode": {
    "name": "ipython",
    "version": 3
   },
   "file_extension": ".py",
   "mimetype": "text/x-python",
   "name": "python",
   "nbconvert_exporter": "python",
   "pygments_lexer": "ipython3",
   "version": "3.8.9"
  },
  "orig_nbformat": 4,
  "vscode": {
   "interpreter": {
    "hash": "f94925f3cff0b0ac90dd538919dcd2d4d02467fa3fdafdf86812e92b857d43c1"
   }
  }
 },
 "nbformat": 4,
 "nbformat_minor": 2
}
