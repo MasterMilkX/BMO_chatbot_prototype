{
 "cells": [
  {
   "attachments": {},
   "cell_type": "markdown",
   "metadata": {},
   "source": [
    "# AUTOENCODER MICRO SPRITE GENERATOR\n",
    "Tests architecture for micro sprite generation using autoencoders, variational autoencoders, and vq-vaes\n",
    "\n",
    "---"
   ]
  },
  {
   "attachments": {},
   "cell_type": "markdown",
   "metadata": {},
   "source": [
    "### Setup"
   ]
  },
  {
   "cell_type": "code",
   "execution_count": 7,
   "metadata": {},
   "outputs": [],
   "source": [
    "import numpy as np\n",
    "import math\n",
    "import matplotlib.pyplot as plt\n",
    "import random\n",
    "import os\n",
    "import json\n",
    "from matplotlib.colors import ListedColormap\n",
    "\n",
    "# tensorflow\n",
    "import tensorflow as tf\n",
    "# from tensorflow import keras\n",
    "from tensorflow.keras import backend as K\n",
    "from tensorflow.keras import optimizers\n",
    "from tensorflow.keras.models import Sequential, load_model\n",
    "from tensorflow.keras.layers import InputLayer, Dense, Conv2D, Conv2DTranspose, Flatten, Layer, Reshape, Input, LeakyReLU\n",
    "from tensorflow.keras.models import Model\n",
    "\n",
    "\n",
    "%matplotlib inline"
   ]
  },
  {
   "attachments": {},
   "cell_type": "markdown",
   "metadata": {},
   "source": [
    "CONSTANTS and GLOBALS"
   ]
  },
  {
   "cell_type": "code",
   "execution_count": 8,
   "metadata": {},
   "outputs": [],
   "source": [
    "# CONSTANT VARIABLES\n",
    "\n",
    "# PICO-8 Palette => use colormap for matplotlib\n",
    "PICO_PALETTE = ['#000000','#1D2B53','#7E2553','#008751','#AB5236','#5F574F','#C2C3C7','#FFF1E8','#FF004D','#FFA300','#FFEC27','#00E436','#29ADFF','#83769C','#FF77A8','#FFCCAA']\n"
   ]
  },
  {
   "attachments": {},
   "cell_type": "markdown",
   "metadata": {},
   "source": [
    "GENERAL UTILITY FUNCTIONS"
   ]
  },
  {
   "cell_type": "code",
   "execution_count": 9,
   "metadata": {},
   "outputs": [],
   "source": [
    "##  RENDER FUNCTIONS  ##\n",
    "\n",
    "# show a single sprite - using a specified palette (form (NxN))\n",
    "def showSprPalette(spr,palette=PICO_PALETTE):\n",
    "    #set the colormap\n",
    "    colormap = ListedColormap(palette,N=len(palette))\n",
    "\n",
    "    #show the sprite\n",
    "    plt.figure(figsize=(2,2))\n",
    "    plt.axis('off')\n",
    "    plt.imshow(spr.squeeze(),cmap=colormap,vmin=0,vmax=len(palette)-1)\n",
    "    plt.show()\n",
    "\n",
    "\n",
    "# show a list of sprites - using a specified palette (form Ax(NxN))\n",
    "def showMultiSprPalette(sprs,palette=PICO_PALETTE,text='',textArr=None):\n",
    "    #set the colormap\n",
    "    colormap = ListedColormap(palette,N=len(palette))\n",
    "\n",
    "    #show sprites (8 per row)\n",
    "    plt.figure(figsize=(20,7))\n",
    "    col = 8\n",
    "    for i, im in enumerate(sprs):\n",
    "        plt.subplot(int(len(sprs) / col) + 1, col, i + 1)\n",
    "        plt.imshow(im.squeeze(),cmap=colormap,vmin=0,vmax=len(palette)-1)\n",
    "        plt.axis('off')\n",
    "\n",
    "        #add sublabels\n",
    "        if (textArr != None) and (i < len(textArr)):\n",
    "            addtext = \"\"\n",
    "            #sub label + title on middle entry\n",
    "            if text != '' and i == (min(len(sprs),col)//2):\n",
    "                addtext = f\"{text.upper()}\\n\"\n",
    "            plt.title(f\"{addtext}{textArr[i]}\")\n",
    "            \n",
    "        #add plot title only\n",
    "        else:\n",
    "            if text != '' and i == (min(len(sprs),col)//2):\n",
    "                plt.title(text.upper())\n",
    "    plt.show()\n",
    "\n",
    "# show a single sprite - using RGB (form (NxNx3))\n",
    "def showSprRGB(spr):\n",
    "    #show the sprite\n",
    "    plt.figure(figsize=(2,2))\n",
    "    plt.axis('off')\n",
    "    plt.imshow(spr.squeeze())\n",
    "    plt.show()\n",
    "\n",
    "# show a list of sprites - using RGB (form Ax(NxNx3))\n",
    "def showMultiSprRGB(sprs,text='',textArr=None):\n",
    "    #show sprites (8 per row)\n",
    "    plt.figure(figsize=(20,7))\n",
    "    col = 8\n",
    "    for i, im in enumerate(sprs):\n",
    "        plt.subplot(int(len(sprs) / col) + 1, col, i + 1)\n",
    "        plt.imshow(im.squeeze())\n",
    "        plt.axis('off')\n",
    "\n",
    "        #add sublabels\n",
    "        if (textArr != None) and (i < len(textArr)):\n",
    "            addtext = \"\"\n",
    "            #sub label + title on middle entry\n",
    "            if text != '' and i == (min(len(sprs),col)//2):\n",
    "                addtext = f\"{text.upper()}\\n\"\n",
    "            plt.title(f\"{addtext}{textArr[i]}\")\n",
    "            \n",
    "        #add plot title only\n",
    "        else:\n",
    "            if text != '' and i == (min(len(sprs),col)//2):\n",
    "                plt.title(text.upper())\n",
    "    plt.show()\n",
    "\n",
    "\n",
    "\n",
    "\n",
    "##  DATA PROCESSING FUNCTIONS  ##\n",
    "\n",
    "# encode a sprite to one-hot array based on a palette (form (NxN) => (NxNxP)))\n",
    "def encodeSpr1H(s,channels=len(PICO_PALETTE)):\n",
    "    spr3d = np.zeros((s.shape[0],s.shape[1],channels))\n",
    "    for r in range(s.shape[0]):\n",
    "        for c in range(s.shape[1]):\n",
    "            v = s[r][c]\n",
    "            spr3d[r][c][v] = 1\n",
    "    return spr3d\n",
    "    \n",
    "#convert 3d encoded channel map into 2d array format\n",
    "def decodeSpr1H(s3c):\n",
    "    return np.argmax(s3c,axis=2)\n",
    "    "
   ]
  },
  {
   "attachments": {},
   "cell_type": "markdown",
   "metadata": {},
   "source": [
    "IMPORT DATASETS"
   ]
  },
  {
   "cell_type": "code",
   "execution_count": 10,
   "metadata": {},
   "outputs": [
    {
     "name": "stdout",
     "output_type": "stream",
     "text": [
      "Food Dataset shape: (100, 8, 8)\n",
      "Char Dataset shape: (100, 8, 8)\n"
     ]
    },
    {
     "data": {
      "image/png": "[encoded data removed]",
      "text/plain": [
       "<Figure size 2000x700 with 2 Axes>"
      ]
     },
     "metadata": {},
     "output_type": "display_data"
    }
   ],
   "source": [
    "# import from the PICO sprites posted onto Twitter \n",
    "# Food: https://twitter.com/JUSTIN_CYR/status/634546317713391616\n",
    "# Characters: https://twitter.com/johanvinet/status/635814153601597441\n",
    "pico_food_dat = np.load('../data/rip_data/pico_food.npy',allow_pickle=True)\n",
    "pico_char_dat = np.load('../data/rip_data/pico_characters.npy',allow_pickle=True)\n",
    "\n",
    "print(f\"Food Dataset shape: {pico_food_dat.shape}\")\n",
    "print(f\"Char Dataset shape: {pico_char_dat.shape}\")\n",
    "\n",
    "# show a random food and character sprite \n",
    "rand_food = random.choice(pico_food_dat)\n",
    "rand_char = random.choice(pico_char_dat)\n",
    "showMultiSprPalette([rand_food,rand_char],textArr=['Food','Character'])"
   ]
  },
  {
   "attachments": {},
   "cell_type": "markdown",
   "metadata": {},
   "source": [
    "### GENERATIVE MODEL EXPERIMENT "
   ]
  },
  {
   "attachments": {},
   "cell_type": "markdown",
   "metadata": {},
   "source": [
    "#### Autoencoder Experiments\n",
    "Needs to overfit for such a small dataset (train 350 epochs or so)"
   ]
  },
  {
   "cell_type": "code",
   "execution_count": 11,
   "metadata": {},
   "outputs": [],
   "source": [
    "TRAIN_AE = False\n",
    "AE_MODEL_NAME = \"pico_ae-[char100p]-350\"  #if not retraining, specify the model name to load"
   ]
  },
  {
   "cell_type": "code",
   "execution_count": 12,
   "metadata": {},
   "outputs": [],
   "source": [
    "##  BASIC AUTOENCODER  ##\n",
    "\n",
    "class PICOAutoencoder(Model):\n",
    "    def __init__(self,in_shape,show_summary=False):\n",
    "        super(PICOAutoencoder, self).__init__()\n",
    "        self.encoder = Sequential([\n",
    "            InputLayer(input_shape=in_shape),\n",
    "            Conv2D(64, (2,2), strides=2, activation='relu', padding='same'),\n",
    "            Conv2D(32, (2,2), strides=2, activation='relu', padding='same'),\n",
    "            Conv2D(16, (2,2), strides=2, activation='relu', padding='same')])\n",
    "\n",
    "        self.decoder = Sequential([\n",
    "            InputLayer(input_shape=self.encoder.output_shape[1:]),\n",
    "            Conv2DTranspose(16, (2,2), strides=2, activation='relu', padding='same'),\n",
    "            Conv2DTranspose(32, (2,2), strides=2, activation='relu', padding='same'),\n",
    "            Conv2DTranspose(64, (2,2), strides=2, activation='relu', padding='same'),\n",
    "            # Conv2D(in_shape[-1], (3,3), activation='sigmoid', padding='same')])\n",
    "            Conv2D(in_shape[-1], (3,3), activation='softmax', padding='same')])\n",
    "        \n",
    "\n",
    "        if show_summary:\n",
    "            print(\"== ENCODER ==\")\n",
    "            self.encoder.summary()\n",
    "            print(\"\")\n",
    "            print(\"== DECODER ==\")\n",
    "            self.decoder.summary()\n",
    "        \n",
    "\n",
    "    def call(self, x):\n",
    "        encoded = self.encoder(x)\n",
    "        decoded = self.decoder(encoded)\n",
    "        return decoded\n",
    "\n",
    "    def exportEnc(self, name):\n",
    "        if not os.path.exists(\"../models/gen_models/autoencoders/\"):\n",
    "            os.mkdir(\"../models/gen_models/autoencoders/\")\n",
    "        self.encoder.save(f\"../models/gen_models/autoencoders/{name}_encoder.h5\")\n",
    "\n",
    "    def exportDec(self, name):\n",
    "        if not os.path.exists(\"../models/gen_models/autoencoders/\"):\n",
    "            os.mkdir(\"../models/gen_models/autoencoders/\")\n",
    "        self.decoder.save(f\"../models/gen_models/autoencoders/{name}_decoder.h5\")\n",
    "\n",
    "    def importDec(self,name):\n",
    "        self.decoder = load_model(f\"../models/gen_models/autoencoders/{name}_decoder.h5\")\n",
    "        \n",
    "    def importEnc(self,name):\n",
    "        self.encoder = load_model(f\"../models/gen_models/autoencoders/{name}_encoder.h5\")"
   ]
  },
  {
   "cell_type": "code",
   "execution_count": 13,
   "metadata": {},
   "outputs": [
    {
     "name": "stdout",
     "output_type": "stream",
     "text": [
      "Autoencoder Dataset shape: (100, 8, 8, 16)\n",
      "== ENCODER ==\n",
      "Model: \"sequential\"\n",
      "_________________________________________________________________\n",
      " Layer (type)                Output Shape              Param #   \n",
      "=================================================================\n",
      " conv2d (Conv2D)             (None, 4, 4, 64)          4160      \n",
      "                                                                 \n",
      " conv2d_1 (Conv2D)           (None, 2, 2, 32)          8224      \n",
      "                                                                 \n",
      " conv2d_2 (Conv2D)           (None, 1, 1, 16)          2064      \n",
      "                                                                 \n",
      "=================================================================\n",
      "Total params: 14,448\n",
      "Trainable params: 14,448\n",
      "Non-trainable params: 0\n",
      "_________________________________________________________________\n",
      "\n",
      "== DECODER ==\n",
      "Model: \"sequential_1\"\n",
      "_________________________________________________________________\n",
      " Layer (type)                Output Shape              Param #   \n",
      "=================================================================\n",
      " conv2d_transpose (Conv2DTra  (None, 2, 2, 16)         1040      \n",
      " nspose)                                                         \n",
      "                                                                 \n",
      " conv2d_transpose_1 (Conv2DT  (None, 4, 4, 32)         2080      \n",
      " ranspose)                                                       \n",
      "                                                                 \n",
      " conv2d_transpose_2 (Conv2DT  (None, 8, 8, 64)         8256      \n",
      " ranspose)                                                       \n",
      "                                                                 \n",
      " conv2d_3 (Conv2D)           (None, 8, 8, 16)          9232      \n",
      "                                                                 \n",
      "=================================================================\n",
      "Total params: 20,608\n",
      "Trainable params: 20,608\n",
      "Non-trainable params: 0\n",
      "_________________________________________________________________\n",
      "Loading model: pico_ae-[char100p]-350\n",
      "WARNING:tensorflow:No training configuration found in the save file, so the model was *not* compiled. Compile it manually.\n"
     ]
    },
    {
     "name": "stderr",
     "output_type": "stream",
     "text": [
      "2023-03-28 17:50:41.351558: I tensorflow/core/platform/cpu_feature_guard.cc:193] This TensorFlow binary is optimized with oneAPI Deep Neural Network Library (oneDNN) to use the following CPU instructions in performance-critical operations:  AVX2 FMA\n",
      "To enable them in other operations, rebuild TensorFlow with the appropriate compiler flags.\n"
     ]
    },
    {
     "name": "stdout",
     "output_type": "stream",
     "text": [
      "WARNING:tensorflow:No training configuration found in the save file, so the model was *not* compiled. Compile it manually.\n"
     ]
    }
   ],
   "source": [
    "# setup the dataset\n",
    "# pico_ae_dat = np.concatenate((pico_food_dat,pico_char_dat),axis=0)  # combine food and character datasets\n",
    "pico_ae_dat = pico_char_dat\n",
    "\n",
    "pico_ae_dat = np.array([encodeSpr1H(s) for s in pico_ae_dat])   # encode to 1-hot\n",
    "np.random.shuffle(pico_ae_dat)                                  # shuffle the dataset\n",
    "print(f\"Autoencoder Dataset shape: {pico_ae_dat.shape}\")\n",
    "\n",
    "# setup the model\n",
    "pico_ae_model = PICOAutoencoder((8,8,len(PICO_PALETTE)),True)\n",
    "# pico_ae_model.compile(optimizer='adam', loss='mse', metrics=['accuracy'])\n",
    "pico_ae_model.compile(optimizer='adam', loss='categorical_crossentropy', metrics=['accuracy'])\n",
    "\n",
    "# train the model (if TRAIN_AE is True) otherwise load the model\n",
    "EPOCHS = 250\n",
    "BATCH_SIZE = 16\n",
    "if TRAIN_AE:\n",
    "    h = pico_ae_model.fit(pico_ae_dat, pico_ae_dat, batch_size=BATCH_SIZE,epochs=EPOCHS,shuffle=True)\n",
    "\n",
    "    #plot the accuracy over time\n",
    "    plt.plot(h.history['accuracy'])\n",
    "else:\n",
    "    print(f\"Loading model: {AE_MODEL_NAME}\")\n",
    "    pico_ae_model.importEnc(AE_MODEL_NAME)\n",
    "    pico_ae_model.importDec(AE_MODEL_NAME)\n"
   ]
  },
  {
   "cell_type": "code",
   "execution_count": 14,
   "metadata": {},
   "outputs": [
    {
     "data": {
      "image/png": "[encoded data removed]",
      "text/plain": [
       "<Figure size 2000x700 with 7 Axes>"
      ]
     },
     "metadata": {},
     "output_type": "display_data"
    },
    {
     "data": {
      "image/png": "[encoded data removed]",
      "text/plain": [
       "<Figure size 2000x700 with 7 Axes>"
      ]
     },
     "metadata": {},
     "output_type": "display_data"
    }
   ],
   "source": [
    "# test output\n",
    "ae_test_set = random.choices(pico_ae_dat, k=7)\n",
    "ae_test_set = np.array(ae_test_set)\n",
    "\n",
    "showMultiSprPalette([decodeSpr1H(s) for s in ae_test_set],text='INPUT')\n",
    "showMultiSprPalette([decodeSpr1H(s) for s in pico_ae_model.predict(ae_test_set,verbose=False)],text='AE PREDICT')\n"
   ]
  },
  {
   "cell_type": "code",
   "execution_count": 15,
   "metadata": {},
   "outputs": [
    {
     "name": "stdout",
     "output_type": "stream",
     "text": [
      "(7, 1, 1, 16)\n"
     ]
    },
    {
     "data": {
      "image/png": "[encoded data removed]",
      "text/plain": [
       "<Figure size 2000x700 with 7 Axes>"
      ]
     },
     "metadata": {},
     "output_type": "display_data"
    },
    {
     "data": {
      "image/png": "[encoded data removed]",
      "text/plain": [
       "<Figure size 2000x700 with 7 Axes>"
      ]
     },
     "metadata": {},
     "output_type": "display_data"
    }
   ],
   "source": [
    "# random sampling\n",
    "\n",
    "# show some final outputs from real data\n",
    "real_set = [7,30,53,86,90,96,99]    \n",
    "real_set_label = ['Koopa','Donatello','Finn','Dewey','Link','Samus','Pikachu']\n",
    "real_oh_set = np.array([encodeSpr1H(s) for s in pico_char_dat[real_set]])\n",
    "\n",
    "real_enc = pico_ae_model.encoder.predict(real_oh_set,verbose=False)\n",
    "real_dec = pico_ae_model.decoder.predict(real_enc,verbose=False)\n",
    "\n",
    "print(real_enc.shape)\n",
    "\n",
    "showMultiSprPalette([pico_char_dat[i] for i in real_set],text='Real set')\n",
    "showMultiSprPalette([decodeSpr1H(s) for s in real_dec],text='AE Pred set')\n"
   ]
  },
  {
   "cell_type": "code",
   "execution_count": 16,
   "metadata": {},
   "outputs": [
    {
     "data": {
      "image/png": "[encoded data removed]",
      "text/plain": [
       "<Figure size 2000x700 with 7 Axes>"
      ]
     },
     "metadata": {},
     "output_type": "display_data"
    }
   ],
   "source": [
    "# shift from one character to another\n",
    "\n",
    "def interpolateVec(v1,v2,steps):\n",
    "    return [v1 + (v2-v1)*i/(steps-1) for i in range(steps)]\n",
    "\n",
    "pick2 = random.sample(range(len(real_enc)), k=2)\n",
    "inter_vec = interpolateVec(real_enc[pick2[0]],real_enc[pick2[1]],7) \n",
    "inter_pred = pico_ae_model.decoder.predict(np.array(inter_vec),verbose=False)\n",
    "showMultiSprPalette([decodeSpr1H(s) for s in inter_pred],text=f'AE Interpolation: {real_set_label[pick2[0]]} to {real_set_label[pick2[1]]}')\n"
   ]
  },
  {
   "cell_type": "code",
   "execution_count": 17,
   "metadata": {},
   "outputs": [],
   "source": [
    "# compare between 2 groups of similar characters (ninja turtles + duck tales)\n",
    "ninja_turtles = [30,31,32,33]\n",
    "duck_tales = [84,85,86,87]\n",
    "\n",
    "ninja_oh = np.array([encodeSpr1H(s) for s in pico_char_dat[ninja_turtles]])\n",
    "duck_oh = np.array([encodeSpr1H(s) for s in pico_char_dat[duck_tales]])\n",
    "\n",
    "ninja_enc = pico_ae_model.encoder.predict(ninja_oh,verbose=False)\n",
    "duck_enc = pico_ae_model.encoder.predict(duck_oh,verbose=False)"
   ]
  },
  {
   "cell_type": "code",
   "execution_count": 18,
   "metadata": {},
   "outputs": [
    {
     "data": {
      "image/png": "[encoded data removed]",
      "text/plain": [
       "<Figure size 2000x700 with 4 Axes>"
      ]
     },
     "metadata": {},
     "output_type": "display_data"
    },
    {
     "data": {
      "image/png": "[encoded data removed]",
      "text/plain": [
       "<Figure size 2000x700 with 4 Axes>"
      ]
     },
     "metadata": {},
     "output_type": "display_data"
    },
    {
     "data": {
      "image/png": "[encoded data removed]",
      "text/plain": [
       "<Figure size 2000x700 with 7 Axes>"
      ]
     },
     "metadata": {},
     "output_type": "display_data"
    },
    {
     "data": {
      "image/png": "[encoded data removed]",
      "text/plain": [
       "<Figure size 2000x700 with 7 Axes>"
      ]
     },
     "metadata": {},
     "output_type": "display_data"
    }
   ],
   "source": [
    "showMultiSprPalette([pico_char_dat[i] for i in ninja_turtles],text='Ninja Turtles')\n",
    "showMultiSprPalette([pico_char_dat[i] for i in duck_tales],text='Duck Tales')\n",
    "\n",
    "# interpolate between 2 random turtles and 2 random ducks\n",
    "for a in [ninja_enc,duck_enc]:\n",
    "    pick2 = random.sample(range(len(a)), k=2)\n",
    "    inter_vec = interpolateVec(a[pick2[0]],a[pick2[1]],7)\n",
    "    inter_pred = pico_ae_model.decoder.predict(np.array(inter_vec),verbose=False)\n",
    "    showMultiSprPalette([decodeSpr1H(s) for s in inter_pred],text=f'AE Interpolation')"
   ]
  },
  {
   "cell_type": "code",
   "execution_count": 19,
   "metadata": {},
   "outputs": [
    {
     "name": "stdout",
     "output_type": "stream",
     "text": [
      "(16, 2)\n",
      "[[  0.93523026 222.0659    ]\n",
      " [  0.         173.56053   ]\n",
      " [  2.0184238  273.97604   ]\n",
      " [  0.         212.41785   ]\n",
      " [  0.         311.12335   ]\n",
      " [  0.           0.        ]\n",
      " [  0.         232.72699   ]\n",
      " [  2.9373052  298.1779    ]\n",
      " [  0.           0.        ]\n",
      " [  0.           0.        ]\n",
      " [  1.5205781  224.14082   ]\n",
      " [  0.50582504 198.08095   ]\n",
      " [  0.           0.        ]\n",
      " [  0.         264.87955   ]\n",
      " [  0.          85.15058   ]\n",
      " [  0.           0.        ]]\n"
     ]
    }
   ],
   "source": [
    "# retrieve range of each element from the encoding vector \n",
    "enc_vec_set = pico_ae_model.encoder.predict(pico_ae_dat,verbose=False)\n",
    "enc_vec_min_max = np.array([[np.min(enc_vec_set[:,:,i,j]),np.max(enc_vec_set[:,:,i,j])] for i in range(enc_vec_set.shape[2]) for j in range(enc_vec_set.shape[3])])\n",
    "\n",
    "print(enc_vec_min_max.shape)  #should be (1,16,2)\n",
    "print(enc_vec_min_max)\n",
    " \n"
   ]
  },
  {
   "cell_type": "code",
   "execution_count": 20,
   "metadata": {},
   "outputs": [
    {
     "data": {
      "image/png": "[encoded data removed]",
      "text/plain": [
       "<Figure size 2000x700 with 7 Axes>"
      ]
     },
     "metadata": {},
     "output_type": "display_data"
    }
   ],
   "source": [
    "# sample from this space and show output\n",
    "sample_set = []\n",
    "for i in range(7):\n",
    "    sample = np.array([np.random.uniform(enc_vec_min_max[i][0],enc_vec_min_max[i][1]) for i in range(16)])\n",
    "    sample = np.expand_dims(sample,0)\n",
    "    sample = np.expand_dims(sample,0)\n",
    "    sample_set.append(sample)\n",
    "sample_set = np.array(sample_set)\n",
    "pred_samp_set = pico_ae_model.decoder.predict(sample_set,verbose=False)\n",
    "\n",
    "showMultiSprPalette([decodeSpr1H(s) for s in pred_samp_set],text='AE Sampled set')\n"
   ]
  },
  {
   "cell_type": "code",
   "execution_count": 21,
   "metadata": {},
   "outputs": [
    {
     "name": "stdout",
     "output_type": "stream",
     "text": [
      "WARNING:tensorflow:Compiled the loaded model, but the compiled metrics have yet to be built. `model.compile_metrics` will be empty until you train or evaluate the model.\n",
      "WARNING:tensorflow:Compiled the loaded model, but the compiled metrics have yet to be built. `model.compile_metrics` will be empty until you train or evaluate the model.\n"
     ]
    }
   ],
   "source": [
    "# export the model\n",
    "pico_ae_model.exportEnc(f'pico_ae-[char100p]-{EPOCHS}')\n",
    "pico_ae_model.exportDec(f'pico_ae-[char100p]-{EPOCHS}')"
   ]
  },
  {
   "attachments": {},
   "cell_type": "markdown",
   "metadata": {},
   "source": [
    "#### VARIATIONAL AUTOENCODER"
   ]
  },
  {
   "cell_type": "code",
   "execution_count": 54,
   "metadata": {},
   "outputs": [],
   "source": [
    "# CONSTANTS\n",
    "\n",
    "TRAIN_VAE = False\n",
    "VAE_MODEL_NAME = \"pico_vae-[char]-1000\"\n",
    "vae_dataset_type = \"char\"  #char, food, or both\n",
    "EXPORT_VAE = False\n",
    "\n",
    "VAE_Z = 16\n",
    "VAE_EPOCHS = 750\n",
    "VAE_BATCH_SIZE = 8"
   ]
  },
  {
   "cell_type": "code",
   "execution_count": 58,
   "metadata": {},
   "outputs": [],
   "source": [
    "##  BASIC VAE  ##\n",
    "\n",
    "class Sampling(Layer):\n",
    "    \"\"\"Uses (z_mean, z_log_var) to sample z, the vector encoding a digit.\"\"\"\n",
    "\n",
    "    def call(self, inputs):\n",
    "        z_mean, z_log_var = inputs\n",
    "        batch = tf.shape(z_mean)[0]\n",
    "        dim = tf.shape(z_mean)[1]\n",
    "        epsilon = tf.keras.backend.random_normal(shape=(batch, dim))\n",
    "        return z_mean + tf.exp(0.5 * z_log_var) * epsilon\n",
    "    \n",
    "\n",
    "\n",
    "class PICOVAE(Model):\n",
    "    def __init__(self,nn_shape,zshape=16,show_summary=False):\n",
    "        super(PICOVAE, self).__init__()\n",
    "        \n",
    "        self.spr_shape = nn_shape\n",
    "        self.latent_dim = zshape\n",
    "        \n",
    "        #make the models\n",
    "        self.makeEncoder(show_summary)\n",
    "        self.makeDecoder(show_summary)\n",
    "        \n",
    "        \n",
    "    #makes the encoder model for the VAE\n",
    "    def makeEncoder(self,show_summary=False):\n",
    "        \n",
    "        #variational encoder\n",
    "        enc_in = Input(shape=self.spr_shape)\n",
    "        x = Conv2D(32, (2,2), activation=LeakyReLU(), padding='same', strides=2)(enc_in)\n",
    "        x = Conv2D(64, (2,2), activation=LeakyReLU(), padding='same', strides=2)(x)\n",
    "        x = Flatten()(x)\n",
    "        x = Dense(16, activation='relu')(x)\n",
    "        \n",
    "        #variational sampling\n",
    "        z_mean = Dense(self.latent_dim, name=\"z_mean\")(x)\n",
    "        z_log_var = Dense(self.latent_dim, name=\"z_log_var\")(x)\n",
    "        z = Sampling()([z_mean, z_log_var])\n",
    "            \n",
    "        #combine together\n",
    "        self.encoder = Model(enc_in, [z_mean, z_log_var, z], name='encoder')\n",
    "        \n",
    "        if show_summary:\n",
    "            self.encoder.summary()\n",
    "        \n",
    "    #makes the decoder model for the VAE\n",
    "    def makeDecoder(self,show_summary=False):\n",
    "        #normal decoder\n",
    "        dec_in = Input(shape=(self.latent_dim,))\n",
    "        y = Dense(2*2*64, activation=\"relu\")(dec_in)  #product of output shape of encoder model\n",
    "        y = Reshape((2,2,64))(y)  #output shape of encoder model before flattening\n",
    "        y = Conv2DTranspose(64, kernel_size=2, strides=2, activation=LeakyReLU(), padding='same')(y)\n",
    "        y = Conv2DTranspose(32, kernel_size=2, strides=2, activation=LeakyReLU(), padding='same')(y)\n",
    "        dec_out = Conv2DTranspose(16, kernel_size=(3, 3), activation='softmax', padding='same')(y)  #softmax to get 1-hot encoding\n",
    "        self.decoder = Model(dec_in, dec_out)\n",
    "\n",
    "        \n",
    "        if show_summary:\n",
    "            self.decoder.summary()\n",
    "\n",
    "    # training step for VAE\n",
    "    def train_step(self, data):    \n",
    "        with tf.GradientTape() as tape:\n",
    "            #get output encoding and reconstruct from latent vector\n",
    "            z_mean, z_log_var, z = self.encoder(data)\n",
    "\n",
    "            # reconstructive loss\n",
    "            reconstruction = self.decoder(z)\n",
    "            reconstruction_loss = tf.reduce_mean(\n",
    "                tf.reduce_sum(\n",
    "                    tf.keras.losses.categorical_crossentropy(data, reconstruction), axis=(1, 2)   #categorical cross-entropy because one-hot encoded\n",
    "                )\n",
    "            )\n",
    "\n",
    "            # KL divergence loss\n",
    "            kl = -0.5 * (1 + z_log_var - tf.square(z_mean) - tf.exp(z_log_var))\n",
    "            kl = tf.reduce_mean(tf.reduce_sum(kl, axis=1))\n",
    "\n",
    "            #total loss\n",
    "            tl = reconstruction_loss + kl\n",
    "             \n",
    "        #apply loss back to weights\n",
    "        grads = tape.gradient(tl, self.trainable_weights)\n",
    "        self.optimizer.apply_gradients(zip(grads, self.trainable_weights))\n",
    "        \n",
    "        return {\"recon loss\":reconstruction_loss, \"kl loss\":kl, \"total loss\": tl}\n",
    "    \n",
    "    #custom reconstruction function\n",
    "    def reconstruct(self, data, **kwargs):\n",
    "        _, _, z = self.encoder.predict(data,**kwargs)\n",
    "        reconstruction = self.decoder.predict(z,**kwargs)\n",
    "        return reconstruction\n",
    "    \n",
    "    #custom encoding function\n",
    "    def decodeZ(self, z, **kwargs):\n",
    "        return self.decoder.predict(z,**kwargs)\n",
    "    \n",
    "\n",
    "    #### EXPORT/IMPORT  ####\n",
    "    \n",
    "    def exportEnc(self, name):\n",
    "        if not os.path.exists(\"../models/gen_models/vaes/\"):\n",
    "            os.mkdir(\"../models/gen_models/vaes/\")\n",
    "        self.encoder.save(f\"../models/gen_models/vaes/{name}_encoder.h5\")\n",
    "\n",
    "    def exportDec(self, name):\n",
    "        if not os.path.exists(\"../models/gen_models/vaes/\"):\n",
    "            os.mkdir(\"../models/gen_models/vaes/\")\n",
    "        self.decoder.save(f\"../models/gen_models/vaes/{name}_decoder.h5\")\n",
    "\n",
    "    def importDec(self,name):\n",
    "        self.decoder = load_model(f\"../models/gen_models/vaes/{name}_decoder.h5\",custom_objects={\"Sampling\":Sampling})\n",
    "        \n",
    "    def importEnc(self,name):\n",
    "        self.encoder = load_model(f\"../models/gen_models/vaes/{name}_encoder.h5\",custom_objects={\"Sampling\":Sampling})"
   ]
  },
  {
   "cell_type": "code",
   "execution_count": 59,
   "metadata": {},
   "outputs": [
    {
     "name": "stdout",
     "output_type": "stream",
     "text": [
      "Autoencoder Dataset shape: (100, 8, 8, 16)\n",
      "Model: \"encoder\"\n",
      "__________________________________________________________________________________________________\n",
      " Layer (type)                   Output Shape         Param #     Connected to                     \n",
      "==================================================================================================\n",
      " input_9 (InputLayer)           [(None, 8, 8, 16)]   0           []                               \n",
      "                                                                                                  \n",
      " conv2d_10 (Conv2D)             (None, 4, 4, 32)     2080        ['input_9[0][0]']                \n",
      "                                                                                                  \n",
      " conv2d_11 (Conv2D)             (None, 2, 2, 64)     8256        ['conv2d_10[0][0]']              \n",
      "                                                                                                  \n",
      " flatten_3 (Flatten)            (None, 256)          0           ['conv2d_11[0][0]']              \n",
      "                                                                                                  \n",
      " dense_6 (Dense)                (None, 16)           4112        ['flatten_3[0][0]']              \n",
      "                                                                                                  \n",
      " z_mean (Dense)                 (None, 16)           272         ['dense_6[0][0]']                \n",
      "                                                                                                  \n",
      " z_log_var (Dense)              (None, 16)           272         ['dense_6[0][0]']                \n",
      "                                                                                                  \n",
      " sampling_3 (Sampling)          (None, 16)           0           ['z_mean[0][0]',                 \n",
      "                                                                  'z_log_var[0][0]']              \n",
      "                                                                                                  \n",
      "==================================================================================================\n",
      "Total params: 14,992\n",
      "Trainable params: 14,992\n",
      "Non-trainable params: 0\n",
      "__________________________________________________________________________________________________\n",
      "Model: \"model_3\"\n",
      "_________________________________________________________________\n",
      " Layer (type)                Output Shape              Param #   \n",
      "=================================================================\n",
      " input_10 (InputLayer)       [(None, 16)]              0         \n",
      "                                                                 \n",
      " dense_7 (Dense)             (None, 256)               4352      \n",
      "                                                                 \n",
      " reshape_3 (Reshape)         (None, 2, 2, 64)          0         \n",
      "                                                                 \n",
      " conv2d_transpose_12 (Conv2D  (None, 4, 4, 64)         16448     \n",
      " Transpose)                                                      \n",
      "                                                                 \n",
      " conv2d_transpose_13 (Conv2D  (None, 8, 8, 32)         8224      \n",
      " Transpose)                                                      \n",
      "                                                                 \n",
      " conv2d_transpose_14 (Conv2D  (None, 8, 8, 16)         4624      \n",
      " Transpose)                                                      \n",
      "                                                                 \n",
      "=================================================================\n",
      "Total params: 33,648\n",
      "Trainable params: 33,648\n",
      "Non-trainable params: 0\n",
      "_________________________________________________________________\n",
      "WARNING:tensorflow:No training configuration found in the save file, so the model was *not* compiled. Compile it manually.\n",
      "WARNING:tensorflow:No training configuration found in the save file, so the model was *not* compiled. Compile it manually.\n"
     ]
    }
   ],
   "source": [
    "# setup the dataset\n",
    "if vae_dataset_type == \"char\":\n",
    "    pico_vae_dat = pico_char_dat\n",
    "elif vae_dataset_type == \"food\":\n",
    "    pico_vae_dat = pico_food_dat\n",
    "else:\n",
    "    pico_ae_dat = np.concatenate((pico_food_dat,pico_char_dat),axis=0)  # combine food and character datasets\n",
    "\n",
    "pico_vae_dat = np.array([encodeSpr1H(s) for s in pico_vae_dat])   # encode to 1-hot\n",
    "np.random.shuffle(pico_vae_dat)                                  # shuffle the dataset\n",
    "print(f\"Autoencoder Dataset shape: {pico_vae_dat.shape}\")\n",
    "\n",
    "# setup the VAE model\n",
    "pico_vae_model = PICOVAE((8,8,len(PICO_PALETTE)),VAE_Z,True)\n",
    "\n",
    "# train the model if TRAIN_VAE is True else load the model\n",
    "if TRAIN_VAE:\n",
    "    pico_vae_model.compile(optimizer=tf.keras.optimizers.Adam(learning_rate=0.0005))\n",
    "    vaeh = pico_vae_model.fit(pico_vae_dat,epochs=VAE_EPOCHS,batch_size=VAE_BATCH_SIZE,shuffle=True,verbose=True)\n",
    "else: \n",
    "    pico_vae_model.importEnc(VAE_MODEL_NAME)\n",
    "    pico_vae_model.importDec(VAE_MODEL_NAME)\n"
   ]
  },
  {
   "cell_type": "code",
   "execution_count": 63,
   "metadata": {},
   "outputs": [
    {
     "data": {
      "text/plain": [
       "(100, 8, 8, 16)"
      ]
     },
     "execution_count": 63,
     "metadata": {},
     "output_type": "execute_result"
    }
   ],
   "source": [
    "pico_vae_dat.shape"
   ]
  },
  {
   "cell_type": "code",
   "execution_count": 60,
   "metadata": {},
   "outputs": [],
   "source": [
    "#plot the accuracy over time\n",
    "if TRAIN_VAE:\n",
    "    plt.plot(vaeh.history['recon loss'],label='recon loss')\n",
    "    plt.plot(vaeh.history['kl loss'],label='kl loss')\n",
    "    plt.plot(vaeh.history['total loss'],label='total loss')\n",
    "    plt.legend()\n",
    "\n",
    "    plt.show()"
   ]
  },
  {
   "cell_type": "code",
   "execution_count": 61,
   "metadata": {},
   "outputs": [
    {
     "data": {
      "image/png": "[encoded data removed]",
      "text/plain": [
       "<Figure size 2000x700 with 7 Axes>"
      ]
     },
     "metadata": {},
     "output_type": "display_data"
    },
    {
     "data": {
      "image/png": "[encoded data removed]",
      "text/plain": [
       "<Figure size 2000x700 with 7 Axes>"
      ]
     },
     "metadata": {},
     "output_type": "display_data"
    }
   ],
   "source": [
    "# test output\n",
    "vae_test_set = random.choices(pico_vae_dat, k=7)\n",
    "vae_test_set = np.array(vae_test_set)\n",
    "\n",
    "showMultiSprPalette([decodeSpr1H(s) for s in vae_test_set],text='INPUT')\n",
    "showMultiSprPalette([decodeSpr1H(s) for s in pico_vae_model.reconstruct(vae_test_set,verbose=False)],text='VAE PREDICT')\n"
   ]
  },
  {
   "cell_type": "code",
   "execution_count": null,
   "metadata": {},
   "outputs": [
    {
     "name": "stdout",
     "output_type": "stream",
     "text": [
      "(7, 16)\n"
     ]
    },
    {
     "data": {
      "image/png": "[encoded data removed]",
      "text/plain": [
       "<Figure size 2000x700 with 7 Axes>"
      ]
     },
     "metadata": {},
     "output_type": "display_data"
    },
    {
     "data": {
      "image/png": "[encoded data removed]",
      "text/plain": [
       "<Figure size 2000x700 with 7 Axes>"
      ]
     },
     "metadata": {},
     "output_type": "display_data"
    }
   ],
   "source": [
    "# random sampling\n",
    "\n",
    "if vae_dataset_type == \"char\":\n",
    "    # show some final outputs from real data\n",
    "    real_set = [7,30,53,86,90,96,99]    \n",
    "    real_set_label = ['Koopa','Donatello','Finn','Dewey','Link','Samus','Pikachu']\n",
    "    real_oh_set = np.array([encodeSpr1H(s) for s in pico_char_dat[real_set]])\n",
    "\n",
    "    _,_,real_enc_z = pico_vae_model.encoder.predict(real_oh_set,verbose=False)\n",
    "    real_dec = pico_vae_model.decoder.predict(real_enc_z,verbose=False)\n",
    "\n",
    "    print(real_enc_z.shape)\n",
    "\n",
    "    showMultiSprPalette([pico_char_dat[i] for i in real_set],text='Real set')\n",
    "    showMultiSprPalette([decodeSpr1H(s) for s in real_dec],text='VAE Pred set')\n",
    "\n",
    "elif vae_dataset_type == \"food\":\n",
    "    # show some final outputs from real data\n",
    "    real_set = [2,6,7,11,27,38,63]    \n",
    "    real_set_label = ['Banana', \"Watermelon\", \"Cherry\", \"Beer\", \"Pretzel\", \"Blue Popsicle\", \"Pizza\"]\n",
    "    real_oh_set = np.array([encodeSpr1H(s) for s in pico_food_dat[real_set]])\n",
    "\n",
    "    _,_,real_enc_z = pico_vae_model.encoder.predict(real_oh_set,verbose=False)\n",
    "    real_dec = pico_vae_model.decoder.predict(real_enc_z,verbose=False)\n",
    "\n",
    "    print(real_enc_z.shape)\n",
    "\n",
    "    showMultiSprPalette([pico_food_dat[i] for i in real_set],text='Real set')\n",
    "    showMultiSprPalette([decodeSpr1H(s) for s in real_dec],text='VAE Pred set')\n"
   ]
  },
  {
   "cell_type": "code",
   "execution_count": null,
   "metadata": {},
   "outputs": [
    {
     "data": {
      "image/png": "[encoded data removed]",
      "text/plain": [
       "<Figure size 2000x700 with 7 Axes>"
      ]
     },
     "metadata": {},
     "output_type": "display_data"
    }
   ],
   "source": [
    "# shift from one character to another\n",
    "\n",
    "def interpolateVec(v1,v2,steps):\n",
    "    return [v1 + (v2-v1)*i/(steps-1) for i in range(steps)]\n",
    "\n",
    "pick2 = random.sample(range(len(real_enc_z)), k=2)\n",
    "inter_vec = interpolateVec(real_enc_z[pick2[0]],real_enc_z[pick2[1]],7) \n",
    "inter_pred = pico_vae_model.decodeZ(np.array(inter_vec),verbose=False)\n",
    "showMultiSprPalette([decodeSpr1H(s) for s in inter_pred],text=f'VAE Interpolation: {real_set_label[pick2[0]]} to {real_set_label[pick2[1]]}')\n"
   ]
  },
  {
   "cell_type": "code",
   "execution_count": null,
   "metadata": {},
   "outputs": [
    {
     "data": {
      "image/png": "[encoded data removed]",
      "text/plain": [
       "<Figure size 2000x700 with 7 Axes>"
      ]
     },
     "metadata": {},
     "output_type": "display_data"
    }
   ],
   "source": [
    "# sample from this space and show output\n",
    "sample_set = np.random.normal(0,1,size=(7,VAE_Z))\n",
    "\n",
    "pred_samp_set = pico_vae_model.decoder.predict(sample_set,verbose=False)\n",
    "\n",
    "showMultiSprPalette([decodeSpr1H(s) for s in pred_samp_set],text='VAE Sampled set')\n"
   ]
  },
  {
   "cell_type": "code",
   "execution_count": null,
   "metadata": {},
   "outputs": [],
   "source": [
    "# export the model\n",
    "if EXPORT_VAE:\n",
    "    pico_vae_model.exportEnc(f'pico_vae-[{vae_dataset_type}]-{VAE_EPOCHS}')\n",
    "    pico_vae_model.exportDec(f'pico_vae-[{vae_dataset_type}]-{VAE_EPOCHS}')"
   ]
  },
  {
   "attachments": {},
   "cell_type": "markdown",
   "metadata": {},
   "source": [
    "#### STUPID MODEL\n",
    "Embedding to image model. That's it. Take a pretrained embedding network, train a model to output an image, that's it. Tim bet $25 this wouldn't work lmao"
   ]
  },
  {
   "cell_type": "code",
   "execution_count": 44,
   "metadata": {},
   "outputs": [],
   "source": [
    "# IMPORT DOC2VEC\n",
    "\n",
    "from gensim.test.utils import common_texts\n",
    "from gensim.models.doc2vec import Doc2Vec, TaggedDocument\n",
    "from sklearn.metrics.pairwise import cosine_similarity as cos_sim\n",
    "\n",
    "documents = [TaggedDocument(doc, [i]) for i, doc in enumerate(common_texts)]\n",
    "D2V_MODEL = Doc2Vec(documents, vector_size=128, window=2, min_count=1)\n",
    "\n",
    "def wordEmb(txt):\n",
    "    return D2V_MODEL.infer_vector(txt.split())"
   ]
  },
  {
   "cell_type": "code",
   "execution_count": 49,
   "metadata": {},
   "outputs": [
    {
     "name": "stdout",
     "output_type": "stream",
     "text": [
      "COSINE SIM: [[ 1.0000001  -0.1640559   0.07875782]\n",
      " [-0.1640559   0.9999997   0.02635097]\n",
      " [ 0.07875782  0.02635097  1.        ]]\n",
      "EUCLIDEAN DIST: [[0.0, 0.039145034, 0.035064008], [0.039145034, 0.0, 0.034468196], [0.035064008, 0.034468196, 0.0]]\n"
     ]
    }
   ],
   "source": [
    "dewey = wordEmb(\"a duck with a blue hat\")\n",
    "huey = wordEmb(\"a duck with a red hat\")\n",
    "pikachu = wordEmb(\"a yellow electric mouse\")\n",
    "\n",
    "# get similarities between phrases by getting distances between word embeddings\n",
    "print(f\"COSINE SIM: {cos_sim([dewey,huey,pikachu])}\")\n",
    "print(f\"EUCLIDEAN DIST: {[[np.linalg.norm(a-b) for a in [dewey,huey,pikachu]] for b in [dewey,huey,pikachu] ]}\")\n"
   ]
  },
  {
   "cell_type": "code",
   "execution_count": 52,
   "metadata": {},
   "outputs": [],
   "source": [
    "# IMPORT SENTENCE BERT\n",
    "from sentence_transformers import SentenceTransformer\n",
    "SBERT_MODEL = SentenceTransformer('bert-base-nli-mean-tokens')\n",
    "\n",
    "def sentEmb(txt):\n",
    "    return SBERT_MODEL.encode([txt])[0]"
   ]
  },
  {
   "cell_type": "code",
   "execution_count": 53,
   "metadata": {},
   "outputs": [
    {
     "name": "stdout",
     "output_type": "stream",
     "text": [
      "COSINE SIM: [[1.0000001  0.6279819  0.23689032]\n",
      " [0.6279819  1.0000001  0.32165208]\n",
      " [0.23689032 0.32165208 0.99999994]]\n",
      "EUCLIDEAN DIST: [[0.0, 14.473851, 20.830334], [14.473851, 0.0, 19.58954], [20.830334, 19.58954, 0.0]]\n"
     ]
    }
   ],
   "source": [
    "dewey = sentEmb(\"a duck with a blue hat\")\n",
    "huey = sentEmb(\"a duck with a red hat\")\n",
    "pikachu = sentEmb(\"a yellow electric mouse\")\n",
    "\n",
    "# get similarities between phrases by getting distances between word embeddings\n",
    "print(f\"COSINE SIM: {cos_sim([dewey,huey,pikachu])}\")\n",
    "print(f\"EUCLIDEAN DIST: {[[np.linalg.norm(a-b) for a in [dewey,huey,pikachu]] for b in [dewey,huey,pikachu] ]}\")"
   ]
  },
  {
   "attachments": {},
   "cell_type": "markdown",
   "metadata": {},
   "source": [
    "Conclusion: Use Sentence Transformers with Cosine Similarity metric"
   ]
  },
  {
   "attachments": {},
   "cell_type": "markdown",
   "metadata": {},
   "source": [
    "#### Make a model trained on word embedding to image"
   ]
  },
  {
   "cell_type": "code",
   "execution_count": 109,
   "metadata": {},
   "outputs": [
    {
     "name": "stdout",
     "output_type": "stream",
     "text": [
      "a green dinosaur with red boots and a large nose\n"
     ]
    },
    {
     "data": {
      "image/png": "[encoded data removed]",
      "text/plain": [
       "<Figure size 200x200 with 1 Axes>"
      ]
     },
     "metadata": {},
     "output_type": "display_data"
    }
   ],
   "source": [
    "# import the labels for the PICO characters dataset\n",
    "pico_char_labels = np.array([l.strip() for l in open('../data/rip_data/character_desc.txt','r').readlines()])\n",
    "\n",
    "# check association match\n",
    "rand_char_i = random.randint(0,len(pico_char_labels))\n",
    "rand_char = pico_char_labels[rand_char_i]\n",
    "rand_char_img = pico_char_dat[rand_char_i]\n",
    "print(f\"{rand_char}\")\n",
    "showSprPalette(rand_char_img)"
   ]
  },
  {
   "cell_type": "code",
   "execution_count": 110,
   "metadata": {},
   "outputs": [
    {
     "name": "stdout",
     "output_type": "stream",
     "text": [
      "X_train: (100, 768)\n",
      "Y_train: (100, 8, 8, 16)\n"
     ]
    }
   ],
   "source": [
    "# create the dataset (embheddings -> images)\n",
    "pico_char_emb = SBERT_MODEL.encode(pico_char_labels)\n",
    "pico_char_emb = np.array(pico_char_emb)\n",
    "\n",
    "X_train = pico_char_emb\n",
    "Y_train = np.array([encodeSpr1H(s) for s in pico_char_dat])\n",
    "\n",
    "print(f\"X_train: {X_train.shape}\")\n",
    "print(f\"Y_train: {Y_train.shape}\")"
   ]
  },
  {
   "cell_type": "code",
   "execution_count": 125,
   "metadata": {},
   "outputs": [],
   "source": [
    "# named after Tim's bet that this model was too simple lol\n",
    "class FiveDollarModel(Model):\n",
    "    def __init__(self,lv_shape,embedder=SBERT_MODEL):\n",
    "        super(FiveDollarModel, self).__init__()\n",
    "        self.embedder = embedder\n",
    "        self.decoder = Sequential([\n",
    "            InputLayer(input_shape=(lv_shape,)),\n",
    "            # Dense(512,activation='relu'),\n",
    "            Dense(256,activation='relu'),\n",
    "            Reshape((2,2,64)),\n",
    "            Conv2DTranspose(32, (2,2), strides=(2,2), padding='same', activation='relu'),\n",
    "            Conv2DTranspose(16, (2,2), strides=(2,2), padding='same', activation='softmax')     # should output to a 8x8x16 one-hot encoded image\n",
    "        ])\n",
    "        \n",
    "        self.decoder.summary()\n",
    "        self.decoder.compile(optimizer='adam', loss='categorical_crossentropy', metrics=['accuracy'])\n",
    "\n",
    "    # embeds the text and returns an image\n",
    "    def txt2img(self,txt,uncode=True):\n",
    "        emb = self.embedder.encode([txt])\n",
    "        img = self.decoder.predict(np.array(emb),verbose=False)[0]\n",
    "        if uncode:\n",
    "            return decodeSpr1H(img)\n",
    "        else:\n",
    "            return img"
   ]
  },
  {
   "cell_type": "code",
   "execution_count": 139,
   "metadata": {},
   "outputs": [
    {
     "name": "stdout",
     "output_type": "stream",
     "text": [
      "Model: \"sequential_23\"\n",
      "_________________________________________________________________\n",
      " Layer (type)                Output Shape              Param #   \n",
      "=================================================================\n",
      " dense_31 (Dense)            (None, 256)               196864    \n",
      "                                                                 \n",
      " reshape_23 (Reshape)        (None, 2, 2, 64)          0         \n",
      "                                                                 \n",
      " conv2d_transpose_62 (Conv2D  (None, 4, 4, 32)         8224      \n",
      " Transpose)                                                      \n",
      "                                                                 \n",
      " conv2d_transpose_63 (Conv2D  (None, 8, 8, 16)         2064      \n",
      " Transpose)                                                      \n",
      "                                                                 \n",
      "=================================================================\n",
      "Total params: 207,152\n",
      "Trainable params: 207,152\n",
      "Non-trainable params: 0\n",
      "_________________________________________________________________\n",
      "Epoch 1/150\n",
      "7/7 [==============================] - 1s 3ms/step - loss: 2.7384 - accuracy: 0.1080\n",
      "Epoch 2/150\n",
      "7/7 [==============================] - 0s 3ms/step - loss: 2.5933 - accuracy: 0.2486\n",
      "Epoch 3/150\n",
      "7/7 [==============================] - 0s 3ms/step - loss: 2.4050 - accuracy: 0.3373\n",
      "Epoch 4/150\n",
      "7/7 [==============================] - 0s 3ms/step - loss: 2.2689 - accuracy: 0.3619\n",
      "Epoch 5/150\n",
      "7/7 [==============================] - 0s 3ms/step - loss: 2.1764 - accuracy: 0.3744\n",
      "Epoch 6/150\n",
      "7/7 [==============================] - 0s 4ms/step - loss: 2.1075 - accuracy: 0.3795\n",
      "Epoch 7/150\n",
      "7/7 [==============================] - 0s 3ms/step - loss: 2.0574 - accuracy: 0.3872\n",
      "Epoch 8/150\n",
      "7/7 [==============================] - 0s 3ms/step - loss: 2.0124 - accuracy: 0.3948\n",
      "Epoch 9/150\n",
      "7/7 [==============================] - 0s 4ms/step - loss: 1.9750 - accuracy: 0.4038\n",
      "Epoch 10/150\n",
      "7/7 [==============================] - 0s 3ms/step - loss: 1.9381 - accuracy: 0.4155\n",
      "Epoch 11/150\n",
      "7/7 [==============================] - 0s 3ms/step - loss: 1.9015 - accuracy: 0.4220\n",
      "Epoch 12/150\n",
      "7/7 [==============================] - 0s 3ms/step - loss: 1.8686 - accuracy: 0.4305\n",
      "Epoch 13/150\n",
      "7/7 [==============================] - 0s 3ms/step - loss: 1.8343 - accuracy: 0.4417\n",
      "Epoch 14/150\n",
      "7/7 [==============================] - 0s 3ms/step - loss: 1.8009 - accuracy: 0.4525\n",
      "Epoch 15/150\n",
      "7/7 [==============================] - 0s 3ms/step - loss: 1.7640 - accuracy: 0.4609\n",
      "Epoch 16/150\n",
      "7/7 [==============================] - 0s 3ms/step - loss: 1.7319 - accuracy: 0.4702\n",
      "Epoch 17/150\n",
      "7/7 [==============================] - 0s 3ms/step - loss: 1.6972 - accuracy: 0.4811\n",
      "Epoch 18/150\n",
      "7/7 [==============================] - 0s 4ms/step - loss: 1.6615 - accuracy: 0.4922\n",
      "Epoch 19/150\n",
      "7/7 [==============================] - 0s 3ms/step - loss: 1.6298 - accuracy: 0.5069\n",
      "Epoch 20/150\n",
      "7/7 [==============================] - 0s 3ms/step - loss: 1.5940 - accuracy: 0.5114\n",
      "Epoch 21/150\n",
      "7/7 [==============================] - 0s 3ms/step - loss: 1.5641 - accuracy: 0.5148\n",
      "Epoch 22/150\n",
      "7/7 [==============================] - 0s 3ms/step - loss: 1.5343 - accuracy: 0.5306\n",
      "Epoch 23/150\n",
      "7/7 [==============================] - 0s 5ms/step - loss: 1.4962 - accuracy: 0.5434\n",
      "Epoch 24/150\n",
      "7/7 [==============================] - 0s 3ms/step - loss: 1.4640 - accuracy: 0.5506\n",
      "Epoch 25/150\n",
      "7/7 [==============================] - 0s 4ms/step - loss: 1.4313 - accuracy: 0.5612\n",
      "Epoch 26/150\n",
      "7/7 [==============================] - 0s 4ms/step - loss: 1.4023 - accuracy: 0.5692\n",
      "Epoch 27/150\n",
      "7/7 [==============================] - 0s 3ms/step - loss: 1.3720 - accuracy: 0.5813\n",
      "Epoch 28/150\n",
      "7/7 [==============================] - 0s 3ms/step - loss: 1.3393 - accuracy: 0.5894\n",
      "Epoch 29/150\n",
      "7/7 [==============================] - 0s 3ms/step - loss: 1.3100 - accuracy: 0.5987\n",
      "Epoch 30/150\n",
      "7/7 [==============================] - 0s 3ms/step - loss: 1.2761 - accuracy: 0.6094\n",
      "Epoch 31/150\n",
      "7/7 [==============================] - 0s 3ms/step - loss: 1.2471 - accuracy: 0.6172\n",
      "Epoch 32/150\n",
      "7/7 [==============================] - 0s 3ms/step - loss: 1.2204 - accuracy: 0.6239\n",
      "Epoch 33/150\n",
      "7/7 [==============================] - 0s 3ms/step - loss: 1.1956 - accuracy: 0.6334\n",
      "Epoch 34/150\n",
      "7/7 [==============================] - 0s 3ms/step - loss: 1.1694 - accuracy: 0.6420\n",
      "Epoch 35/150\n",
      "7/7 [==============================] - 0s 3ms/step - loss: 1.1411 - accuracy: 0.6481\n",
      "Epoch 36/150\n",
      "7/7 [==============================] - 0s 3ms/step - loss: 1.1168 - accuracy: 0.6567\n",
      "Epoch 37/150\n",
      "7/7 [==============================] - 0s 3ms/step - loss: 1.0896 - accuracy: 0.6658\n",
      "Epoch 38/150\n",
      "7/7 [==============================] - 0s 3ms/step - loss: 1.0676 - accuracy: 0.6712\n",
      "Epoch 39/150\n",
      "7/7 [==============================] - 0s 3ms/step - loss: 1.0536 - accuracy: 0.6716\n",
      "Epoch 40/150\n",
      "7/7 [==============================] - 0s 3ms/step - loss: 1.0298 - accuracy: 0.6825\n",
      "Epoch 41/150\n",
      "7/7 [==============================] - 0s 3ms/step - loss: 1.0055 - accuracy: 0.6884\n",
      "Epoch 42/150\n",
      "7/7 [==============================] - 0s 3ms/step - loss: 0.9807 - accuracy: 0.6948\n",
      "Epoch 43/150\n",
      "7/7 [==============================] - 0s 5ms/step - loss: 0.9604 - accuracy: 0.7064\n",
      "Epoch 44/150\n",
      "7/7 [==============================] - 0s 3ms/step - loss: 0.9420 - accuracy: 0.7158\n",
      "Epoch 45/150\n",
      "7/7 [==============================] - 0s 3ms/step - loss: 0.9187 - accuracy: 0.7236\n",
      "Epoch 46/150\n",
      "7/7 [==============================] - 0s 3ms/step - loss: 0.9028 - accuracy: 0.7258\n",
      "Epoch 47/150\n",
      "7/7 [==============================] - 0s 3ms/step - loss: 0.8783 - accuracy: 0.7366\n",
      "Epoch 48/150\n",
      "7/7 [==============================] - 0s 3ms/step - loss: 0.8624 - accuracy: 0.7398\n",
      "Epoch 49/150\n",
      "7/7 [==============================] - 0s 3ms/step - loss: 0.8456 - accuracy: 0.7453\n",
      "Epoch 50/150\n",
      "7/7 [==============================] - 0s 3ms/step - loss: 0.8294 - accuracy: 0.7497\n",
      "Epoch 51/150\n",
      "7/7 [==============================] - 0s 3ms/step - loss: 0.8108 - accuracy: 0.7553\n",
      "Epoch 52/150\n",
      "7/7 [==============================] - 0s 3ms/step - loss: 0.7944 - accuracy: 0.7633\n",
      "Epoch 53/150\n",
      "7/7 [==============================] - 0s 3ms/step - loss: 0.7798 - accuracy: 0.7700\n",
      "Epoch 54/150\n",
      "7/7 [==============================] - 0s 3ms/step - loss: 0.7609 - accuracy: 0.7752\n",
      "Epoch 55/150\n",
      "7/7 [==============================] - 0s 3ms/step - loss: 0.7460 - accuracy: 0.7823\n",
      "Epoch 56/150\n",
      "7/7 [==============================] - 0s 3ms/step - loss: 0.7310 - accuracy: 0.7847\n",
      "Epoch 57/150\n",
      "7/7 [==============================] - 0s 3ms/step - loss: 0.7175 - accuracy: 0.7889\n",
      "Epoch 58/150\n",
      "7/7 [==============================] - 0s 3ms/step - loss: 0.7067 - accuracy: 0.7911\n",
      "Epoch 59/150\n",
      "7/7 [==============================] - 0s 3ms/step - loss: 0.6951 - accuracy: 0.7981\n",
      "Epoch 60/150\n",
      "7/7 [==============================] - 0s 3ms/step - loss: 0.6791 - accuracy: 0.8019\n",
      "Epoch 61/150\n",
      "7/7 [==============================] - 0s 3ms/step - loss: 0.6674 - accuracy: 0.8081\n",
      "Epoch 62/150\n",
      "7/7 [==============================] - 0s 3ms/step - loss: 0.6533 - accuracy: 0.8100\n",
      "Epoch 63/150\n",
      "7/7 [==============================] - 0s 3ms/step - loss: 0.6438 - accuracy: 0.8152\n",
      "Epoch 64/150\n",
      "7/7 [==============================] - 0s 3ms/step - loss: 0.6259 - accuracy: 0.8219\n",
      "Epoch 65/150\n",
      "7/7 [==============================] - 0s 3ms/step - loss: 0.6100 - accuracy: 0.8242\n",
      "Epoch 66/150\n",
      "7/7 [==============================] - 0s 3ms/step - loss: 0.5984 - accuracy: 0.8286\n",
      "Epoch 67/150\n",
      "7/7 [==============================] - 0s 4ms/step - loss: 0.5865 - accuracy: 0.8327\n",
      "Epoch 68/150\n",
      "7/7 [==============================] - 0s 3ms/step - loss: 0.5728 - accuracy: 0.8444\n",
      "Epoch 69/150\n",
      "7/7 [==============================] - 0s 3ms/step - loss: 0.5618 - accuracy: 0.8413\n",
      "Epoch 70/150\n",
      "7/7 [==============================] - 0s 3ms/step - loss: 0.5526 - accuracy: 0.8466\n",
      "Epoch 71/150\n",
      "7/7 [==============================] - 0s 3ms/step - loss: 0.5421 - accuracy: 0.8495\n",
      "Epoch 72/150\n",
      "7/7 [==============================] - 0s 3ms/step - loss: 0.5317 - accuracy: 0.8537\n",
      "Epoch 73/150\n",
      "7/7 [==============================] - 0s 3ms/step - loss: 0.5271 - accuracy: 0.8586\n",
      "Epoch 74/150\n",
      "7/7 [==============================] - 0s 3ms/step - loss: 0.5152 - accuracy: 0.8589\n",
      "Epoch 75/150\n",
      "7/7 [==============================] - 0s 3ms/step - loss: 0.5012 - accuracy: 0.8677\n",
      "Epoch 76/150\n",
      "7/7 [==============================] - 0s 3ms/step - loss: 0.4902 - accuracy: 0.8661\n",
      "Epoch 77/150\n",
      "7/7 [==============================] - 0s 3ms/step - loss: 0.4836 - accuracy: 0.8714\n",
      "Epoch 78/150\n",
      "7/7 [==============================] - 0s 3ms/step - loss: 0.4767 - accuracy: 0.8723\n",
      "Epoch 79/150\n",
      "7/7 [==============================] - 0s 3ms/step - loss: 0.4631 - accuracy: 0.8764\n",
      "Epoch 80/150\n",
      "7/7 [==============================] - 0s 3ms/step - loss: 0.4492 - accuracy: 0.8834\n",
      "Epoch 81/150\n",
      "7/7 [==============================] - 0s 12ms/step - loss: 0.4376 - accuracy: 0.8873\n",
      "Epoch 82/150\n",
      "7/7 [==============================] - 0s 6ms/step - loss: 0.4296 - accuracy: 0.8930\n",
      "Epoch 83/150\n",
      "7/7 [==============================] - 0s 3ms/step - loss: 0.4225 - accuracy: 0.8925\n",
      "Epoch 84/150\n",
      "7/7 [==============================] - 0s 3ms/step - loss: 0.4132 - accuracy: 0.8975\n",
      "Epoch 85/150\n",
      "7/7 [==============================] - 0s 3ms/step - loss: 0.4112 - accuracy: 0.8995\n",
      "Epoch 86/150\n",
      "7/7 [==============================] - 0s 3ms/step - loss: 0.3968 - accuracy: 0.9022\n",
      "Epoch 87/150\n",
      "7/7 [==============================] - 0s 3ms/step - loss: 0.3897 - accuracy: 0.9045\n",
      "Epoch 88/150\n",
      "7/7 [==============================] - 0s 3ms/step - loss: 0.3794 - accuracy: 0.9087\n",
      "Epoch 89/150\n",
      "7/7 [==============================] - 0s 3ms/step - loss: 0.3733 - accuracy: 0.9105\n",
      "Epoch 90/150\n",
      "7/7 [==============================] - 0s 3ms/step - loss: 0.3680 - accuracy: 0.9103\n",
      "Epoch 91/150\n",
      "7/7 [==============================] - 0s 3ms/step - loss: 0.3598 - accuracy: 0.9155\n",
      "Epoch 92/150\n",
      "7/7 [==============================] - 0s 3ms/step - loss: 0.3503 - accuracy: 0.9202\n",
      "Epoch 93/150\n",
      "7/7 [==============================] - 0s 3ms/step - loss: 0.3401 - accuracy: 0.9237\n",
      "Epoch 94/150\n",
      "7/7 [==============================] - 0s 3ms/step - loss: 0.3352 - accuracy: 0.9269\n",
      "Epoch 95/150\n",
      "7/7 [==============================] - 0s 5ms/step - loss: 0.3290 - accuracy: 0.9255\n",
      "Epoch 96/150\n",
      "7/7 [==============================] - 0s 3ms/step - loss: 0.3309 - accuracy: 0.9233\n",
      "Epoch 97/150\n",
      "7/7 [==============================] - 0s 3ms/step - loss: 0.3192 - accuracy: 0.9281\n",
      "Epoch 98/150\n",
      "7/7 [==============================] - 0s 3ms/step - loss: 0.3089 - accuracy: 0.9352\n",
      "Epoch 99/150\n",
      "7/7 [==============================] - 0s 3ms/step - loss: 0.3031 - accuracy: 0.9317\n",
      "Epoch 100/150\n",
      "7/7 [==============================] - 0s 2ms/step - loss: 0.2984 - accuracy: 0.9375\n",
      "Epoch 101/150\n",
      "7/7 [==============================] - 0s 3ms/step - loss: 0.2931 - accuracy: 0.9369\n",
      "Epoch 102/150\n",
      "7/7 [==============================] - 0s 3ms/step - loss: 0.2861 - accuracy: 0.9414\n",
      "Epoch 103/150\n",
      "7/7 [==============================] - 0s 3ms/step - loss: 0.2786 - accuracy: 0.9436\n",
      "Epoch 104/150\n",
      "7/7 [==============================] - 0s 3ms/step - loss: 0.2713 - accuracy: 0.9438\n",
      "Epoch 105/150\n",
      "7/7 [==============================] - 0s 3ms/step - loss: 0.2637 - accuracy: 0.9477\n",
      "Epoch 106/150\n",
      "7/7 [==============================] - 0s 3ms/step - loss: 0.2590 - accuracy: 0.9492\n",
      "Epoch 107/150\n",
      "7/7 [==============================] - 0s 3ms/step - loss: 0.2571 - accuracy: 0.9505\n",
      "Epoch 108/150\n",
      "7/7 [==============================] - 0s 3ms/step - loss: 0.2489 - accuracy: 0.9541\n",
      "Epoch 109/150\n",
      "7/7 [==============================] - 0s 3ms/step - loss: 0.2429 - accuracy: 0.9547\n",
      "Epoch 110/150\n",
      "7/7 [==============================] - 0s 3ms/step - loss: 0.2368 - accuracy: 0.9558\n",
      "Epoch 111/150\n",
      "7/7 [==============================] - 0s 3ms/step - loss: 0.2303 - accuracy: 0.9580\n",
      "Epoch 112/150\n",
      "7/7 [==============================] - 0s 3ms/step - loss: 0.2258 - accuracy: 0.9616\n",
      "Epoch 113/150\n",
      "7/7 [==============================] - 0s 3ms/step - loss: 0.2210 - accuracy: 0.9619\n",
      "Epoch 114/150\n",
      "7/7 [==============================] - 0s 3ms/step - loss: 0.2175 - accuracy: 0.9639\n",
      "Epoch 115/150\n",
      "7/7 [==============================] - 0s 3ms/step - loss: 0.2117 - accuracy: 0.9653\n",
      "Epoch 116/150\n",
      "7/7 [==============================] - 0s 3ms/step - loss: 0.2066 - accuracy: 0.9658\n",
      "Epoch 117/150\n",
      "7/7 [==============================] - 0s 3ms/step - loss: 0.2041 - accuracy: 0.9669\n",
      "Epoch 118/150\n",
      "7/7 [==============================] - 0s 3ms/step - loss: 0.2005 - accuracy: 0.9675\n",
      "Epoch 119/150\n",
      "7/7 [==============================] - 0s 3ms/step - loss: 0.2029 - accuracy: 0.9641\n",
      "Epoch 120/150\n",
      "7/7 [==============================] - 0s 3ms/step - loss: 0.1979 - accuracy: 0.9656\n",
      "Epoch 121/150\n",
      "7/7 [==============================] - 0s 3ms/step - loss: 0.1887 - accuracy: 0.9720\n",
      "Epoch 122/150\n",
      "7/7 [==============================] - 0s 3ms/step - loss: 0.1855 - accuracy: 0.9731\n",
      "Epoch 123/150\n",
      "7/7 [==============================] - 0s 3ms/step - loss: 0.1801 - accuracy: 0.9736\n",
      "Epoch 124/150\n",
      "7/7 [==============================] - 0s 5ms/step - loss: 0.1767 - accuracy: 0.9745\n",
      "Epoch 125/150\n",
      "7/7 [==============================] - 0s 3ms/step - loss: 0.1716 - accuracy: 0.9766\n",
      "Epoch 126/150\n",
      "7/7 [==============================] - 0s 3ms/step - loss: 0.1666 - accuracy: 0.9789\n",
      "Epoch 127/150\n",
      "7/7 [==============================] - 0s 3ms/step - loss: 0.1634 - accuracy: 0.9789\n",
      "Epoch 128/150\n",
      "7/7 [==============================] - 0s 3ms/step - loss: 0.1611 - accuracy: 0.9797\n",
      "Epoch 129/150\n",
      "7/7 [==============================] - 0s 3ms/step - loss: 0.1578 - accuracy: 0.9819\n",
      "Epoch 130/150\n",
      "7/7 [==============================] - 0s 3ms/step - loss: 0.1541 - accuracy: 0.9825\n",
      "Epoch 131/150\n",
      "7/7 [==============================] - 0s 3ms/step - loss: 0.1506 - accuracy: 0.9834\n",
      "Epoch 132/150\n",
      "7/7 [==============================] - 0s 3ms/step - loss: 0.1464 - accuracy: 0.9839\n",
      "Epoch 133/150\n",
      "7/7 [==============================] - 0s 3ms/step - loss: 0.1429 - accuracy: 0.9847\n",
      "Epoch 134/150\n",
      "7/7 [==============================] - 0s 3ms/step - loss: 0.1392 - accuracy: 0.9850\n",
      "Epoch 135/150\n",
      "7/7 [==============================] - 0s 3ms/step - loss: 0.1366 - accuracy: 0.9858\n",
      "Epoch 136/150\n",
      "7/7 [==============================] - 0s 3ms/step - loss: 0.1342 - accuracy: 0.9866\n",
      "Epoch 137/150\n",
      "7/7 [==============================] - 0s 3ms/step - loss: 0.1323 - accuracy: 0.9864\n",
      "Epoch 138/150\n",
      "7/7 [==============================] - 0s 3ms/step - loss: 0.1281 - accuracy: 0.9892\n",
      "Epoch 139/150\n",
      "7/7 [==============================] - 0s 3ms/step - loss: 0.1254 - accuracy: 0.9881\n",
      "Epoch 140/150\n",
      "7/7 [==============================] - 0s 3ms/step - loss: 0.1231 - accuracy: 0.9886\n",
      "Epoch 141/150\n",
      "7/7 [==============================] - 0s 3ms/step - loss: 0.1215 - accuracy: 0.9903\n",
      "Epoch 142/150\n",
      "7/7 [==============================] - 0s 3ms/step - loss: 0.1179 - accuracy: 0.9898\n",
      "Epoch 143/150\n",
      "7/7 [==============================] - 0s 3ms/step - loss: 0.1152 - accuracy: 0.9917\n",
      "Epoch 144/150\n",
      "7/7 [==============================] - 0s 3ms/step - loss: 0.1131 - accuracy: 0.9906\n",
      "Epoch 145/150\n",
      "7/7 [==============================] - 0s 3ms/step - loss: 0.1102 - accuracy: 0.9917\n",
      "Epoch 146/150\n",
      "7/7 [==============================] - 0s 3ms/step - loss: 0.1080 - accuracy: 0.9930\n",
      "Epoch 147/150\n",
      "7/7 [==============================] - 0s 3ms/step - loss: 0.1060 - accuracy: 0.9933\n",
      "Epoch 148/150\n",
      "7/7 [==============================] - 0s 3ms/step - loss: 0.1043 - accuracy: 0.9937\n",
      "Epoch 149/150\n",
      "7/7 [==============================] - 0s 3ms/step - loss: 0.1011 - accuracy: 0.9945\n",
      "Epoch 150/150\n",
      "7/7 [==============================] - 0s 4ms/step - loss: 0.0995 - accuracy: 0.9936\n"
     ]
    },
    {
     "data": {
      "text/plain": [
       "<keras.callbacks.History at 0x1876848b0>"
      ]
     },
     "execution_count": 139,
     "metadata": {},
     "output_type": "execute_result"
    }
   ],
   "source": [
    "# create and train the model\n",
    "fdm = FiveDollarModel(X_train.shape[1])\n",
    "fdm.decoder.fit(X_train,Y_train,epochs=150,verbose=1,shuffle=True,batch_size=16)"
   ]
  },
  {
   "cell_type": "code",
   "execution_count": 145,
   "metadata": {},
   "outputs": [
    {
     "name": "stdout",
     "output_type": "stream",
     "text": [
      "a blue turtle standing up\n"
     ]
    },
    {
     "data": {
      "image/png": "[encoded data removed]",
      "text/plain": [
       "<Figure size 200x200 with 1 Axes>"
      ]
     },
     "metadata": {},
     "output_type": "display_data"
    },
    {
     "name": "stdout",
     "output_type": "stream",
     "text": [
      "a woman with green hair\n"
     ]
    },
    {
     "data": {
      "image/png": "[encoded data removed]",
      "text/plain": [
       "<Figure size 200x200 with 1 Axes>"
      ]
     },
     "metadata": {},
     "output_type": "display_data"
    },
    {
     "name": "stdout",
     "output_type": "stream",
     "text": [
      "a duck with a yellow shirt\n"
     ]
    },
    {
     "data": {
      "image/png": "[encoded data removed]",
      "text/plain": [
       "<Figure size 200x200 with 1 Axes>"
      ]
     },
     "metadata": {},
     "output_type": "display_data"
    },
    {
     "name": "stdout",
     "output_type": "stream",
     "text": [
      "a white duck with a green outfit and a green hat\n"
     ]
    },
    {
     "data": {
      "image/png": "[encoded data removed]",
      "text/plain": [
       "<Figure size 200x200 with 1 Axes>"
      ]
     },
     "metadata": {},
     "output_type": "display_data"
    },
    {
     "name": "stdout",
     "output_type": "stream",
     "text": [
      "a yellow dog standing\n"
     ]
    },
    {
     "data": {
      "image/png": "[encoded data removed]",
      "text/plain": [
       "<Figure size 200x200 with 1 Axes>"
      ]
     },
     "metadata": {},
     "output_type": "display_data"
    },
    {
     "name": "stdout",
     "output_type": "stream",
     "text": [
      "a man with a mustache and large pink nose dressed in yellow\n"
     ]
    },
    {
     "data": {
      "image/png": "[encoded data removed]",
      "text/plain": [
       "<Figure size 200x200 with 1 Axes>"
      ]
     },
     "metadata": {},
     "output_type": "display_data"
    }
   ],
   "source": [
    "# test the model on unseen data\n",
    "test_char_desc = [\"a blue turtle standing up\", \"a woman with green hair\", \"a duck with a yellow shirt\"]\n",
    "seen_char_desc = random.sample(list(pico_char_labels), k=3)\n",
    "\n",
    "for desc in test_char_desc:\n",
    "    print(desc)\n",
    "    showSprPalette(fdm.txt2img(desc))\n",
    "\n",
    "for desc in seen_char_desc:\n",
    "    print(desc)\n",
    "    showSprPalette(fdm.txt2img(desc))"
   ]
  },
  {
   "attachments": {},
   "cell_type": "markdown",
   "metadata": {},
   "source": [
    "#### Sanity generalization check with pure shapes"
   ]
  },
  {
   "cell_type": "code",
   "execution_count": 181,
   "metadata": {},
   "outputs": [],
   "source": [
    "#import from Python folder to get the utils\n",
    "import sys\n",
    "sys.path.append('../Python')\n",
    "import utils\n",
    "\n",
    "# import importlib\n",
    "# importlib.reload(utils)\n",
    "\n",
    "\n",
    "# import the shapes spritesheet\n",
    "shapes_spr_dat = utils.picoSS2np('../data/rip_data/colors.png')"
   ]
  },
  {
   "cell_type": "code",
   "execution_count": 212,
   "metadata": {},
   "outputs": [
    {
     "name": "stdout",
     "output_type": "stream",
     "text": [
      "(64, 8, 8)\n",
      "blue small square\n"
     ]
    },
    {
     "data": {
      "image/png": "[encoded data removed]",
      "text/plain": [
       "<Figure size 200x200 with 1 Axes>"
      ]
     },
     "metadata": {},
     "output_type": "display_data"
    }
   ],
   "source": [
    "colors = [\"red\", \"orange\", \"yellow\", \"green\", \"blue\", \"purple\", \"pink\", \"white\"]\n",
    "size = [\"large\", \"small\"]\n",
    "shapes = [\"square\", \"triangle\", \"circle\", \"line\"]\n",
    "squares = shapes_spr_dat[0:16]\n",
    "triangles = shapes_spr_dat[16:32]\n",
    "circles = shapes_spr_dat[32:48]\n",
    "lines = shapes_spr_dat[48:64]\n",
    "\n",
    "#label and encode\n",
    "shape_imgs = np.concatenate([squares,triangles,circles,lines],axis=0)\n",
    "print(shape_imgs.shape) #should be (64,8,8)\n",
    "shape_imgs_1h = np.array([encodeSpr1H(s) for s in shape_imgs])\n",
    "shape_labels = np.array([f\"{c} {z} {s}\" for s in shapes for z in size for c in colors])\n",
    "\n",
    "rand_shape = random.randint(0,len(shape_labels))\n",
    "print(f\"{shape_labels[rand_shape]}\")\n",
    "showSprPalette(shape_imgs[rand_shape])"
   ]
  },
  {
   "cell_type": "code",
   "execution_count": 285,
   "metadata": {},
   "outputs": [
    {
     "name": "stdout",
     "output_type": "stream",
     "text": [
      "Test Set: [13, 16, 42, 51]\n"
     ]
    },
    {
     "data": {
      "image/png": "[encoded data removed]",
      "text/plain": [
       "<Figure size 2000x700 with 4 Axes>"
      ]
     },
     "metadata": {},
     "output_type": "display_data"
    }
   ],
   "source": [
    "# train on the shapes (leave out some for testing)\n",
    "test_index = []\n",
    "for i in range(4):\n",
    "    test_index.append(random.randint(i*16,(i+1)*16))\n",
    "train_index = [i for i in range(len(shape_labels)) if i not in test_index]\n",
    "\n",
    "X_shape_train = np.array([sentEmb(l) for l in shape_labels[train_index]])\n",
    "Y_shape_train = shape_imgs_1h[train_index]\n",
    "\n",
    "X_shape_test = shape_labels[test_index]\n",
    "Y_shape_test = shape_imgs_1h[test_index]\n",
    "\n",
    "print(f\"Test Set: {test_index}\")\n",
    "showMultiSprPalette([decodeSpr1H(i) for i in Y_shape_test])"
   ]
  },
  {
   "cell_type": "code",
   "execution_count": 286,
   "metadata": {},
   "outputs": [],
   "source": [
    "# like $5 model but bigger\n",
    "class TenDollarModel(Model):\n",
    "    def __init__(self,lv_shape,embedder=SBERT_MODEL):\n",
    "        super(TenDollarModel, self).__init__()\n",
    "        self.embedder = embedder\n",
    "        self.decoder = Sequential([\n",
    "            InputLayer(input_shape=(lv_shape,)),\n",
    "            Dense(512,activation='relu'),\n",
    "            Dense(256,activation='relu'),\n",
    "            Dense(128,activation='relu'),\n",
    "            Dense(64,activation='relu'),\n",
    "            Reshape((1,1,64)),\n",
    "            Conv2DTranspose(64, (2,2), strides=(2,2), padding='same', activation=LeakyReLU()),\n",
    "            Conv2DTranspose(32, (2,2), strides=(2,2), padding='same', activation=LeakyReLU()),\n",
    "            Conv2DTranspose(16, (2,2), strides=(2,2), padding='same', activation='softmax')     # should output to a 8x8x16 one-hot encoded image\n",
    "        ])\n",
    "        \n",
    "        self.decoder.summary()\n",
    "        self.decoder.compile(optimizer='adam', loss='categorical_crossentropy', metrics=['accuracy'])\n",
    "\n",
    "    # embeds the text and returns an image\n",
    "    def txt2img(self,txt,uncode=True):\n",
    "        emb = self.embedder.encode([txt])\n",
    "        img = self.decoder.predict(np.array(emb),verbose=False)[0]\n",
    "        if uncode:\n",
    "            return decodeSpr1H(img)\n",
    "        else:\n",
    "            return img"
   ]
  },
  {
   "cell_type": "code",
   "execution_count": 311,
   "metadata": {},
   "outputs": [
    {
     "name": "stdout",
     "output_type": "stream",
     "text": [
      "Model: \"sequential_48\"\n",
      "_________________________________________________________________\n",
      " Layer (type)                Output Shape              Param #   \n",
      "=================================================================\n",
      " dense_80 (Dense)            (None, 256)               196864    \n",
      "                                                                 \n",
      " reshape_48 (Reshape)        (None, 2, 2, 64)          0         \n",
      "                                                                 \n",
      " conv2d_transpose_124 (Conv2  (None, 4, 4, 32)         8224      \n",
      " DTranspose)                                                     \n",
      "                                                                 \n",
      " conv2d_transpose_125 (Conv2  (None, 8, 8, 16)         2064      \n",
      " DTranspose)                                                     \n",
      "                                                                 \n",
      "=================================================================\n",
      "Total params: 207,152\n",
      "Trainable params: 207,152\n",
      "Non-trainable params: 0\n",
      "_________________________________________________________________\n",
      "Epoch 1/200\n",
      "8/8 [==============================] - 1s 3ms/step - loss: 2.6528 - accuracy: 0.1797\n",
      "Epoch 2/200\n",
      "8/8 [==============================] - 0s 3ms/step - loss: 2.2433 - accuracy: 0.4099\n",
      "Epoch 3/200\n",
      "8/8 [==============================] - 0s 3ms/step - loss: 1.7844 - accuracy: 0.5451\n",
      "Epoch 4/200\n",
      "8/8 [==============================] - 0s 3ms/step - loss: 1.5404 - accuracy: 0.5844\n",
      "Epoch 5/200\n",
      "8/8 [==============================] - 0s 3ms/step - loss: 1.3617 - accuracy: 0.5945\n",
      "Epoch 6/200\n",
      "8/8 [==============================] - 0s 3ms/step - loss: 1.2649 - accuracy: 0.6091\n",
      "Epoch 7/200\n",
      "8/8 [==============================] - 0s 3ms/step - loss: 1.1720 - accuracy: 0.6206\n",
      "Epoch 8/200\n",
      "8/8 [==============================] - 0s 3ms/step - loss: 1.0961 - accuracy: 0.6318\n",
      "Epoch 9/200\n",
      "8/8 [==============================] - 0s 3ms/step - loss: 1.0125 - accuracy: 0.6586\n",
      "Epoch 10/200\n",
      "8/8 [==============================] - 0s 3ms/step - loss: 0.9344 - accuracy: 0.6818\n",
      "Epoch 11/200\n",
      "8/8 [==============================] - 0s 3ms/step - loss: 0.8602 - accuracy: 0.7091\n",
      "Epoch 12/200\n",
      "8/8 [==============================] - 0s 3ms/step - loss: 0.7812 - accuracy: 0.7328\n",
      "Epoch 13/200\n",
      "8/8 [==============================] - 0s 3ms/step - loss: 0.6945 - accuracy: 0.7779\n",
      "Epoch 14/200\n",
      "8/8 [==============================] - 0s 3ms/step - loss: 0.6197 - accuracy: 0.8104\n",
      "Epoch 15/200\n",
      "8/8 [==============================] - 0s 3ms/step - loss: 0.5519 - accuracy: 0.8430\n",
      "Epoch 16/200\n",
      "8/8 [==============================] - 0s 3ms/step - loss: 0.4861 - accuracy: 0.8737\n",
      "Epoch 17/200\n",
      "8/8 [==============================] - 0s 3ms/step - loss: 0.4274 - accuracy: 0.8927\n",
      "Epoch 18/200\n",
      "8/8 [==============================] - 0s 3ms/step - loss: 0.3795 - accuracy: 0.9031\n",
      "Epoch 19/200\n",
      "8/8 [==============================] - 0s 3ms/step - loss: 0.3306 - accuracy: 0.9289\n",
      "Epoch 20/200\n",
      "8/8 [==============================] - 0s 3ms/step - loss: 0.2803 - accuracy: 0.9430\n",
      "Epoch 21/200\n",
      "8/8 [==============================] - 0s 3ms/step - loss: 0.2419 - accuracy: 0.9578\n",
      "Epoch 22/200\n",
      "8/8 [==============================] - 0s 3ms/step - loss: 0.2105 - accuracy: 0.9732\n",
      "Epoch 23/200\n",
      "8/8 [==============================] - 0s 3ms/step - loss: 0.1796 - accuracy: 0.9815\n",
      "Epoch 24/200\n",
      "8/8 [==============================] - 0s 3ms/step - loss: 0.1580 - accuracy: 0.9841\n",
      "Epoch 25/200\n",
      "8/8 [==============================] - 0s 3ms/step - loss: 0.1405 - accuracy: 0.9810\n",
      "Epoch 26/200\n",
      "8/8 [==============================] - 0s 4ms/step - loss: 0.1225 - accuracy: 0.9909\n",
      "Epoch 27/200\n",
      "8/8 [==============================] - 0s 3ms/step - loss: 0.1070 - accuracy: 0.9906\n",
      "Epoch 28/200\n",
      "8/8 [==============================] - 0s 3ms/step - loss: 0.0941 - accuracy: 0.9937\n",
      "Epoch 29/200\n",
      "8/8 [==============================] - 0s 3ms/step - loss: 0.0840 - accuracy: 0.9935\n",
      "Epoch 30/200\n",
      "8/8 [==============================] - 0s 3ms/step - loss: 0.0743 - accuracy: 0.9958\n",
      "Epoch 31/200\n",
      "8/8 [==============================] - 1s 85ms/step - loss: 0.0677 - accuracy: 0.9958\n",
      "Epoch 32/200\n",
      "8/8 [==============================] - 0s 3ms/step - loss: 0.0593 - accuracy: 0.9969\n",
      "Epoch 33/200\n",
      "8/8 [==============================] - 0s 3ms/step - loss: 0.0539 - accuracy: 0.9974\n",
      "Epoch 34/200\n",
      "8/8 [==============================] - 0s 3ms/step - loss: 0.0488 - accuracy: 0.9977\n",
      "Epoch 35/200\n",
      "8/8 [==============================] - 0s 3ms/step - loss: 0.0447 - accuracy: 0.9987\n",
      "Epoch 36/200\n",
      "8/8 [==============================] - 0s 3ms/step - loss: 0.0409 - accuracy: 0.9990\n",
      "Epoch 37/200\n",
      "8/8 [==============================] - 0s 3ms/step - loss: 0.0368 - accuracy: 0.9997\n",
      "Epoch 38/200\n",
      "8/8 [==============================] - 0s 3ms/step - loss: 0.0340 - accuracy: 0.9992\n",
      "Epoch 39/200\n",
      "8/8 [==============================] - 0s 3ms/step - loss: 0.0315 - accuracy: 0.9997\n",
      "Epoch 40/200\n",
      "8/8 [==============================] - 0s 14ms/step - loss: 0.0289 - accuracy: 0.9997\n",
      "Epoch 41/200\n",
      "8/8 [==============================] - 0s 2ms/step - loss: 0.0267 - accuracy: 0.9997\n",
      "Epoch 42/200\n",
      "8/8 [==============================] - 0s 2ms/step - loss: 0.0250 - accuracy: 0.9995\n",
      "Epoch 43/200\n",
      "8/8 [==============================] - 0s 3ms/step - loss: 0.0237 - accuracy: 0.9997\n",
      "Epoch 44/200\n",
      "8/8 [==============================] - 0s 3ms/step - loss: 0.0221 - accuracy: 0.9997\n",
      "Epoch 45/200\n",
      "8/8 [==============================] - 0s 3ms/step - loss: 0.0205 - accuracy: 0.9997\n",
      "Epoch 46/200\n",
      "8/8 [==============================] - 0s 2ms/step - loss: 0.0193 - accuracy: 1.0000\n",
      "Epoch 47/200\n",
      "8/8 [==============================] - 0s 3ms/step - loss: 0.0182 - accuracy: 1.0000\n",
      "Epoch 48/200\n",
      "8/8 [==============================] - 0s 3ms/step - loss: 0.0171 - accuracy: 0.9997\n",
      "Epoch 49/200\n",
      "8/8 [==============================] - 0s 3ms/step - loss: 0.0164 - accuracy: 1.0000\n",
      "Epoch 50/200\n",
      "8/8 [==============================] - 0s 3ms/step - loss: 0.0153 - accuracy: 1.0000\n",
      "Epoch 51/200\n",
      "8/8 [==============================] - 0s 3ms/step - loss: 0.0147 - accuracy: 0.9997\n",
      "Epoch 52/200\n",
      "8/8 [==============================] - 0s 3ms/step - loss: 0.0140 - accuracy: 1.0000\n",
      "Epoch 53/200\n",
      "8/8 [==============================] - 0s 3ms/step - loss: 0.0131 - accuracy: 1.0000\n",
      "Epoch 54/200\n",
      "8/8 [==============================] - 0s 3ms/step - loss: 0.0125 - accuracy: 1.0000\n",
      "Epoch 55/200\n",
      "8/8 [==============================] - 0s 3ms/step - loss: 0.0118 - accuracy: 1.0000\n",
      "Epoch 56/200\n",
      "8/8 [==============================] - 0s 3ms/step - loss: 0.0113 - accuracy: 1.0000\n",
      "Epoch 57/200\n",
      "8/8 [==============================] - 0s 3ms/step - loss: 0.0108 - accuracy: 1.0000\n",
      "Epoch 58/200\n",
      "8/8 [==============================] - 0s 3ms/step - loss: 0.0103 - accuracy: 1.0000\n",
      "Epoch 59/200\n",
      "8/8 [==============================] - 0s 3ms/step - loss: 0.0097 - accuracy: 1.0000\n",
      "Epoch 60/200\n",
      "8/8 [==============================] - 0s 3ms/step - loss: 0.0093 - accuracy: 1.0000\n",
      "Epoch 61/200\n",
      "8/8 [==============================] - 0s 3ms/step - loss: 0.0089 - accuracy: 1.0000\n",
      "Epoch 62/200\n",
      "8/8 [==============================] - 0s 3ms/step - loss: 0.0085 - accuracy: 1.0000\n",
      "Epoch 63/200\n",
      "8/8 [==============================] - 0s 3ms/step - loss: 0.0082 - accuracy: 1.0000\n",
      "Epoch 64/200\n",
      "8/8 [==============================] - 0s 3ms/step - loss: 0.0079 - accuracy: 1.0000\n",
      "Epoch 65/200\n",
      "8/8 [==============================] - 0s 3ms/step - loss: 0.0077 - accuracy: 1.0000\n",
      "Epoch 66/200\n",
      "8/8 [==============================] - 0s 3ms/step - loss: 0.0073 - accuracy: 1.0000\n",
      "Epoch 67/200\n",
      "8/8 [==============================] - 0s 4ms/step - loss: 0.0070 - accuracy: 1.0000\n",
      "Epoch 68/200\n",
      "8/8 [==============================] - 0s 3ms/step - loss: 0.0068 - accuracy: 1.0000\n",
      "Epoch 69/200\n",
      "8/8 [==============================] - 0s 3ms/step - loss: 0.0065 - accuracy: 1.0000\n",
      "Epoch 70/200\n",
      "8/8 [==============================] - 0s 3ms/step - loss: 0.0063 - accuracy: 1.0000\n",
      "Epoch 71/200\n",
      "8/8 [==============================] - 0s 3ms/step - loss: 0.0060 - accuracy: 1.0000\n",
      "Epoch 72/200\n",
      "8/8 [==============================] - 0s 3ms/step - loss: 0.0058 - accuracy: 1.0000\n",
      "Epoch 73/200\n",
      "8/8 [==============================] - 0s 3ms/step - loss: 0.0057 - accuracy: 1.0000\n",
      "Epoch 74/200\n",
      "8/8 [==============================] - 0s 3ms/step - loss: 0.0055 - accuracy: 1.0000\n",
      "Epoch 75/200\n",
      "8/8 [==============================] - 0s 3ms/step - loss: 0.0053 - accuracy: 1.0000\n",
      "Epoch 76/200\n",
      "8/8 [==============================] - 0s 3ms/step - loss: 0.0051 - accuracy: 1.0000\n",
      "Epoch 77/200\n",
      "8/8 [==============================] - 0s 3ms/step - loss: 0.0050 - accuracy: 1.0000\n",
      "Epoch 78/200\n",
      "8/8 [==============================] - 0s 3ms/step - loss: 0.0049 - accuracy: 1.0000\n",
      "Epoch 79/200\n",
      "8/8 [==============================] - 0s 3ms/step - loss: 0.0046 - accuracy: 1.0000\n",
      "Epoch 80/200\n",
      "8/8 [==============================] - 0s 3ms/step - loss: 0.0045 - accuracy: 1.0000\n",
      "Epoch 81/200\n",
      "8/8 [==============================] - 0s 3ms/step - loss: 0.0044 - accuracy: 1.0000\n",
      "Epoch 82/200\n",
      "8/8 [==============================] - 0s 3ms/step - loss: 0.0042 - accuracy: 1.0000\n",
      "Epoch 83/200\n",
      "8/8 [==============================] - 0s 3ms/step - loss: 0.0041 - accuracy: 1.0000\n",
      "Epoch 84/200\n",
      "8/8 [==============================] - 0s 3ms/step - loss: 0.0040 - accuracy: 1.0000\n",
      "Epoch 85/200\n",
      "8/8 [==============================] - 0s 3ms/step - loss: 0.0039 - accuracy: 1.0000\n",
      "Epoch 86/200\n",
      "8/8 [==============================] - 0s 3ms/step - loss: 0.0038 - accuracy: 1.0000\n",
      "Epoch 87/200\n",
      "8/8 [==============================] - 0s 3ms/step - loss: 0.0037 - accuracy: 1.0000\n",
      "Epoch 88/200\n",
      "8/8 [==============================] - 0s 3ms/step - loss: 0.0036 - accuracy: 1.0000\n",
      "Epoch 89/200\n",
      "8/8 [==============================] - 0s 3ms/step - loss: 0.0035 - accuracy: 1.0000\n",
      "Epoch 90/200\n",
      "8/8 [==============================] - 0s 3ms/step - loss: 0.0034 - accuracy: 1.0000\n",
      "Epoch 91/200\n",
      "8/8 [==============================] - 0s 3ms/step - loss: 0.0033 - accuracy: 1.0000\n",
      "Epoch 92/200\n",
      "8/8 [==============================] - 0s 3ms/step - loss: 0.0033 - accuracy: 1.0000\n",
      "Epoch 93/200\n",
      "8/8 [==============================] - 0s 3ms/step - loss: 0.0031 - accuracy: 1.0000\n",
      "Epoch 94/200\n",
      "8/8 [==============================] - 0s 3ms/step - loss: 0.0031 - accuracy: 1.0000\n",
      "Epoch 95/200\n",
      "8/8 [==============================] - 0s 3ms/step - loss: 0.0030 - accuracy: 1.0000\n",
      "Epoch 96/200\n",
      "8/8 [==============================] - 0s 3ms/step - loss: 0.0029 - accuracy: 1.0000\n",
      "Epoch 97/200\n",
      "8/8 [==============================] - 0s 3ms/step - loss: 0.0028 - accuracy: 1.0000\n",
      "Epoch 98/200\n",
      "8/8 [==============================] - 0s 3ms/step - loss: 0.0028 - accuracy: 1.0000\n",
      "Epoch 99/200\n",
      "8/8 [==============================] - 0s 3ms/step - loss: 0.0027 - accuracy: 1.0000\n",
      "Epoch 100/200\n",
      "8/8 [==============================] - 0s 3ms/step - loss: 0.0027 - accuracy: 1.0000\n",
      "Epoch 101/200\n",
      "8/8 [==============================] - 0s 3ms/step - loss: 0.0026 - accuracy: 1.0000\n",
      "Epoch 102/200\n",
      "8/8 [==============================] - 0s 3ms/step - loss: 0.0026 - accuracy: 1.0000\n",
      "Epoch 103/200\n",
      "8/8 [==============================] - 0s 3ms/step - loss: 0.0025 - accuracy: 1.0000\n",
      "Epoch 104/200\n",
      "8/8 [==============================] - 0s 3ms/step - loss: 0.0024 - accuracy: 1.0000\n",
      "Epoch 105/200\n",
      "8/8 [==============================] - 0s 3ms/step - loss: 0.0024 - accuracy: 1.0000\n",
      "Epoch 106/200\n",
      "8/8 [==============================] - 0s 3ms/step - loss: 0.0023 - accuracy: 1.0000\n",
      "Epoch 107/200\n",
      "8/8 [==============================] - 0s 3ms/step - loss: 0.0023 - accuracy: 1.0000\n",
      "Epoch 108/200\n",
      "8/8 [==============================] - 0s 3ms/step - loss: 0.0022 - accuracy: 1.0000\n",
      "Epoch 109/200\n",
      "8/8 [==============================] - 0s 3ms/step - loss: 0.0022 - accuracy: 1.0000\n",
      "Epoch 110/200\n",
      "8/8 [==============================] - 0s 3ms/step - loss: 0.0021 - accuracy: 1.0000\n",
      "Epoch 111/200\n",
      "8/8 [==============================] - 0s 3ms/step - loss: 0.0021 - accuracy: 1.0000\n",
      "Epoch 112/200\n",
      "8/8 [==============================] - 0s 3ms/step - loss: 0.0020 - accuracy: 1.0000\n",
      "Epoch 113/200\n",
      "8/8 [==============================] - 0s 3ms/step - loss: 0.0020 - accuracy: 1.0000\n",
      "Epoch 114/200\n",
      "8/8 [==============================] - 0s 3ms/step - loss: 0.0020 - accuracy: 1.0000\n",
      "Epoch 115/200\n",
      "8/8 [==============================] - 0s 4ms/step - loss: 0.0019 - accuracy: 1.0000\n",
      "Epoch 116/200\n",
      "8/8 [==============================] - 0s 3ms/step - loss: 0.0019 - accuracy: 1.0000\n",
      "Epoch 117/200\n",
      "8/8 [==============================] - 0s 3ms/step - loss: 0.0018 - accuracy: 1.0000\n",
      "Epoch 118/200\n",
      "8/8 [==============================] - 0s 3ms/step - loss: 0.0018 - accuracy: 1.0000\n",
      "Epoch 119/200\n",
      "8/8 [==============================] - 0s 3ms/step - loss: 0.0018 - accuracy: 1.0000\n",
      "Epoch 120/200\n",
      "8/8 [==============================] - 0s 3ms/step - loss: 0.0017 - accuracy: 1.0000\n",
      "Epoch 121/200\n",
      "8/8 [==============================] - 0s 3ms/step - loss: 0.0017 - accuracy: 1.0000\n",
      "Epoch 122/200\n",
      "8/8 [==============================] - 0s 2ms/step - loss: 0.0017 - accuracy: 1.0000\n",
      "Epoch 123/200\n",
      "8/8 [==============================] - 0s 4ms/step - loss: 0.0016 - accuracy: 1.0000\n",
      "Epoch 124/200\n",
      "8/8 [==============================] - 0s 2ms/step - loss: 0.0016 - accuracy: 1.0000\n",
      "Epoch 125/200\n",
      "8/8 [==============================] - 0s 2ms/step - loss: 0.0016 - accuracy: 1.0000\n",
      "Epoch 126/200\n",
      "8/8 [==============================] - 0s 2ms/step - loss: 0.0016 - accuracy: 1.0000\n",
      "Epoch 127/200\n",
      "8/8 [==============================] - 0s 2ms/step - loss: 0.0015 - accuracy: 1.0000\n",
      "Epoch 128/200\n",
      "8/8 [==============================] - 0s 2ms/step - loss: 0.0015 - accuracy: 1.0000\n",
      "Epoch 129/200\n",
      "8/8 [==============================] - 0s 3ms/step - loss: 0.0015 - accuracy: 1.0000\n",
      "Epoch 130/200\n",
      "8/8 [==============================] - 0s 3ms/step - loss: 0.0015 - accuracy: 1.0000\n",
      "Epoch 131/200\n",
      "8/8 [==============================] - 0s 2ms/step - loss: 0.0014 - accuracy: 1.0000\n",
      "Epoch 132/200\n",
      "8/8 [==============================] - 0s 3ms/step - loss: 0.0014 - accuracy: 1.0000\n",
      "Epoch 133/200\n",
      "8/8 [==============================] - 0s 3ms/step - loss: 0.0014 - accuracy: 1.0000\n",
      "Epoch 134/200\n",
      "8/8 [==============================] - 0s 3ms/step - loss: 0.0014 - accuracy: 1.0000\n",
      "Epoch 135/200\n",
      "8/8 [==============================] - 0s 3ms/step - loss: 0.0013 - accuracy: 1.0000\n",
      "Epoch 136/200\n",
      "8/8 [==============================] - 0s 3ms/step - loss: 0.0013 - accuracy: 1.0000\n",
      "Epoch 137/200\n",
      "8/8 [==============================] - 0s 3ms/step - loss: 0.0013 - accuracy: 1.0000\n",
      "Epoch 138/200\n",
      "8/8 [==============================] - 0s 3ms/step - loss: 0.0013 - accuracy: 1.0000\n",
      "Epoch 139/200\n",
      "8/8 [==============================] - 0s 3ms/step - loss: 0.0012 - accuracy: 1.0000\n",
      "Epoch 140/200\n",
      "8/8 [==============================] - 0s 2ms/step - loss: 0.0012 - accuracy: 1.0000\n",
      "Epoch 141/200\n",
      "8/8 [==============================] - 0s 3ms/step - loss: 0.0012 - accuracy: 1.0000\n",
      "Epoch 142/200\n",
      "8/8 [==============================] - 0s 3ms/step - loss: 0.0012 - accuracy: 1.0000\n",
      "Epoch 143/200\n",
      "8/8 [==============================] - 0s 3ms/step - loss: 0.0012 - accuracy: 1.0000\n",
      "Epoch 144/200\n",
      "8/8 [==============================] - 0s 3ms/step - loss: 0.0011 - accuracy: 1.0000\n",
      "Epoch 145/200\n",
      "8/8 [==============================] - 0s 2ms/step - loss: 0.0011 - accuracy: 1.0000\n",
      "Epoch 146/200\n",
      "8/8 [==============================] - 0s 2ms/step - loss: 0.0011 - accuracy: 1.0000\n",
      "Epoch 147/200\n",
      "8/8 [==============================] - 0s 3ms/step - loss: 0.0011 - accuracy: 1.0000\n",
      "Epoch 148/200\n",
      "8/8 [==============================] - 0s 3ms/step - loss: 0.0011 - accuracy: 1.0000\n",
      "Epoch 149/200\n",
      "8/8 [==============================] - 0s 3ms/step - loss: 0.0011 - accuracy: 1.0000\n",
      "Epoch 150/200\n",
      "8/8 [==============================] - 0s 3ms/step - loss: 0.0010 - accuracy: 1.0000\n",
      "Epoch 151/200\n",
      "8/8 [==============================] - 0s 3ms/step - loss: 0.0010 - accuracy: 1.0000\n",
      "Epoch 152/200\n",
      "8/8 [==============================] - 0s 3ms/step - loss: 0.0010 - accuracy: 1.0000\n",
      "Epoch 153/200\n",
      "8/8 [==============================] - 0s 3ms/step - loss: 9.9664e-04 - accuracy: 1.0000\n",
      "Epoch 154/200\n",
      "8/8 [==============================] - 0s 3ms/step - loss: 9.8282e-04 - accuracy: 1.0000\n",
      "Epoch 155/200\n",
      "8/8 [==============================] - 0s 5ms/step - loss: 9.6875e-04 - accuracy: 1.0000\n",
      "Epoch 156/200\n",
      "8/8 [==============================] - 0s 3ms/step - loss: 9.5451e-04 - accuracy: 1.0000\n",
      "Epoch 157/200\n",
      "8/8 [==============================] - 0s 2ms/step - loss: 9.4121e-04 - accuracy: 1.0000\n",
      "Epoch 158/200\n",
      "8/8 [==============================] - 0s 2ms/step - loss: 9.2946e-04 - accuracy: 1.0000\n",
      "Epoch 159/200\n",
      "8/8 [==============================] - 0s 3ms/step - loss: 9.1526e-04 - accuracy: 1.0000\n",
      "Epoch 160/200\n",
      "8/8 [==============================] - 0s 3ms/step - loss: 9.0098e-04 - accuracy: 1.0000\n",
      "Epoch 161/200\n",
      "8/8 [==============================] - 0s 3ms/step - loss: 8.8800e-04 - accuracy: 1.0000\n",
      "Epoch 162/200\n",
      "8/8 [==============================] - 0s 3ms/step - loss: 8.7633e-04 - accuracy: 1.0000\n",
      "Epoch 163/200\n",
      "8/8 [==============================] - 0s 2ms/step - loss: 8.6287e-04 - accuracy: 1.0000\n",
      "Epoch 164/200\n",
      "8/8 [==============================] - 0s 2ms/step - loss: 8.5260e-04 - accuracy: 1.0000\n",
      "Epoch 165/200\n",
      "8/8 [==============================] - 0s 3ms/step - loss: 8.3850e-04 - accuracy: 1.0000\n",
      "Epoch 166/200\n",
      "8/8 [==============================] - 0s 2ms/step - loss: 8.2921e-04 - accuracy: 1.0000\n",
      "Epoch 167/200\n",
      "8/8 [==============================] - 0s 14ms/step - loss: 8.1704e-04 - accuracy: 1.0000\n",
      "Epoch 168/200\n",
      "8/8 [==============================] - 0s 4ms/step - loss: 8.0429e-04 - accuracy: 1.0000\n",
      "Epoch 169/200\n",
      "8/8 [==============================] - 0s 3ms/step - loss: 7.9896e-04 - accuracy: 1.0000\n",
      "Epoch 170/200\n",
      "8/8 [==============================] - 0s 3ms/step - loss: 7.8387e-04 - accuracy: 1.0000\n",
      "Epoch 171/200\n",
      "8/8 [==============================] - 0s 3ms/step - loss: 7.7454e-04 - accuracy: 1.0000\n",
      "Epoch 172/200\n",
      "8/8 [==============================] - 0s 3ms/step - loss: 7.6156e-04 - accuracy: 1.0000\n",
      "Epoch 173/200\n",
      "8/8 [==============================] - 0s 3ms/step - loss: 7.5051e-04 - accuracy: 1.0000\n",
      "Epoch 174/200\n",
      "8/8 [==============================] - 0s 3ms/step - loss: 7.4184e-04 - accuracy: 1.0000\n",
      "Epoch 175/200\n",
      "8/8 [==============================] - 0s 3ms/step - loss: 7.3169e-04 - accuracy: 1.0000\n",
      "Epoch 176/200\n",
      "8/8 [==============================] - 0s 3ms/step - loss: 7.2300e-04 - accuracy: 1.0000\n",
      "Epoch 177/200\n",
      "8/8 [==============================] - 0s 3ms/step - loss: 7.1312e-04 - accuracy: 1.0000\n",
      "Epoch 178/200\n",
      "8/8 [==============================] - 0s 3ms/step - loss: 7.0445e-04 - accuracy: 1.0000\n",
      "Epoch 179/200\n",
      "8/8 [==============================] - 0s 3ms/step - loss: 6.9391e-04 - accuracy: 1.0000\n",
      "Epoch 180/200\n",
      "8/8 [==============================] - 0s 4ms/step - loss: 6.8552e-04 - accuracy: 1.0000\n",
      "Epoch 181/200\n",
      "8/8 [==============================] - 0s 3ms/step - loss: 6.7751e-04 - accuracy: 1.0000\n",
      "Epoch 182/200\n",
      "8/8 [==============================] - 0s 3ms/step - loss: 6.7016e-04 - accuracy: 1.0000\n",
      "Epoch 183/200\n",
      "8/8 [==============================] - 0s 4ms/step - loss: 6.5943e-04 - accuracy: 1.0000\n",
      "Epoch 184/200\n",
      "8/8 [==============================] - 0s 3ms/step - loss: 6.5309e-04 - accuracy: 1.0000\n",
      "Epoch 185/200\n",
      "8/8 [==============================] - 0s 3ms/step - loss: 6.4361e-04 - accuracy: 1.0000\n",
      "Epoch 186/200\n",
      "8/8 [==============================] - 0s 3ms/step - loss: 6.3511e-04 - accuracy: 1.0000\n",
      "Epoch 187/200\n",
      "8/8 [==============================] - 0s 3ms/step - loss: 6.2810e-04 - accuracy: 1.0000\n",
      "Epoch 188/200\n",
      "8/8 [==============================] - 0s 5ms/step - loss: 6.2045e-04 - accuracy: 1.0000\n",
      "Epoch 189/200\n",
      "8/8 [==============================] - 0s 3ms/step - loss: 6.1276e-04 - accuracy: 1.0000\n",
      "Epoch 190/200\n",
      "8/8 [==============================] - 0s 4ms/step - loss: 6.0426e-04 - accuracy: 1.0000\n",
      "Epoch 191/200\n",
      "8/8 [==============================] - 0s 3ms/step - loss: 5.9801e-04 - accuracy: 1.0000\n",
      "Epoch 192/200\n",
      "8/8 [==============================] - 0s 3ms/step - loss: 5.9013e-04 - accuracy: 1.0000\n",
      "Epoch 193/200\n",
      "8/8 [==============================] - 0s 3ms/step - loss: 5.8341e-04 - accuracy: 1.0000\n",
      "Epoch 194/200\n",
      "8/8 [==============================] - 0s 4ms/step - loss: 5.7804e-04 - accuracy: 1.0000\n",
      "Epoch 195/200\n",
      "8/8 [==============================] - 0s 3ms/step - loss: 5.6944e-04 - accuracy: 1.0000\n",
      "Epoch 196/200\n",
      "8/8 [==============================] - 0s 3ms/step - loss: 5.6331e-04 - accuracy: 1.0000\n",
      "Epoch 197/200\n",
      "8/8 [==============================] - 0s 3ms/step - loss: 5.5599e-04 - accuracy: 1.0000\n",
      "Epoch 198/200\n",
      "8/8 [==============================] - 0s 3ms/step - loss: 5.5062e-04 - accuracy: 1.0000\n",
      "Epoch 199/200\n",
      "8/8 [==============================] - 0s 3ms/step - loss: 5.4299e-04 - accuracy: 1.0000\n",
      "Epoch 200/200\n",
      "8/8 [==============================] - 0s 3ms/step - loss: 5.3695e-04 - accuracy: 1.0000\n"
     ]
    },
    {
     "data": {
      "text/plain": [
       "[<matplotlib.lines.Line2D at 0x196237610>]"
      ]
     },
     "execution_count": 311,
     "metadata": {},
     "output_type": "execute_result"
    },
    {
     "data": {
      "image/png": "[encoded data removed]",
      "text/plain": [
       "<Figure size 640x480 with 1 Axes>"
      ]
     },
     "metadata": {},
     "output_type": "display_data"
    }
   ],
   "source": [
    "# train the model\n",
    "# shape_tdm = TenDollarModel(X_shape_train.shape[1])\n",
    "# acc = shape_tdm.decoder.fit(X_shape_train,Y_shape_train,epochs=100,verbose=1,shuffle=True,batch_size=8)\n",
    "shape_tdm = FiveDollarModel(X_shape_train.shape[1])\n",
    "acc = shape_tdm.decoder.fit(X_shape_train,Y_shape_train,epochs=200,verbose=1,shuffle=True,batch_size=8)\n",
    "\n",
    "# plot the accuracy\n",
    "plt.plot(acc.history['accuracy'])"
   ]
  },
  {
   "cell_type": "code",
   "execution_count": 312,
   "metadata": {},
   "outputs": [
    {
     "data": {
      "image/png": "[encoded data removed]",
      "text/plain": [
       "<Figure size 2000x700 with 4 Axes>"
      ]
     },
     "metadata": {},
     "output_type": "display_data"
    },
    {
     "data": {
      "image/png": "[encoded data removed]",
      "text/plain": [
       "<Figure size 2000x700 with 4 Axes>"
      ]
     },
     "metadata": {},
     "output_type": "display_data"
    }
   ],
   "source": [
    "# show the results of the test set\n",
    "showMultiSprPalette([decodeSpr1H(s) for s in Y_shape_test], textArr=X_shape_test.tolist())\n",
    "showMultiSprPalette([shape_tdm.txt2img(desc) for desc in X_shape_test],textArr=X_shape_test.tolist())"
   ]
  },
  {
   "cell_type": "code",
   "execution_count": 314,
   "metadata": {},
   "outputs": [
    {
     "data": {
      "image/png": "[encoded data removed]",
      "text/plain": [
       "<Figure size 2000x700 with 5 Axes>"
      ]
     },
     "metadata": {},
     "output_type": "display_data"
    }
   ],
   "source": [
    "crazy_desc = ['magenta small triangle', '2 red small circles', 'small line', 'blue large diamond', 'red and blue small square']\n",
    "showMultiSprPalette([shape_tdm.txt2img(desc) for desc in crazy_desc],textArr=crazy_desc)\n"
   ]
  },
  {
   "attachments": {},
   "cell_type": "markdown",
   "metadata": {},
   "source": [
    "#### Emoji Dataset Experiment"
   ]
  },
  {
   "cell_type": "code",
   "execution_count": 326,
   "metadata": {},
   "outputs": [
    {
     "name": "stdout",
     "output_type": "stream",
     "text": [
      "(8,)\n"
     ]
    },
    {
     "data": {
      "image/png": "[encoded data removed]",
      "text/plain": [
       "<Figure size 2000x700 with 8 Axes>"
      ]
     },
     "metadata": {},
     "output_type": "display_data"
    }
   ],
   "source": [
    "#import the icons dataset from numpy\n",
    "icons50 = np.load('../data/sprite_data/icon_dat_rgb8.npy', allow_pickle=True)\n",
    "\n",
    "randicons = icons50[random.sample(range(0,len(icons50)), k=8)]\n",
    "print(randicons.shape)\n",
    "showMultiSprRGB([i['img'] for i in randicons],textArr=[i['label'] for i in randicons])"
   ]
  },
  {
   "cell_type": "code",
   "execution_count": 333,
   "metadata": {},
   "outputs": [
    {
     "name": "stderr",
     "output_type": "stream",
     "text": [
      "100%|██████████| 10000/10000 [10:04<00:00, 16.53it/s]\n"
     ]
    }
   ],
   "source": [
    "# X_train = np.array([sentEmb(i['label']) for i in icons50])\n",
    "# Y_train = np.array([(i['img'])/255 for i in icons50])\n",
    "\n",
    "# print(Y_train.shape)  #nx8x8x1\n",
    "from tqdm import tqdm\n",
    "\n",
    "\n",
    "with tqdm(total=len(icons50)) as pbar:\n",
    "    X_train = []\n",
    "    Y_train = []\n",
    "    for i in icons50:\n",
    "        X_train.append(sentEmb(i['label']))\n",
    "        Y_train.append((i['img'])/255)\n",
    "        pbar.update(1)\n"
   ]
  },
  {
   "cell_type": "code",
   "execution_count": 334,
   "metadata": {},
   "outputs": [
    {
     "name": "stdout",
     "output_type": "stream",
     "text": [
      "(10000, 768)\n",
      "(10000, 8, 8, 3)\n"
     ]
    }
   ],
   "source": [
    "X_icons_train = np.array(X_train)\n",
    "Y_icons_train = np.array(Y_train)\n",
    "\n",
    "print(X_icons_train.shape)\n",
    "print(Y_icons_train.shape)"
   ]
  },
  {
   "cell_type": "code",
   "execution_count": 377,
   "metadata": {},
   "outputs": [],
   "source": [
    "# named after Tim's bet that this model was too simple lol\n",
    "class ThreeDollarModel(Model):\n",
    "    def __init__(self,lv_shape,embedder=SBERT_MODEL):\n",
    "        super(ThreeDollarModel, self).__init__()\n",
    "        self.embedder = embedder\n",
    "        self.decoder = Sequential([\n",
    "            InputLayer(input_shape=(lv_shape,)),\n",
    "            # Dense(512,activation='relu'),\n",
    "            Dense(128,activation='relu'),\n",
    "            Reshape((1,1,128)),\n",
    "            # Conv2DTranspose(128, (2,2), strides=(2,2), padding='same', activation='relu'),\n",
    "            Conv2DTranspose(64, (2,2), strides=(2,2), padding='same', activation='relu'),\n",
    "            Conv2DTranspose(32, (2,2), strides=(2,2), padding='same', activation='relu'),\n",
    "            Conv2DTranspose(3, (2,2), strides=(2,2), padding='same', activation='sigmoid')     # should output to a 8x8x3 image\n",
    "        ])\n",
    "        \n",
    "        self.decoder.summary()\n",
    "        self.decoder.compile(optimizer='adam', loss='mse', metrics=['accuracy'])\n",
    "\n",
    "    # embeds the text and returns an image\n",
    "    def txt2img(self,txt,uncode=True):\n",
    "        emb = self.embedder.encode([txt])\n",
    "        img = self.decoder.predict(np.array(emb),verbose=False)[0]\n",
    "        if uncode:\n",
    "            return decodeSpr1H(img)\n",
    "        else:\n",
    "            return img"
   ]
  },
  {
   "cell_type": "code",
   "execution_count": 378,
   "metadata": {},
   "outputs": [
    {
     "name": "stdout",
     "output_type": "stream",
     "text": [
      "Model: \"sequential_64\"\n",
      "_________________________________________________________________\n",
      " Layer (type)                Output Shape              Param #   \n",
      "=================================================================\n",
      " dense_96 (Dense)            (None, 128)               98432     \n",
      "                                                                 \n",
      " reshape_64 (Reshape)        (None, 1, 1, 128)         0         \n",
      "                                                                 \n",
      " conv2d_transpose_172 (Conv2  (None, 2, 2, 64)         32832     \n",
      " DTranspose)                                                     \n",
      "                                                                 \n",
      " conv2d_transpose_173 (Conv2  (None, 4, 4, 32)         8224      \n",
      " DTranspose)                                                     \n",
      "                                                                 \n",
      " conv2d_transpose_174 (Conv2  (None, 8, 8, 3)          387       \n",
      " DTranspose)                                                     \n",
      "                                                                 \n",
      "=================================================================\n",
      "Total params: 139,875\n",
      "Trainable params: 139,875\n",
      "Non-trainable params: 0\n",
      "_________________________________________________________________\n",
      "Epoch 1/100\n",
      "625/625 [==============================] - 2s 2ms/step - loss: 0.0743 - accuracy: 0.6015\n",
      "Epoch 2/100\n",
      "625/625 [==============================] - 1s 2ms/step - loss: 0.0636 - accuracy: 0.6396\n",
      "Epoch 3/100\n",
      "625/625 [==============================] - 1s 2ms/step - loss: 0.0604 - accuracy: 0.6511\n",
      "Epoch 4/100\n",
      "625/625 [==============================] - 1s 2ms/step - loss: 0.0589 - accuracy: 0.6501\n",
      "Epoch 5/100\n",
      "625/625 [==============================] - 1s 2ms/step - loss: 0.0579 - accuracy: 0.6480\n",
      "Epoch 6/100\n",
      "625/625 [==============================] - 1s 2ms/step - loss: 0.0573 - accuracy: 0.6476\n",
      "Epoch 7/100\n",
      "625/625 [==============================] - 1s 2ms/step - loss: 0.0567 - accuracy: 0.6447\n",
      "Epoch 8/100\n",
      "625/625 [==============================] - 1s 2ms/step - loss: 0.0562 - accuracy: 0.6427\n",
      "Epoch 9/100\n",
      "625/625 [==============================] - 1s 2ms/step - loss: 0.0560 - accuracy: 0.6478\n",
      "Epoch 10/100\n",
      "625/625 [==============================] - 1s 2ms/step - loss: 0.0557 - accuracy: 0.6457\n",
      "Epoch 11/100\n",
      "625/625 [==============================] - 1s 2ms/step - loss: 0.0555 - accuracy: 0.6424\n",
      "Epoch 12/100\n",
      "625/625 [==============================] - 1s 2ms/step - loss: 0.0552 - accuracy: 0.6486\n",
      "Epoch 13/100\n",
      "625/625 [==============================] - 1s 2ms/step - loss: 0.0552 - accuracy: 0.6478\n",
      "Epoch 14/100\n",
      "625/625 [==============================] - 1s 2ms/step - loss: 0.0550 - accuracy: 0.6462\n",
      "Epoch 15/100\n",
      "625/625 [==============================] - 1s 2ms/step - loss: 0.0549 - accuracy: 0.6506\n",
      "Epoch 16/100\n",
      "625/625 [==============================] - 1s 2ms/step - loss: 0.0548 - accuracy: 0.6492\n",
      "Epoch 17/100\n",
      "625/625 [==============================] - 1s 2ms/step - loss: 0.0547 - accuracy: 0.6505\n",
      "Epoch 18/100\n",
      "625/625 [==============================] - 1s 2ms/step - loss: 0.0546 - accuracy: 0.6507\n",
      "Epoch 19/100\n",
      "625/625 [==============================] - 1s 2ms/step - loss: 0.0545 - accuracy: 0.6553\n",
      "Epoch 20/100\n",
      "625/625 [==============================] - 1s 2ms/step - loss: 0.0544 - accuracy: 0.6537\n",
      "Epoch 21/100\n",
      "625/625 [==============================] - 1s 2ms/step - loss: 0.0543 - accuracy: 0.6551\n",
      "Epoch 22/100\n",
      "625/625 [==============================] - 1s 2ms/step - loss: 0.0543 - accuracy: 0.6538\n",
      "Epoch 23/100\n",
      "625/625 [==============================] - 1s 2ms/step - loss: 0.0542 - accuracy: 0.6517\n",
      "Epoch 24/100\n",
      "625/625 [==============================] - 1s 2ms/step - loss: 0.0542 - accuracy: 0.6549\n",
      "Epoch 25/100\n",
      "625/625 [==============================] - 1s 2ms/step - loss: 0.0542 - accuracy: 0.6560\n",
      "Epoch 26/100\n",
      "625/625 [==============================] - 1s 2ms/step - loss: 0.0541 - accuracy: 0.6536\n",
      "Epoch 27/100\n",
      "625/625 [==============================] - 2s 2ms/step - loss: 0.0540 - accuracy: 0.6574\n",
      "Epoch 28/100\n",
      "625/625 [==============================] - 2s 3ms/step - loss: 0.0540 - accuracy: 0.6568\n",
      "Epoch 29/100\n",
      "625/625 [==============================] - 2s 3ms/step - loss: 0.0540 - accuracy: 0.6564\n",
      "Epoch 30/100\n",
      "625/625 [==============================] - 1s 2ms/step - loss: 0.0539 - accuracy: 0.6526\n",
      "Epoch 31/100\n",
      "625/625 [==============================] - 1s 2ms/step - loss: 0.0539 - accuracy: 0.6549\n",
      "Epoch 32/100\n",
      "625/625 [==============================] - 2s 2ms/step - loss: 0.0539 - accuracy: 0.6576\n",
      "Epoch 33/100\n",
      "625/625 [==============================] - 2s 2ms/step - loss: 0.0538 - accuracy: 0.6563\n",
      "Epoch 34/100\n",
      "625/625 [==============================] - 1s 2ms/step - loss: 0.0537 - accuracy: 0.6564\n",
      "Epoch 35/100\n",
      "625/625 [==============================] - 1s 2ms/step - loss: 0.0538 - accuracy: 0.6519\n",
      "Epoch 36/100\n",
      "625/625 [==============================] - 1s 2ms/step - loss: 0.0536 - accuracy: 0.6551\n",
      "Epoch 37/100\n",
      "625/625 [==============================] - 1s 2ms/step - loss: 0.0537 - accuracy: 0.6552\n",
      "Epoch 38/100\n",
      "625/625 [==============================] - 2s 2ms/step - loss: 0.0536 - accuracy: 0.6533\n",
      "Epoch 39/100\n",
      "625/625 [==============================] - 1s 2ms/step - loss: 0.0536 - accuracy: 0.6536\n",
      "Epoch 40/100\n",
      "625/625 [==============================] - 2s 2ms/step - loss: 0.0536 - accuracy: 0.6518\n",
      "Epoch 41/100\n",
      "625/625 [==============================] - 1s 2ms/step - loss: 0.0536 - accuracy: 0.6611\n",
      "Epoch 42/100\n",
      "625/625 [==============================] - 1s 2ms/step - loss: 0.0536 - accuracy: 0.6518\n",
      "Epoch 43/100\n",
      "625/625 [==============================] - 1s 2ms/step - loss: 0.0535 - accuracy: 0.6522\n",
      "Epoch 44/100\n",
      "625/625 [==============================] - 2s 3ms/step - loss: 0.0534 - accuracy: 0.6558\n",
      "Epoch 45/100\n",
      "625/625 [==============================] - 1s 2ms/step - loss: 0.0535 - accuracy: 0.6536\n",
      "Epoch 46/100\n",
      "625/625 [==============================] - 1s 2ms/step - loss: 0.0535 - accuracy: 0.6540\n",
      "Epoch 47/100\n",
      "625/625 [==============================] - 2s 3ms/step - loss: 0.0534 - accuracy: 0.6564\n",
      "Epoch 48/100\n",
      "625/625 [==============================] - 1s 2ms/step - loss: 0.0535 - accuracy: 0.6502\n",
      "Epoch 49/100\n",
      "625/625 [==============================] - 1s 2ms/step - loss: 0.0534 - accuracy: 0.6564\n",
      "Epoch 50/100\n",
      "625/625 [==============================] - 2s 2ms/step - loss: 0.0534 - accuracy: 0.6561\n",
      "Epoch 51/100\n",
      "625/625 [==============================] - 2s 3ms/step - loss: 0.0534 - accuracy: 0.6534\n",
      "Epoch 52/100\n",
      "625/625 [==============================] - 2s 3ms/step - loss: 0.0533 - accuracy: 0.6555\n",
      "Epoch 53/100\n",
      "625/625 [==============================] - 2s 3ms/step - loss: 0.0533 - accuracy: 0.6534\n",
      "Epoch 54/100\n",
      "625/625 [==============================] - 2s 3ms/step - loss: 0.0533 - accuracy: 0.6535\n",
      "Epoch 55/100\n",
      "625/625 [==============================] - 2s 2ms/step - loss: 0.0532 - accuracy: 0.6553\n",
      "Epoch 56/100\n",
      "625/625 [==============================] - 1s 2ms/step - loss: 0.0533 - accuracy: 0.6558\n",
      "Epoch 57/100\n",
      "625/625 [==============================] - 1s 2ms/step - loss: 0.0533 - accuracy: 0.6552\n",
      "Epoch 58/100\n",
      "625/625 [==============================] - 1s 2ms/step - loss: 0.0533 - accuracy: 0.6511\n",
      "Epoch 59/100\n",
      "625/625 [==============================] - 1s 2ms/step - loss: 0.0533 - accuracy: 0.6555\n",
      "Epoch 60/100\n",
      "625/625 [==============================] - 1s 2ms/step - loss: 0.0532 - accuracy: 0.6545\n",
      "Epoch 61/100\n",
      "625/625 [==============================] - 1s 2ms/step - loss: 0.0532 - accuracy: 0.6503\n",
      "Epoch 62/100\n",
      "625/625 [==============================] - 1s 2ms/step - loss: 0.0532 - accuracy: 0.6501\n",
      "Epoch 63/100\n",
      "625/625 [==============================] - 1s 2ms/step - loss: 0.0532 - accuracy: 0.6521\n",
      "Epoch 64/100\n",
      "625/625 [==============================] - 1s 2ms/step - loss: 0.0531 - accuracy: 0.6510\n",
      "Epoch 65/100\n",
      "625/625 [==============================] - 1s 2ms/step - loss: 0.0531 - accuracy: 0.6504\n",
      "Epoch 66/100\n",
      "625/625 [==============================] - 1s 2ms/step - loss: 0.0531 - accuracy: 0.6518\n",
      "Epoch 67/100\n",
      "625/625 [==============================] - 1s 2ms/step - loss: 0.0532 - accuracy: 0.6486\n",
      "Epoch 68/100\n",
      "625/625 [==============================] - 1s 2ms/step - loss: 0.0532 - accuracy: 0.6481\n",
      "Epoch 69/100\n",
      "625/625 [==============================] - 1s 2ms/step - loss: 0.0531 - accuracy: 0.6534\n",
      "Epoch 70/100\n",
      "625/625 [==============================] - 1s 2ms/step - loss: 0.0531 - accuracy: 0.6527\n",
      "Epoch 71/100\n",
      "625/625 [==============================] - 1s 2ms/step - loss: 0.0531 - accuracy: 0.6489\n",
      "Epoch 72/100\n",
      "625/625 [==============================] - 1s 2ms/step - loss: 0.0531 - accuracy: 0.6571\n",
      "Epoch 73/100\n",
      "625/625 [==============================] - 1s 2ms/step - loss: 0.0531 - accuracy: 0.6506\n",
      "Epoch 74/100\n",
      "625/625 [==============================] - 1s 2ms/step - loss: 0.0531 - accuracy: 0.6514\n",
      "Epoch 75/100\n",
      "625/625 [==============================] - 1s 2ms/step - loss: 0.0531 - accuracy: 0.6498\n",
      "Epoch 76/100\n",
      "625/625 [==============================] - 1s 2ms/step - loss: 0.0530 - accuracy: 0.6504\n",
      "Epoch 77/100\n",
      "625/625 [==============================] - 1s 2ms/step - loss: 0.0531 - accuracy: 0.6513\n",
      "Epoch 78/100\n",
      "625/625 [==============================] - 1s 2ms/step - loss: 0.0530 - accuracy: 0.6493\n",
      "Epoch 79/100\n",
      "625/625 [==============================] - 1s 2ms/step - loss: 0.0530 - accuracy: 0.6516\n",
      "Epoch 80/100\n",
      "625/625 [==============================] - 1s 2ms/step - loss: 0.0530 - accuracy: 0.6495\n",
      "Epoch 81/100\n",
      "625/625 [==============================] - 1s 2ms/step - loss: 0.0530 - accuracy: 0.6461\n",
      "Epoch 82/100\n",
      "625/625 [==============================] - 1s 2ms/step - loss: 0.0530 - accuracy: 0.6508\n",
      "Epoch 83/100\n",
      "625/625 [==============================] - 1s 2ms/step - loss: 0.0530 - accuracy: 0.6503\n",
      "Epoch 84/100\n",
      "625/625 [==============================] - 1s 2ms/step - loss: 0.0529 - accuracy: 0.6485\n",
      "Epoch 85/100\n",
      "625/625 [==============================] - 1s 2ms/step - loss: 0.0530 - accuracy: 0.6527\n",
      "Epoch 86/100\n",
      "625/625 [==============================] - 1s 2ms/step - loss: 0.0529 - accuracy: 0.6511\n",
      "Epoch 87/100\n",
      "625/625 [==============================] - 1s 2ms/step - loss: 0.0530 - accuracy: 0.6478\n",
      "Epoch 88/100\n",
      "625/625 [==============================] - 1s 2ms/step - loss: 0.0530 - accuracy: 0.6527\n",
      "Epoch 89/100\n",
      "625/625 [==============================] - 1s 2ms/step - loss: 0.0529 - accuracy: 0.6490\n",
      "Epoch 90/100\n",
      "625/625 [==============================] - 1s 2ms/step - loss: 0.0529 - accuracy: 0.6498\n",
      "Epoch 91/100\n",
      "625/625 [==============================] - 1s 2ms/step - loss: 0.0529 - accuracy: 0.6525\n",
      "Epoch 92/100\n",
      "625/625 [==============================] - 1s 2ms/step - loss: 0.0529 - accuracy: 0.6495\n",
      "Epoch 93/100\n",
      "625/625 [==============================] - 1s 2ms/step - loss: 0.0530 - accuracy: 0.6492\n",
      "Epoch 94/100\n",
      "625/625 [==============================] - 1s 2ms/step - loss: 0.0529 - accuracy: 0.6491\n",
      "Epoch 95/100\n",
      "625/625 [==============================] - 1s 2ms/step - loss: 0.0529 - accuracy: 0.6508\n",
      "Epoch 96/100\n",
      "625/625 [==============================] - 1s 2ms/step - loss: 0.0529 - accuracy: 0.6491\n",
      "Epoch 97/100\n",
      "625/625 [==============================] - 1s 2ms/step - loss: 0.0529 - accuracy: 0.6469\n",
      "Epoch 98/100\n",
      "625/625 [==============================] - 1s 2ms/step - loss: 0.0529 - accuracy: 0.6559\n",
      "Epoch 99/100\n",
      "625/625 [==============================] - 1s 2ms/step - loss: 0.0529 - accuracy: 0.6476\n",
      "Epoch 100/100\n",
      "625/625 [==============================] - 1s 2ms/step - loss: 0.0529 - accuracy: 0.6492\n"
     ]
    },
    {
     "data": {
      "text/plain": [
       "[<matplotlib.lines.Line2D at 0x1923611f0>]"
      ]
     },
     "execution_count": 378,
     "metadata": {},
     "output_type": "execute_result"
    },
    {
     "data": {
      "image/png": "[encoded data removed]",
      "text/plain": [
       "<Figure size 640x480 with 1 Axes>"
      ]
     },
     "metadata": {},
     "output_type": "display_data"
    }
   ],
   "source": [
    "icons_tdm = ThreeDollarModel(X_icons_train.shape[1])\n",
    "acc_ic = icons_tdm.decoder.fit(X_icons_train,Y_icons_train,epochs=100,verbose=1,shuffle=True,batch_size=16)\n",
    "\n",
    "# plot the accuracy\n",
    "plt.plot(acc_ic.history['accuracy'])"
   ]
  },
  {
   "cell_type": "code",
   "execution_count": 379,
   "metadata": {},
   "outputs": [
    {
     "data": {
      "image/png": "[encoded data removed]",
      "text/plain": [
       "<Figure size 2000x700 with 4 Axes>"
      ]
     },
     "metadata": {},
     "output_type": "display_data"
    }
   ],
   "source": [
    "fave_emojis = [\"purple heart\", \"smirk face\", \"forest\", \"chicken\"]\n",
    "RGB_OUT = []\n",
    "for desc in fave_emojis:\n",
    "    img = icons_tdm.txt2img(desc,False)\n",
    "    #un-normalize the image\n",
    "    img = (img*255).astype(np.uint8)\n",
    "    RGB_OUT.append(img)\n",
    "\n",
    "showMultiSprRGB(RGB_OUT,textArr=fave_emojis)"
   ]
  },
  {
   "cell_type": "code",
   "execution_count": 383,
   "metadata": {},
   "outputs": [
    {
     "data": {
      "image/png": "[encoded data removed]",
      "text/plain": [
       "<Figure size 2000x700 with 1 Axes>"
      ]
     },
     "metadata": {},
     "output_type": "display_data"
    },
    {
     "data": {
      "image/png": "[encoded data removed]",
      "text/plain": [
       "<Figure size 2000x700 with 1 Axes>"
      ]
     },
     "metadata": {},
     "output_type": "display_data"
    },
    {
     "data": {
      "image/png": "[encoded data removed]",
      "text/plain": [
       "<Figure size 2000x700 with 1 Axes>"
      ]
     },
     "metadata": {},
     "output_type": "display_data"
    },
    {
     "data": {
      "image/png": "[encoded data removed]",
      "text/plain": [
       "<Figure size 2000x700 with 1 Axes>"
      ]
     },
     "metadata": {},
     "output_type": "display_data"
    },
    {
     "data": {
      "image/png": "[encoded data removed]",
      "text/plain": [
       "<Figure size 2000x700 with 1 Axes>"
      ]
     },
     "metadata": {},
     "output_type": "display_data"
    },
    {
     "data": {
      "image/png": "[encoded data removed]",
      "text/plain": [
       "<Figure size 2000x700 with 1 Axes>"
      ]
     },
     "metadata": {},
     "output_type": "display_data"
    },
    {
     "data": {
      "image/png": "[encoded data removed]",
      "text/plain": [
       "<Figure size 2000x700 with 1 Axes>"
      ]
     },
     "metadata": {},
     "output_type": "display_data"
    },
    {
     "data": {
      "image/png": "[encoded data removed]",
      "text/plain": [
       "<Figure size 2000x700 with 1 Axes>"
      ]
     },
     "metadata": {},
     "output_type": "display_data"
    },
    {
     "data": {
      "image/png": "[encoded data removed]",
      "text/plain": [
       "<Figure size 2000x700 with 1 Axes>"
      ]
     },
     "metadata": {},
     "output_type": "display_data"
    },
    {
     "data": {
      "image/png": "[encoded data removed]",
      "text/plain": [
       "<Figure size 2000x700 with 1 Axes>"
      ]
     },
     "metadata": {},
     "output_type": "display_data"
    },
    {
     "data": {
      "image/png": "[encoded data removed]",
      "text/plain": [
       "<Figure size 2000x700 with 1 Axes>"
      ]
     },
     "metadata": {},
     "output_type": "display_data"
    },
    {
     "data": {
      "image/png": "[encoded data removed]",
      "text/plain": [
       "<Figure size 2000x700 with 1 Axes>"
      ]
     },
     "metadata": {},
     "output_type": "display_data"
    },
    {
     "data": {
      "image/png": "[encoded data removed]",
      "text/plain": [
       "<Figure size 2000x700 with 1 Axes>"
      ]
     },
     "metadata": {},
     "output_type": "display_data"
    },
    {
     "data": {
      "image/png": "[encoded data removed]",
      "text/plain": [
       "<Figure size 2000x700 with 1 Axes>"
      ]
     },
     "metadata": {},
     "output_type": "display_data"
    },
    {
     "data": {
      "image/png": "[encoded data removed]",
      "text/plain": [
       "<Figure size 2000x700 with 1 Axes>"
      ]
     },
     "metadata": {},
     "output_type": "display_data"
    }
   ],
   "source": [
    "user_in = input(\"Enter a description of an emoji: \")\n",
    "while user_in != 'q':\n",
    "    img = icons_tdm.txt2img(user_in,False)\n",
    "    #un-normalize the image\n",
    "    img = (img*255).astype(np.uint8)\n",
    "    showMultiSprRGB([img],textArr=[user_in])\n",
    "    user_in = input(\"Enter a description of an emoji: \")"
   ]
  },
  {
   "attachments": {},
   "cell_type": "markdown",
   "metadata": {},
   "source": [
    "#### PATH OF DESTRUCTION"
   ]
  },
  {
   "cell_type": "code",
   "execution_count": null,
   "metadata": {},
   "outputs": [],
   "source": []
  }
 ],
 "metadata": {
  "kernelspec": {
   "display_name": "bmo-venv",
   "language": "python",
   "name": "python3"
  },
  "language_info": {
   "codemirror_mode": {
    "name": "ipython",
    "version": 3
   },
   "file_extension": ".py",
   "mimetype": "text/x-python",
   "name": "python",
   "nbconvert_exporter": "python",
   "pygments_lexer": "ipython3",
   "version": "3.8.9"
  },
  "orig_nbformat": 4,
  "vscode": {
   "interpreter": {
    "hash": "f94925f3cff0b0ac90dd538919dcd2d4d02467fa3fdafdf86812e92b857d43c1"
   }
  }
 },
 "nbformat": 4,
 "nbformat_minor": 2
}
