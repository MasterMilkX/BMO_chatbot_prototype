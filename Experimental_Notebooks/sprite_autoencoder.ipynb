{
 "cells": [
  {
   "attachments": {},
   "cell_type": "markdown",
   "metadata": {},
   "source": [
    "# AUTOENCODER MICRO SPRITE GENERATOR\n",
    "Tests architecture for micro sprite generation using autoencoders, variational autoencoders, and vq-vaes\n",
    "\n",
    "---"
   ]
  },
  {
   "attachments": {},
   "cell_type": "markdown",
   "metadata": {},
   "source": [
    "### Setup"
   ]
  },
  {
   "cell_type": "code",
   "execution_count": 1,
   "metadata": {},
   "outputs": [
    {
     "name": "stderr",
     "output_type": "stream",
     "text": [
      "2023-04-15 03:10:12.872519: I tensorflow/core/platform/cpu_feature_guard.cc:193] This TensorFlow binary is optimized with oneAPI Deep Neural Network Library (oneDNN) to use the following CPU instructions in performance-critical operations:  AVX2 FMA\n",
      "To enable them in other operations, rebuild TensorFlow with the appropriate compiler flags.\n"
     ]
    }
   ],
   "source": [
    "import numpy as np\n",
    "import math\n",
    "import matplotlib.pyplot as plt\n",
    "import random\n",
    "import os\n",
    "import json\n",
    "from matplotlib.colors import ListedColormap\n",
    "from matplotlib.animation import FuncAnimation\n",
    "from tqdm import tqdm\n",
    "\n",
    "# tensorflow\n",
    "import tensorflow as tf\n",
    "# from tensorflow import keras\n",
    "from tensorflow.keras import backend as K\n",
    "from tensorflow.keras import optimizers\n",
    "from tensorflow.keras.models import Sequential, load_model\n",
    "from tensorflow.keras.layers import InputLayer, Dense, Conv2D, Conv2DTranspose, Flatten, Layer, Reshape, Input, LeakyReLU, MaxPooling2D\n",
    "from tensorflow.keras.models import Model\n",
    "\n",
    "\n",
    "\n",
    "%matplotlib inline\n",
    "# %matplotlib notebook"
   ]
  },
  {
   "cell_type": "code",
   "execution_count": 2,
   "metadata": {},
   "outputs": [
    {
     "name": "stderr",
     "output_type": "stream",
     "text": [
      "/Users/milk/Desktop/GIL_Lab/BMO/BMO_chatbot_prototype/bmo-venv/lib/python3.8/site-packages/tqdm/auto.py:22: TqdmWarning: IProgress not found. Please update jupyter and ipywidgets. See https://ipywidgets.readthedocs.io/en/stable/user_install.html\n",
      "  from .autonotebook import tqdm as notebook_tqdm\n"
     ]
    }
   ],
   "source": [
    "#import from Python folder to get the utils\n",
    "import sys\n",
    "sys.path.append('../Python')\n",
    "from utils import picoSS2np, showMultiSprPalette, showMultiSprRGB, showSprRGB, showSprPalette, animatePal"
   ]
  },
  {
   "attachments": {},
   "cell_type": "markdown",
   "metadata": {},
   "source": [
    "CONSTANTS and GLOBALS"
   ]
  },
  {
   "cell_type": "code",
   "execution_count": 3,
   "metadata": {},
   "outputs": [],
   "source": [
    "# CONSTANT VARIABLES\n",
    "\n",
    "# PICO-8 Palette => use colormap for matplotlib\n",
    "PICO_PALETTE = ['#000000','#1D2B53','#7E2553','#008751','#AB5236','#5F574F','#C2C3C7','#FFF1E8','#FF004D','#FFA300','#FFEC27','#00E436','#29ADFF','#83769C','#FF77A8','#FFCCAA']\n"
   ]
  },
  {
   "attachments": {},
   "cell_type": "markdown",
   "metadata": {},
   "source": [
    "IMPORT DATASETS"
   ]
  },
  {
   "cell_type": "code",
   "execution_count": 4,
   "metadata": {},
   "outputs": [
    {
     "name": "stdout",
     "output_type": "stream",
     "text": [
      "Food Dataset shape: (100, 8, 8)\n",
      "Char Dataset shape: (100, 8, 8)\n"
     ]
    },
    {
     "data": {
      "image/png": "[encoded data removed]",
      "text/plain": [
       "<Figure size 1440x504 with 2 Axes>"
      ]
     },
     "metadata": {
      "needs_background": "light"
     },
     "output_type": "display_data"
    }
   ],
   "source": [
    "# import from the PICO sprites posted onto Twitter \n",
    "# Food: https://twitter.com/JUSTIN_CYR/status/634546317713391616\n",
    "# Characters: https://twitter.com/johanvinet/status/635814153601597441\n",
    "pico_food_dat = np.load('../data/rip_data/pico_food.npy',allow_pickle=True)\n",
    "pico_char_dat = np.load('../data/rip_data/pico_characters.npy',allow_pickle=True)\n",
    "good_pico_sheets = np.load('../data/rip_data/good_pico_sheets.npy',allow_pickle=True)\n",
    "\n",
    "print(f\"Food Dataset shape: {pico_food_dat.shape}\")\n",
    "print(f\"Char Dataset shape: {pico_char_dat.shape}\")\n",
    "\n",
    "# show a random food and character sprite \n",
    "rand_food = random.choice(pico_food_dat)\n",
    "rand_char = random.choice(pico_char_dat)\n",
    "showMultiSprPalette([rand_food,rand_char],textArr=['Food','Character'])"
   ]
  },
  {
   "attachments": {},
   "cell_type": "markdown",
   "metadata": {},
   "source": [
    "### GENERATIVE MODEL EXPERIMENT "
   ]
  },
  {
   "attachments": {},
   "cell_type": "markdown",
   "metadata": {},
   "source": [
    "#### Autoencoder Experiments\n",
    "Needs to overfit for such a small dataset (train 350 epochs or so)"
   ]
  },
  {
   "cell_type": "code",
   "execution_count": 838,
   "metadata": {},
   "outputs": [],
   "source": [
    "TRAIN_AE = False\n",
    "AE_MODEL_NAME = \"pico_ae-[char100p]-350\"  #if not retraining, specify the model name to load"
   ]
  },
  {
   "cell_type": "code",
   "execution_count": 839,
   "metadata": {},
   "outputs": [],
   "source": [
    "##  BASIC AUTOENCODER  ##\n",
    "\n",
    "class PICOAutoencoder(Model):\n",
    "    def __init__(self,in_shape,show_summary=False):\n",
    "        super(PICOAutoencoder, self).__init__()\n",
    "        self.encoder = Sequential([\n",
    "            InputLayer(input_shape=in_shape),\n",
    "            Conv2D(64, (2,2), strides=2, activation='relu', padding='same'),\n",
    "            Conv2D(32, (2,2), strides=2, activation='relu', padding='same'),\n",
    "            Conv2D(16, (2,2), strides=2, activation='relu', padding='same')])\n",
    "\n",
    "        self.decoder = Sequential([\n",
    "            InputLayer(input_shape=self.encoder.output_shape[1:]),\n",
    "            Conv2DTranspose(16, (2,2), strides=2, activation='relu', padding='same'),\n",
    "            Conv2DTranspose(32, (2,2), strides=2, activation='relu', padding='same'),\n",
    "            Conv2DTranspose(64, (2,2), strides=2, activation='relu', padding='same'),\n",
    "            # Conv2D(in_shape[-1], (3,3), activation='sigmoid', padding='same')])\n",
    "            Conv2D(in_shape[-1], (3,3), activation='softmax', padding='same')])\n",
    "        \n",
    "\n",
    "        if show_summary:\n",
    "            print(\"== ENCODER ==\")\n",
    "            self.encoder.summary()\n",
    "            print(\"\")\n",
    "            print(\"== DECODER ==\")\n",
    "            self.decoder.summary()\n",
    "        \n",
    "\n",
    "    def call(self, x):\n",
    "        encoded = self.encoder(x)\n",
    "        decoded = self.decoder(encoded)\n",
    "        return decoded\n",
    "\n",
    "    def exportEnc(self, name):\n",
    "        if not os.path.exists(\"../models/gen_models/autoencoders/\"):\n",
    "            os.mkdir(\"../models/gen_models/autoencoders/\")\n",
    "        self.encoder.save(f\"../models/gen_models/autoencoders/{name}_encoder.h5\")\n",
    "\n",
    "    def exportDec(self, name):\n",
    "        if not os.path.exists(\"../models/gen_models/autoencoders/\"):\n",
    "            os.mkdir(\"../models/gen_models/autoencoders/\")\n",
    "        self.decoder.save(f\"../models/gen_models/autoencoders/{name}_decoder.h5\")\n",
    "\n",
    "    def importDec(self,name):\n",
    "        self.decoder = load_model(f\"../models/gen_models/autoencoders/{name}_decoder.h5\")\n",
    "        \n",
    "    def importEnc(self,name):\n",
    "        self.encoder = load_model(f\"../models/gen_models/autoencoders/{name}_encoder.h5\")"
   ]
  },
  {
   "cell_type": "code",
   "execution_count": 840,
   "metadata": {},
   "outputs": [
    {
     "name": "stdout",
     "output_type": "stream",
     "text": [
      "Autoencoder Dataset shape: (100, 8, 8, 16)\n",
      "== ENCODER ==\n",
      "Model: \"sequential_136\"\n",
      "_________________________________________________________________\n",
      " Layer (type)                Output Shape              Param #   \n",
      "=================================================================\n",
      " conv2d_169 (Conv2D)         (None, 4, 4, 64)          4160      \n",
      "                                                                 \n",
      " conv2d_170 (Conv2D)         (None, 2, 2, 32)          8224      \n",
      "                                                                 \n",
      " conv2d_171 (Conv2D)         (None, 1, 1, 16)          2064      \n",
      "                                                                 \n",
      "=================================================================\n",
      "Total params: 14,448\n",
      "Trainable params: 14,448\n",
      "Non-trainable params: 0\n",
      "_________________________________________________________________\n",
      "\n",
      "== DECODER ==\n",
      "Model: \"sequential_137\"\n",
      "_________________________________________________________________\n",
      " Layer (type)                Output Shape              Param #   \n",
      "=================================================================\n",
      " conv2d_transpose_232 (Conv2  (None, 2, 2, 16)         1040      \n",
      " DTranspose)                                                     \n",
      "                                                                 \n",
      " conv2d_transpose_233 (Conv2  (None, 4, 4, 32)         2080      \n",
      " DTranspose)                                                     \n",
      "                                                                 \n",
      " conv2d_transpose_234 (Conv2  (None, 8, 8, 64)         8256      \n",
      " DTranspose)                                                     \n",
      "                                                                 \n",
      " conv2d_172 (Conv2D)         (None, 8, 8, 16)          9232      \n",
      "                                                                 \n",
      "=================================================================\n",
      "Total params: 20,608\n",
      "Trainable params: 20,608\n",
      "Non-trainable params: 0\n",
      "_________________________________________________________________\n",
      "Loading model: pico_ae-[char100p]-350\n"
     ]
    },
    {
     "name": "stderr",
     "output_type": "stream",
     "text": [
      "WARNING:tensorflow:No training configuration found in the save file, so the model was *not* compiled. Compile it manually.\n"
     ]
    },
    {
     "name": "stdout",
     "output_type": "stream",
     "text": [
      "WARNING:tensorflow:No training configuration found in the save file, so the model was *not* compiled. Compile it manually.\n"
     ]
    },
    {
     "name": "stderr",
     "output_type": "stream",
     "text": [
      "WARNING:tensorflow:No training configuration found in the save file, so the model was *not* compiled. Compile it manually.\n"
     ]
    }
   ],
   "source": [
    "# setup the dataset\n",
    "# pico_ae_dat = np.concatenate((pico_food_dat,pico_char_dat),axis=0)  # combine food and character datasets\n",
    "pico_ae_dat = pico_char_dat\n",
    "\n",
    "pico_ae_dat = np.array([encodeSpr1H(s) for s in pico_ae_dat])   # encode to 1-hot\n",
    "np.random.shuffle(pico_ae_dat)                                  # shuffle the dataset\n",
    "print(f\"Autoencoder Dataset shape: {pico_ae_dat.shape}\")\n",
    "\n",
    "# setup the model\n",
    "pico_ae_model = PICOAutoencoder((8,8,len(PICO_PALETTE)),True)\n",
    "# pico_ae_model.compile(optimizer='adam', loss='mse', metrics=['accuracy'])\n",
    "pico_ae_model.compile(optimizer='adam', loss='categorical_crossentropy', metrics=['accuracy'])\n",
    "\n",
    "# train the model (if TRAIN_AE is True) otherwise load the model\n",
    "EPOCHS = 250\n",
    "BATCH_SIZE = 16\n",
    "if TRAIN_AE:\n",
    "    h = pico_ae_model.fit(pico_ae_dat, pico_ae_dat, batch_size=BATCH_SIZE,epochs=EPOCHS,shuffle=True)\n",
    "\n",
    "    #plot the accuracy over time\n",
    "    plt.plot(h.history['accuracy'])\n",
    "else:\n",
    "    print(f\"Loading model: {AE_MODEL_NAME}\")\n",
    "    pico_ae_model.importEnc(AE_MODEL_NAME)\n",
    "    pico_ae_model.importDec(AE_MODEL_NAME)\n"
   ]
  },
  {
   "cell_type": "code",
   "execution_count": 841,
   "metadata": {},
   "outputs": [
    {
     "data": {
      "image/png": "[encoded data removed]",
      "text/plain": [
       "<Figure size 1440x504 with 7 Axes>"
      ]
     },
     "metadata": {
      "needs_background": "light"
     },
     "output_type": "display_data"
    },
    {
     "data": {
      "image/png": "[encoded data removed]",
      "text/plain": [
       "<Figure size 1440x504 with 7 Axes>"
      ]
     },
     "metadata": {
      "needs_background": "light"
     },
     "output_type": "display_data"
    }
   ],
   "source": [
    "# test output\n",
    "ae_test_set = random.choices(pico_ae_dat, k=7)\n",
    "ae_test_set = np.array(ae_test_set)\n",
    "\n",
    "showMultiSprPalette([decodeSpr1H(s) for s in ae_test_set],text='INPUT')\n",
    "showMultiSprPalette([decodeSpr1H(s) for s in pico_ae_model.predict(ae_test_set,verbose=False)],text='AE PREDICT')\n"
   ]
  },
  {
   "cell_type": "code",
   "execution_count": 842,
   "metadata": {},
   "outputs": [
    {
     "name": "stdout",
     "output_type": "stream",
     "text": [
      "(7, 1, 1, 16)\n"
     ]
    },
    {
     "data": {
      "image/png": "[encoded data removed]",
      "text/plain": [
       "<Figure size 1440x504 with 7 Axes>"
      ]
     },
     "metadata": {
      "needs_background": "light"
     },
     "output_type": "display_data"
    },
    {
     "data": {
      "image/png": "[encoded data removed]",
      "text/plain": [
       "<Figure size 1440x504 with 7 Axes>"
      ]
     },
     "metadata": {
      "needs_background": "light"
     },
     "output_type": "display_data"
    }
   ],
   "source": [
    "# random sampling\n",
    "\n",
    "# show some final outputs from real data\n",
    "real_set = [7,30,53,86,90,96,99]    \n",
    "real_set_label = ['Koopa','Donatello','Finn','Dewey','Link','Samus','Pikachu']\n",
    "real_oh_set = np.array([encodeSpr1H(s) for s in pico_char_dat[real_set]])\n",
    "\n",
    "real_enc = pico_ae_model.encoder.predict(real_oh_set,verbose=False)\n",
    "real_dec = pico_ae_model.decoder.predict(real_enc,verbose=False)\n",
    "\n",
    "print(real_enc.shape)\n",
    "\n",
    "showMultiSprPalette([pico_char_dat[i] for i in real_set],text='Real set')\n",
    "showMultiSprPalette([decodeSpr1H(s) for s in real_dec],text='AE Pred set')\n"
   ]
  },
  {
   "cell_type": "code",
   "execution_count": 843,
   "metadata": {},
   "outputs": [
    {
     "data": {
      "image/png": "[encoded data removed]",
      "text/plain": [
       "<Figure size 1440x504 with 7 Axes>"
      ]
     },
     "metadata": {
      "needs_background": "light"
     },
     "output_type": "display_data"
    }
   ],
   "source": [
    "# shift from one character to another\n",
    "\n",
    "def interpolateVec(v1,v2,steps):\n",
    "    return [v1 + (v2-v1)*i/(steps-1) for i in range(steps)]\n",
    "\n",
    "pick2 = random.sample(range(len(real_enc)), k=2)\n",
    "inter_vec = interpolateVec(real_enc[pick2[0]],real_enc[pick2[1]],7) \n",
    "inter_pred = pico_ae_model.decoder.predict(np.array(inter_vec),verbose=False)\n",
    "showMultiSprPalette([decodeSpr1H(s) for s in inter_pred],text=f'AE Interpolation: {real_set_label[pick2[0]]} to {real_set_label[pick2[1]]}')\n"
   ]
  },
  {
   "cell_type": "code",
   "execution_count": 844,
   "metadata": {},
   "outputs": [],
   "source": [
    "# compare between 2 groups of similar characters (ninja turtles + duck tales)\n",
    "ninja_turtles = [30,31,32,33]\n",
    "duck_tales = [84,85,86,87]\n",
    "\n",
    "ninja_oh = np.array([encodeSpr1H(s) for s in pico_char_dat[ninja_turtles]])\n",
    "duck_oh = np.array([encodeSpr1H(s) for s in pico_char_dat[duck_tales]])\n",
    "\n",
    "ninja_enc = pico_ae_model.encoder.predict(ninja_oh,verbose=False)\n",
    "duck_enc = pico_ae_model.encoder.predict(duck_oh,verbose=False)"
   ]
  },
  {
   "cell_type": "code",
   "execution_count": 845,
   "metadata": {},
   "outputs": [
    {
     "data": {
      "image/png": "[encoded data removed]",
      "text/plain": [
       "<Figure size 1440x504 with 4 Axes>"
      ]
     },
     "metadata": {
      "needs_background": "light"
     },
     "output_type": "display_data"
    },
    {
     "data": {
      "image/png": "[encoded data removed]",
      "text/plain": [
       "<Figure size 1440x504 with 4 Axes>"
      ]
     },
     "metadata": {
      "needs_background": "light"
     },
     "output_type": "display_data"
    },
    {
     "data": {
      "image/png": "[encoded data removed]",
      "text/plain": [
       "<Figure size 1440x504 with 7 Axes>"
      ]
     },
     "metadata": {
      "needs_background": "light"
     },
     "output_type": "display_data"
    },
    {
     "data": {
      "image/png": "[encoded data removed]",
      "text/plain": [
       "<Figure size 1440x504 with 7 Axes>"
      ]
     },
     "metadata": {
      "needs_background": "light"
     },
     "output_type": "display_data"
    }
   ],
   "source": [
    "showMultiSprPalette([pico_char_dat[i] for i in ninja_turtles],text='Ninja Turtles')\n",
    "showMultiSprPalette([pico_char_dat[i] for i in duck_tales],text='Duck Tales')\n",
    "\n",
    "# interpolate between 2 random turtles and 2 random ducks\n",
    "for a in [ninja_enc,duck_enc]:\n",
    "    pick2 = random.sample(range(len(a)), k=2)\n",
    "    inter_vec = interpolateVec(a[pick2[0]],a[pick2[1]],7)\n",
    "    inter_pred = pico_ae_model.decoder.predict(np.array(inter_vec),verbose=False)\n",
    "    showMultiSprPalette([decodeSpr1H(s) for s in inter_pred],text=f'AE Interpolation')"
   ]
  },
  {
   "cell_type": "code",
   "execution_count": 846,
   "metadata": {},
   "outputs": [
    {
     "name": "stdout",
     "output_type": "stream",
     "text": [
      "(16, 2)\n",
      "[[  0.93523026 222.0659    ]\n",
      " [  0.         173.56055   ]\n",
      " [  2.0184238  273.97604   ]\n",
      " [  0.         212.41785   ]\n",
      " [  0.         311.12323   ]\n",
      " [  0.           0.        ]\n",
      " [  0.         232.72699   ]\n",
      " [  2.9373052  298.1779    ]\n",
      " [  0.           0.        ]\n",
      " [  0.           0.        ]\n",
      " [  1.5205781  224.14082   ]\n",
      " [  0.50582504 198.08095   ]\n",
      " [  0.           0.        ]\n",
      " [  0.         264.87955   ]\n",
      " [  0.          85.15058   ]\n",
      " [  0.           0.        ]]\n"
     ]
    }
   ],
   "source": [
    "# retrieve range of each element from the encoding vector \n",
    "enc_vec_set = pico_ae_model.encoder.predict(pico_ae_dat,verbose=False)\n",
    "enc_vec_min_max = np.array([[np.min(enc_vec_set[:,:,i,j]),np.max(enc_vec_set[:,:,i,j])] for i in range(enc_vec_set.shape[2]) for j in range(enc_vec_set.shape[3])])\n",
    "\n",
    "print(enc_vec_min_max.shape)  #should be (1,16,2)\n",
    "print(enc_vec_min_max)\n",
    " \n"
   ]
  },
  {
   "cell_type": "code",
   "execution_count": 847,
   "metadata": {},
   "outputs": [
    {
     "data": {
      "image/png": "[encoded data removed]",
      "text/plain": [
       "<Figure size 1440x504 with 7 Axes>"
      ]
     },
     "metadata": {
      "needs_background": "light"
     },
     "output_type": "display_data"
    }
   ],
   "source": [
    "# sample from this space and show output\n",
    "sample_set = []\n",
    "for i in range(7):\n",
    "    sample = np.array([np.random.uniform(enc_vec_min_max[i][0],enc_vec_min_max[i][1]) for i in range(16)])\n",
    "    sample = np.expand_dims(sample,0)\n",
    "    sample = np.expand_dims(sample,0)\n",
    "    sample_set.append(sample)\n",
    "sample_set = np.array(sample_set)\n",
    "pred_samp_set = pico_ae_model.decoder.predict(sample_set,verbose=False)\n",
    "\n",
    "showMultiSprPalette([decodeSpr1H(s) for s in pred_samp_set],text='AE Sampled set')\n"
   ]
  },
  {
   "cell_type": "code",
   "execution_count": 848,
   "metadata": {},
   "outputs": [
    {
     "name": "stdout",
     "output_type": "stream",
     "text": [
      "WARNING:tensorflow:Compiled the loaded model, but the compiled metrics have yet to be built. `model.compile_metrics` will be empty until you train or evaluate the model.\n"
     ]
    },
    {
     "name": "stderr",
     "output_type": "stream",
     "text": [
      "WARNING:tensorflow:Compiled the loaded model, but the compiled metrics have yet to be built. `model.compile_metrics` will be empty until you train or evaluate the model.\n"
     ]
    },
    {
     "name": "stdout",
     "output_type": "stream",
     "text": [
      "WARNING:tensorflow:Compiled the loaded model, but the compiled metrics have yet to be built. `model.compile_metrics` will be empty until you train or evaluate the model.\n"
     ]
    },
    {
     "name": "stderr",
     "output_type": "stream",
     "text": [
      "WARNING:tensorflow:Compiled the loaded model, but the compiled metrics have yet to be built. `model.compile_metrics` will be empty until you train or evaluate the model.\n"
     ]
    }
   ],
   "source": [
    "# export the model\n",
    "pico_ae_model.exportEnc(f'pico_ae-[char100p]-{EPOCHS}')\n",
    "pico_ae_model.exportDec(f'pico_ae-[char100p]-{EPOCHS}')"
   ]
  },
  {
   "attachments": {},
   "cell_type": "markdown",
   "metadata": {},
   "source": [
    "#### VARIATIONAL AUTOENCODER"
   ]
  },
  {
   "cell_type": "code",
   "execution_count": 849,
   "metadata": {},
   "outputs": [],
   "source": [
    "# CONSTANTS\n",
    "\n",
    "TRAIN_VAE = False\n",
    "VAE_MODEL_NAME = \"pico_vae-[char]-1000\"\n",
    "vae_dataset_type = \"char\"  #char, food, or both\n",
    "EXPORT_VAE = False\n",
    "\n",
    "VAE_Z = 16\n",
    "VAE_EPOCHS = 750\n",
    "VAE_BATCH_SIZE = 8"
   ]
  },
  {
   "cell_type": "code",
   "execution_count": 850,
   "metadata": {},
   "outputs": [],
   "source": [
    "##  BASIC VAE  ##\n",
    "\n",
    "class Sampling(Layer):\n",
    "    \"\"\"Uses (z_mean, z_log_var) to sample z, the vector encoding a digit.\"\"\"\n",
    "\n",
    "    def call(self, inputs):\n",
    "        z_mean, z_log_var = inputs\n",
    "        batch = tf.shape(z_mean)[0]\n",
    "        dim = tf.shape(z_mean)[1]\n",
    "        epsilon = tf.keras.backend.random_normal(shape=(batch, dim))\n",
    "        return z_mean + tf.exp(0.5 * z_log_var) * epsilon\n",
    "    \n",
    "\n",
    "\n",
    "class PICOVAE(Model):\n",
    "    def __init__(self,nn_shape,zshape=16,show_summary=False):\n",
    "        super(PICOVAE, self).__init__()\n",
    "        \n",
    "        self.spr_shape = nn_shape\n",
    "        self.latent_dim = zshape\n",
    "        \n",
    "        #make the models\n",
    "        self.makeEncoder(show_summary)\n",
    "        self.makeDecoder(show_summary)\n",
    "        \n",
    "        \n",
    "    #makes the encoder model for the VAE\n",
    "    def makeEncoder(self,show_summary=False):\n",
    "        \n",
    "        #variational encoder\n",
    "        enc_in = Input(shape=self.spr_shape)\n",
    "        x = Conv2D(32, (2,2), activation=LeakyReLU(), padding='same', strides=2)(enc_in)\n",
    "        x = Conv2D(64, (2,2), activation=LeakyReLU(), padding='same', strides=2)(x)\n",
    "        x = Flatten()(x)\n",
    "        x = Dense(16, activation='relu')(x)\n",
    "        \n",
    "        #variational sampling\n",
    "        z_mean = Dense(self.latent_dim, name=\"z_mean\")(x)\n",
    "        z_log_var = Dense(self.latent_dim, name=\"z_log_var\")(x)\n",
    "        z = Sampling()([z_mean, z_log_var])\n",
    "            \n",
    "        #combine together\n",
    "        self.encoder = Model(enc_in, [z_mean, z_log_var, z], name='encoder')\n",
    "        \n",
    "        if show_summary:\n",
    "            self.encoder.summary()\n",
    "        \n",
    "    #makes the decoder model for the VAE\n",
    "    def makeDecoder(self,show_summary=False):\n",
    "        #normal decoder\n",
    "        dec_in = Input(shape=(self.latent_dim,))\n",
    "        y = Dense(2*2*64, activation=\"relu\")(dec_in)  #product of output shape of encoder model\n",
    "        y = Reshape((2,2,64))(y)  #output shape of encoder model before flattening\n",
    "        y = Conv2DTranspose(64, kernel_size=2, strides=2, activation=LeakyReLU(), padding='same')(y)\n",
    "        y = Conv2DTranspose(32, kernel_size=2, strides=2, activation=LeakyReLU(), padding='same')(y)\n",
    "        dec_out = Conv2DTranspose(16, kernel_size=(3, 3), activation='softmax', padding='same')(y)  #softmax to get 1-hot encoding\n",
    "        self.decoder = Model(dec_in, dec_out)\n",
    "\n",
    "        \n",
    "        if show_summary:\n",
    "            self.decoder.summary()\n",
    "\n",
    "    # training step for VAE\n",
    "    def train_step(self, data):    \n",
    "        with tf.GradientTape() as tape:\n",
    "            #get output encoding and reconstruct from latent vector\n",
    "            z_mean, z_log_var, z = self.encoder(data)\n",
    "\n",
    "            # reconstructive loss\n",
    "            reconstruction = self.decoder(z)\n",
    "            reconstruction_loss = tf.reduce_mean(\n",
    "                tf.reduce_sum(\n",
    "                    tf.keras.losses.categorical_crossentropy(data, reconstruction), axis=(1, 2)   #categorical cross-entropy because one-hot encoded\n",
    "                )\n",
    "            )\n",
    "\n",
    "            # KL divergence loss\n",
    "            kl = -0.5 * (1 + z_log_var - tf.square(z_mean) - tf.exp(z_log_var))\n",
    "            kl = tf.reduce_mean(tf.reduce_sum(kl, axis=1))\n",
    "\n",
    "            #total loss\n",
    "            tl = reconstruction_loss + kl\n",
    "             \n",
    "        #apply loss back to weights\n",
    "        grads = tape.gradient(tl, self.trainable_weights)\n",
    "        self.optimizer.apply_gradients(zip(grads, self.trainable_weights))\n",
    "        \n",
    "        return {\"recon loss\":reconstruction_loss, \"kl loss\":kl, \"total loss\": tl}\n",
    "    \n",
    "    #custom reconstruction function\n",
    "    def reconstruct(self, data, **kwargs):\n",
    "        _, _, z = self.encoder.predict(data,**kwargs)\n",
    "        reconstruction = self.decoder.predict(z,**kwargs)\n",
    "        return reconstruction\n",
    "    \n",
    "    #custom encoding function\n",
    "    def decodeZ(self, z, **kwargs):\n",
    "        return self.decoder.predict(z,**kwargs)\n",
    "    \n",
    "\n",
    "    #### EXPORT/IMPORT  ####\n",
    "    \n",
    "    def exportEnc(self, name):\n",
    "        if not os.path.exists(\"../models/gen_models/vaes/\"):\n",
    "            os.mkdir(\"../models/gen_models/vaes/\")\n",
    "        self.encoder.save(f\"../models/gen_models/vaes/{name}_encoder.h5\")\n",
    "\n",
    "    def exportDec(self, name):\n",
    "        if not os.path.exists(\"../models/gen_models/vaes/\"):\n",
    "            os.mkdir(\"../models/gen_models/vaes/\")\n",
    "        self.decoder.save(f\"../models/gen_models/vaes/{name}_decoder.h5\")\n",
    "\n",
    "    def importDec(self,name):\n",
    "        self.decoder = load_model(f\"../models/gen_models/vaes/{name}_decoder.h5\",custom_objects={\"Sampling\":Sampling})\n",
    "        \n",
    "    def importEnc(self,name):\n",
    "        self.encoder = load_model(f\"../models/gen_models/vaes/{name}_encoder.h5\",custom_objects={\"Sampling\":Sampling})"
   ]
  },
  {
   "cell_type": "code",
   "execution_count": 851,
   "metadata": {},
   "outputs": [
    {
     "name": "stdout",
     "output_type": "stream",
     "text": [
      "Autoencoder Dataset shape: (100, 8, 8, 16)\n",
      "Model: \"encoder\"\n",
      "__________________________________________________________________________________________________\n",
      " Layer (type)                   Output Shape         Param #     Connected to                     \n",
      "==================================================================================================\n",
      " input_145 (InputLayer)         [(None, 8, 8, 16)]   0           []                               \n",
      "                                                                                                  \n",
      " conv2d_173 (Conv2D)            (None, 4, 4, 32)     2080        ['input_145[0][0]']              \n",
      "                                                                                                  \n",
      " conv2d_174 (Conv2D)            (None, 2, 2, 64)     8256        ['conv2d_173[0][0]']             \n",
      "                                                                                                  \n",
      " flatten_28 (Flatten)           (None, 256)          0           ['conv2d_174[0][0]']             \n",
      "                                                                                                  \n",
      " dense_192 (Dense)              (None, 16)           4112        ['flatten_28[0][0]']             \n",
      "                                                                                                  \n",
      " z_mean (Dense)                 (None, 16)           272         ['dense_192[0][0]']              \n",
      "                                                                                                  \n",
      " z_log_var (Dense)              (None, 16)           272         ['dense_192[0][0]']              \n",
      "                                                                                                  \n",
      " sampling_4 (Sampling)          (None, 16)           0           ['z_mean[0][0]',                 \n",
      "                                                                  'z_log_var[0][0]']              \n",
      "                                                                                                  \n",
      "==================================================================================================\n",
      "Total params: 14,992\n",
      "Trainable params: 14,992\n",
      "Non-trainable params: 0\n",
      "__________________________________________________________________________________________________\n",
      "Model: \"model_4\"\n",
      "_________________________________________________________________\n",
      " Layer (type)                Output Shape              Param #   \n",
      "=================================================================\n",
      " input_146 (InputLayer)      [(None, 16)]              0         \n",
      "                                                                 \n",
      " dense_193 (Dense)           (None, 256)               4352      \n",
      "                                                                 \n",
      " reshape_84 (Reshape)        (None, 2, 2, 64)          0         \n",
      "                                                                 \n",
      " conv2d_transpose_235 (Conv2  (None, 4, 4, 64)         16448     \n",
      " DTranspose)                                                     \n",
      "                                                                 \n",
      " conv2d_transpose_236 (Conv2  (None, 8, 8, 32)         8224      \n",
      " DTranspose)                                                     \n",
      "                                                                 \n",
      " conv2d_transpose_237 (Conv2  (None, 8, 8, 16)         4624      \n",
      " DTranspose)                                                     \n",
      "                                                                 \n",
      "=================================================================\n",
      "Total params: 33,648\n",
      "Trainable params: 33,648\n",
      "Non-trainable params: 0\n",
      "_________________________________________________________________\n",
      "WARNING:tensorflow:No training configuration found in the save file, so the model was *not* compiled. Compile it manually.\n"
     ]
    },
    {
     "name": "stderr",
     "output_type": "stream",
     "text": [
      "WARNING:tensorflow:No training configuration found in the save file, so the model was *not* compiled. Compile it manually.\n"
     ]
    },
    {
     "name": "stdout",
     "output_type": "stream",
     "text": [
      "WARNING:tensorflow:No training configuration found in the save file, so the model was *not* compiled. Compile it manually.\n"
     ]
    },
    {
     "name": "stderr",
     "output_type": "stream",
     "text": [
      "WARNING:tensorflow:No training configuration found in the save file, so the model was *not* compiled. Compile it manually.\n"
     ]
    }
   ],
   "source": [
    "# setup the dataset\n",
    "if vae_dataset_type == \"char\":\n",
    "    pico_vae_dat = pico_char_dat\n",
    "elif vae_dataset_type == \"food\":\n",
    "    pico_vae_dat = pico_food_dat\n",
    "else:\n",
    "    pico_ae_dat = np.concatenate((pico_food_dat,pico_char_dat),axis=0)  # combine food and character datasets\n",
    "\n",
    "pico_vae_dat = np.array([encodeSpr1H(s) for s in pico_vae_dat])   # encode to 1-hot\n",
    "np.random.shuffle(pico_vae_dat)                                  # shuffle the dataset\n",
    "print(f\"Autoencoder Dataset shape: {pico_vae_dat.shape}\")\n",
    "\n",
    "# setup the VAE model\n",
    "pico_vae_model = PICOVAE((8,8,len(PICO_PALETTE)),VAE_Z,True)\n",
    "\n",
    "# train the model if TRAIN_VAE is True else load the model\n",
    "if TRAIN_VAE:\n",
    "    pico_vae_model.compile(optimizer=tf.keras.optimizers.Adam(learning_rate=0.0005))\n",
    "    vaeh = pico_vae_model.fit(pico_vae_dat,epochs=VAE_EPOCHS,batch_size=VAE_BATCH_SIZE,shuffle=True,verbose=True)\n",
    "else: \n",
    "    pico_vae_model.importEnc(VAE_MODEL_NAME)\n",
    "    pico_vae_model.importDec(VAE_MODEL_NAME)\n"
   ]
  },
  {
   "cell_type": "code",
   "execution_count": 852,
   "metadata": {},
   "outputs": [
    {
     "data": {
      "text/plain": [
       "(100, 8, 8, 16)"
      ]
     },
     "execution_count": 852,
     "metadata": {},
     "output_type": "execute_result"
    }
   ],
   "source": [
    "pico_vae_dat.shape"
   ]
  },
  {
   "cell_type": "code",
   "execution_count": 853,
   "metadata": {},
   "outputs": [],
   "source": [
    "#plot the accuracy over time\n",
    "if TRAIN_VAE:\n",
    "    plt.plot(vaeh.history['recon loss'],label='recon loss')\n",
    "    plt.plot(vaeh.history['kl loss'],label='kl loss')\n",
    "    plt.plot(vaeh.history['total loss'],label='total loss')\n",
    "    plt.legend()\n",
    "\n",
    "    plt.show()"
   ]
  },
  {
   "cell_type": "code",
   "execution_count": 854,
   "metadata": {},
   "outputs": [
    {
     "data": {
      "image/png": "[encoded data removed]",
      "text/plain": [
       "<Figure size 1440x504 with 7 Axes>"
      ]
     },
     "metadata": {
      "needs_background": "light"
     },
     "output_type": "display_data"
    },
    {
     "data": {
      "image/png": "[encoded data removed]",
      "text/plain": [
       "<Figure size 1440x504 with 7 Axes>"
      ]
     },
     "metadata": {
      "needs_background": "light"
     },
     "output_type": "display_data"
    }
   ],
   "source": [
    "# test output\n",
    "vae_test_set = random.choices(pico_vae_dat, k=7)\n",
    "vae_test_set = np.array(vae_test_set)\n",
    "\n",
    "showMultiSprPalette([decodeSpr1H(s) for s in vae_test_set],text='INPUT')\n",
    "showMultiSprPalette([decodeSpr1H(s) for s in pico_vae_model.reconstruct(vae_test_set,verbose=False)],text='VAE PREDICT')\n"
   ]
  },
  {
   "cell_type": "code",
   "execution_count": 855,
   "metadata": {},
   "outputs": [
    {
     "name": "stdout",
     "output_type": "stream",
     "text": [
      "(7, 16)\n"
     ]
    },
    {
     "data": {
      "image/png": "[encoded data removed]",
      "text/plain": [
       "<Figure size 1440x504 with 7 Axes>"
      ]
     },
     "metadata": {
      "needs_background": "light"
     },
     "output_type": "display_data"
    },
    {
     "data": {
      "image/png": "[encoded data removed]",
      "text/plain": [
       "<Figure size 1440x504 with 7 Axes>"
      ]
     },
     "metadata": {
      "needs_background": "light"
     },
     "output_type": "display_data"
    }
   ],
   "source": [
    "# random sampling\n",
    "\n",
    "if vae_dataset_type == \"char\":\n",
    "    # show some final outputs from real data\n",
    "    real_set = [7,30,53,86,90,96,99]    \n",
    "    real_set_label = ['Koopa','Donatello','Finn','Dewey','Link','Samus','Pikachu']\n",
    "    real_oh_set = np.array([encodeSpr1H(s) for s in pico_char_dat[real_set]])\n",
    "\n",
    "    _,_,real_enc_z = pico_vae_model.encoder.predict(real_oh_set,verbose=False)\n",
    "    real_dec = pico_vae_model.decoder.predict(real_enc_z,verbose=False)\n",
    "\n",
    "    print(real_enc_z.shape)\n",
    "\n",
    "    showMultiSprPalette([pico_char_dat[i] for i in real_set],text='Real set')\n",
    "    showMultiSprPalette([decodeSpr1H(s) for s in real_dec],text='VAE Pred set')\n",
    "\n",
    "elif vae_dataset_type == \"food\":\n",
    "    # show some final outputs from real data\n",
    "    real_set = [2,6,7,11,27,38,63]    \n",
    "    real_set_label = ['Banana', \"Watermelon\", \"Cherry\", \"Beer\", \"Pretzel\", \"Blue Popsicle\", \"Pizza\"]\n",
    "    real_oh_set = np.array([encodeSpr1H(s) for s in pico_food_dat[real_set]])\n",
    "\n",
    "    _,_,real_enc_z = pico_vae_model.encoder.predict(real_oh_set,verbose=False)\n",
    "    real_dec = pico_vae_model.decoder.predict(real_enc_z,verbose=False)\n",
    "\n",
    "    print(real_enc_z.shape)\n",
    "\n",
    "    showMultiSprPalette([pico_food_dat[i] for i in real_set],text='Real set')\n",
    "    showMultiSprPalette([decodeSpr1H(s) for s in real_dec],text='VAE Pred set')\n"
   ]
  },
  {
   "cell_type": "code",
   "execution_count": 856,
   "metadata": {},
   "outputs": [
    {
     "data": {
      "image/png": "[encoded data removed]",
      "text/plain": [
       "<Figure size 1440x504 with 7 Axes>"
      ]
     },
     "metadata": {
      "needs_background": "light"
     },
     "output_type": "display_data"
    }
   ],
   "source": [
    "# shift from one character to another\n",
    "\n",
    "def interpolateVec(v1,v2,steps):\n",
    "    return [v1 + (v2-v1)*i/(steps-1) for i in range(steps)]\n",
    "\n",
    "pick2 = random.sample(range(len(real_enc_z)), k=2)\n",
    "inter_vec = interpolateVec(real_enc_z[pick2[0]],real_enc_z[pick2[1]],7) \n",
    "inter_pred = pico_vae_model.decodeZ(np.array(inter_vec),verbose=False)\n",
    "showMultiSprPalette([decodeSpr1H(s) for s in inter_pred],text=f'VAE Interpolation: {real_set_label[pick2[0]]} to {real_set_label[pick2[1]]}')\n"
   ]
  },
  {
   "cell_type": "code",
   "execution_count": 857,
   "metadata": {},
   "outputs": [
    {
     "data": {
      "image/png": "[encoded data removed]",
      "text/plain": [
       "<Figure size 2000x700 with 7 Axes>"
      ]
     },
     "metadata": {},
     "output_type": "display_data"
    }
   ],
   "source": [
    "# sample from this space and show output\n",
    "sample_set = np.random.normal(0,1,size=(7,VAE_Z))\n",
    "\n",
    "pred_samp_set = pico_vae_model.decoder.predict(sample_set,verbose=False)\n",
    "\n",
    "showMultiSprPalette([decodeSpr1H(s) for s in pred_samp_set],text='VAE Sampled set')\n"
   ]
  },
  {
   "cell_type": "code",
   "execution_count": 858,
   "metadata": {},
   "outputs": [],
   "source": [
    "# export the model\n",
    "if EXPORT_VAE:\n",
    "    pico_vae_model.exportEnc(f'pico_vae-[{vae_dataset_type}]-{VAE_EPOCHS}')\n",
    "    pico_vae_model.exportDec(f'pico_vae-[{vae_dataset_type}]-{VAE_EPOCHS}')"
   ]
  },
  {
   "attachments": {},
   "cell_type": "markdown",
   "metadata": {},
   "source": [
    "#### STUPID MODEL\n",
    "Embedding to image model. That's it. Take a pretrained embedding network, train a model to output an image, that's it. Tim bet $25 this wouldn't work lmao"
   ]
  },
  {
   "cell_type": "code",
   "execution_count": 859,
   "metadata": {},
   "outputs": [],
   "source": [
    "# IMPORT DOC2VEC\n",
    "\n",
    "from gensim.test.utils import common_texts\n",
    "from gensim.models.doc2vec import Doc2Vec, TaggedDocument\n",
    "from sklearn.metrics.pairwise import cosine_similarity as cos_sim\n",
    "\n",
    "documents = [TaggedDocument(doc, [i]) for i, doc in enumerate(common_texts)]\n",
    "D2V_MODEL = Doc2Vec(documents, vector_size=128, window=2, min_count=1)\n",
    "\n",
    "def wordEmb(txt):\n",
    "    return D2V_MODEL.infer_vector(txt.split())"
   ]
  },
  {
   "cell_type": "code",
   "execution_count": 860,
   "metadata": {},
   "outputs": [
    {
     "name": "stdout",
     "output_type": "stream",
     "text": [
      "COSINE SIM: [[ 0.99999994  0.04852686  0.01285167]\n",
      " [ 0.04852686  1.         -0.13741206]\n",
      " [ 0.01285167 -0.13741206  1.        ]]\n",
      "EUCLIDEAN DIST: [[0.0, 0.034984995, 0.035841152], [0.034984995, 0.0, 0.03873517], [0.035841152, 0.03873517, 0.0]]\n"
     ]
    }
   ],
   "source": [
    "dewey = wordEmb(\"a duck with a blue hat\")\n",
    "huey = wordEmb(\"a duck with a red hat\")\n",
    "pikachu = wordEmb(\"a yellow electric mouse\")\n",
    "\n",
    "# get similarities between phrases by getting distances between word embeddings\n",
    "print(f\"COSINE SIM: {cos_sim([dewey,huey,pikachu])}\")\n",
    "print(f\"EUCLIDEAN DIST: {[[np.linalg.norm(a-b) for a in [dewey,huey,pikachu]] for b in [dewey,huey,pikachu] ]}\")\n"
   ]
  },
  {
   "cell_type": "code",
   "execution_count": 861,
   "metadata": {},
   "outputs": [
    {
     "name": "stderr",
     "output_type": "stream",
     "text": [
      "/usr/local/lib/python3.9/site-packages/tqdm/auto.py:21: TqdmWarning: IProgress not found. Please update jupyter and ipywidgets. See https://ipywidgets.readthedocs.io/en/stable/user_install.html\n",
      "  from .autonotebook import tqdm as notebook_tqdm\n"
     ]
    }
   ],
   "source": [
    "# IMPORT SENTENCE BERT\n",
    "from sentence_transformers import SentenceTransformer\n",
    "SBERT_MODEL = SentenceTransformer('bert-base-nli-mean-tokens')\n",
    "\n",
    "def sentEmb(txt):\n",
    "    return SBERT_MODEL.encode([txt])[0]"
   ]
  },
  {
   "cell_type": "code",
   "execution_count": 862,
   "metadata": {},
   "outputs": [
    {
     "name": "stdout",
     "output_type": "stream",
     "text": [
      "COSINE SIM: [[1.0000001  0.6279819  0.23689032]\n",
      " [0.6279819  1.0000001  0.32165208]\n",
      " [0.23689032 0.32165208 0.99999994]]\n",
      "EUCLIDEAN DIST: [[0.0, 14.473851, 20.830334], [14.473851, 0.0, 19.58954], [20.830334, 19.58954, 0.0]]\n"
     ]
    }
   ],
   "source": [
    "dewey = sentEmb(\"a duck with a blue hat\")\n",
    "huey = sentEmb(\"a duck with a red hat\")\n",
    "pikachu = sentEmb(\"a yellow electric mouse\")\n",
    "\n",
    "# get similarities between phrases by getting distances between word embeddings\n",
    "print(f\"COSINE SIM: {cos_sim([dewey,huey,pikachu])}\")\n",
    "print(f\"EUCLIDEAN DIST: {[[np.linalg.norm(a-b) for a in [dewey,huey,pikachu]] for b in [dewey,huey,pikachu] ]}\")"
   ]
  },
  {
   "attachments": {},
   "cell_type": "markdown",
   "metadata": {},
   "source": [
    "Conclusion: Use Sentence Transformers with Cosine Similarity metric"
   ]
  },
  {
   "attachments": {},
   "cell_type": "markdown",
   "metadata": {},
   "source": [
    "#### Make a model trained on word embedding to image"
   ]
  },
  {
   "cell_type": "code",
   "execution_count": 863,
   "metadata": {},
   "outputs": [
    {
     "name": "stdout",
     "output_type": "stream",
     "text": [
      "a big duck standing up with a brown outfit\n"
     ]
    },
    {
     "data": {
      "image/png": "[encoded data removed]",
      "text/plain": [
       "<Figure size 200x200 with 1 Axes>"
      ]
     },
     "metadata": {},
     "output_type": "display_data"
    }
   ],
   "source": [
    "# import the labels for the PICO characters dataset\n",
    "pico_char_labels = np.array([l.strip() for l in open('../data/rip_data/character_desc.txt','r').readlines()])\n",
    "\n",
    "# check association match\n",
    "rand_char_i = random.randint(0,len(pico_char_labels))\n",
    "rand_char = pico_char_labels[rand_char_i]\n",
    "rand_char_img = pico_char_dat[rand_char_i]\n",
    "print(f\"{rand_char}\")\n",
    "showSprPalette(rand_char_img)"
   ]
  },
  {
   "cell_type": "code",
   "execution_count": 864,
   "metadata": {},
   "outputs": [
    {
     "ename": "NameError",
     "evalue": "name 'pico_char_labels' is not defined",
     "output_type": "error",
     "traceback": [
      "\u001b[0;31m---------------------------------------------------------------------------\u001b[0m",
      "\u001b[0;31mNameError\u001b[0m                                 Traceback (most recent call last)",
      "\u001b[0;32m<ipython-input-9-ca890afa12aa>\u001b[0m in \u001b[0;36m<module>\u001b[0;34m\u001b[0m\n\u001b[1;32m      1\u001b[0m \u001b[0;31m# create the dataset (embheddings -> images)\u001b[0m\u001b[0;34m\u001b[0m\u001b[0;34m\u001b[0m\u001b[0;34m\u001b[0m\u001b[0m\n\u001b[0;32m----> 2\u001b[0;31m \u001b[0mpico_char_emb\u001b[0m \u001b[0;34m=\u001b[0m \u001b[0mSBERT_MODEL\u001b[0m\u001b[0;34m.\u001b[0m\u001b[0mencode\u001b[0m\u001b[0;34m(\u001b[0m\u001b[0mpico_char_labels\u001b[0m\u001b[0;34m)\u001b[0m\u001b[0;34m\u001b[0m\u001b[0;34m\u001b[0m\u001b[0m\n\u001b[0m\u001b[1;32m      3\u001b[0m \u001b[0mpico_char_emb\u001b[0m \u001b[0;34m=\u001b[0m \u001b[0mnp\u001b[0m\u001b[0;34m.\u001b[0m\u001b[0marray\u001b[0m\u001b[0;34m(\u001b[0m\u001b[0mpico_char_emb\u001b[0m\u001b[0;34m)\u001b[0m\u001b[0;34m\u001b[0m\u001b[0;34m\u001b[0m\u001b[0m\n\u001b[1;32m      4\u001b[0m \u001b[0;34m\u001b[0m\u001b[0m\n\u001b[1;32m      5\u001b[0m \u001b[0mX_train\u001b[0m \u001b[0;34m=\u001b[0m \u001b[0mpico_char_emb\u001b[0m\u001b[0;34m\u001b[0m\u001b[0;34m\u001b[0m\u001b[0m\n",
      "\u001b[0;31mNameError\u001b[0m: name 'pico_char_labels' is not defined"
     ]
    }
   ],
   "source": [
    "# create the dataset (embheddings -> images)\n",
    "pico_char_emb = SBERT_MODEL.encode(pico_char_labels)\n",
    "pico_char_emb = np.array(pico_char_emb)\n",
    "\n",
    "X_train = pico_char_emb\n",
    "Y_train = np.array([encodeSpr1H(s) for s in pico_char_dat])\n",
    "\n",
    "print(f\"X_train: {X_train.shape}\")\n",
    "print(f\"Y_train: {Y_train.shape}\")"
   ]
  },
  {
   "cell_type": "code",
   "execution_count": 865,
   "metadata": {},
   "outputs": [],
   "source": [
    "# named after Tim's bet that this model was too simple lol\n",
    "class FiveDollarModel(Model):\n",
    "    def __init__(self,lv_shape,embedder=SBERT_MODEL):\n",
    "        super(FiveDollarModel, self).__init__()\n",
    "        self.embedder = embedder\n",
    "        self.decoder = Sequential([\n",
    "            InputLayer(input_shape=(lv_shape,)),\n",
    "            # Dense(512,activation='relu'),\n",
    "            Dense(256,activation='relu'),\n",
    "            Reshape((2,2,64)),\n",
    "            Conv2DTranspose(32, (2,2), strides=(2,2), padding='same', activation='relu'),\n",
    "            Conv2DTranspose(16, (2,2), strides=(2,2), padding='same', activation='softmax')     # should output to a 8x8x16 one-hot encoded image\n",
    "        ])\n",
    "        \n",
    "        self.decoder.summary()\n",
    "        self.decoder.compile(optimizer='adam', loss='categorical_crossentropy', metrics=['accuracy'])\n",
    "\n",
    "    # embeds the text and returns an image\n",
    "    def txt2img(self,txt,uncode=True):\n",
    "        emb = self.embedder.encode([txt])\n",
    "        img = self.decoder.predict(np.array(emb),verbose=False)[0]\n",
    "        if uncode:\n",
    "            return decodeSpr1H(img)\n",
    "        else:\n",
    "            return img"
   ]
  },
  {
   "cell_type": "code",
   "execution_count": 866,
   "metadata": {},
   "outputs": [
    {
     "name": "stdout",
     "output_type": "stream",
     "text": [
      "Model: \"sequential_138\"\n",
      "_________________________________________________________________\n",
      " Layer (type)                Output Shape              Param #   \n",
      "=================================================================\n",
      " dense_194 (Dense)           (None, 256)               196864    \n",
      "                                                                 \n",
      " reshape_85 (Reshape)        (None, 2, 2, 64)          0         \n",
      "                                                                 \n",
      " conv2d_transpose_238 (Conv2  (None, 4, 4, 32)         8224      \n",
      " DTranspose)                                                     \n",
      "                                                                 \n",
      " conv2d_transpose_239 (Conv2  (None, 8, 8, 16)         2064      \n",
      " DTranspose)                                                     \n",
      "                                                                 \n",
      "=================================================================\n",
      "Total params: 207,152\n",
      "Trainable params: 207,152\n",
      "Non-trainable params: 0\n",
      "_________________________________________________________________\n",
      "Epoch 1/150\n",
      "7/7 [==============================] - 1s 4ms/step - loss: 2.7169 - accuracy: 0.1348\n",
      "Epoch 2/150\n",
      "7/7 [==============================] - 0s 3ms/step - loss: 2.5350 - accuracy: 0.2778\n",
      "Epoch 3/150\n",
      "7/7 [==============================] - 0s 3ms/step - loss: 2.3707 - accuracy: 0.3413\n",
      "Epoch 4/150\n",
      "7/7 [==============================] - 0s 3ms/step - loss: 2.2454 - accuracy: 0.3591\n",
      "Epoch 5/150\n",
      "7/7 [==============================] - 0s 4ms/step - loss: 2.1588 - accuracy: 0.3730\n",
      "Epoch 6/150\n",
      "7/7 [==============================] - 0s 4ms/step - loss: 2.0996 - accuracy: 0.3789\n",
      "Epoch 7/150\n",
      "7/7 [==============================] - 0s 3ms/step - loss: 2.0559 - accuracy: 0.3828\n",
      "Epoch 8/150\n",
      "7/7 [==============================] - 0s 4ms/step - loss: 2.0150 - accuracy: 0.3858\n",
      "Epoch 9/150\n",
      "7/7 [==============================] - 0s 3ms/step - loss: 1.9795 - accuracy: 0.3916\n",
      "Epoch 10/150\n",
      "7/7 [==============================] - 0s 3ms/step - loss: 1.9455 - accuracy: 0.3997\n",
      "Epoch 11/150\n",
      "7/7 [==============================] - 0s 3ms/step - loss: 1.9088 - accuracy: 0.4055\n",
      "Epoch 12/150\n",
      "7/7 [==============================] - 0s 3ms/step - loss: 1.8756 - accuracy: 0.4177\n",
      "Epoch 13/150\n",
      "7/7 [==============================] - 0s 3ms/step - loss: 1.8428 - accuracy: 0.4323\n",
      "Epoch 14/150\n",
      "7/7 [==============================] - 0s 3ms/step - loss: 1.8074 - accuracy: 0.4427\n",
      "Epoch 15/150\n",
      "7/7 [==============================] - 0s 4ms/step - loss: 1.7724 - accuracy: 0.4487\n",
      "Epoch 16/150\n",
      "7/7 [==============================] - 0s 4ms/step - loss: 1.7367 - accuracy: 0.4602\n",
      "Epoch 17/150\n",
      "7/7 [==============================] - 0s 4ms/step - loss: 1.7013 - accuracy: 0.4716\n",
      "Epoch 18/150\n",
      "7/7 [==============================] - 0s 4ms/step - loss: 1.6677 - accuracy: 0.4809\n",
      "Epoch 19/150\n",
      "7/7 [==============================] - 0s 3ms/step - loss: 1.6335 - accuracy: 0.4963\n",
      "Epoch 20/150\n",
      "7/7 [==============================] - 0s 3ms/step - loss: 1.6015 - accuracy: 0.5072\n",
      "Epoch 21/150\n",
      "7/7 [==============================] - 0s 3ms/step - loss: 1.5680 - accuracy: 0.5164\n",
      "Epoch 22/150\n",
      "7/7 [==============================] - 0s 4ms/step - loss: 1.5345 - accuracy: 0.5256\n",
      "Epoch 23/150\n",
      "7/7 [==============================] - 0s 3ms/step - loss: 1.5027 - accuracy: 0.5375\n",
      "Epoch 24/150\n",
      "7/7 [==============================] - 0s 3ms/step - loss: 1.4703 - accuracy: 0.5495\n",
      "Epoch 25/150\n",
      "7/7 [==============================] - 0s 4ms/step - loss: 1.4418 - accuracy: 0.5528\n",
      "Epoch 26/150\n",
      "7/7 [==============================] - 0s 3ms/step - loss: 1.4056 - accuracy: 0.5702\n",
      "Epoch 27/150\n",
      "7/7 [==============================] - 0s 3ms/step - loss: 1.3754 - accuracy: 0.5761\n",
      "Epoch 28/150\n",
      "7/7 [==============================] - 0s 3ms/step - loss: 1.3503 - accuracy: 0.5825\n",
      "Epoch 29/150\n",
      "7/7 [==============================] - 0s 3ms/step - loss: 1.3224 - accuracy: 0.5964\n",
      "Epoch 30/150\n",
      "7/7 [==============================] - 0s 3ms/step - loss: 1.2948 - accuracy: 0.6042\n",
      "Epoch 31/150\n",
      "7/7 [==============================] - 0s 4ms/step - loss: 1.2657 - accuracy: 0.6105\n",
      "Epoch 32/150\n",
      "7/7 [==============================] - 0s 4ms/step - loss: 1.2400 - accuracy: 0.6142\n",
      "Epoch 33/150\n",
      "7/7 [==============================] - 0s 4ms/step - loss: 1.2147 - accuracy: 0.6231\n",
      "Epoch 34/150\n",
      "7/7 [==============================] - 0s 3ms/step - loss: 1.1891 - accuracy: 0.6355\n",
      "Epoch 35/150\n",
      "7/7 [==============================] - 0s 4ms/step - loss: 1.1655 - accuracy: 0.6397\n",
      "Epoch 36/150\n",
      "7/7 [==============================] - 0s 3ms/step - loss: 1.1382 - accuracy: 0.6545\n",
      "Epoch 37/150\n",
      "7/7 [==============================] - 0s 3ms/step - loss: 1.1153 - accuracy: 0.6594\n",
      "Epoch 38/150\n",
      "7/7 [==============================] - 0s 4ms/step - loss: 1.0907 - accuracy: 0.6677\n",
      "Epoch 39/150\n",
      "7/7 [==============================] - 0s 5ms/step - loss: 1.0705 - accuracy: 0.6737\n",
      "Epoch 40/150\n",
      "7/7 [==============================] - 0s 3ms/step - loss: 1.0526 - accuracy: 0.6772\n",
      "Epoch 41/150\n",
      "7/7 [==============================] - 0s 3ms/step - loss: 1.0280 - accuracy: 0.6862\n",
      "Epoch 42/150\n",
      "7/7 [==============================] - 0s 3ms/step - loss: 1.0069 - accuracy: 0.6948\n",
      "Epoch 43/150\n",
      "7/7 [==============================] - 0s 3ms/step - loss: 0.9859 - accuracy: 0.7008\n",
      "Epoch 44/150\n",
      "7/7 [==============================] - 0s 3ms/step - loss: 0.9651 - accuracy: 0.7042\n",
      "Epoch 45/150\n",
      "7/7 [==============================] - 0s 4ms/step - loss: 0.9462 - accuracy: 0.7113\n",
      "Epoch 46/150\n",
      "7/7 [==============================] - 0s 4ms/step - loss: 0.9285 - accuracy: 0.7178\n",
      "Epoch 47/150\n",
      "7/7 [==============================] - 0s 3ms/step - loss: 0.9077 - accuracy: 0.7242\n",
      "Epoch 48/150\n",
      "7/7 [==============================] - 0s 4ms/step - loss: 0.8901 - accuracy: 0.7302\n",
      "Epoch 49/150\n",
      "7/7 [==============================] - 0s 3ms/step - loss: 0.8745 - accuracy: 0.7342\n",
      "Epoch 50/150\n",
      "7/7 [==============================] - 0s 4ms/step - loss: 0.8563 - accuracy: 0.7402\n",
      "Epoch 51/150\n",
      "7/7 [==============================] - 0s 4ms/step - loss: 0.8406 - accuracy: 0.7431\n",
      "Epoch 52/150\n",
      "7/7 [==============================] - 0s 3ms/step - loss: 0.8241 - accuracy: 0.7509\n",
      "Epoch 53/150\n",
      "7/7 [==============================] - 0s 4ms/step - loss: 0.8071 - accuracy: 0.7592\n",
      "Epoch 54/150\n",
      "7/7 [==============================] - 0s 3ms/step - loss: 0.7901 - accuracy: 0.7641\n",
      "Epoch 55/150\n",
      "7/7 [==============================] - 0s 3ms/step - loss: 0.7754 - accuracy: 0.7675\n",
      "Epoch 56/150\n",
      "7/7 [==============================] - 0s 3ms/step - loss: 0.7553 - accuracy: 0.7725\n",
      "Epoch 57/150\n",
      "7/7 [==============================] - 0s 3ms/step - loss: 0.7397 - accuracy: 0.7783\n",
      "Epoch 58/150\n",
      "7/7 [==============================] - 0s 5ms/step - loss: 0.7289 - accuracy: 0.7834\n",
      "Epoch 59/150\n",
      "7/7 [==============================] - 0s 4ms/step - loss: 0.7143 - accuracy: 0.7880\n",
      "Epoch 60/150\n",
      "7/7 [==============================] - 0s 4ms/step - loss: 0.6950 - accuracy: 0.7952\n",
      "Epoch 61/150\n",
      "7/7 [==============================] - 0s 4ms/step - loss: 0.6875 - accuracy: 0.7977\n",
      "Epoch 62/150\n",
      "7/7 [==============================] - 0s 4ms/step - loss: 0.6701 - accuracy: 0.8045\n",
      "Epoch 63/150\n",
      "7/7 [==============================] - 0s 3ms/step - loss: 0.6566 - accuracy: 0.8102\n",
      "Epoch 64/150\n",
      "7/7 [==============================] - 0s 4ms/step - loss: 0.6414 - accuracy: 0.8141\n",
      "Epoch 65/150\n",
      "7/7 [==============================] - 0s 4ms/step - loss: 0.6315 - accuracy: 0.8173\n",
      "Epoch 66/150\n",
      "7/7 [==============================] - 0s 3ms/step - loss: 0.6188 - accuracy: 0.8188\n",
      "Epoch 67/150\n",
      "7/7 [==============================] - 0s 3ms/step - loss: 0.6046 - accuracy: 0.8258\n",
      "Epoch 68/150\n",
      "7/7 [==============================] - 0s 3ms/step - loss: 0.5907 - accuracy: 0.8297\n",
      "Epoch 69/150\n",
      "7/7 [==============================] - 0s 3ms/step - loss: 0.5871 - accuracy: 0.8328\n",
      "Epoch 70/150\n",
      "7/7 [==============================] - 0s 4ms/step - loss: 0.5723 - accuracy: 0.8372\n",
      "Epoch 71/150\n",
      "7/7 [==============================] - 0s 3ms/step - loss: 0.5576 - accuracy: 0.8436\n",
      "Epoch 72/150\n",
      "7/7 [==============================] - 0s 3ms/step - loss: 0.5447 - accuracy: 0.8487\n",
      "Epoch 73/150\n",
      "7/7 [==============================] - 0s 3ms/step - loss: 0.5356 - accuracy: 0.8494\n",
      "Epoch 74/150\n",
      "7/7 [==============================] - 0s 3ms/step - loss: 0.5234 - accuracy: 0.8555\n",
      "Epoch 75/150\n",
      "7/7 [==============================] - 0s 3ms/step - loss: 0.5141 - accuracy: 0.8589\n",
      "Epoch 76/150\n",
      "7/7 [==============================] - 0s 4ms/step - loss: 0.5027 - accuracy: 0.8605\n",
      "Epoch 77/150\n",
      "7/7 [==============================] - 0s 3ms/step - loss: 0.4946 - accuracy: 0.8675\n",
      "Epoch 78/150\n",
      "7/7 [==============================] - 0s 3ms/step - loss: 0.4815 - accuracy: 0.8722\n",
      "Epoch 79/150\n",
      "7/7 [==============================] - 0s 3ms/step - loss: 0.4739 - accuracy: 0.8723\n",
      "Epoch 80/150\n",
      "7/7 [==============================] - 0s 3ms/step - loss: 0.4623 - accuracy: 0.8764\n",
      "Epoch 81/150\n",
      "7/7 [==============================] - 0s 3ms/step - loss: 0.4527 - accuracy: 0.8830\n",
      "Epoch 82/150\n",
      "7/7 [==============================] - 0s 4ms/step - loss: 0.4434 - accuracy: 0.8839\n",
      "Epoch 83/150\n",
      "7/7 [==============================] - 0s 3ms/step - loss: 0.4311 - accuracy: 0.8913\n",
      "Epoch 84/150\n",
      "7/7 [==============================] - 0s 3ms/step - loss: 0.4268 - accuracy: 0.8869\n",
      "Epoch 85/150\n",
      "7/7 [==============================] - 0s 3ms/step - loss: 0.4156 - accuracy: 0.8913\n",
      "Epoch 86/150\n",
      "7/7 [==============================] - 0s 3ms/step - loss: 0.4099 - accuracy: 0.8966\n",
      "Epoch 87/150\n",
      "7/7 [==============================] - 0s 3ms/step - loss: 0.4016 - accuracy: 0.8969\n",
      "Epoch 88/150\n",
      "7/7 [==============================] - 0s 21ms/step - loss: 0.3929 - accuracy: 0.9031\n",
      "Epoch 89/150\n",
      "7/7 [==============================] - 0s 4ms/step - loss: 0.3874 - accuracy: 0.9056\n",
      "Epoch 90/150\n",
      "7/7 [==============================] - 0s 3ms/step - loss: 0.3779 - accuracy: 0.9084\n",
      "Epoch 91/150\n",
      "7/7 [==============================] - 0s 4ms/step - loss: 0.3690 - accuracy: 0.9114\n",
      "Epoch 92/150\n",
      "7/7 [==============================] - 0s 3ms/step - loss: 0.3601 - accuracy: 0.9175\n",
      "Epoch 93/150\n",
      "7/7 [==============================] - 0s 3ms/step - loss: 0.3546 - accuracy: 0.9131\n",
      "Epoch 94/150\n",
      "7/7 [==============================] - 0s 3ms/step - loss: 0.3461 - accuracy: 0.9211\n",
      "Epoch 95/150\n",
      "7/7 [==============================] - 0s 3ms/step - loss: 0.3386 - accuracy: 0.9231\n",
      "Epoch 96/150\n",
      "7/7 [==============================] - 0s 3ms/step - loss: 0.3301 - accuracy: 0.9262\n",
      "Epoch 97/150\n",
      "7/7 [==============================] - 0s 3ms/step - loss: 0.3252 - accuracy: 0.9286\n",
      "Epoch 98/150\n",
      "7/7 [==============================] - 0s 4ms/step - loss: 0.3187 - accuracy: 0.9319\n",
      "Epoch 99/150\n",
      "7/7 [==============================] - 0s 3ms/step - loss: 0.3130 - accuracy: 0.9336\n",
      "Epoch 100/150\n",
      "7/7 [==============================] - 0s 3ms/step - loss: 0.3081 - accuracy: 0.9350\n",
      "Epoch 101/150\n",
      "7/7 [==============================] - 0s 3ms/step - loss: 0.2989 - accuracy: 0.9397\n",
      "Epoch 102/150\n",
      "7/7 [==============================] - 0s 3ms/step - loss: 0.2914 - accuracy: 0.9409\n",
      "Epoch 103/150\n",
      "7/7 [==============================] - 0s 3ms/step - loss: 0.2842 - accuracy: 0.9431\n",
      "Epoch 104/150\n",
      "7/7 [==============================] - 0s 4ms/step - loss: 0.2799 - accuracy: 0.9428\n",
      "Epoch 105/150\n",
      "7/7 [==============================] - 0s 3ms/step - loss: 0.2746 - accuracy: 0.9466\n",
      "Epoch 106/150\n",
      "7/7 [==============================] - 0s 3ms/step - loss: 0.2656 - accuracy: 0.9502\n",
      "Epoch 107/150\n",
      "7/7 [==============================] - 0s 3ms/step - loss: 0.2616 - accuracy: 0.9477\n",
      "Epoch 108/150\n",
      "7/7 [==============================] - 0s 3ms/step - loss: 0.2566 - accuracy: 0.9513\n",
      "Epoch 109/150\n",
      "7/7 [==============================] - 0s 3ms/step - loss: 0.2491 - accuracy: 0.9525\n",
      "Epoch 110/150\n",
      "7/7 [==============================] - 0s 3ms/step - loss: 0.2453 - accuracy: 0.9555\n",
      "Epoch 111/150\n",
      "7/7 [==============================] - 0s 3ms/step - loss: 0.2392 - accuracy: 0.9598\n",
      "Epoch 112/150\n",
      "7/7 [==============================] - 0s 3ms/step - loss: 0.2348 - accuracy: 0.9600\n",
      "Epoch 113/150\n",
      "7/7 [==============================] - 0s 3ms/step - loss: 0.2286 - accuracy: 0.9606\n",
      "Epoch 114/150\n",
      "7/7 [==============================] - 0s 3ms/step - loss: 0.2255 - accuracy: 0.9627\n",
      "Epoch 115/150\n",
      "7/7 [==============================] - 0s 3ms/step - loss: 0.2198 - accuracy: 0.9639\n",
      "Epoch 116/150\n",
      "7/7 [==============================] - 0s 3ms/step - loss: 0.2189 - accuracy: 0.9633\n",
      "Epoch 117/150\n",
      "7/7 [==============================] - 0s 3ms/step - loss: 0.2122 - accuracy: 0.9670\n",
      "Epoch 118/150\n",
      "7/7 [==============================] - 0s 3ms/step - loss: 0.2062 - accuracy: 0.9688\n",
      "Epoch 119/150\n",
      "7/7 [==============================] - 0s 4ms/step - loss: 0.2025 - accuracy: 0.9688\n",
      "Epoch 120/150\n",
      "7/7 [==============================] - 0s 3ms/step - loss: 0.1991 - accuracy: 0.9688\n",
      "Epoch 121/150\n",
      "7/7 [==============================] - 0s 4ms/step - loss: 0.1929 - accuracy: 0.9716\n",
      "Epoch 122/150\n",
      "7/7 [==============================] - 0s 5ms/step - loss: 0.1899 - accuracy: 0.9716\n",
      "Epoch 123/150\n",
      "7/7 [==============================] - 0s 3ms/step - loss: 0.1857 - accuracy: 0.9741\n",
      "Epoch 124/150\n",
      "7/7 [==============================] - 0s 3ms/step - loss: 0.1806 - accuracy: 0.9752\n",
      "Epoch 125/150\n",
      "7/7 [==============================] - 0s 3ms/step - loss: 0.1767 - accuracy: 0.9764\n",
      "Epoch 126/150\n",
      "7/7 [==============================] - 0s 3ms/step - loss: 0.1730 - accuracy: 0.9769\n",
      "Epoch 127/150\n",
      "7/7 [==============================] - 0s 3ms/step - loss: 0.1703 - accuracy: 0.9787\n",
      "Epoch 128/150\n",
      "7/7 [==============================] - 0s 3ms/step - loss: 0.1677 - accuracy: 0.9787\n",
      "Epoch 129/150\n",
      "7/7 [==============================] - 0s 3ms/step - loss: 0.1649 - accuracy: 0.9794\n",
      "Epoch 130/150\n",
      "7/7 [==============================] - 0s 3ms/step - loss: 0.1619 - accuracy: 0.9781\n",
      "Epoch 131/150\n",
      "7/7 [==============================] - 0s 4ms/step - loss: 0.1574 - accuracy: 0.9798\n",
      "Epoch 132/150\n",
      "7/7 [==============================] - 0s 3ms/step - loss: 0.1539 - accuracy: 0.9803\n",
      "Epoch 133/150\n",
      "7/7 [==============================] - 0s 3ms/step - loss: 0.1504 - accuracy: 0.9830\n",
      "Epoch 134/150\n",
      "7/7 [==============================] - 0s 4ms/step - loss: 0.1493 - accuracy: 0.9820\n",
      "Epoch 135/150\n",
      "7/7 [==============================] - 0s 3ms/step - loss: 0.1464 - accuracy: 0.9845\n",
      "Epoch 136/150\n",
      "7/7 [==============================] - 0s 3ms/step - loss: 0.1448 - accuracy: 0.9845\n",
      "Epoch 137/150\n",
      "7/7 [==============================] - 0s 3ms/step - loss: 0.1377 - accuracy: 0.9856\n",
      "Epoch 138/150\n",
      "7/7 [==============================] - 0s 3ms/step - loss: 0.1344 - accuracy: 0.9877\n",
      "Epoch 139/150\n",
      "7/7 [==============================] - 0s 4ms/step - loss: 0.1304 - accuracy: 0.9867\n",
      "Epoch 140/150\n",
      "7/7 [==============================] - 0s 3ms/step - loss: 0.1291 - accuracy: 0.9859\n",
      "Epoch 141/150\n",
      "7/7 [==============================] - 0s 3ms/step - loss: 0.1255 - accuracy: 0.9883\n",
      "Epoch 142/150\n",
      "7/7 [==============================] - 0s 3ms/step - loss: 0.1238 - accuracy: 0.9895\n",
      "Epoch 143/150\n",
      "7/7 [==============================] - 0s 3ms/step - loss: 0.1207 - accuracy: 0.9884\n",
      "Epoch 144/150\n",
      "7/7 [==============================] - 0s 4ms/step - loss: 0.1176 - accuracy: 0.9919\n",
      "Epoch 145/150\n",
      "7/7 [==============================] - 0s 4ms/step - loss: 0.1177 - accuracy: 0.9906\n",
      "Epoch 146/150\n",
      "7/7 [==============================] - 0s 3ms/step - loss: 0.1159 - accuracy: 0.9892\n",
      "Epoch 147/150\n",
      "7/7 [==============================] - 0s 3ms/step - loss: 0.1136 - accuracy: 0.9894\n",
      "Epoch 148/150\n",
      "7/7 [==============================] - 0s 3ms/step - loss: 0.1102 - accuracy: 0.9909\n",
      "Epoch 149/150\n",
      "7/7 [==============================] - 0s 4ms/step - loss: 0.1072 - accuracy: 0.9922\n",
      "Epoch 150/150\n",
      "7/7 [==============================] - 0s 4ms/step - loss: 0.1043 - accuracy: 0.9925\n"
     ]
    },
    {
     "data": {
      "text/plain": [
       "<keras.callbacks.History at 0x1e40cdfa0>"
      ]
     },
     "execution_count": 866,
     "metadata": {},
     "output_type": "execute_result"
    }
   ],
   "source": [
    "# create and train the model\n",
    "fdm = FiveDollarModel(X_train.shape[1])\n",
    "fdm.decoder.fit(X_train,Y_train,epochs=150,verbose=1,shuffle=True,batch_size=16)"
   ]
  },
  {
   "cell_type": "code",
   "execution_count": 867,
   "metadata": {},
   "outputs": [
    {
     "name": "stdout",
     "output_type": "stream",
     "text": [
      "a blue turtle standing up\n"
     ]
    },
    {
     "data": {
      "image/png": "[encoded data removed]",
      "text/plain": [
       "<Figure size 200x200 with 1 Axes>"
      ]
     },
     "metadata": {},
     "output_type": "display_data"
    },
    {
     "name": "stdout",
     "output_type": "stream",
     "text": [
      "a woman with green hair\n"
     ]
    },
    {
     "data": {
      "image/png": "[encoded data removed]",
      "text/plain": [
       "<Figure size 200x200 with 1 Axes>"
      ]
     },
     "metadata": {},
     "output_type": "display_data"
    },
    {
     "name": "stdout",
     "output_type": "stream",
     "text": [
      "a duck with a yellow shirt\n"
     ]
    },
    {
     "data": {
      "image/png": "[encoded data removed]",
      "text/plain": [
       "<Figure size 200x200 with 1 Axes>"
      ]
     },
     "metadata": {},
     "output_type": "display_data"
    },
    {
     "name": "stdout",
     "output_type": "stream",
     "text": [
      "a person with orange hair and red clothes\n"
     ]
    },
    {
     "data": {
      "image/png": "[encoded data removed]",
      "text/plain": [
       "<Figure size 200x200 with 1 Axes>"
      ]
     },
     "metadata": {},
     "output_type": "display_data"
    },
    {
     "name": "stdout",
     "output_type": "stream",
     "text": [
      "a buff man with a blue bandana on his forhead and blue pants\n"
     ]
    },
    {
     "data": {
      "image/png": "[encoded data removed]",
      "text/plain": [
       "<Figure size 200x200 with 1 Axes>"
      ]
     },
     "metadata": {},
     "output_type": "display_data"
    },
    {
     "name": "stdout",
     "output_type": "stream",
     "text": [
      "an old white duck with a black top hat, blue outfit, and a brown cane\n"
     ]
    },
    {
     "data": {
      "image/png": "[encoded data removed]",
      "text/plain": [
       "<Figure size 200x200 with 1 Axes>"
      ]
     },
     "metadata": {},
     "output_type": "display_data"
    }
   ],
   "source": [
    "# test the model on unseen data\n",
    "test_char_desc = [\"a blue turtle standing up\", \"a woman with green hair\", \"a duck with a yellow shirt\"]\n",
    "seen_char_desc = random.sample(list(pico_char_labels), k=3)\n",
    "\n",
    "for desc in test_char_desc:\n",
    "    print(desc)\n",
    "    showSprPalette(fdm.txt2img(desc))\n",
    "\n",
    "for desc in seen_char_desc:\n",
    "    print(desc)\n",
    "    showSprPalette(fdm.txt2img(desc))"
   ]
  },
  {
   "attachments": {},
   "cell_type": "markdown",
   "metadata": {},
   "source": [
    "#### Sanity generalization check with pure shapes"
   ]
  },
  {
   "cell_type": "code",
   "execution_count": 868,
   "metadata": {},
   "outputs": [],
   "source": [
    "# import the shapes spritesheet\n",
    "shapes_spr_dat = picoSS2np('../data/rip_data/colors.png')"
   ]
  },
  {
   "cell_type": "code",
   "execution_count": 869,
   "metadata": {},
   "outputs": [
    {
     "name": "stdout",
     "output_type": "stream",
     "text": [
      "(64, 8, 8)\n",
      "orange large line\n"
     ]
    },
    {
     "data": {
      "image/png": "[encoded data removed]",
      "text/plain": [
       "<Figure size 200x200 with 1 Axes>"
      ]
     },
     "metadata": {},
     "output_type": "display_data"
    }
   ],
   "source": [
    "colors = [\"red\", \"orange\", \"yellow\", \"green\", \"blue\", \"purple\", \"pink\", \"white\"]\n",
    "size = [\"large\", \"small\"]\n",
    "shapes = [\"square\", \"triangle\", \"circle\", \"line\"]\n",
    "squares = shapes_spr_dat[0:16]\n",
    "triangles = shapes_spr_dat[16:32]\n",
    "circles = shapes_spr_dat[32:48]\n",
    "lines = shapes_spr_dat[48:64]\n",
    "\n",
    "#label and encode\n",
    "shape_imgs = np.concatenate([squares,triangles,circles,lines],axis=0)\n",
    "print(shape_imgs.shape) #should be (64,8,8)\n",
    "shape_imgs_1h = np.array([encodeSpr1H(s) for s in shape_imgs])\n",
    "shape_labels = np.array([f\"{c} {z} {s}\" for s in shapes for z in size for c in colors])\n",
    "\n",
    "rand_shape = random.randint(0,len(shape_labels))\n",
    "print(f\"{shape_labels[rand_shape]}\")\n",
    "showSprPalette(shape_imgs[rand_shape])"
   ]
  },
  {
   "cell_type": "code",
   "execution_count": 870,
   "metadata": {},
   "outputs": [
    {
     "name": "stdout",
     "output_type": "stream",
     "text": [
      "Test Set: [2, 31, 45, 51]\n"
     ]
    },
    {
     "data": {
      "image/png": "[encoded data removed]",
      "text/plain": [
       "<Figure size 2000x700 with 4 Axes>"
      ]
     },
     "metadata": {},
     "output_type": "display_data"
    }
   ],
   "source": [
    "# train on the shapes (leave out some for testing)\n",
    "test_index = []\n",
    "for i in range(4):\n",
    "    test_index.append(random.randint(i*16,(i+1)*16))\n",
    "train_index = [i for i in range(len(shape_labels)) if i not in test_index]\n",
    "\n",
    "X_shape_train = np.array([sentEmb(l) for l in shape_labels[train_index]])\n",
    "Y_shape_train = shape_imgs_1h[train_index]\n",
    "\n",
    "X_shape_test = shape_labels[test_index]\n",
    "Y_shape_test = shape_imgs_1h[test_index]\n",
    "\n",
    "print(f\"Test Set: {test_index}\")\n",
    "showMultiSprPalette([decodeSpr1H(i) for i in Y_shape_test])"
   ]
  },
  {
   "cell_type": "code",
   "execution_count": 871,
   "metadata": {},
   "outputs": [],
   "source": [
    "# like $5 model but bigger\n",
    "class TenDollarModel(Model):\n",
    "    def __init__(self,lv_shape,embedder=SBERT_MODEL):\n",
    "        super(TenDollarModel, self).__init__()\n",
    "        self.embedder = embedder\n",
    "        self.decoder = Sequential([\n",
    "            InputLayer(input_shape=(lv_shape,)),\n",
    "            Dense(512,activation='relu'),\n",
    "            Dense(256,activation='relu'),\n",
    "            Dense(128,activation='relu'),\n",
    "            Dense(64,activation='relu'),\n",
    "            Reshape((1,1,64)),\n",
    "            Conv2DTranspose(64, (2,2), strides=(2,2), padding='same', activation=LeakyReLU()),\n",
    "            Conv2DTranspose(32, (2,2), strides=(2,2), padding='same', activation=LeakyReLU()),\n",
    "            Conv2DTranspose(16, (2,2), strides=(2,2), padding='same', activation='softmax')     # should output to a 8x8x16 one-hot encoded image\n",
    "        ])\n",
    "        \n",
    "        self.decoder.summary()\n",
    "        self.decoder.compile(optimizer='adam', loss='categorical_crossentropy', metrics=['accuracy'])\n",
    "\n",
    "    # embeds the text and returns an image\n",
    "    def txt2img(self,txt,uncode=True):\n",
    "        emb = self.embedder.encode([txt])\n",
    "        img = self.decoder.predict(np.array(emb),verbose=False)[0]\n",
    "        if uncode:\n",
    "            return decodeSpr1H(img)\n",
    "        else:\n",
    "            return img"
   ]
  },
  {
   "cell_type": "code",
   "execution_count": 872,
   "metadata": {},
   "outputs": [
    {
     "name": "stdout",
     "output_type": "stream",
     "text": [
      "Model: \"sequential_139\"\n",
      "_________________________________________________________________\n",
      " Layer (type)                Output Shape              Param #   \n",
      "=================================================================\n",
      " dense_195 (Dense)           (None, 256)               196864    \n",
      "                                                                 \n",
      " reshape_86 (Reshape)        (None, 2, 2, 64)          0         \n",
      "                                                                 \n",
      " conv2d_transpose_240 (Conv2  (None, 4, 4, 32)         8224      \n",
      " DTranspose)                                                     \n",
      "                                                                 \n",
      " conv2d_transpose_241 (Conv2  (None, 8, 8, 16)         2064      \n",
      " DTranspose)                                                     \n",
      "                                                                 \n",
      "=================================================================\n",
      "Total params: 207,152\n",
      "Trainable params: 207,152\n",
      "Non-trainable params: 0\n",
      "_________________________________________________________________\n",
      "Epoch 1/200\n"
     ]
    },
    {
     "ename": "KeyboardInterrupt",
     "evalue": "",
     "output_type": "error",
     "traceback": [
      "\u001b[0;31m---------------------------------------------------------------------------\u001b[0m",
      "\u001b[0;31mKeyboardInterrupt\u001b[0m                         Traceback (most recent call last)",
      "\u001b[1;32m/Users/milk/Desktop/GIL_Lab/BMO/BMO_chatbot_prototype/Experimental_Notebooks/sprite_autoencoder.ipynb Cell 51\u001b[0m in \u001b[0;36m5\n\u001b[1;32m      <a href='vscode-notebook-cell:/Users/milk/Desktop/GIL_Lab/BMO/BMO_chatbot_prototype/Experimental_Notebooks/sprite_autoencoder.ipynb#Y105sZmlsZQ%3D%3D?line=0'>1</a>\u001b[0m \u001b[39m# train the model\u001b[39;00m\n\u001b[1;32m      <a href='vscode-notebook-cell:/Users/milk/Desktop/GIL_Lab/BMO/BMO_chatbot_prototype/Experimental_Notebooks/sprite_autoencoder.ipynb#Y105sZmlsZQ%3D%3D?line=1'>2</a>\u001b[0m \u001b[39m# shape_tdm = TenDollarModel(X_shape_train.shape[1])\u001b[39;00m\n\u001b[1;32m      <a href='vscode-notebook-cell:/Users/milk/Desktop/GIL_Lab/BMO/BMO_chatbot_prototype/Experimental_Notebooks/sprite_autoencoder.ipynb#Y105sZmlsZQ%3D%3D?line=2'>3</a>\u001b[0m \u001b[39m# acc = shape_tdm.decoder.fit(X_shape_train,Y_shape_train,epochs=100,verbose=1,shuffle=True,batch_size=8)\u001b[39;00m\n\u001b[1;32m      <a href='vscode-notebook-cell:/Users/milk/Desktop/GIL_Lab/BMO/BMO_chatbot_prototype/Experimental_Notebooks/sprite_autoencoder.ipynb#Y105sZmlsZQ%3D%3D?line=3'>4</a>\u001b[0m shape_tdm \u001b[39m=\u001b[39m FiveDollarModel(X_shape_train\u001b[39m.\u001b[39mshape[\u001b[39m1\u001b[39m])\n\u001b[0;32m----> <a href='vscode-notebook-cell:/Users/milk/Desktop/GIL_Lab/BMO/BMO_chatbot_prototype/Experimental_Notebooks/sprite_autoencoder.ipynb#Y105sZmlsZQ%3D%3D?line=4'>5</a>\u001b[0m acc \u001b[39m=\u001b[39m shape_tdm\u001b[39m.\u001b[39;49mdecoder\u001b[39m.\u001b[39;49mfit(X_shape_train,Y_shape_train,epochs\u001b[39m=\u001b[39;49m\u001b[39m200\u001b[39;49m,verbose\u001b[39m=\u001b[39;49m\u001b[39m1\u001b[39;49m,shuffle\u001b[39m=\u001b[39;49m\u001b[39mTrue\u001b[39;49;00m,batch_size\u001b[39m=\u001b[39;49m\u001b[39m8\u001b[39;49m)\n\u001b[1;32m      <a href='vscode-notebook-cell:/Users/milk/Desktop/GIL_Lab/BMO/BMO_chatbot_prototype/Experimental_Notebooks/sprite_autoencoder.ipynb#Y105sZmlsZQ%3D%3D?line=6'>7</a>\u001b[0m \u001b[39m# plot the accuracy\u001b[39;00m\n\u001b[1;32m      <a href='vscode-notebook-cell:/Users/milk/Desktop/GIL_Lab/BMO/BMO_chatbot_prototype/Experimental_Notebooks/sprite_autoencoder.ipynb#Y105sZmlsZQ%3D%3D?line=7'>8</a>\u001b[0m plt\u001b[39m.\u001b[39mplot(acc\u001b[39m.\u001b[39mhistory[\u001b[39m'\u001b[39m\u001b[39maccuracy\u001b[39m\u001b[39m'\u001b[39m])\n",
      "File \u001b[0;32m~/Desktop/GIL_Lab/BMO/BMO_chatbot_prototype/bmo-venv/lib/python3.8/site-packages/keras/utils/traceback_utils.py:65\u001b[0m, in \u001b[0;36mfilter_traceback.<locals>.error_handler\u001b[0;34m(*args, **kwargs)\u001b[0m\n\u001b[1;32m     63\u001b[0m filtered_tb \u001b[39m=\u001b[39m \u001b[39mNone\u001b[39;00m\n\u001b[1;32m     64\u001b[0m \u001b[39mtry\u001b[39;00m:\n\u001b[0;32m---> 65\u001b[0m     \u001b[39mreturn\u001b[39;00m fn(\u001b[39m*\u001b[39;49margs, \u001b[39m*\u001b[39;49m\u001b[39m*\u001b[39;49mkwargs)\n\u001b[1;32m     66\u001b[0m \u001b[39mexcept\u001b[39;00m \u001b[39mException\u001b[39;00m \u001b[39mas\u001b[39;00m e:\n\u001b[1;32m     67\u001b[0m     filtered_tb \u001b[39m=\u001b[39m _process_traceback_frames(e\u001b[39m.\u001b[39m__traceback__)\n",
      "File \u001b[0;32m~/Desktop/GIL_Lab/BMO/BMO_chatbot_prototype/bmo-venv/lib/python3.8/site-packages/keras/engine/training.py:1650\u001b[0m, in \u001b[0;36mModel.fit\u001b[0;34m(self, x, y, batch_size, epochs, verbose, callbacks, validation_split, validation_data, shuffle, class_weight, sample_weight, initial_epoch, steps_per_epoch, validation_steps, validation_batch_size, validation_freq, max_queue_size, workers, use_multiprocessing)\u001b[0m\n\u001b[1;32m   1642\u001b[0m \u001b[39mwith\u001b[39;00m tf\u001b[39m.\u001b[39mprofiler\u001b[39m.\u001b[39mexperimental\u001b[39m.\u001b[39mTrace(\n\u001b[1;32m   1643\u001b[0m     \u001b[39m\"\u001b[39m\u001b[39mtrain\u001b[39m\u001b[39m\"\u001b[39m,\n\u001b[1;32m   1644\u001b[0m     epoch_num\u001b[39m=\u001b[39mepoch,\n\u001b[0;32m   (...)\u001b[0m\n\u001b[1;32m   1647\u001b[0m     _r\u001b[39m=\u001b[39m\u001b[39m1\u001b[39m,\n\u001b[1;32m   1648\u001b[0m ):\n\u001b[1;32m   1649\u001b[0m     callbacks\u001b[39m.\u001b[39mon_train_batch_begin(step)\n\u001b[0;32m-> 1650\u001b[0m     tmp_logs \u001b[39m=\u001b[39m \u001b[39mself\u001b[39;49m\u001b[39m.\u001b[39;49mtrain_function(iterator)\n\u001b[1;32m   1651\u001b[0m     \u001b[39mif\u001b[39;00m data_handler\u001b[39m.\u001b[39mshould_sync:\n\u001b[1;32m   1652\u001b[0m         context\u001b[39m.\u001b[39masync_wait()\n",
      "File \u001b[0;32m~/Desktop/GIL_Lab/BMO/BMO_chatbot_prototype/bmo-venv/lib/python3.8/site-packages/tensorflow/python/util/traceback_utils.py:150\u001b[0m, in \u001b[0;36mfilter_traceback.<locals>.error_handler\u001b[0;34m(*args, **kwargs)\u001b[0m\n\u001b[1;32m    148\u001b[0m filtered_tb \u001b[39m=\u001b[39m \u001b[39mNone\u001b[39;00m\n\u001b[1;32m    149\u001b[0m \u001b[39mtry\u001b[39;00m:\n\u001b[0;32m--> 150\u001b[0m   \u001b[39mreturn\u001b[39;00m fn(\u001b[39m*\u001b[39;49margs, \u001b[39m*\u001b[39;49m\u001b[39m*\u001b[39;49mkwargs)\n\u001b[1;32m    151\u001b[0m \u001b[39mexcept\u001b[39;00m \u001b[39mException\u001b[39;00m \u001b[39mas\u001b[39;00m e:\n\u001b[1;32m    152\u001b[0m   filtered_tb \u001b[39m=\u001b[39m _process_traceback_frames(e\u001b[39m.\u001b[39m__traceback__)\n",
      "File \u001b[0;32m~/Desktop/GIL_Lab/BMO/BMO_chatbot_prototype/bmo-venv/lib/python3.8/site-packages/tensorflow/python/eager/polymorphic_function/polymorphic_function.py:880\u001b[0m, in \u001b[0;36mFunction.__call__\u001b[0;34m(self, *args, **kwds)\u001b[0m\n\u001b[1;32m    877\u001b[0m compiler \u001b[39m=\u001b[39m \u001b[39m\"\u001b[39m\u001b[39mxla\u001b[39m\u001b[39m\"\u001b[39m \u001b[39mif\u001b[39;00m \u001b[39mself\u001b[39m\u001b[39m.\u001b[39m_jit_compile \u001b[39melse\u001b[39;00m \u001b[39m\"\u001b[39m\u001b[39mnonXla\u001b[39m\u001b[39m\"\u001b[39m\n\u001b[1;32m    879\u001b[0m \u001b[39mwith\u001b[39;00m OptionalXlaContext(\u001b[39mself\u001b[39m\u001b[39m.\u001b[39m_jit_compile):\n\u001b[0;32m--> 880\u001b[0m   result \u001b[39m=\u001b[39m \u001b[39mself\u001b[39;49m\u001b[39m.\u001b[39;49m_call(\u001b[39m*\u001b[39;49margs, \u001b[39m*\u001b[39;49m\u001b[39m*\u001b[39;49mkwds)\n\u001b[1;32m    882\u001b[0m new_tracing_count \u001b[39m=\u001b[39m \u001b[39mself\u001b[39m\u001b[39m.\u001b[39mexperimental_get_tracing_count()\n\u001b[1;32m    883\u001b[0m without_tracing \u001b[39m=\u001b[39m (tracing_count \u001b[39m==\u001b[39m new_tracing_count)\n",
      "File \u001b[0;32m~/Desktop/GIL_Lab/BMO/BMO_chatbot_prototype/bmo-venv/lib/python3.8/site-packages/tensorflow/python/eager/polymorphic_function/polymorphic_function.py:945\u001b[0m, in \u001b[0;36mFunction._call\u001b[0;34m(self, *args, **kwds)\u001b[0m\n\u001b[1;32m    941\u001b[0m     \u001b[39mpass\u001b[39;00m  \u001b[39m# Fall through to cond-based initialization.\u001b[39;00m\n\u001b[1;32m    942\u001b[0m   \u001b[39melse\u001b[39;00m:\n\u001b[1;32m    943\u001b[0m     \u001b[39m# Lifting succeeded, so variables are initialized and we can run the\u001b[39;00m\n\u001b[1;32m    944\u001b[0m     \u001b[39m# no_variable_creation function.\u001b[39;00m\n\u001b[0;32m--> 945\u001b[0m     \u001b[39mreturn\u001b[39;00m \u001b[39mself\u001b[39;49m\u001b[39m.\u001b[39;49m_no_variable_creation_fn(\u001b[39m*\u001b[39;49margs, \u001b[39m*\u001b[39;49m\u001b[39m*\u001b[39;49mkwds)\n\u001b[1;32m    946\u001b[0m \u001b[39melse\u001b[39;00m:\n\u001b[1;32m    947\u001b[0m   _, _, filtered_flat_args \u001b[39m=\u001b[39m (\n\u001b[1;32m    948\u001b[0m       \u001b[39mself\u001b[39m\u001b[39m.\u001b[39m_variable_creation_fn\u001b[39m.\u001b[39m_function_spec  \u001b[39m# pylint: disable=protected-access\u001b[39;00m\n\u001b[1;32m    949\u001b[0m       \u001b[39m.\u001b[39mcanonicalize_function_inputs(\n\u001b[1;32m    950\u001b[0m           args, kwds))\n",
      "File \u001b[0;32m~/Desktop/GIL_Lab/BMO/BMO_chatbot_prototype/bmo-venv/lib/python3.8/site-packages/tensorflow/python/eager/polymorphic_function/tracing_compiler.py:134\u001b[0m, in \u001b[0;36mTracingCompiler.__call__\u001b[0;34m(self, *args, **kwargs)\u001b[0m\n\u001b[1;32m    131\u001b[0m \u001b[39mwith\u001b[39;00m \u001b[39mself\u001b[39m\u001b[39m.\u001b[39m_lock:\n\u001b[1;32m    132\u001b[0m   (concrete_function,\n\u001b[1;32m    133\u001b[0m    filtered_flat_args) \u001b[39m=\u001b[39m \u001b[39mself\u001b[39m\u001b[39m.\u001b[39m_maybe_define_function(args, kwargs)\n\u001b[0;32m--> 134\u001b[0m \u001b[39mreturn\u001b[39;00m concrete_function\u001b[39m.\u001b[39;49m_call_flat(\n\u001b[1;32m    135\u001b[0m     filtered_flat_args, captured_inputs\u001b[39m=\u001b[39;49mconcrete_function\u001b[39m.\u001b[39;49mcaptured_inputs)\n",
      "File \u001b[0;32m~/Desktop/GIL_Lab/BMO/BMO_chatbot_prototype/bmo-venv/lib/python3.8/site-packages/tensorflow/python/eager/polymorphic_function/monomorphic_function.py:1745\u001b[0m, in \u001b[0;36mConcreteFunction._call_flat\u001b[0;34m(self, args, captured_inputs, cancellation_manager)\u001b[0m\n\u001b[1;32m   1741\u001b[0m possible_gradient_type \u001b[39m=\u001b[39m gradients_util\u001b[39m.\u001b[39mPossibleTapeGradientTypes(args)\n\u001b[1;32m   1742\u001b[0m \u001b[39mif\u001b[39;00m (possible_gradient_type \u001b[39m==\u001b[39m gradients_util\u001b[39m.\u001b[39mPOSSIBLE_GRADIENT_TYPES_NONE\n\u001b[1;32m   1743\u001b[0m     \u001b[39mand\u001b[39;00m executing_eagerly):\n\u001b[1;32m   1744\u001b[0m   \u001b[39m# No tape is watching; skip to running the function.\u001b[39;00m\n\u001b[0;32m-> 1745\u001b[0m   \u001b[39mreturn\u001b[39;00m \u001b[39mself\u001b[39m\u001b[39m.\u001b[39m_build_call_outputs(\u001b[39mself\u001b[39;49m\u001b[39m.\u001b[39;49m_inference_function\u001b[39m.\u001b[39;49mcall(\n\u001b[1;32m   1746\u001b[0m       ctx, args, cancellation_manager\u001b[39m=\u001b[39;49mcancellation_manager))\n\u001b[1;32m   1747\u001b[0m forward_backward \u001b[39m=\u001b[39m \u001b[39mself\u001b[39m\u001b[39m.\u001b[39m_select_forward_and_backward_functions(\n\u001b[1;32m   1748\u001b[0m     args,\n\u001b[1;32m   1749\u001b[0m     possible_gradient_type,\n\u001b[1;32m   1750\u001b[0m     executing_eagerly)\n\u001b[1;32m   1751\u001b[0m forward_function, args_with_tangents \u001b[39m=\u001b[39m forward_backward\u001b[39m.\u001b[39mforward()\n",
      "File \u001b[0;32m~/Desktop/GIL_Lab/BMO/BMO_chatbot_prototype/bmo-venv/lib/python3.8/site-packages/tensorflow/python/eager/polymorphic_function/monomorphic_function.py:378\u001b[0m, in \u001b[0;36m_EagerDefinedFunction.call\u001b[0;34m(self, ctx, args, cancellation_manager)\u001b[0m\n\u001b[1;32m    376\u001b[0m \u001b[39mwith\u001b[39;00m _InterpolateFunctionError(\u001b[39mself\u001b[39m):\n\u001b[1;32m    377\u001b[0m   \u001b[39mif\u001b[39;00m cancellation_manager \u001b[39mis\u001b[39;00m \u001b[39mNone\u001b[39;00m:\n\u001b[0;32m--> 378\u001b[0m     outputs \u001b[39m=\u001b[39m execute\u001b[39m.\u001b[39;49mexecute(\n\u001b[1;32m    379\u001b[0m         \u001b[39mstr\u001b[39;49m(\u001b[39mself\u001b[39;49m\u001b[39m.\u001b[39;49msignature\u001b[39m.\u001b[39;49mname),\n\u001b[1;32m    380\u001b[0m         num_outputs\u001b[39m=\u001b[39;49m\u001b[39mself\u001b[39;49m\u001b[39m.\u001b[39;49m_num_outputs,\n\u001b[1;32m    381\u001b[0m         inputs\u001b[39m=\u001b[39;49margs,\n\u001b[1;32m    382\u001b[0m         attrs\u001b[39m=\u001b[39;49mattrs,\n\u001b[1;32m    383\u001b[0m         ctx\u001b[39m=\u001b[39;49mctx)\n\u001b[1;32m    384\u001b[0m   \u001b[39melse\u001b[39;00m:\n\u001b[1;32m    385\u001b[0m     outputs \u001b[39m=\u001b[39m execute\u001b[39m.\u001b[39mexecute_with_cancellation(\n\u001b[1;32m    386\u001b[0m         \u001b[39mstr\u001b[39m(\u001b[39mself\u001b[39m\u001b[39m.\u001b[39msignature\u001b[39m.\u001b[39mname),\n\u001b[1;32m    387\u001b[0m         num_outputs\u001b[39m=\u001b[39m\u001b[39mself\u001b[39m\u001b[39m.\u001b[39m_num_outputs,\n\u001b[0;32m   (...)\u001b[0m\n\u001b[1;32m    390\u001b[0m         ctx\u001b[39m=\u001b[39mctx,\n\u001b[1;32m    391\u001b[0m         cancellation_manager\u001b[39m=\u001b[39mcancellation_manager)\n",
      "File \u001b[0;32m~/Desktop/GIL_Lab/BMO/BMO_chatbot_prototype/bmo-venv/lib/python3.8/site-packages/tensorflow/python/eager/execute.py:52\u001b[0m, in \u001b[0;36mquick_execute\u001b[0;34m(op_name, num_outputs, inputs, attrs, ctx, name)\u001b[0m\n\u001b[1;32m     50\u001b[0m \u001b[39mtry\u001b[39;00m:\n\u001b[1;32m     51\u001b[0m   ctx\u001b[39m.\u001b[39mensure_initialized()\n\u001b[0;32m---> 52\u001b[0m   tensors \u001b[39m=\u001b[39m pywrap_tfe\u001b[39m.\u001b[39;49mTFE_Py_Execute(ctx\u001b[39m.\u001b[39;49m_handle, device_name, op_name,\n\u001b[1;32m     53\u001b[0m                                       inputs, attrs, num_outputs)\n\u001b[1;32m     54\u001b[0m \u001b[39mexcept\u001b[39;00m core\u001b[39m.\u001b[39m_NotOkStatusException \u001b[39mas\u001b[39;00m e:\n\u001b[1;32m     55\u001b[0m   \u001b[39mif\u001b[39;00m name \u001b[39mis\u001b[39;00m \u001b[39mnot\u001b[39;00m \u001b[39mNone\u001b[39;00m:\n",
      "\u001b[0;31mKeyboardInterrupt\u001b[0m: "
     ]
    }
   ],
   "source": [
    "# train the model\n",
    "# shape_tdm = TenDollarModel(X_shape_train.shape[1])\n",
    "# acc = shape_tdm.decoder.fit(X_shape_train,Y_shape_train,epochs=100,verbose=1,shuffle=True,batch_size=8)\n",
    "shape_tdm = FiveDollarModel(X_shape_train.shape[1])\n",
    "acc = shape_tdm.decoder.fit(X_shape_train,Y_shape_train,epochs=200,verbose=1,shuffle=True,batch_size=8)\n",
    "\n",
    "# plot the accuracy\n",
    "plt.plot(acc.history['accuracy'])"
   ]
  },
  {
   "cell_type": "code",
   "execution_count": null,
   "metadata": {},
   "outputs": [
    {
     "data": {
      "image/png": "[encoded data removed]",
      "text/plain": [
       "<Figure size 2000x700 with 4 Axes>"
      ]
     },
     "metadata": {},
     "output_type": "display_data"
    },
    {
     "data": {
      "image/png": "[encoded data removed]",
      "text/plain": [
       "<Figure size 2000x700 with 4 Axes>"
      ]
     },
     "metadata": {},
     "output_type": "display_data"
    }
   ],
   "source": [
    "# show the results of the test set\n",
    "showMultiSprPalette([decodeSpr1H(s) for s in Y_shape_test], textArr=X_shape_test.tolist())\n",
    "showMultiSprPalette([shape_tdm.txt2img(desc) for desc in X_shape_test],textArr=X_shape_test.tolist())"
   ]
  },
  {
   "cell_type": "code",
   "execution_count": null,
   "metadata": {},
   "outputs": [
    {
     "data": {
      "image/png": "[encoded data removed]",
      "text/plain": [
       "<Figure size 2000x700 with 5 Axes>"
      ]
     },
     "metadata": {},
     "output_type": "display_data"
    }
   ],
   "source": [
    "crazy_desc = ['magenta small triangle', '2 red small circles', 'small line', 'blue large diamond', 'red and blue small square']\n",
    "showMultiSprPalette([shape_tdm.txt2img(desc) for desc in crazy_desc],textArr=crazy_desc)\n"
   ]
  },
  {
   "attachments": {},
   "cell_type": "markdown",
   "metadata": {},
   "source": [
    "#### Emoji Dataset Experiment"
   ]
  },
  {
   "cell_type": "code",
   "execution_count": null,
   "metadata": {},
   "outputs": [
    {
     "name": "stdout",
     "output_type": "stream",
     "text": [
      "(8,)\n"
     ]
    },
    {
     "data": {
      "image/png": "[encoded data removed]",
      "text/plain": [
       "<Figure size 1440x504 with 8 Axes>"
      ]
     },
     "metadata": {
      "needs_background": "light"
     },
     "output_type": "display_data"
    }
   ],
   "source": [
    "#import the icons dataset from numpy\n",
    "icons50 = np.load('../data/sprite_data/icon_dat_rgb8.npy', allow_pickle=True)\n",
    "\n",
    "randicons = icons50[random.sample(range(0,len(icons50)), k=8)]\n",
    "print(randicons.shape)\n",
    "showMultiSprRGB([i['img'] for i in randicons],textArr=[i['label'] for i in randicons])"
   ]
  },
  {
   "cell_type": "code",
   "execution_count": null,
   "metadata": {},
   "outputs": [
    {
     "name": "stderr",
     "output_type": "stream",
     "text": [
      "100%|██████████| 10000/10000 [07:38<00:00, 21.83it/s]\n"
     ]
    }
   ],
   "source": [
    "from tqdm import tqdm\n",
    "\n",
    "\n",
    "with tqdm(total=len(icons50)) as pbar:\n",
    "    X_train = []\n",
    "    Y_train = []\n",
    "    for i in icons50:\n",
    "        X_train.append(sentEmb(i['label']))\n",
    "        Y_train.append((i['img'])/255)\n",
    "        pbar.update(1)\n"
   ]
  },
  {
   "cell_type": "code",
   "execution_count": null,
   "metadata": {},
   "outputs": [
    {
     "name": "stdout",
     "output_type": "stream",
     "text": [
      "(10000, 768)\n",
      "(10000, 8, 8, 3)\n"
     ]
    }
   ],
   "source": [
    "X_icons_train = np.array(X_train)\n",
    "Y_icons_train = np.array(Y_train)\n",
    "\n",
    "print(X_icons_train.shape)\n",
    "print(Y_icons_train.shape)"
   ]
  },
  {
   "cell_type": "code",
   "execution_count": null,
   "metadata": {},
   "outputs": [],
   "source": [
    "# outputs  8X8 RGB image\n",
    "# from https://machinelearningmastery.com/how-to-develop-a-generative-adversarial-network-for-a-cifar-10-small-object-photographs-from-scratch/\n",
    "\n",
    "from keras.layers import BatchNormalization\n",
    "\n",
    "class ThreeDollarModel(Model):\n",
    "    def __init__(self,lv_shape,embedder=SBERT_MODEL):\n",
    "        super(ThreeDollarModel, self).__init__()\n",
    "        self.embedder = embedder\n",
    "        self.decoder = Sequential([\n",
    "            \n",
    "            # ORIGINAL MODEL\n",
    "\n",
    "            # InputLayer(input_shape=(lv_shape,)),\n",
    "            # # Dense(512,activation='relu'),\n",
    "            # Dense(128,activation='relu'),\n",
    "            # Reshape((1,1,128)),\n",
    "            # # Conv2DTranspose(128, (2,2), strides=(2,2), padding='same', activation='relu'),\n",
    "            # Conv2DTranspose(64, (2,2), strides=(2,2), padding='same', activation='relu'),\n",
    "            # Conv2DTranspose(32, (2,2), strides=(2,2), padding='same', activation='relu'),\n",
    "            # Conv2DTranspose(3, (2,2), strides=(2,2), padding='same', activation='sigmoid')     # should output to a 8x8x3 image\n",
    "\n",
    "            InputLayer(input_shape=(lv_shape,)),\n",
    "            Dense(256,activation=LeakyReLU(alpha=0.2)),\n",
    "            Reshape((1,1,256)),\n",
    "\n",
    "            #upsample to 2x2\n",
    "            Conv2DTranspose(128, (2,2), strides=(2,2), padding='same', activation=LeakyReLU(alpha=0.2)),\n",
    "            BatchNormalization(),\n",
    "\n",
    "            #upsample to 4x4\n",
    "            Conv2DTranspose(128, (2,2), strides=(2,2), padding='same', activation=LeakyReLU(alpha=0.2)),\n",
    "            BatchNormalization(),\n",
    "\n",
    "            #upsample to 8x8\n",
    "            Conv2DTranspose(128, (2,2), strides=(2,2), padding='same', activation=LeakyReLU(alpha=0.2)),\n",
    "            BatchNormalization(),\n",
    "\n",
    "            #output\n",
    "            Conv2D(3, (3,3), strides=(1,1), padding='same', activation='sigmoid')     # should output to a 8x8x3 image\n",
    "\n",
    "        ])\n",
    "        \n",
    "        self.decoder.summary()\n",
    "        self.opt = tf.keras.optimizers.Adam(learning_rate=0.0002, beta_1=0.5)\n",
    "        self.decoder.compile(optimizer=self.opt, loss='mse', metrics=['accuracy'])\n",
    "\n",
    "        # self.decoder.compile(optimizer='adam', loss='mse', metrics=['accuracy'])  # mse just turns everything white and collapses\n",
    "\n",
    "    # embeds the text and returns an image\n",
    "    def txt2img(self,txt,uncode=True):\n",
    "        emb = self.embedder.encode([txt])\n",
    "        img = self.decoder.predict(np.array(emb),verbose=False)[0]\n",
    "        if uncode:\n",
    "            return decodeSpr1H(img)\n",
    "        else:\n",
    "            return img\n",
    "        \n",
    "    def exportModel(self,name='icon_gen'):\n",
    "        self.decoder.save(f'../models/gen_models/dollars/{name}.h5')\n",
    "\n",
    "    def importModel(self,name='icon_gen'):\n",
    "        self.decoder = load_model(f'../models/gen_models/dollars/{name}.h5')"
   ]
  },
  {
   "cell_type": "code",
   "execution_count": null,
   "metadata": {},
   "outputs": [
    {
     "name": "stdout",
     "output_type": "stream",
     "text": [
      "Model: \"sequential_2\"\n",
      "_________________________________________________________________\n",
      " Layer (type)                Output Shape              Param #   \n",
      "=================================================================\n",
      " dense_2 (Dense)             (None, 256)               196864    \n",
      "                                                                 \n",
      " reshape_1 (Reshape)         (None, 1, 1, 256)         0         \n",
      "                                                                 \n",
      " conv2d_transpose_6 (Conv2DT  (None, 2, 2, 128)        131200    \n",
      " ranspose)                                                       \n",
      "                                                                 \n",
      " batch_normalization (BatchN  (None, 2, 2, 128)        512       \n",
      " ormalization)                                                   \n",
      "                                                                 \n",
      " conv2d_transpose_7 (Conv2DT  (None, 4, 4, 128)        65664     \n",
      " ranspose)                                                       \n",
      "                                                                 \n",
      " batch_normalization_1 (Batc  (None, 4, 4, 128)        512       \n",
      " hNormalization)                                                 \n",
      "                                                                 \n",
      " conv2d_transpose_8 (Conv2DT  (None, 8, 8, 128)        65664     \n",
      " ranspose)                                                       \n",
      "                                                                 \n",
      " batch_normalization_2 (Batc  (None, 8, 8, 128)        512       \n",
      " hNormalization)                                                 \n",
      "                                                                 \n",
      " conv2d_6 (Conv2D)           (None, 8, 8, 3)           3459      \n",
      "                                                                 \n",
      "=================================================================\n",
      "Total params: 464,387\n",
      "Trainable params: 463,619\n",
      "Non-trainable params: 768\n",
      "_________________________________________________________________\n",
      "Epoch 1/50\n",
      "313/313 [==============================] - 8s 19ms/step - loss: 0.0806 - accuracy: 0.5451\n",
      "Epoch 2/50\n",
      "313/313 [==============================] - 6s 19ms/step - loss: 0.0646 - accuracy: 0.6138\n",
      "Epoch 3/50\n",
      "313/313 [==============================] - 6s 20ms/step - loss: 0.0613 - accuracy: 0.6252\n",
      "Epoch 4/50\n",
      "313/313 [==============================] - 6s 20ms/step - loss: 0.0596 - accuracy: 0.6330\n",
      "Epoch 5/50\n",
      "313/313 [==============================] - 6s 20ms/step - loss: 0.0585 - accuracy: 0.6397\n",
      "Epoch 6/50\n",
      "313/313 [==============================] - 7s 23ms/step - loss: 0.0576 - accuracy: 0.6403\n",
      "Epoch 7/50\n",
      "313/313 [==============================] - 6s 18ms/step - loss: 0.0569 - accuracy: 0.6431\n",
      "Epoch 8/50\n",
      "313/313 [==============================] - 6s 18ms/step - loss: 0.0565 - accuracy: 0.6452\n",
      "Epoch 9/50\n",
      "313/313 [==============================] - 6s 18ms/step - loss: 0.0561 - accuracy: 0.6425\n",
      "Epoch 10/50\n",
      "313/313 [==============================] - 6s 18ms/step - loss: 0.0558 - accuracy: 0.6436\n",
      "Epoch 11/50\n",
      "313/313 [==============================] - 6s 18ms/step - loss: 0.0556 - accuracy: 0.6482\n",
      "Epoch 12/50\n",
      "313/313 [==============================] - 6s 18ms/step - loss: 0.0553 - accuracy: 0.6472\n",
      "Epoch 13/50\n",
      "313/313 [==============================] - 6s 18ms/step - loss: 0.0551 - accuracy: 0.6481\n",
      "Epoch 14/50\n",
      "313/313 [==============================] - 6s 18ms/step - loss: 0.0549 - accuracy: 0.6460\n",
      "Epoch 15/50\n",
      "313/313 [==============================] - 7s 21ms/step - loss: 0.0548 - accuracy: 0.6496\n",
      "Epoch 16/50\n",
      "313/313 [==============================] - 6s 19ms/step - loss: 0.0547 - accuracy: 0.6460\n",
      "Epoch 17/50\n",
      "313/313 [==============================] - 6s 18ms/step - loss: 0.0546 - accuracy: 0.6462\n",
      "Epoch 18/50\n",
      "313/313 [==============================] - 6s 18ms/step - loss: 0.0545 - accuracy: 0.6519\n",
      "Epoch 19/50\n",
      "313/313 [==============================] - 5s 17ms/step - loss: 0.0544 - accuracy: 0.6461\n",
      "Epoch 20/50\n",
      "313/313 [==============================] - 6s 18ms/step - loss: 0.0543 - accuracy: 0.6491\n",
      "Epoch 21/50\n",
      "313/313 [==============================] - 6s 18ms/step - loss: 0.0541 - accuracy: 0.6463\n",
      "Epoch 22/50\n",
      "313/313 [==============================] - 5s 17ms/step - loss: 0.0541 - accuracy: 0.6496\n",
      "Epoch 23/50\n",
      "313/313 [==============================] - 6s 18ms/step - loss: 0.0541 - accuracy: 0.6474\n",
      "Epoch 24/50\n",
      "313/313 [==============================] - 6s 19ms/step - loss: 0.0540 - accuracy: 0.6485\n",
      "Epoch 25/50\n",
      "313/313 [==============================] - 6s 18ms/step - loss: 0.0539 - accuracy: 0.6490\n",
      "Epoch 26/50\n",
      "313/313 [==============================] - 6s 19ms/step - loss: 0.0539 - accuracy: 0.6537\n",
      "Epoch 27/50\n",
      "313/313 [==============================] - 6s 20ms/step - loss: 0.0538 - accuracy: 0.6473\n",
      "Epoch 28/50\n",
      "313/313 [==============================] - 6s 21ms/step - loss: 0.0538 - accuracy: 0.6507\n",
      "Epoch 29/50\n",
      "313/313 [==============================] - 6s 20ms/step - loss: 0.0537 - accuracy: 0.6452\n",
      "Epoch 30/50\n",
      "313/313 [==============================] - 6s 19ms/step - loss: 0.0536 - accuracy: 0.6487\n",
      "Epoch 31/50\n",
      "313/313 [==============================] - 6s 19ms/step - loss: 0.0535 - accuracy: 0.6475\n",
      "Epoch 32/50\n",
      "313/313 [==============================] - 6s 20ms/step - loss: 0.0535 - accuracy: 0.6479\n",
      "Epoch 33/50\n",
      "313/313 [==============================] - 6s 19ms/step - loss: 0.0535 - accuracy: 0.6543\n",
      "Epoch 34/50\n",
      "313/313 [==============================] - 7s 22ms/step - loss: 0.0535 - accuracy: 0.6448\n",
      "Epoch 35/50\n",
      "313/313 [==============================] - 11s 34ms/step - loss: 0.0534 - accuracy: 0.6485\n",
      "Epoch 36/50\n",
      "313/313 [==============================] - 8s 24ms/step - loss: 0.0534 - accuracy: 0.6461\n",
      "Epoch 37/50\n",
      "313/313 [==============================] - 7s 22ms/step - loss: 0.0533 - accuracy: 0.6510\n",
      "Epoch 38/50\n",
      "313/313 [==============================] - 7s 22ms/step - loss: 0.0533 - accuracy: 0.6490\n",
      "Epoch 39/50\n",
      "313/313 [==============================] - 9s 27ms/step - loss: 0.0532 - accuracy: 0.6474\n",
      "Epoch 40/50\n",
      "313/313 [==============================] - 8s 25ms/step - loss: 0.0533 - accuracy: 0.6508\n",
      "Epoch 41/50\n",
      "313/313 [==============================] - 7s 23ms/step - loss: 0.0532 - accuracy: 0.6492\n",
      "Epoch 42/50\n",
      "313/313 [==============================] - 8s 26ms/step - loss: 0.0533 - accuracy: 0.6449\n",
      "Epoch 43/50\n",
      "313/313 [==============================] - 8s 27ms/step - loss: 0.0532 - accuracy: 0.6536\n",
      "Epoch 44/50\n",
      "313/313 [==============================] - 7s 23ms/step - loss: 0.0532 - accuracy: 0.6490\n",
      "Epoch 45/50\n",
      "313/313 [==============================] - 8s 24ms/step - loss: 0.0531 - accuracy: 0.6533\n",
      "Epoch 46/50\n",
      "313/313 [==============================] - 9s 27ms/step - loss: 0.0530 - accuracy: 0.6497\n",
      "Epoch 47/50\n",
      "313/313 [==============================] - 9s 28ms/step - loss: 0.0530 - accuracy: 0.6513\n",
      "Epoch 48/50\n",
      "313/313 [==============================] - 7s 23ms/step - loss: 0.0531 - accuracy: 0.6493\n",
      "Epoch 49/50\n",
      "313/313 [==============================] - 8s 24ms/step - loss: 0.0530 - accuracy: 0.6491\n",
      "Epoch 50/50\n",
      "313/313 [==============================] - 8s 26ms/step - loss: 0.0530 - accuracy: 0.6485\n"
     ]
    },
    {
     "data": {
      "text/plain": [
       "[<matplotlib.lines.Line2D at 0x1435124f0>]"
      ]
     },
     "execution_count": 42,
     "metadata": {},
     "output_type": "execute_result"
    },
    {
     "data": {
      "image/png": "[encoded data removed]",
      "text/plain": [
       "<Figure size 432x288 with 1 Axes>"
      ]
     },
     "metadata": {
      "needs_background": "light"
     },
     "output_type": "display_data"
    }
   ],
   "source": [
    "icons_tdm = ThreeDollarModel(X_icons_train.shape[1])\n",
    "acc_ic = icons_tdm.decoder.fit(X_icons_train,Y_icons_train,epochs=50,verbose=1,shuffle=True,batch_size=32)\n",
    "\n",
    "# plot the accuracy\n",
    "plt.plot(acc_ic.history['accuracy'])"
   ]
  },
  {
   "cell_type": "code",
   "execution_count": null,
   "metadata": {},
   "outputs": [
    {
     "name": "stdout",
     "output_type": "stream",
     "text": [
      "Epoch 1/100\n",
      "313/313 [==============================] - 8s 25ms/step - loss: 0.0529 - accuracy: 0.6501\n",
      "Epoch 2/100\n",
      "313/313 [==============================] - 7s 24ms/step - loss: 0.0529 - accuracy: 0.6545\n",
      "Epoch 3/100\n",
      "313/313 [==============================] - 7s 24ms/step - loss: 0.0529 - accuracy: 0.6509\n",
      "Epoch 4/100\n",
      "313/313 [==============================] - 9s 28ms/step - loss: 0.0528 - accuracy: 0.6559\n",
      "Epoch 5/100\n",
      "313/313 [==============================] - 8s 26ms/step - loss: 0.0529 - accuracy: 0.6476\n",
      "Epoch 6/100\n",
      "313/313 [==============================] - 9s 27ms/step - loss: 0.0529 - accuracy: 0.6537\n",
      "Epoch 7/100\n",
      "313/313 [==============================] - 9s 29ms/step - loss: 0.0528 - accuracy: 0.6510\n",
      "Epoch 8/100\n",
      "313/313 [==============================] - 6s 20ms/step - loss: 0.0528 - accuracy: 0.6521\n",
      "Epoch 9/100\n",
      "313/313 [==============================] - 6s 19ms/step - loss: 0.0528 - accuracy: 0.6519\n",
      "Epoch 10/100\n",
      "313/313 [==============================] - 6s 19ms/step - loss: 0.0528 - accuracy: 0.6503\n",
      "Epoch 11/100\n",
      "313/313 [==============================] - 10s 31ms/step - loss: 0.0528 - accuracy: 0.6503\n",
      "Epoch 12/100\n",
      "313/313 [==============================] - 8s 25ms/step - loss: 0.0528 - accuracy: 0.6484\n",
      "Epoch 13/100\n",
      "313/313 [==============================] - 7s 23ms/step - loss: 0.0527 - accuracy: 0.6537\n",
      "Epoch 14/100\n",
      "313/313 [==============================] - 9s 28ms/step - loss: 0.0527 - accuracy: 0.6527\n",
      "Epoch 15/100\n",
      "313/313 [==============================] - 8s 24ms/step - loss: 0.0527 - accuracy: 0.6520\n",
      "Epoch 16/100\n",
      "313/313 [==============================] - 10s 31ms/step - loss: 0.0527 - accuracy: 0.6510\n",
      "Epoch 17/100\n",
      "313/313 [==============================] - 9s 29ms/step - loss: 0.0527 - accuracy: 0.6525\n",
      "Epoch 18/100\n",
      "313/313 [==============================] - 7s 22ms/step - loss: 0.0526 - accuracy: 0.6498\n",
      "Epoch 19/100\n",
      "313/313 [==============================] - 7s 22ms/step - loss: 0.0526 - accuracy: 0.6524\n",
      "Epoch 20/100\n",
      "313/313 [==============================] - 7s 21ms/step - loss: 0.0526 - accuracy: 0.6523\n",
      "Epoch 21/100\n",
      "313/313 [==============================] - 7s 22ms/step - loss: 0.0526 - accuracy: 0.6479\n",
      "Epoch 22/100\n",
      "313/313 [==============================] - 7s 24ms/step - loss: 0.0525 - accuracy: 0.6524\n",
      "Epoch 23/100\n",
      "313/313 [==============================] - 7s 22ms/step - loss: 0.0525 - accuracy: 0.6517\n",
      "Epoch 24/100\n",
      "313/313 [==============================] - 7s 22ms/step - loss: 0.0526 - accuracy: 0.6550\n",
      "Epoch 25/100\n",
      "313/313 [==============================] - 7s 23ms/step - loss: 0.0526 - accuracy: 0.6500\n",
      "Epoch 26/100\n",
      "313/313 [==============================] - 7s 22ms/step - loss: 0.0525 - accuracy: 0.6500\n",
      "Epoch 27/100\n",
      "313/313 [==============================] - 7s 22ms/step - loss: 0.0525 - accuracy: 0.6536\n",
      "Epoch 28/100\n",
      "313/313 [==============================] - 7s 23ms/step - loss: 0.0525 - accuracy: 0.6492\n",
      "Epoch 29/100\n",
      "313/313 [==============================] - 7s 22ms/step - loss: 0.0525 - accuracy: 0.6536\n",
      "Epoch 30/100\n",
      "313/313 [==============================] - 7s 22ms/step - loss: 0.0525 - accuracy: 0.6511\n",
      "Epoch 31/100\n",
      "313/313 [==============================] - 7s 24ms/step - loss: 0.0524 - accuracy: 0.6513\n",
      "Epoch 32/100\n",
      "313/313 [==============================] - 7s 22ms/step - loss: 0.0524 - accuracy: 0.6530\n",
      "Epoch 33/100\n",
      "313/313 [==============================] - 7s 23ms/step - loss: 0.0524 - accuracy: 0.6538\n",
      "Epoch 34/100\n",
      "313/313 [==============================] - 7s 22ms/step - loss: 0.0525 - accuracy: 0.6490\n",
      "Epoch 35/100\n",
      "313/313 [==============================] - 7s 22ms/step - loss: 0.0524 - accuracy: 0.6518\n",
      "Epoch 36/100\n",
      "313/313 [==============================] - 7s 22ms/step - loss: 0.0524 - accuracy: 0.6496\n",
      "Epoch 37/100\n",
      "313/313 [==============================] - 7s 23ms/step - loss: 0.0524 - accuracy: 0.6525\n",
      "Epoch 38/100\n",
      "313/313 [==============================] - 7s 23ms/step - loss: 0.0524 - accuracy: 0.6501\n",
      "Epoch 39/100\n",
      "313/313 [==============================] - 7s 22ms/step - loss: 0.0524 - accuracy: 0.6476\n",
      "Epoch 40/100\n",
      "313/313 [==============================] - 7s 22ms/step - loss: 0.0524 - accuracy: 0.6496\n",
      "Epoch 41/100\n",
      "313/313 [==============================] - 7s 22ms/step - loss: 0.0524 - accuracy: 0.6527\n",
      "Epoch 42/100\n",
      "313/313 [==============================] - 7s 22ms/step - loss: 0.0524 - accuracy: 0.6485\n",
      "Epoch 43/100\n",
      "313/313 [==============================] - 7s 22ms/step - loss: 0.0523 - accuracy: 0.6525\n",
      "Epoch 44/100\n",
      "313/313 [==============================] - 7s 22ms/step - loss: 0.0523 - accuracy: 0.6538\n",
      "Epoch 45/100\n",
      "313/313 [==============================] - 7s 22ms/step - loss: 0.0523 - accuracy: 0.6524\n",
      "Epoch 46/100\n",
      "313/313 [==============================] - 7s 22ms/step - loss: 0.0523 - accuracy: 0.6510\n",
      "Epoch 47/100\n",
      "313/313 [==============================] - 7s 23ms/step - loss: 0.0523 - accuracy: 0.6491\n",
      "Epoch 48/100\n",
      "313/313 [==============================] - 7s 23ms/step - loss: 0.0523 - accuracy: 0.6507\n",
      "Epoch 49/100\n",
      "313/313 [==============================] - 7s 22ms/step - loss: 0.0524 - accuracy: 0.6543\n",
      "Epoch 50/100\n",
      "313/313 [==============================] - 7s 23ms/step - loss: 0.0522 - accuracy: 0.6498\n",
      "Epoch 51/100\n",
      "313/313 [==============================] - 7s 22ms/step - loss: 0.0523 - accuracy: 0.6519\n",
      "Epoch 52/100\n",
      "313/313 [==============================] - 7s 22ms/step - loss: 0.0523 - accuracy: 0.6541\n",
      "Epoch 53/100\n",
      "313/313 [==============================] - 7s 22ms/step - loss: 0.0523 - accuracy: 0.6536\n",
      "Epoch 54/100\n",
      "313/313 [==============================] - 7s 24ms/step - loss: 0.0522 - accuracy: 0.6528\n",
      "Epoch 55/100\n",
      "313/313 [==============================] - 7s 24ms/step - loss: 0.0522 - accuracy: 0.6554\n",
      "Epoch 56/100\n",
      "313/313 [==============================] - 9s 27ms/step - loss: 0.0522 - accuracy: 0.6511\n",
      "Epoch 57/100\n",
      "313/313 [==============================] - 7s 23ms/step - loss: 0.0522 - accuracy: 0.6542\n",
      "Epoch 58/100\n",
      "313/313 [==============================] - 7s 21ms/step - loss: 0.0522 - accuracy: 0.6504\n",
      "Epoch 59/100\n",
      "313/313 [==============================] - 9s 29ms/step - loss: 0.0522 - accuracy: 0.6555\n",
      "Epoch 60/100\n",
      "313/313 [==============================] - 8s 24ms/step - loss: 0.0522 - accuracy: 0.6528\n",
      "Epoch 61/100\n",
      "313/313 [==============================] - 7s 22ms/step - loss: 0.0522 - accuracy: 0.6539\n",
      "Epoch 62/100\n",
      "313/313 [==============================] - 6s 18ms/step - loss: 0.0522 - accuracy: 0.6517\n",
      "Epoch 63/100\n",
      "313/313 [==============================] - 6s 19ms/step - loss: 0.0522 - accuracy: 0.6529\n",
      "Epoch 64/100\n",
      "313/313 [==============================] - 6s 18ms/step - loss: 0.0522 - accuracy: 0.6523\n",
      "Epoch 65/100\n",
      "313/313 [==============================] - 6s 18ms/step - loss: 0.0522 - accuracy: 0.6552\n",
      "Epoch 66/100\n",
      "313/313 [==============================] - 6s 20ms/step - loss: 0.0521 - accuracy: 0.6525\n",
      "Epoch 67/100\n",
      "313/313 [==============================] - 6s 18ms/step - loss: 0.0521 - accuracy: 0.6536\n",
      "Epoch 68/100\n",
      "313/313 [==============================] - 6s 19ms/step - loss: 0.0521 - accuracy: 0.6532\n",
      "Epoch 69/100\n",
      "313/313 [==============================] - 6s 18ms/step - loss: 0.0521 - accuracy: 0.6542\n",
      "Epoch 70/100\n",
      "313/313 [==============================] - 6s 19ms/step - loss: 0.0521 - accuracy: 0.6512\n",
      "Epoch 71/100\n",
      "313/313 [==============================] - 6s 18ms/step - loss: 0.0521 - accuracy: 0.6552\n",
      "Epoch 72/100\n",
      "313/313 [==============================] - 6s 19ms/step - loss: 0.0521 - accuracy: 0.6553\n",
      "Epoch 73/100\n",
      "313/313 [==============================] - 6s 18ms/step - loss: 0.0521 - accuracy: 0.6520\n",
      "Epoch 74/100\n",
      "313/313 [==============================] - 6s 18ms/step - loss: 0.0521 - accuracy: 0.6518\n",
      "Epoch 75/100\n",
      "313/313 [==============================] - 6s 18ms/step - loss: 0.0520 - accuracy: 0.6561\n",
      "Epoch 76/100\n",
      "313/313 [==============================] - 6s 18ms/step - loss: 0.0521 - accuracy: 0.6548\n",
      "Epoch 77/100\n",
      "313/313 [==============================] - 6s 18ms/step - loss: 0.0521 - accuracy: 0.6517\n",
      "Epoch 78/100\n",
      "313/313 [==============================] - 6s 18ms/step - loss: 0.0521 - accuracy: 0.6572\n",
      "Epoch 79/100\n",
      "313/313 [==============================] - 6s 19ms/step - loss: 0.0520 - accuracy: 0.6528\n",
      "Epoch 80/100\n",
      "313/313 [==============================] - 6s 18ms/step - loss: 0.0520 - accuracy: 0.6524\n",
      "Epoch 81/100\n",
      "313/313 [==============================] - 6s 18ms/step - loss: 0.0521 - accuracy: 0.6534\n",
      "Epoch 82/100\n",
      "313/313 [==============================] - 6s 18ms/step - loss: 0.0520 - accuracy: 0.6523\n",
      "Epoch 83/100\n",
      "313/313 [==============================] - 6s 18ms/step - loss: 0.0521 - accuracy: 0.6543\n",
      "Epoch 84/100\n",
      "313/313 [==============================] - 6s 18ms/step - loss: 0.0520 - accuracy: 0.6568\n",
      "Epoch 85/100\n",
      "313/313 [==============================] - 6s 18ms/step - loss: 0.0521 - accuracy: 0.6555\n",
      "Epoch 86/100\n",
      "313/313 [==============================] - 6s 18ms/step - loss: 0.0520 - accuracy: 0.6552\n",
      "Epoch 87/100\n",
      "313/313 [==============================] - 6s 18ms/step - loss: 0.0520 - accuracy: 0.6577\n",
      "Epoch 88/100\n",
      "313/313 [==============================] - 6s 19ms/step - loss: 0.0520 - accuracy: 0.6555\n",
      "Epoch 89/100\n",
      "313/313 [==============================] - 6s 18ms/step - loss: 0.0520 - accuracy: 0.6541\n",
      "Epoch 90/100\n",
      "313/313 [==============================] - 6s 18ms/step - loss: 0.0520 - accuracy: 0.6556\n",
      "Epoch 91/100\n",
      "313/313 [==============================] - 6s 18ms/step - loss: 0.0520 - accuracy: 0.6543\n",
      "Epoch 92/100\n",
      "313/313 [==============================] - 6s 18ms/step - loss: 0.0520 - accuracy: 0.6539\n",
      "Epoch 93/100\n",
      "313/313 [==============================] - 6s 18ms/step - loss: 0.0520 - accuracy: 0.6540\n",
      "Epoch 94/100\n",
      "313/313 [==============================] - 6s 18ms/step - loss: 0.0520 - accuracy: 0.6548\n",
      "Epoch 95/100\n",
      "313/313 [==============================] - 6s 18ms/step - loss: 0.0519 - accuracy: 0.6546\n",
      "Epoch 96/100\n",
      "313/313 [==============================] - 6s 18ms/step - loss: 0.0520 - accuracy: 0.6537\n",
      "Epoch 97/100\n",
      "313/313 [==============================] - 6s 18ms/step - loss: 0.0520 - accuracy: 0.6546\n",
      "Epoch 98/100\n",
      "313/313 [==============================] - 6s 18ms/step - loss: 0.0520 - accuracy: 0.6538\n",
      "Epoch 99/100\n",
      "313/313 [==============================] - 6s 18ms/step - loss: 0.0519 - accuracy: 0.6530\n",
      "Epoch 100/100\n",
      "313/313 [==============================] - 6s 18ms/step - loss: 0.0519 - accuracy: 0.6560\n"
     ]
    },
    {
     "data": {
      "text/plain": [
       "[<matplotlib.lines.Line2D at 0x1439d6d60>]"
      ]
     },
     "execution_count": 43,
     "metadata": {},
     "output_type": "execute_result"
    },
    {
     "data": {
      "image/png": "[encoded data removed]",
      "text/plain": [
       "<Figure size 432x288 with 1 Axes>"
      ]
     },
     "metadata": {
      "needs_background": "light"
     },
     "output_type": "display_data"
    }
   ],
   "source": [
    "# extended training\n",
    "acc_ic2 = icons_tdm.decoder.fit(X_icons_train,Y_icons_train,epochs=100,verbose=1,shuffle=True,batch_size=32)\n",
    "\n",
    "# plot more\n",
    "plt.plot(acc_ic2.history['accuracy'])"
   ]
  },
  {
   "cell_type": "code",
   "execution_count": null,
   "metadata": {},
   "outputs": [
    {
     "data": {
      "image/png": "[encoded data removed]",
      "text/plain": [
       "<Figure size 1440x504 with 4 Axes>"
      ]
     },
     "metadata": {
      "needs_background": "light"
     },
     "output_type": "display_data"
    }
   ],
   "source": [
    "fave_emojis = [\"purple heart\", \"smirk face\", \"forest\", \"chicken\"]\n",
    "RGB_OUT = []\n",
    "for desc in fave_emojis:\n",
    "    img = icons_tdm.txt2img(desc,False)\n",
    "    #un-normalize the image\n",
    "    img = (img*255).astype(np.uint8)\n",
    "    RGB_OUT.append(img)\n",
    "\n",
    "showMultiSprRGB(RGB_OUT,textArr=fave_emojis)"
   ]
  },
  {
   "cell_type": "code",
   "execution_count": null,
   "metadata": {},
   "outputs": [
    {
     "data": {
      "image/png": "[encoded data removed]",
      "text/plain": [
       "<Figure size 1440x504 with 1 Axes>"
      ]
     },
     "metadata": {
      "needs_background": "light"
     },
     "output_type": "display_data"
    },
    {
     "data": {
      "image/png": "[encoded data removed]",
      "text/plain": [
       "<Figure size 1440x504 with 1 Axes>"
      ]
     },
     "metadata": {
      "needs_background": "light"
     },
     "output_type": "display_data"
    },
    {
     "ename": "KeyboardInterrupt",
     "evalue": "Interrupted by user",
     "output_type": "error",
     "traceback": [
      "\u001b[0;31m---------------------------------------------------------------------------\u001b[0m",
      "\u001b[0;31mKeyboardInterrupt\u001b[0m                         Traceback (most recent call last)",
      "\u001b[0;32m<ipython-input-45-2a49aae7f82f>\u001b[0m in \u001b[0;36m<module>\u001b[0;34m\u001b[0m\n\u001b[1;32m      5\u001b[0m     \u001b[0mimg\u001b[0m \u001b[0;34m=\u001b[0m \u001b[0;34m(\u001b[0m\u001b[0mimg\u001b[0m\u001b[0;34m*\u001b[0m\u001b[0;36m255\u001b[0m\u001b[0;34m)\u001b[0m\u001b[0;34m.\u001b[0m\u001b[0mastype\u001b[0m\u001b[0;34m(\u001b[0m\u001b[0mnp\u001b[0m\u001b[0;34m.\u001b[0m\u001b[0muint8\u001b[0m\u001b[0;34m)\u001b[0m\u001b[0;34m\u001b[0m\u001b[0;34m\u001b[0m\u001b[0m\n\u001b[1;32m      6\u001b[0m     \u001b[0mshowMultiSprRGB\u001b[0m\u001b[0;34m(\u001b[0m\u001b[0;34m[\u001b[0m\u001b[0mimg\u001b[0m\u001b[0;34m]\u001b[0m\u001b[0;34m,\u001b[0m\u001b[0mtextArr\u001b[0m\u001b[0;34m=\u001b[0m\u001b[0;34m[\u001b[0m\u001b[0muser_in\u001b[0m\u001b[0;34m]\u001b[0m\u001b[0;34m)\u001b[0m\u001b[0;34m\u001b[0m\u001b[0;34m\u001b[0m\u001b[0m\n\u001b[0;32m----> 7\u001b[0;31m     \u001b[0muser_in\u001b[0m \u001b[0;34m=\u001b[0m \u001b[0minput\u001b[0m\u001b[0;34m(\u001b[0m\u001b[0;34m\"Enter a description of an emoji: \"\u001b[0m\u001b[0;34m)\u001b[0m\u001b[0;34m\u001b[0m\u001b[0;34m\u001b[0m\u001b[0m\n\u001b[0m",
      "\u001b[0;32m/usr/local/lib/python3.9/site-packages/ipykernel/kernelbase.py\u001b[0m in \u001b[0;36mraw_input\u001b[0;34m(self, prompt)\u001b[0m\n\u001b[1;32m    855\u001b[0m                 \u001b[0;34m\"raw_input was called, but this frontend does not support input requests.\"\u001b[0m\u001b[0;34m\u001b[0m\u001b[0;34m\u001b[0m\u001b[0m\n\u001b[1;32m    856\u001b[0m             )\n\u001b[0;32m--> 857\u001b[0;31m         return self._input_request(str(prompt),\n\u001b[0m\u001b[1;32m    858\u001b[0m             \u001b[0mself\u001b[0m\u001b[0;34m.\u001b[0m\u001b[0m_parent_ident\u001b[0m\u001b[0;34m,\u001b[0m\u001b[0;34m\u001b[0m\u001b[0;34m\u001b[0m\u001b[0m\n\u001b[1;32m    859\u001b[0m             \u001b[0mself\u001b[0m\u001b[0;34m.\u001b[0m\u001b[0m_parent_header\u001b[0m\u001b[0;34m,\u001b[0m\u001b[0;34m\u001b[0m\u001b[0;34m\u001b[0m\u001b[0m\n",
      "\u001b[0;32m/usr/local/lib/python3.9/site-packages/ipykernel/kernelbase.py\u001b[0m in \u001b[0;36m_input_request\u001b[0;34m(self, prompt, ident, parent, password)\u001b[0m\n\u001b[1;32m    899\u001b[0m             \u001b[0;32mexcept\u001b[0m \u001b[0mKeyboardInterrupt\u001b[0m\u001b[0;34m:\u001b[0m\u001b[0;34m\u001b[0m\u001b[0;34m\u001b[0m\u001b[0m\n\u001b[1;32m    900\u001b[0m                 \u001b[0;31m# re-raise KeyboardInterrupt, to truncate traceback\u001b[0m\u001b[0;34m\u001b[0m\u001b[0;34m\u001b[0m\u001b[0;34m\u001b[0m\u001b[0m\n\u001b[0;32m--> 901\u001b[0;31m                 \u001b[0;32mraise\u001b[0m \u001b[0mKeyboardInterrupt\u001b[0m\u001b[0;34m(\u001b[0m\u001b[0;34m\"Interrupted by user\"\u001b[0m\u001b[0;34m)\u001b[0m \u001b[0;32mfrom\u001b[0m \u001b[0;32mNone\u001b[0m\u001b[0;34m\u001b[0m\u001b[0;34m\u001b[0m\u001b[0m\n\u001b[0m\u001b[1;32m    902\u001b[0m             \u001b[0;32mexcept\u001b[0m \u001b[0mException\u001b[0m \u001b[0;32mas\u001b[0m \u001b[0me\u001b[0m\u001b[0;34m:\u001b[0m\u001b[0;34m\u001b[0m\u001b[0;34m\u001b[0m\u001b[0m\n\u001b[1;32m    903\u001b[0m                 \u001b[0mself\u001b[0m\u001b[0;34m.\u001b[0m\u001b[0mlog\u001b[0m\u001b[0;34m.\u001b[0m\u001b[0mwarning\u001b[0m\u001b[0;34m(\u001b[0m\u001b[0;34m\"Invalid Message:\"\u001b[0m\u001b[0;34m,\u001b[0m \u001b[0mexc_info\u001b[0m\u001b[0;34m=\u001b[0m\u001b[0;32mTrue\u001b[0m\u001b[0;34m)\u001b[0m\u001b[0;34m\u001b[0m\u001b[0;34m\u001b[0m\u001b[0m\n",
      "\u001b[0;31mKeyboardInterrupt\u001b[0m: Interrupted by user"
     ]
    }
   ],
   "source": [
    "user_in = input(\"Enter a description of an emoji: \")\n",
    "while user_in != 'q':\n",
    "    img = icons_tdm.txt2img(user_in,False)\n",
    "    #un-normalize the image\n",
    "    img = (img*255).astype(np.uint8)\n",
    "    showMultiSprRGB([img],textArr=[user_in])\n",
    "    user_in = input(\"Enter a description of an emoji: \")"
   ]
  },
  {
   "cell_type": "code",
   "execution_count": null,
   "metadata": {},
   "outputs": [
    {
     "data": {
      "image/png": "[encoded data removed]",
      "text/plain": [
       "<Figure size 144x144 with 1 Axes>"
      ]
     },
     "metadata": {
      "needs_background": "light"
     },
     "output_type": "display_data"
    },
    {
     "data": {
      "image/png": "[encoded data removed]",
      "text/plain": [
       "<Figure size 2000x700 with 25 Axes>"
      ]
     },
     "metadata": {},
     "output_type": "display_data"
    }
   ],
   "source": [
    "SPEC_EMOJI = \"chicken\"\n",
    "\n",
    "#show output from model first\n",
    "img = icons_tdm.txt2img(SPEC_EMOJI,False)\n",
    "#un-normalize the image\n",
    "img = (img*255).astype(np.uint8)\n",
    "showSprRGB(img)\n",
    "\n",
    "all_chickens = []\n",
    "for i in icons50:\n",
    "    ss = SPEC_EMOJI.split()\n",
    "    f = 0\n",
    "    for s in ss:\n",
    "        if s not in i['label']:\n",
    "            f = 1\n",
    "            break\n",
    "    if f == 0:\n",
    "        all_chickens.append((i['img'],i['label']))\n",
    "    \n",
    "\n",
    "# all_chickens = [(i['img'],i['label']) for i in icons50 if SPEC_EMOJI ]\n",
    "\n",
    "if len(all_chickens) == 0:\n",
    "    print(\"No chickens found\")\n",
    "\n",
    "if len(all_chickens) > 32:\n",
    "    for i in range(0,len(all_chickens),32):\n",
    "        showMultiSprRGB([i[0] for i in all_chickens[i:i+32]],textArr=[i[1] for i in all_chickens[i:i+32]])\n",
    "else:\n",
    "    showMultiSprRGB([i[0] for i in all_chickens],textArr=[i[1] for i in all_chickens])"
   ]
  },
  {
   "cell_type": "code",
   "execution_count": null,
   "metadata": {},
   "outputs": [
    {
     "name": "stdout",
     "output_type": "stream",
     "text": [
      "63\n"
     ]
    },
    {
     "data": {
      "image/png": "[encoded data removed]",
      "text/plain": [
       "<Figure size 1440x504 with 32 Axes>"
      ]
     },
     "metadata": {
      "needs_background": "light"
     },
     "output_type": "display_data"
    },
    {
     "data": {
      "image/png": "[encoded data removed]",
      "text/plain": [
       "<Figure size 1440x504 with 31 Axes>"
      ]
     },
     "metadata": {
      "needs_background": "light"
     },
     "output_type": "display_data"
    }
   ],
   "source": [
    "all_planes = [i['img'] for i in icons50 if \"disk\" in i['class']]\n",
    "print(len(all_planes))\n",
    "\n",
    "for i in range(0,len(all_planes),32):\n",
    "    showMultiSprRGB(all_planes[i:i+32])"
   ]
  },
  {
   "attachments": {},
   "cell_type": "markdown",
   "metadata": {},
   "source": [
    "### Fix the bullshit icons dataset"
   ]
  },
  {
   "cell_type": "code",
   "execution_count": 48,
   "metadata": {},
   "outputs": [
    {
     "name": "stdout",
     "output_type": "stream",
     "text": [
      "568\n"
     ]
    }
   ],
   "source": [
    "uniq_icons = []\n",
    "uniq_labels = []\n",
    "for i in icons50:\n",
    "    if i['label'] not in uniq_labels:\n",
    "        uniq_icons.append(i['img'])\n",
    "        uniq_labels.append(i['label'])\n",
    "\n",
    "print(len(uniq_icons))"
   ]
  },
  {
   "cell_type": "code",
   "execution_count": 49,
   "metadata": {},
   "outputs": [
    {
     "name": "stdout",
     "output_type": "stream",
     "text": [
      "['airplane', 'airplane arriving', 'airplane departure', 'alarm clock', 'ambulance', 'american football', 'angry face', 'anguished face', 'anticlockwise downwards and upwards open circle arrows', 'arrow pointing rightwards then curving downwards', 'arrow pointing rightwards then curving upwards', 'asterisk', 'athletic shoe', 'automobile', 'baby bottle', 'baby chick', 'banknote with dollar sign', 'banknote with euro sign', 'banknote with pound sign', 'banknote with yen sign', 'baseball', 'basketball and hoop', 'beach with umbrella', 'beating heart', 'beer mug', 'billed cap', 'billiards', 'bird', 'black heart', 'black heart suit', 'black nib', 'black rightwards arrow', 'black scissors', 'blossom', 'blowfish', 'blue book', 'blue heart', 'bookmark', 'bookmark tabs', 'books', 'bouquet', 'broken heart', 'bus', 'canoe', 'carp streamer', 'cat', 'cat face', 'cat face with tears of joy', 'cat face with wry smile', 'chequered flag', 'cherry blossom', 'chicken', 'christmas tree', 'circled ideograph accept', 'circled ideograph advantage', 'circled ideograph congratulation', 'circled ideograph secret', 'clapping hands sign', 'clinking beer mugs', 'clinking glasses', 'clock face five oclock', 'clock face five thirty', 'clock face four oclock', 'clock face four thirty', 'clock face one oclock', 'clock face one thirty', 'clock face six oclock', 'clock face six thirty', 'clock face three oclock', 'clock face three thirty', 'clock face twelve oclock', 'clock face twelve thirty', 'clock face two oclock', 'clock face two thirty', 'clockwise downwards and upwards open circle arrows', 'closed book', 'closed lock with key', 'closed mailbox with lowered flag', 'closed mailbox with raised flag', 'closed umbrella', 'cloud', 'cloud with lightning', 'cloud with rain', 'cloud with snow', 'cocktail glass', 'confounded face', 'confused face', 'convenience store', 'crescent moon', 'crossed flags', 'crossed swords', 'crying cat face', 'crying face', 'crystal ball', 'cup with straw', 'dagger knife', 'deciduous tree', 'department store', 'derelict house building', 'desert island', 'disappointed but relieved face', 'disappointed face', 'do not litter symbol', 'dolphin', 'dove of peace', 'downwards black arrow', 'drooling face', 'duck', 'dvd', 'e mail symbol', 'eagle', 'eight pointed black star', 'eight spoked asterisk', 'envelope', 'envelope with downwards arrow above', 'european castle', 'european post office', 'evergreen tree', 'face throwing a kiss', 'face with open mouth', 'factory', 'family', 'family man boy', 'family man boy boy', 'family man girl', 'family man girl boy', 'family man girl girl', 'family man man boy', 'family man man boy boy', 'family man man girl', 'family man man girl boy', 'family man man girl girl', 'family man woman boy', 'family man woman boy boy', 'family man woman girl', 'family man woman girl boy', 'family man woman girl girl', 'family woman boy', 'family woman boy boy', 'family woman girl', 'family woman girl boy', 'family woman girl girl', 'family woman woman boy', 'family woman woman boy boy', 'family woman woman girl', 'family woman woman girl boy', 'family woman woman girl girl', 'fearful face', 'female factory worker', 'female factory worker type 1 2', 'female factory worker type 3', 'female factory worker type 4', 'female factory worker type 5', 'female factory worker type 6', 'female judge', 'female judge type 1 2', 'female judge type 3', 'female judge type 4', 'female judge type 5', 'female judge type 6', 'female mechanic', 'female mechanic type 1 2', 'female mechanic type 3', 'female mechanic type 4', 'female mechanic type 5', 'female mechanic type 6', 'female scientist', 'female scientist type 1 2', 'female scientist type 3', 'female scientist type 4', 'female scientist type 5', 'female scientist type 6', 'ferry', 'fire engine', 'first place medal', 'first quarter moon symbol', 'first quarter moon with face', 'fish', 'fishing pole and fish', 'fisted hand sign', 'flag for australia', 'flag for belgium', 'flag for brazil', 'flag for china', 'flag for denmark', 'flag for france', 'flag for germany', 'flag for hong kong', 'flag for india', 'flag for israel', 'flag for japan', 'flag for norway', 'flag for puerto rico', 'flag for russia', 'flag for south africa', 'flag for spain', 'flag for sweden', 'flag for turkey', 'flag for united kingdom', 'flag for united nations', 'flag for united states', 'flag for vietnam', 'flag in hole', 'front facing baby chick', 'frowning face with open mouth', 'glass of milk', 'glowing star', 'graduation cap', 'green book', 'grinning cat face with smiling eyes', 'growing heart', 'hatching chick', 'hear no evil monkey', 'heart decoration', 'heart with arrow', 'heart with ribbon', 'heavy black heart', 'heavy heart exclamation mark ornament', 'helmet with white cross', 'hibiscus', 'high heeled shoe', 'high speed train', 'high speed train with bullet nose', 'hocho', 'hospital', 'hot beverage', 'hotel', 'house building', 'house buildings', 'house with garden', 'hugging face', 'ice skate', 'incoming envelope', 'japanese castle', 'japanese post office', 'keycap digit eight', 'keycap digit five', 'keycap digit four', 'keycap digit nine', 'keycap digit one', 'keycap digit seven', 'keycap digit six', 'keycap digit three', 'keycap digit two', 'keycap digit zero', 'keycap ten', 'kiss', 'kiss man man', 'kiss type 1 2', 'kiss type 3', 'kiss type 4', 'kiss type 5', 'kiss type 6', 'kiss woman woman', 'kissing cat face with closed eyes', 'kissing face', 'last quarter moon symbol', 'last quarter moon with face', 'ledger', 'left right arrow', 'leopard', 'light rail', 'lion face', 'lock', 'lock with ink pen', 'love letter', 'lower left ballpoint pen', 'lower left crayon', 'lower left fountain pen', 'lower left paintbrush', 'male factory worker', 'male factory worker type 1 2', 'male factory worker type 3', 'male factory worker type 4', 'male factory worker type 5', 'male factory worker type 6', 'male judge', 'male judge type 1 2', 'male judge type 3', 'male judge type 4', 'male judge type 5', 'male judge type 6', 'male mechanic', 'male mechanic type 1 2', 'male mechanic type 3', 'male mechanic type 4', 'male mechanic type 6', 'male scientist', 'male scientist type 1 2', 'male scientist type 3', 'male scientist type 4', 'male scientist type 5', 'male scientist type 6', 'man and woman holding hands', 'man and woman holding hands type 1 2', 'man and woman holding hands type 3', 'man and woman holding hands type 4', 'man and woman holding hands type 5', 'man and woman holding hands type 6', 'man biking type 1 2', 'man biking type 3', 'man biking type 4', 'man biking type 5', 'man biking type 6', 'man doing cartwheel type 1 2', 'man doing cartwheel type 3', 'man doing cartwheel type 4', 'man doing cartwheel type 5', 'man doing cartwheel type 6', 'man golfing type 1 2', 'man golfing type 3', 'man golfing type 4', 'man golfing type 5', 'man golfing type 6', 'man playing water polo', 'man playing water polo type 1 2', 'man playing water polo type 3', 'man playing water polo type 4', 'man playing water polo type 5', 'man playing water polo type 6', 'man rowing boat', 'man rowing boat type 1 2', 'man rowing boat type 3', 'man rowing boat type 4', 'man rowing boat type 5', 'man rowing boat type 6', 'man surfing type 1 2', 'man surfing type 3', 'man surfing type 4', 'man surfing type 5', 'man surfing type 6', 'mans shoe', 'mantelpiece clock', 'men with bunny ears partying', 'men with bunny ears type 1 2', 'men with bunny ears type 3', 'men with bunny ears type 4', 'men with bunny ears type 5', 'men with bunny ears type 6', 'men wrestling type 1 2', 'men wrestling type 3', 'men wrestling type 4', 'men wrestling type 5', 'men wrestling type 6', 'metro', 'military medal', 'milky way', 'minibus', 'minidisc', 'mobile phone', 'mobile phone off', 'mobile phone with rightwards arrow at left', 'money bag', 'money with wings', 'monkey', 'monkey face', 'monorail', 'motor boat', 'mount fuji', 'mountain', 'neutral face', 'new moon symbol', 'no bicycles', 'no entry sign', 'no one under eighteen symbol', 'no pedestrians', 'no smoking symbol', 'non potable water symbol', 'north west arrow', 'northeast pointing airplane', 'notebook', 'notebook with decorative cover', 'office building', 'ok hand sign', 'on with exclamation mark with left right arrow above', 'oncoming automobile', 'oncoming police car', 'oncoming taxi', 'open book', 'open hands sign', 'open lock', 'open mailbox with lowered flag', 'open mailbox with raised flag', 'optical disc', 'orange book', 'orange heart', 'owl', 'palm tree', 'passenger ship', 'pencil', 'penguin', 'person raising both hands in celebration', 'person with folded hands', 'police car', 'pouting cat face', 'purple heart', 'rabbit', 'rabbit face', 'racing car', 'raised back of hand', 'raised fist', 'raised hand', 'raised hand with fingers splayed', 'raised hand with part between middle and ring fingers', 'revolving hearts', 'right facing fist', 'rightwards arrow with hook', 'rooster', 'rose', 'rosette', 'rowboat', 'rugby football', 'sailboat', 'school', 'second place medal', 'see no evil monkey', 'shark', 'ship', 'shooting star', 'six pointed star with middle dot', 'sleeping face', 'sleepy face', 'slightly frowning face', 'slightly smiling face', 'small airplane', 'smiling cat face with heart shaped eyes', 'smiling cat face with open mouth', 'snow capped mountain', 'soccer ball', 'soon with rightwards arrow above', 'south west arrow', 'sparkle', 'sparkles', 'sparkling heart', 'speak no evil monkey', 'speedboat', 'sports medal', 'spouting whale', 'squared cjk unified ideograph 5272', 'squared cjk unified ideograph 5408', 'squared cjk unified ideograph 55b6', 'squared cjk unified ideograph 6307', 'squared cjk unified ideograph 6708', 'squared cjk unified ideograph 6709', 'squared cjk unified ideograph 6e80', 'squared cjk unified ideograph 7121', 'squared cjk unified ideograph 7533', 'squared cjk unified ideograph 7981', 'squared cjk unified ideograph 7a7a', 'star of david', 'stopwatch', 'sun behind cloud', 'sunflower', 'sunrise over mountains', 'taxi', 'teacup without handle', 'thinking face', 'third place medal', 'thumbs down sign', 'thumbs up sign', 'thunder cloud and rain', 'tiger', 'tiger face', 'timer clock', 'top hat', 'top with upwards arrow above', 'train', 'tram', 'triangular flag on post', 'tropical drink', 'tropical fish', 'tulip', 'tumbler glass', 'turkey', 'twisted rightwards arrows', 'two hearts', 'two men holding hands', 'two men holding hands type 1 2', 'two men holding hands type 3', 'two men holding hands type 4', 'two men holding hands type 5', 'two men holding hands type 6', 'two women holding hands', 'two women holding hands type 1 2', 'two women holding hands type 3', 'two women holding hands type 4', 'two women holding hands type 5', 'two women holding hands type 6', 'umbrella', 'umbrella on ground', 'umbrella with rain drops', 'up down arrow', 'up pointing airplane', 'up pointing military airplane', 'up pointing small airplane', 'upwards black arrow', 'vibration mode', 'victory hand', 'volleyball', 'waning crescent moon symbol', 'waning gibbous moon symbol', 'watch', 'waving black flag', 'waving hand sign', 'waving white flag', 'waxing crescent moon symbol', 'waxing gibbous moon symbol', 'weary cat face', 'weary face', 'whale', 'white down pointing backhand index', 'white flower', 'white medium star', 'white right pointing backhand index', 'white sun behind cloud', 'white sun behind cloud with rain', 'white up pointing backhand index', 'wilted flower', 'wine glass', 'woman biking type 1 2', 'woman biking type 3', 'woman biking type 4', 'woman biking type 5', 'woman biking type 6', 'woman doing cartwheel type 1 2', 'woman doing cartwheel type 3', 'woman doing cartwheel type 4', 'woman doing cartwheel type 5', 'woman doing cartwheel type 6', 'woman golfing type 1 2', 'woman golfing type 3', 'woman golfing type 4', 'woman golfing type 5', 'woman golfing type 6', 'woman playing water polo', 'woman playing water polo type 1 2', 'woman playing water polo type 3', 'woman playing water polo type 4', 'woman playing water polo type 5', 'woman playing water polo type 6', 'woman rowing boat', 'woman rowing boat type 1 2', 'woman rowing boat type 3', 'woman rowing boat type 4', 'woman rowing boat type 5', 'woman rowing boat type 6', 'woman surfing type 1 2', 'woman surfing type 3', 'woman surfing type 4', 'woman surfing type 5', 'woman surfing type 6', 'woman with bunny ears', 'womans boots', 'womans hat', 'womans sandal', 'women with bunny ears partying', 'women with bunny ears partying type 3', 'women with bunny ears type 1 2', 'women with bunny ears type 3', 'women with bunny ears type 4', 'women with bunny ears type 5', 'women with bunny ears type 6', 'women wrestling type 1 2', 'women wrestling type 3', 'women wrestling type 4', 'women wrestling type 5', 'women wrestling type 6', 'yellow heart']\n"
     ]
    }
   ],
   "source": [
    "suniq_labels = sorted(uniq_labels)\n",
    "print(suniq_labels)"
   ]
  },
  {
   "cell_type": "code",
   "execution_count": null,
   "metadata": {},
   "outputs": [
    {
     "name": "stderr",
     "output_type": "stream",
     "text": [
      "100%|██████████| 568/568 [00:39<00:00, 14.30it/s]\n"
     ]
    }
   ],
   "source": [
    "\n",
    "with tqdm(total=len(uniq_icons)) as pbar:\n",
    "    X_uicons_train = []\n",
    "    Y_uicons_train = []\n",
    "    for i in range(len(uniq_icons)):\n",
    "        X_uicons_train.append(sentEmb(uniq_labels[i]))\n",
    "        Y_uicons_train.append((uniq_icons[i])/255)\n",
    "        pbar.update(1)\n",
    "\n",
    "    #convert to np\n",
    "    X_uicons_train = np.array(X_uicons_train)\n",
    "    Y_uicons_train = np.array(Y_uicons_train)\n"
   ]
  },
  {
   "cell_type": "code",
   "execution_count": 50,
   "metadata": {},
   "outputs": [
    {
     "name": "stdout",
     "output_type": "stream",
     "text": [
      "Model: \"sequential_83\"\n",
      "_________________________________________________________________\n",
      " Layer (type)                Output Shape              Param #   \n",
      "=================================================================\n",
      " dense_115 (Dense)           (None, 256)               196864    \n",
      "                                                                 \n",
      " reshape_83 (Reshape)        (None, 1, 1, 256)         0         \n",
      "                                                                 \n",
      " conv2d_transpose_229 (Conv2  (None, 2, 2, 128)        131200    \n",
      " DTranspose)                                                     \n",
      "                                                                 \n",
      " batch_normalization_24 (Bat  (None, 2, 2, 128)        512       \n",
      " chNormalization)                                                \n",
      "                                                                 \n",
      " conv2d_transpose_230 (Conv2  (None, 4, 4, 128)        65664     \n",
      " DTranspose)                                                     \n",
      "                                                                 \n",
      " batch_normalization_25 (Bat  (None, 4, 4, 128)        512       \n",
      " chNormalization)                                                \n",
      "                                                                 \n",
      " conv2d_transpose_231 (Conv2  (None, 8, 8, 128)        65664     \n",
      " DTranspose)                                                     \n",
      "                                                                 \n",
      " batch_normalization_26 (Bat  (None, 8, 8, 128)        512       \n",
      " chNormalization)                                                \n",
      "                                                                 \n",
      " conv2d_30 (Conv2D)          (None, 8, 8, 3)           3459      \n",
      "                                                                 \n",
      "=================================================================\n",
      "Total params: 464,387\n",
      "Trainable params: 463,619\n",
      "Non-trainable params: 768\n",
      "_________________________________________________________________\n",
      "Epoch 1/200\n",
      "18/18 [==============================] - 3s 26ms/step - loss: 0.1684 - accuracy: 0.3379\n",
      "Epoch 2/200\n",
      "18/18 [==============================] - 0s 27ms/step - loss: 0.1026 - accuracy: 0.3857\n",
      "Epoch 3/200\n",
      "18/18 [==============================] - 0s 27ms/step - loss: 0.0830 - accuracy: 0.4411\n",
      "Epoch 4/200\n",
      "18/18 [==============================] - 0s 27ms/step - loss: 0.0770 - accuracy: 0.4791\n",
      "Epoch 5/200\n",
      "18/18 [==============================] - 0s 27ms/step - loss: 0.0727 - accuracy: 0.4943\n",
      "Epoch 6/200\n",
      "18/18 [==============================] - 0s 27ms/step - loss: 0.0695 - accuracy: 0.5124\n",
      "Epoch 7/200\n",
      "18/18 [==============================] - 0s 26ms/step - loss: 0.0664 - accuracy: 0.5103\n",
      "Epoch 8/200\n",
      "18/18 [==============================] - 1s 33ms/step - loss: 0.0638 - accuracy: 0.5115\n",
      "Epoch 9/200\n",
      "18/18 [==============================] - 1s 32ms/step - loss: 0.0608 - accuracy: 0.5199\n",
      "Epoch 10/200\n",
      "18/18 [==============================] - 1s 30ms/step - loss: 0.0585 - accuracy: 0.5164\n",
      "Epoch 11/200\n",
      "18/18 [==============================] - 1s 30ms/step - loss: 0.0564 - accuracy: 0.5268\n",
      "Epoch 12/200\n",
      "18/18 [==============================] - 1s 30ms/step - loss: 0.0543 - accuracy: 0.5273\n",
      "Epoch 13/200\n",
      "18/18 [==============================] - 1s 31ms/step - loss: 0.0519 - accuracy: 0.5273\n",
      "Epoch 14/200\n",
      "18/18 [==============================] - 1s 32ms/step - loss: 0.0498 - accuracy: 0.5388\n",
      "Epoch 15/200\n",
      "18/18 [==============================] - 1s 31ms/step - loss: 0.0480 - accuracy: 0.5389\n",
      "Epoch 16/200\n",
      "18/18 [==============================] - 1s 29ms/step - loss: 0.0462 - accuracy: 0.5413\n",
      "Epoch 17/200\n",
      "18/18 [==============================] - 1s 29ms/step - loss: 0.0450 - accuracy: 0.5478\n",
      "Epoch 18/200\n",
      "18/18 [==============================] - 1s 28ms/step - loss: 0.0432 - accuracy: 0.5509\n",
      "Epoch 19/200\n",
      "18/18 [==============================] - 1s 28ms/step - loss: 0.0414 - accuracy: 0.5555\n",
      "Epoch 20/200\n",
      "18/18 [==============================] - 1s 28ms/step - loss: 0.0398 - accuracy: 0.5601\n",
      "Epoch 21/200\n",
      "18/18 [==============================] - 1s 30ms/step - loss: 0.0388 - accuracy: 0.5643\n",
      "Epoch 22/200\n",
      "18/18 [==============================] - 1s 29ms/step - loss: 0.0377 - accuracy: 0.5634\n",
      "Epoch 23/200\n",
      "18/18 [==============================] - 1s 28ms/step - loss: 0.0363 - accuracy: 0.5630\n",
      "Epoch 24/200\n",
      "18/18 [==============================] - 1s 28ms/step - loss: 0.0347 - accuracy: 0.5752\n",
      "Epoch 25/200\n",
      "18/18 [==============================] - 1s 29ms/step - loss: 0.0331 - accuracy: 0.5771\n",
      "Epoch 26/200\n",
      "18/18 [==============================] - 1s 29ms/step - loss: 0.0328 - accuracy: 0.5792\n",
      "Epoch 27/200\n",
      "18/18 [==============================] - 1s 30ms/step - loss: 0.0318 - accuracy: 0.5791\n",
      "Epoch 28/200\n",
      "18/18 [==============================] - 1s 28ms/step - loss: 0.0312 - accuracy: 0.5822\n",
      "Epoch 29/200\n",
      "18/18 [==============================] - 1s 28ms/step - loss: 0.0297 - accuracy: 0.5881\n",
      "Epoch 30/200\n",
      "18/18 [==============================] - 1s 28ms/step - loss: 0.0291 - accuracy: 0.5940\n",
      "Epoch 31/200\n",
      "18/18 [==============================] - 1s 29ms/step - loss: 0.0287 - accuracy: 0.5985\n",
      "Epoch 32/200\n",
      "18/18 [==============================] - 1s 28ms/step - loss: 0.0275 - accuracy: 0.5983\n",
      "Epoch 33/200\n",
      "18/18 [==============================] - 1s 30ms/step - loss: 0.0268 - accuracy: 0.5954\n",
      "Epoch 34/200\n",
      "18/18 [==============================] - 1s 29ms/step - loss: 0.0257 - accuracy: 0.6049\n",
      "Epoch 35/200\n",
      "18/18 [==============================] - 1s 28ms/step - loss: 0.0246 - accuracy: 0.6054\n",
      "Epoch 36/200\n",
      "18/18 [==============================] - 1s 28ms/step - loss: 0.0247 - accuracy: 0.6102\n",
      "Epoch 37/200\n",
      "18/18 [==============================] - 1s 28ms/step - loss: 0.0241 - accuracy: 0.6039\n",
      "Epoch 38/200\n",
      "18/18 [==============================] - 1s 29ms/step - loss: 0.0235 - accuracy: 0.6070\n",
      "Epoch 39/200\n",
      "18/18 [==============================] - 1s 30ms/step - loss: 0.0228 - accuracy: 0.6087\n",
      "Epoch 40/200\n",
      "18/18 [==============================] - 1s 28ms/step - loss: 0.0223 - accuracy: 0.6081\n",
      "Epoch 41/200\n",
      "18/18 [==============================] - 1s 28ms/step - loss: 0.0213 - accuracy: 0.6076\n",
      "Epoch 42/200\n",
      "18/18 [==============================] - 1s 29ms/step - loss: 0.0211 - accuracy: 0.6157\n",
      "Epoch 43/200\n",
      "18/18 [==============================] - 1s 29ms/step - loss: 0.0207 - accuracy: 0.6179\n",
      "Epoch 44/200\n",
      "18/18 [==============================] - 1s 28ms/step - loss: 0.0204 - accuracy: 0.6186\n",
      "Epoch 45/200\n",
      "18/18 [==============================] - 1s 29ms/step - loss: 0.0199 - accuracy: 0.6219\n",
      "Epoch 46/200\n",
      "18/18 [==============================] - 1s 31ms/step - loss: 0.0198 - accuracy: 0.6215\n",
      "Epoch 47/200\n",
      "18/18 [==============================] - 1s 29ms/step - loss: 0.0184 - accuracy: 0.6244\n",
      "Epoch 48/200\n",
      "18/18 [==============================] - 1s 30ms/step - loss: 0.0192 - accuracy: 0.6289\n",
      "Epoch 49/200\n",
      "18/18 [==============================] - 1s 30ms/step - loss: 0.0187 - accuracy: 0.6254\n",
      "Epoch 50/200\n",
      "18/18 [==============================] - 1s 29ms/step - loss: 0.0171 - accuracy: 0.6274\n",
      "Epoch 51/200\n",
      "18/18 [==============================] - 1s 30ms/step - loss: 0.0168 - accuracy: 0.6302\n",
      "Epoch 52/200\n",
      "18/18 [==============================] - 1s 28ms/step - loss: 0.0166 - accuracy: 0.6311\n",
      "Epoch 53/200\n",
      "18/18 [==============================] - 1s 34ms/step - loss: 0.0162 - accuracy: 0.6305\n",
      "Epoch 54/200\n",
      "18/18 [==============================] - 1s 29ms/step - loss: 0.0161 - accuracy: 0.6316\n",
      "Epoch 55/200\n",
      "18/18 [==============================] - 1s 29ms/step - loss: 0.0159 - accuracy: 0.6306\n",
      "Epoch 56/200\n",
      "18/18 [==============================] - 1s 29ms/step - loss: 0.0155 - accuracy: 0.6337\n",
      "Epoch 57/200\n",
      "18/18 [==============================] - 1s 29ms/step - loss: 0.0154 - accuracy: 0.6348\n",
      "Epoch 58/200\n",
      "18/18 [==============================] - 1s 28ms/step - loss: 0.0151 - accuracy: 0.6341\n",
      "Epoch 59/200\n",
      "18/18 [==============================] - 1s 31ms/step - loss: 0.0147 - accuracy: 0.6376\n",
      "Epoch 60/200\n",
      "18/18 [==============================] - 1s 29ms/step - loss: 0.0148 - accuracy: 0.6353\n",
      "Epoch 61/200\n",
      "18/18 [==============================] - 1s 29ms/step - loss: 0.0150 - accuracy: 0.6427\n",
      "Epoch 62/200\n",
      "18/18 [==============================] - 1s 28ms/step - loss: 0.0138 - accuracy: 0.6437\n",
      "Epoch 63/200\n",
      "18/18 [==============================] - 1s 29ms/step - loss: 0.0135 - accuracy: 0.6408\n",
      "Epoch 64/200\n",
      "18/18 [==============================] - 1s 29ms/step - loss: 0.0134 - accuracy: 0.6478\n",
      "Epoch 65/200\n",
      "18/18 [==============================] - 1s 30ms/step - loss: 0.0134 - accuracy: 0.6438\n",
      "Epoch 66/200\n",
      "18/18 [==============================] - 1s 29ms/step - loss: 0.0131 - accuracy: 0.6471\n",
      "Epoch 67/200\n",
      "18/18 [==============================] - 1s 28ms/step - loss: 0.0137 - accuracy: 0.6430\n",
      "Epoch 68/200\n",
      "18/18 [==============================] - 1s 29ms/step - loss: 0.0126 - accuracy: 0.6463\n",
      "Epoch 69/200\n",
      "18/18 [==============================] - 1s 29ms/step - loss: 0.0123 - accuracy: 0.6473\n",
      "Epoch 70/200\n",
      "18/18 [==============================] - 1s 30ms/step - loss: 0.0120 - accuracy: 0.6448\n",
      "Epoch 71/200\n",
      "18/18 [==============================] - 1s 30ms/step - loss: 0.0127 - accuracy: 0.6529\n",
      "Epoch 72/200\n",
      "18/18 [==============================] - 1s 30ms/step - loss: 0.0119 - accuracy: 0.6507\n",
      "Epoch 73/200\n",
      "18/18 [==============================] - 1s 33ms/step - loss: 0.0119 - accuracy: 0.6524\n",
      "Epoch 74/200\n",
      "18/18 [==============================] - 1s 29ms/step - loss: 0.0117 - accuracy: 0.6509\n",
      "Epoch 75/200\n",
      "18/18 [==============================] - 1s 29ms/step - loss: 0.0110 - accuracy: 0.6521\n",
      "Epoch 76/200\n",
      "18/18 [==============================] - 1s 29ms/step - loss: 0.0110 - accuracy: 0.6532\n",
      "Epoch 77/200\n",
      "18/18 [==============================] - 1s 28ms/step - loss: 0.0109 - accuracy: 0.6512\n",
      "Epoch 78/200\n",
      "18/18 [==============================] - 1s 30ms/step - loss: 0.0113 - accuracy: 0.6551\n",
      "Epoch 79/200\n",
      "18/18 [==============================] - 1s 29ms/step - loss: 0.0108 - accuracy: 0.6569\n",
      "Epoch 80/200\n",
      "18/18 [==============================] - 1s 29ms/step - loss: 0.0110 - accuracy: 0.6548\n",
      "Epoch 81/200\n",
      "18/18 [==============================] - 1s 29ms/step - loss: 0.0109 - accuracy: 0.6562\n",
      "Epoch 82/200\n",
      "18/18 [==============================] - 1s 28ms/step - loss: 0.0102 - accuracy: 0.6552\n",
      "Epoch 83/200\n",
      "18/18 [==============================] - 1s 28ms/step - loss: 0.0106 - accuracy: 0.6549\n",
      "Epoch 84/200\n",
      "18/18 [==============================] - 1s 28ms/step - loss: 0.0106 - accuracy: 0.6585\n",
      "Epoch 85/200\n",
      "18/18 [==============================] - 1s 30ms/step - loss: 0.0099 - accuracy: 0.6570\n",
      "Epoch 86/200\n",
      "18/18 [==============================] - 1s 28ms/step - loss: 0.0098 - accuracy: 0.6591\n",
      "Epoch 87/200\n",
      "18/18 [==============================] - 1s 29ms/step - loss: 0.0094 - accuracy: 0.6608\n",
      "Epoch 88/200\n",
      "18/18 [==============================] - 1s 28ms/step - loss: 0.0098 - accuracy: 0.6619\n",
      "Epoch 89/200\n",
      "18/18 [==============================] - 1s 30ms/step - loss: 0.0095 - accuracy: 0.6619\n",
      "Epoch 90/200\n",
      "18/18 [==============================] - 1s 29ms/step - loss: 0.0090 - accuracy: 0.6594\n",
      "Epoch 91/200\n",
      "18/18 [==============================] - 1s 29ms/step - loss: 0.0088 - accuracy: 0.6640\n",
      "Epoch 92/200\n",
      "18/18 [==============================] - 1s 34ms/step - loss: 0.0095 - accuracy: 0.6575\n",
      "Epoch 93/200\n",
      "18/18 [==============================] - 1s 32ms/step - loss: 0.0088 - accuracy: 0.6632\n",
      "Epoch 94/200\n",
      "18/18 [==============================] - 1s 29ms/step - loss: 0.0097 - accuracy: 0.6627\n",
      "Epoch 95/200\n",
      "18/18 [==============================] - 1s 29ms/step - loss: 0.0091 - accuracy: 0.6649\n",
      "Epoch 96/200\n",
      "18/18 [==============================] - 1s 30ms/step - loss: 0.0090 - accuracy: 0.6637\n",
      "Epoch 97/200\n",
      "18/18 [==============================] - 1s 29ms/step - loss: 0.0090 - accuracy: 0.6648\n",
      "Epoch 98/200\n",
      "18/18 [==============================] - 1s 29ms/step - loss: 0.0082 - accuracy: 0.6655\n",
      "Epoch 99/200\n",
      "18/18 [==============================] - 1s 29ms/step - loss: 0.0086 - accuracy: 0.6675\n",
      "Epoch 100/200\n",
      "18/18 [==============================] - 1s 28ms/step - loss: 0.0083 - accuracy: 0.6658\n",
      "Epoch 101/200\n",
      "18/18 [==============================] - 1s 30ms/step - loss: 0.0084 - accuracy: 0.6629\n",
      "Epoch 102/200\n",
      "18/18 [==============================] - 1s 29ms/step - loss: 0.0086 - accuracy: 0.6696\n",
      "Epoch 103/200\n",
      "18/18 [==============================] - 1s 28ms/step - loss: 0.0082 - accuracy: 0.6691\n",
      "Epoch 104/200\n",
      "18/18 [==============================] - 1s 28ms/step - loss: 0.0084 - accuracy: 0.6679\n",
      "Epoch 105/200\n",
      "18/18 [==============================] - 1s 28ms/step - loss: 0.0080 - accuracy: 0.6714\n",
      "Epoch 106/200\n",
      "18/18 [==============================] - 1s 29ms/step - loss: 0.0087 - accuracy: 0.6685\n",
      "Epoch 107/200\n",
      "18/18 [==============================] - 1s 28ms/step - loss: 0.0082 - accuracy: 0.6700\n",
      "Epoch 108/200\n",
      "18/18 [==============================] - 1s 29ms/step - loss: 0.0080 - accuracy: 0.6718\n",
      "Epoch 109/200\n",
      "18/18 [==============================] - 1s 30ms/step - loss: 0.0074 - accuracy: 0.6704\n",
      "Epoch 110/200\n",
      "18/18 [==============================] - 1s 29ms/step - loss: 0.0078 - accuracy: 0.6700\n",
      "Epoch 111/200\n",
      "18/18 [==============================] - 1s 29ms/step - loss: 0.0072 - accuracy: 0.6735\n",
      "Epoch 112/200\n",
      "18/18 [==============================] - 1s 31ms/step - loss: 0.0072 - accuracy: 0.6709\n",
      "Epoch 113/200\n",
      "18/18 [==============================] - 1s 29ms/step - loss: 0.0073 - accuracy: 0.6746\n",
      "Epoch 114/200\n",
      "18/18 [==============================] - 1s 29ms/step - loss: 0.0077 - accuracy: 0.6708\n",
      "Epoch 115/200\n",
      "18/18 [==============================] - 1s 29ms/step - loss: 0.0072 - accuracy: 0.6729\n",
      "Epoch 116/200\n",
      "18/18 [==============================] - 1s 30ms/step - loss: 0.0078 - accuracy: 0.6716\n",
      "Epoch 117/200\n",
      "18/18 [==============================] - 1s 31ms/step - loss: 0.0074 - accuracy: 0.6741\n",
      "Epoch 118/200\n",
      "18/18 [==============================] - 1s 28ms/step - loss: 0.0073 - accuracy: 0.6672\n",
      "Epoch 119/200\n",
      "18/18 [==============================] - 1s 29ms/step - loss: 0.0072 - accuracy: 0.6743\n",
      "Epoch 120/200\n",
      "18/18 [==============================] - 1s 29ms/step - loss: 0.0069 - accuracy: 0.6677\n",
      "Epoch 121/200\n",
      "18/18 [==============================] - 1s 29ms/step - loss: 0.0072 - accuracy: 0.6753\n",
      "Epoch 122/200\n",
      "18/18 [==============================] - 1s 29ms/step - loss: 0.0070 - accuracy: 0.6744\n",
      "Epoch 123/200\n",
      "18/18 [==============================] - 1s 29ms/step - loss: 0.0068 - accuracy: 0.6738\n",
      "Epoch 124/200\n",
      "18/18 [==============================] - 1s 29ms/step - loss: 0.0069 - accuracy: 0.6696\n",
      "Epoch 125/200\n",
      "18/18 [==============================] - 1s 31ms/step - loss: 0.0065 - accuracy: 0.6761\n",
      "Epoch 126/200\n",
      "18/18 [==============================] - 1s 29ms/step - loss: 0.0074 - accuracy: 0.6736\n",
      "Epoch 127/200\n",
      "18/18 [==============================] - 1s 28ms/step - loss: 0.0066 - accuracy: 0.6783\n",
      "Epoch 128/200\n",
      "18/18 [==============================] - 1s 29ms/step - loss: 0.0068 - accuracy: 0.6766\n",
      "Epoch 129/200\n",
      "18/18 [==============================] - 1s 33ms/step - loss: 0.0062 - accuracy: 0.6786\n",
      "Epoch 130/200\n",
      "18/18 [==============================] - 1s 29ms/step - loss: 0.0069 - accuracy: 0.6753\n",
      "Epoch 131/200\n",
      "18/18 [==============================] - 1s 29ms/step - loss: 0.0065 - accuracy: 0.6781\n",
      "Epoch 132/200\n",
      "18/18 [==============================] - 1s 29ms/step - loss: 0.0062 - accuracy: 0.6813\n",
      "Epoch 133/200\n",
      "18/18 [==============================] - 1s 31ms/step - loss: 0.0062 - accuracy: 0.6796\n",
      "Epoch 134/200\n",
      "18/18 [==============================] - 1s 30ms/step - loss: 0.0065 - accuracy: 0.6733\n",
      "Epoch 135/200\n",
      "18/18 [==============================] - 1s 29ms/step - loss: 0.0063 - accuracy: 0.6786\n",
      "Epoch 136/200\n",
      "18/18 [==============================] - 1s 30ms/step - loss: 0.0060 - accuracy: 0.6787\n",
      "Epoch 137/200\n",
      "18/18 [==============================] - 1s 29ms/step - loss: 0.0061 - accuracy: 0.6748\n",
      "Epoch 138/200\n",
      "18/18 [==============================] - 1s 31ms/step - loss: 0.0062 - accuracy: 0.6774\n",
      "Epoch 139/200\n",
      "18/18 [==============================] - 1s 32ms/step - loss: 0.0057 - accuracy: 0.6780\n",
      "Epoch 140/200\n",
      "18/18 [==============================] - 1s 31ms/step - loss: 0.0056 - accuracy: 0.6759\n",
      "Epoch 141/200\n",
      "18/18 [==============================] - 1s 28ms/step - loss: 0.0056 - accuracy: 0.6802\n",
      "Epoch 142/200\n",
      "18/18 [==============================] - 1s 29ms/step - loss: 0.0057 - accuracy: 0.6809\n",
      "Epoch 143/200\n",
      "18/18 [==============================] - 1s 29ms/step - loss: 0.0061 - accuracy: 0.6767\n",
      "Epoch 144/200\n",
      "18/18 [==============================] - 1s 34ms/step - loss: 0.0058 - accuracy: 0.6748\n",
      "Epoch 145/200\n",
      "18/18 [==============================] - 0s 27ms/step - loss: 0.0058 - accuracy: 0.6794\n",
      "Epoch 146/200\n",
      "18/18 [==============================] - 0s 27ms/step - loss: 0.0063 - accuracy: 0.6729\n",
      "Epoch 147/200\n",
      "18/18 [==============================] - 0s 27ms/step - loss: 0.0060 - accuracy: 0.6750\n",
      "Epoch 148/200\n",
      "18/18 [==============================] - 0s 26ms/step - loss: 0.0059 - accuracy: 0.6802\n",
      "Epoch 149/200\n",
      "18/18 [==============================] - 0s 26ms/step - loss: 0.0058 - accuracy: 0.6795\n",
      "Epoch 150/200\n",
      "18/18 [==============================] - 0s 26ms/step - loss: 0.0057 - accuracy: 0.6775\n",
      "Epoch 151/200\n",
      "18/18 [==============================] - 0s 26ms/step - loss: 0.0055 - accuracy: 0.6774\n",
      "Epoch 152/200\n",
      "18/18 [==============================] - 0s 26ms/step - loss: 0.0059 - accuracy: 0.6751\n",
      "Epoch 153/200\n",
      "18/18 [==============================] - 0s 25ms/step - loss: 0.0059 - accuracy: 0.6766\n",
      "Epoch 154/200\n",
      "18/18 [==============================] - 0s 25ms/step - loss: 0.0056 - accuracy: 0.6811\n",
      "Epoch 155/200\n",
      "18/18 [==============================] - 0s 25ms/step - loss: 0.0055 - accuracy: 0.6825\n",
      "Epoch 156/200\n",
      "18/18 [==============================] - 0s 25ms/step - loss: 0.0058 - accuracy: 0.6806\n",
      "Epoch 157/200\n",
      "18/18 [==============================] - 0s 24ms/step - loss: 0.0055 - accuracy: 0.6833\n",
      "Epoch 158/200\n",
      "18/18 [==============================] - 0s 25ms/step - loss: 0.0056 - accuracy: 0.6856\n",
      "Epoch 159/200\n",
      "18/18 [==============================] - 0s 25ms/step - loss: 0.0051 - accuracy: 0.6812\n",
      "Epoch 160/200\n",
      "18/18 [==============================] - 0s 25ms/step - loss: 0.0052 - accuracy: 0.6827\n",
      "Epoch 161/200\n",
      "18/18 [==============================] - 0s 24ms/step - loss: 0.0053 - accuracy: 0.6797\n",
      "Epoch 162/200\n",
      "18/18 [==============================] - 0s 25ms/step - loss: 0.0054 - accuracy: 0.6839\n",
      "Epoch 163/200\n",
      "18/18 [==============================] - 1s 31ms/step - loss: 0.0052 - accuracy: 0.6804\n",
      "Epoch 164/200\n",
      "18/18 [==============================] - 0s 25ms/step - loss: 0.0052 - accuracy: 0.6834\n",
      "Epoch 165/200\n",
      "18/18 [==============================] - 0s 25ms/step - loss: 0.0054 - accuracy: 0.6853\n",
      "Epoch 166/200\n",
      "18/18 [==============================] - 0s 25ms/step - loss: 0.0055 - accuracy: 0.6781\n",
      "Epoch 167/200\n",
      "18/18 [==============================] - 0s 25ms/step - loss: 0.0054 - accuracy: 0.6840\n",
      "Epoch 168/200\n",
      "18/18 [==============================] - 0s 26ms/step - loss: 0.0051 - accuracy: 0.6798\n",
      "Epoch 169/200\n",
      "18/18 [==============================] - 0s 26ms/step - loss: 0.0048 - accuracy: 0.6818\n",
      "Epoch 170/200\n",
      "18/18 [==============================] - 0s 26ms/step - loss: 0.0047 - accuracy: 0.6813\n",
      "Epoch 171/200\n",
      "18/18 [==============================] - 0s 26ms/step - loss: 0.0052 - accuracy: 0.6802\n",
      "Epoch 172/200\n",
      "18/18 [==============================] - 0s 26ms/step - loss: 0.0048 - accuracy: 0.6861\n",
      "Epoch 173/200\n",
      "18/18 [==============================] - 0s 26ms/step - loss: 0.0049 - accuracy: 0.6885\n",
      "Epoch 174/200\n",
      "18/18 [==============================] - 1s 28ms/step - loss: 0.0053 - accuracy: 0.6862\n",
      "Epoch 175/200\n",
      "18/18 [==============================] - 1s 29ms/step - loss: 0.0049 - accuracy: 0.6829\n",
      "Epoch 176/200\n",
      "18/18 [==============================] - 1s 34ms/step - loss: 0.0048 - accuracy: 0.6891\n",
      "Epoch 177/200\n",
      "18/18 [==============================] - 1s 30ms/step - loss: 0.0048 - accuracy: 0.6903\n",
      "Epoch 178/200\n",
      "18/18 [==============================] - 1s 30ms/step - loss: 0.0047 - accuracy: 0.6865\n",
      "Epoch 179/200\n",
      "18/18 [==============================] - 1s 29ms/step - loss: 0.0053 - accuracy: 0.6872\n",
      "Epoch 180/200\n",
      "18/18 [==============================] - 1s 29ms/step - loss: 0.0051 - accuracy: 0.6871\n",
      "Epoch 181/200\n",
      "18/18 [==============================] - 1s 29ms/step - loss: 0.0046 - accuracy: 0.6829\n",
      "Epoch 182/200\n",
      "18/18 [==============================] - 1s 29ms/step - loss: 0.0046 - accuracy: 0.6855\n",
      "Epoch 183/200\n",
      "18/18 [==============================] - 1s 30ms/step - loss: 0.0045 - accuracy: 0.6858\n",
      "Epoch 184/200\n",
      "18/18 [==============================] - 1s 34ms/step - loss: 0.0047 - accuracy: 0.6867\n",
      "Epoch 185/200\n",
      "18/18 [==============================] - 1s 31ms/step - loss: 0.0047 - accuracy: 0.6860\n",
      "Epoch 186/200\n",
      "18/18 [==============================] - 1s 29ms/step - loss: 0.0045 - accuracy: 0.6892\n",
      "Epoch 187/200\n",
      "18/18 [==============================] - 1s 30ms/step - loss: 0.0043 - accuracy: 0.6866\n",
      "Epoch 188/200\n",
      "18/18 [==============================] - 0s 27ms/step - loss: 0.0044 - accuracy: 0.6916\n",
      "Epoch 189/200\n",
      "18/18 [==============================] - 0s 27ms/step - loss: 0.0046 - accuracy: 0.6915\n",
      "Epoch 190/200\n",
      "18/18 [==============================] - 0s 26ms/step - loss: 0.0045 - accuracy: 0.6888\n",
      "Epoch 191/200\n",
      "18/18 [==============================] - 0s 26ms/step - loss: 0.0045 - accuracy: 0.6917\n",
      "Epoch 192/200\n",
      "18/18 [==============================] - 0s 27ms/step - loss: 0.0043 - accuracy: 0.6852\n",
      "Epoch 193/200\n",
      "18/18 [==============================] - 0s 26ms/step - loss: 0.0045 - accuracy: 0.6877\n",
      "Epoch 194/200\n",
      "18/18 [==============================] - 1s 31ms/step - loss: 0.0046 - accuracy: 0.6874\n",
      "Epoch 195/200\n",
      "18/18 [==============================] - 1s 28ms/step - loss: 0.0042 - accuracy: 0.6943\n",
      "Epoch 196/200\n",
      "18/18 [==============================] - 1s 29ms/step - loss: 0.0045 - accuracy: 0.6883\n",
      "Epoch 197/200\n",
      "18/18 [==============================] - 0s 28ms/step - loss: 0.0045 - accuracy: 0.6904\n",
      "Epoch 198/200\n",
      "18/18 [==============================] - 1s 33ms/step - loss: 0.0041 - accuracy: 0.6872\n",
      "Epoch 199/200\n",
      "18/18 [==============================] - 1s 29ms/step - loss: 0.0043 - accuracy: 0.6915\n",
      "Epoch 200/200\n",
      "18/18 [==============================] - 0s 27ms/step - loss: 0.0045 - accuracy: 0.6915\n"
     ]
    },
    {
     "data": {
      "text/plain": [
       "[<matplotlib.lines.Line2D at 0x1e9e62b20>]"
      ]
     },
     "execution_count": 544,
     "metadata": {},
     "output_type": "execute_result"
    },
    {
     "data": {
      "image/png": "[encoded data removed]",
      "text/plain": [
       "<Figure size 640x480 with 1 Axes>"
      ]
     },
     "metadata": {},
     "output_type": "display_data"
    }
   ],
   "source": [
    "# retrain model on unique icons\n",
    "uicons_tdm = ThreeDollarModel(X_uicons_train.shape[1])\n",
    "acc_uic = uicons_tdm.decoder.fit(X_uicons_train,Y_uicons_train,epochs=200,verbose=1,shuffle=True,batch_size=32)\n",
    "\n",
    "# plot the accuracy\n",
    "plt.plot(acc_uic.history['accuracy'])"
   ]
  },
  {
   "cell_type": "code",
   "execution_count": 39,
   "metadata": {},
   "outputs": [
    {
     "data": {
      "image/png": "[encoded data removed]",
      "text/plain": [
       "<Figure size 2000x700 with 4 Axes>"
      ]
     },
     "metadata": {},
     "output_type": "display_data"
    }
   ],
   "source": [
    "fave_emojis = [\"chicken\", \"disk\", \"smirk face\", \"forest\"]\n",
    "RGB_OUT = []\n",
    "for desc in fave_emojis:\n",
    "    img = uicons_tdm.txt2img(desc,False)\n",
    "    #un-normalize the image\n",
    "    img = (img*255).astype(np.uint8)\n",
    "    RGB_OUT.append(img)\n",
    "\n",
    "showMultiSprRGB(RGB_OUT,textArr=fave_emojis)"
   ]
  },
  {
   "cell_type": "markdown",
   "metadata": {},
   "outputs": [
    {
     "data": {
      "image/png": "[encoded data removed]",
      "text/plain": [
       "<Figure size 200x200 with 1 Axes>"
      ]
     },
     "metadata": {},
     "output_type": "display_data"
    },
    {
     "name": "stdout",
     "output_type": "stream",
     "text": [
      "No chickens found\n"
     ]
    },
    {
     "data": {
      "text/plain": [
       "<Figure size 2000x700 with 0 Axes>"
      ]
     },
     "metadata": {},
     "output_type": "display_data"
    }
   ],
   "source": [
    "SPEC_EMOJI = \"rainbow\"\n",
    "\n",
    "#show output from model first\n",
    "img = uicons_tdm.txt2img(SPEC_EMOJI,False)\n",
    "#un-normalize the image\n",
    "img = (img*255).astype(np.uint8)\n",
    "showSprRGB(img)\n",
    "\n",
    "all_chickens = []\n",
    "for i in range(len(uniq_icons)):\n",
    "    ss = SPEC_EMOJI.split()\n",
    "    f = 0\n",
    "    for s in ss:\n",
    "        if s not in uniq_labels[i]:\n",
    "            f = 1\n",
    "            break\n",
    "    if f == 0:\n",
    "        all_chickens.append((uniq_icons[i],uniq_labels[i]))\n",
    "    \n",
    "\n",
    "# all_chickens = [(i['img'],i['label']) for i in icons50 if SPEC_EMOJI ]\n",
    "\n",
    "if len(all_chickens) == 0:\n",
    "    print(\"No chickens found\")\n",
    "\n",
    "if len(all_chickens) > 32:\n",
    "    for i in range(0,len(all_chickens),32):\n",
    "        showMultiSprRGB([i[0] for i in all_chickens[i:i+32]],textArr=[i[1] for i in all_chickens[i:i+32]])\n",
    "else:\n",
    "    showMultiSprRGB([i[0] for i in all_chickens],textArr=[i[1] for i in all_chickens])"
   ]
  }
 ],
 "metadata": {
  "kernelspec": {
   "display_name": "bmo-venv",
   "language": "python",
   "name": "python3"
  },
  "language_info": {
   "codemirror_mode": {
    "name": "ipython",
    "version": 3
   },
   "file_extension": ".py",
   "mimetype": "text/x-python",
   "name": "python",
   "nbconvert_exporter": "python",
   "pygments_lexer": "ipython3",
   "version": "3.9.1"
  },
  "orig_nbformat": 4,
  "vscode": {
   "interpreter": {
    "hash": "f94925f3cff0b0ac90dd538919dcd2d4d02467fa3fdafdf86812e92b857d43c1"
   }
  }
 },
 "nbformat": 4,
 "nbformat_minor": 2
}
