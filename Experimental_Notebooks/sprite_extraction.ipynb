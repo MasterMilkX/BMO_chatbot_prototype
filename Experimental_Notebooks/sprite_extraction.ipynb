{
 "cells": [
  {
   "cell_type": "code",
   "execution_count": 71,
   "metadata": {},
   "outputs": [],
   "source": [
    "import sys\n",
    "sys.path.append('../Python')\n",
    "import utils\n",
    "import os\n",
    "import numpy as np"
   ]
  },
  {
   "cell_type": "code",
   "execution_count": 74,
   "metadata": {},
   "outputs": [],
   "source": [
    "directory = '../data/rip_data/good_pico_sheets'\n",
    "sprite_list = []\n",
    "unique_sprites = {}\n",
    "for filename in os.listdir('../data/rip_data/good_pico_sheets'):\n",
    "    count = 1\n",
    "    if filename != '.DS_Store':\n",
    "            sprites = utils.picoSS2np(os.path.join(directory, filename))\n",
    "            for sprite in sprites:\n",
    "                sprite_dict = {}\n",
    "                hex_list = np.vectorize(hex)(sprite)\n",
    "                hex_string = \"\".join([hex.split('x')[-1] for l in hex_list for hex in l]).upper()\n",
    "                if hex_string in unique_sprites:\n",
    "                    continue\n",
    "                \n",
    "                # check if sprite is all the same color\n",
    "                if len(np.unique(sprite, return_counts=True)[0]) != 1:\n",
    "                    sprite_dict['pico_sheet_name'] = filename\n",
    "                    sprite_dict['sprite_id'] = count\n",
    "                    sprite_dict['img'] = sprite\n",
    "                    sprite_list.append(sprite_dict)\n",
    "                    count += 1\n",
    "                    unique_sprites[hex_string] = 1                 "
   ]
  },
  {
   "cell_type": "code",
   "execution_count": 75,
   "metadata": {},
   "outputs": [
    {
     "data": {
      "text/plain": [
       "50626"
      ]
     },
     "execution_count": 75,
     "metadata": {},
     "output_type": "execute_result"
    }
   ],
   "source": [
    "len(unique_sprites)"
   ]
  },
  {
   "cell_type": "code",
   "execution_count": null,
   "metadata": {},
   "outputs": [],
   "source": [
    "np.save(\"../data/rip_data/good_pico_sheets.npy\", sprite_list)"
   ]
  }
 ],
 "metadata": {
  "kernelspec": {
   "display_name": "Python 3",
   "language": "python",
   "name": "python3"
  },
  "language_info": {
   "codemirror_mode": {
    "name": "ipython",
    "version": 3
   },
   "file_extension": ".py",
   "mimetype": "text/x-python",
   "name": "python",
   "nbconvert_exporter": "python",
   "pygments_lexer": "ipython3",
   "version": "3.9.1"
  },
  "orig_nbformat": 4
 },
 "nbformat": 4,
 "nbformat_minor": 2
}
