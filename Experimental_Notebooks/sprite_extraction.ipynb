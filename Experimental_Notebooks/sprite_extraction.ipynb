{
 "cells": [
  {
   "cell_type": "code",
   "execution_count": 8,
   "metadata": {},
   "outputs": [],
   "source": [
    "import sys\n",
    "sys.path.append('../Python')\n",
    "import utils\n",
    "import os\n",
    "import numpy as np"
   ]
  },
  {
   "cell_type": "code",
   "execution_count": 65,
   "metadata": {},
   "outputs": [],
   "source": [
    "directory = '../data/rip_data/good_pico_sheets'\n",
    "sprite_list = []\n",
    "for filename in os.listdir('../data/rip_data/good_pico_sheets'):\n",
    "    count = 1\n",
    "    if filename != '.DS_Store':\n",
    "            sprites = utils.picoSS2np(os.path.join(directory, filename))\n",
    "            for sprite in sprites:\n",
    "                sprite_dict = {}\n",
    "                # check if sprite is all the same color\n",
    "                if len(np.unique(sprite, return_counts=True)[0]) != 1:\n",
    "                    sprite_dict['pico_sheet_name'] = filename\n",
    "                    sprite_dict['sprite_id'] = count\n",
    "                    sprite_dict['img'] = sprite\n",
    "                    sprite_list.append(sprite_dict)\n",
    "                    count += 1                    "
   ]
  },
  {
   "cell_type": "code",
   "execution_count": 66,
   "metadata": {},
   "outputs": [],
   "source": [
    "np.save(\"../data/rip_data/good_pico_sheets.npy\", sprite_list)"
   ]
  },
  {
   "cell_type": "code",
   "execution_count": 67,
   "metadata": {},
   "outputs": [
    {
     "data": {
      "text/plain": [
       "{'pico_sheet_name': '39336.spritesheet.png',\n",
       " 'sprite_id': 1,\n",
       " 'img': array([[ 0,  0,  7, 12, 12, 13,  0,  0],\n",
       "        [ 0, 12,  0, 12,  0, 12, 13,  0],\n",
       "        [ 0, 12, 12, 12, 12, 12, 13,  0],\n",
       "        [ 0,  0,  0,  0,  0,  0,  0,  0],\n",
       "        [ 0,  0,  7,  7,  6,  5,  0,  0],\n",
       "        [ 0,  0,  0,  7,  5,  0,  0,  0],\n",
       "        [ 0,  0,  6,  0,  0,  6,  0,  0],\n",
       "        [ 0,  0,  0,  0,  0,  0,  0,  0]])}"
      ]
     },
     "execution_count": 67,
     "metadata": {},
     "output_type": "execute_result"
    }
   ],
   "source": [
    "sprite_list[0]"
   ]
  },
  {
   "cell_type": "code",
   "execution_count": 68,
   "metadata": {},
   "outputs": [],
   "source": [
    "hex_list = np.vectorize(hex)(sprite_list[5]['img'])"
   ]
  },
  {
   "cell_type": "code",
   "execution_count": 69,
   "metadata": {},
   "outputs": [
    {
     "data": {
      "text/plain": [
       "'0007D00000CCCD0000CCCD000000000000776500006750000000060000000000'"
      ]
     },
     "execution_count": 69,
     "metadata": {},
     "output_type": "execute_result"
    }
   ],
   "source": [
    "hex_string = \"\".join([hex.split('x')[-1] for l in hex_list for hex in l]).upper()\n",
    "hex_string"
   ]
  },
  {
   "cell_type": "code",
   "execution_count": 70,
   "metadata": {},
   "outputs": [
    {
     "name": "stdout",
     "output_type": "stream",
     "text": [
      "58710\n",
      "58710\n"
     ]
    }
   ],
   "source": [
    "# for i in sprite_list:\n",
    "#     print(i)\n",
    "\n",
    "print(len(sprite_list))\n",
    "\n",
    "# find unique dicts in list\n",
    "unique_dict = {}\n",
    "unique_elements = []\n",
    "\n",
    "for spr in sprite_list:\n",
    "    if spr['pico_sheet_name']+str(spr['sprite_id']) not in unique_dict:\n",
    "        unique_dict[spr['pico_sheet_name']+str(spr['sprite_id'])] = spr\n",
    "        unique_elements.append(spr)\n",
    "\n",
    "print(len(unique_elements))\n",
    "        "
   ]
  },
  {
   "cell_type": "code",
   "execution_count": null,
   "metadata": {},
   "outputs": [],
   "source": []
  }
 ],
 "metadata": {
  "kernelspec": {
   "display_name": "Python 3",
   "language": "python",
   "name": "python3"
  },
  "language_info": {
   "codemirror_mode": {
    "name": "ipython",
    "version": 3
   },
   "file_extension": ".py",
   "mimetype": "text/x-python",
   "name": "python",
   "nbconvert_exporter": "python",
   "pygments_lexer": "ipython3",
   "version": "3.9.1"
  },
  "orig_nbformat": 4
 },
 "nbformat": 4,
 "nbformat_minor": 2
}
