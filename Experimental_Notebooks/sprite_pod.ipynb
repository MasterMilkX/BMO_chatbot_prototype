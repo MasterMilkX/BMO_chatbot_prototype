{
 "cells": [
  {
   "attachments": {},
   "cell_type": "markdown",
   "metadata": {},
   "source": [
    "### ALGORITHM\n",
    "\n",
    "TRAINING\n",
    "1. Generate a noisy sprite\n",
    "2. Choose the closest goal sprite from the training data (hamming distance)\n",
    "3. Destroy the goal sprite (sequentially over pixles) until it matches the noisy sprite\n",
    "4. Add the level repair step to the training data\n",
    "5. Repeat until it matches the noise\n",
    "\n",
    "---\n",
    "\n",
    "GENERATION \n",
    "1. Initialize a noisy sprite\n",
    "2. Randomly or sequentially pick/fix a pixel\n",
    "3. Feed the level into the network to output a repair value\n",
    "4. Update the pixel with the value\n",
    "5. If the current sprite isn't valid, keep going"
   ]
  },
  {
   "attachments": {},
   "cell_type": "markdown",
   "metadata": {},
   "source": [
    "### Imports and Configuration"
   ]
  },
  {
   "cell_type": "code",
   "execution_count": 1,
   "metadata": {},
   "outputs": [
    {
     "name": "stderr",
     "output_type": "stream",
     "text": [
      "2023-04-17 11:46:44.212947: I tensorflow/core/platform/cpu_feature_guard.cc:193] This TensorFlow binary is optimized with oneAPI Deep Neural Network Library (oneDNN) to use the following CPU instructions in performance-critical operations:  AVX2 FMA\n",
      "To enable them in other operations, rebuild TensorFlow with the appropriate compiler flags.\n"
     ]
    }
   ],
   "source": [
    "import numpy as np\n",
    "import matplotlib.pyplot as plt\n",
    "import random\n",
    "from matplotlib.colors import ListedColormap\n",
    "from tqdm import tqdm\n",
    "\n",
    "# tensorflow\n",
    "import tensorflow as tf\n",
    "# from tensorflow import keras\n",
    "from tensorflow.keras import backend as K\n",
    "from tensorflow.keras import optimizers\n",
    "from tensorflow.keras.models import Sequential, load_model\n",
    "from tensorflow.keras.layers import InputLayer, Dense, Conv2D, Conv2DTranspose, Flatten, Layer, Reshape, Input, LeakyReLU, MaxPooling2D\n",
    "from tensorflow.keras.models import Model\n",
    "\n",
    "\n",
    "%matplotlib inline"
   ]
  },
  {
   "cell_type": "code",
   "execution_count": 2,
   "metadata": {},
   "outputs": [
    {
     "name": "stderr",
     "output_type": "stream",
     "text": [
      "/Users/milk/Desktop/GIL_Lab/BMO/BMO_chatbot_prototype/bmo-venv/lib/python3.8/site-packages/tqdm/auto.py:22: TqdmWarning: IProgress not found. Please update jupyter and ipywidgets. See https://ipywidgets.readthedocs.io/en/stable/user_install.html\n",
      "  from .autonotebook import tqdm as notebook_tqdm\n"
     ]
    }
   ],
   "source": [
    "#import from Python folder to get the utils\n",
    "import sys\n",
    "sys.path.append('../Python')\n",
    "from utils import picoSS2np, showMultiSprPalette, showMultiSprRGB, showSprRGB, showSprPalette, animatePal"
   ]
  },
  {
   "cell_type": "code",
   "execution_count": 3,
   "metadata": {},
   "outputs": [],
   "source": [
    "### CONSTANT VARIABLES   ###\n",
    "\n",
    "# PICO-8 Palette => use colormap for matplotlib\n",
    "PICO_PALETTE = ['#000000','#1D2B53','#7E2553','#008751','#AB5236','#5F574F','#C2C3C7','#FFF1E8','#FF004D','#FFA300','#FFEC27','#00E436','#29ADFF','#83769C','#FF77A8','#FFCCAA']\n"
   ]
  },
  {
   "cell_type": "code",
   "execution_count": 4,
   "metadata": {},
   "outputs": [
    {
     "name": "stdout",
     "output_type": "stream",
     "text": [
      "Food Dataset shape: (100, 8, 8)\n",
      "Char Dataset shape: (100, 8, 8)\n"
     ]
    },
    {
     "data": {
      "image/png": "[encoded data removed]",
      "text/plain": [
       "<Figure size 2000x700 with 2 Axes>"
      ]
     },
     "metadata": {},
     "output_type": "display_data"
    }
   ],
   "source": [
    "# import from the PICO sprites posted onto Twitter \n",
    "# Food: https://twitter.com/JUSTIN_CYR/status/634546317713391616\n",
    "# Characters: https://twitter.com/johanvinet/status/635814153601597441\n",
    "pico_food_dat = np.load('../data/rip_data/pico_food.npy',allow_pickle=True)\n",
    "pico_char_dat = np.load('../data/rip_data/pico_characters.npy',allow_pickle=True)\n",
    "\n",
    "print(f\"Food Dataset shape: {pico_food_dat.shape}\")\n",
    "print(f\"Char Dataset shape: {pico_char_dat.shape}\")\n",
    "\n",
    "# show a random food and character sprite \n",
    "rand_food = random.choice(pico_food_dat)\n",
    "rand_char = random.choice(pico_char_dat)\n",
    "showMultiSprPalette([rand_food,rand_char],textArr=['Food','Character'])"
   ]
  },
  {
   "cell_type": "code",
   "execution_count": 5,
   "metadata": {},
   "outputs": [],
   "source": [
    "###   CONFIUGURATIONS   ###\n",
    "\n",
    "EXPERIMENT = \"normal\"\n",
    "CONFIGS = {\n",
    "    \"normal\": {\n",
    "        \"IMPORT_TRAIN_DAT\" : True,\n",
    "        \"TRAIN_NPOD\" : False,\n",
    "        \"NPOD_MODEL\" : \"../models/gen_models/pod/npod_char-50eR.h5\"\n",
    "    }\n",
    "}\n"
   ]
  },
  {
   "attachments": {},
   "cell_type": "markdown",
   "metadata": {},
   "source": [
    "### Normal PoD"
   ]
  },
  {
   "cell_type": "code",
   "execution_count": 6,
   "metadata": {},
   "outputs": [
    {
     "name": "stdout",
     "output_type": "stream",
     "text": [
      "Model: \"sequential\"\n",
      "_________________________________________________________________\n",
      " Layer (type)                Output Shape              Param #   \n",
      "=================================================================\n",
      " conv2d (Conv2D)             (None, 5, 5, 128)         1280      \n",
      "                                                                 \n",
      " max_pooling2d (MaxPooling2D  (None, 2, 2, 128)        0         \n",
      " )                                                               \n",
      "                                                                 \n",
      " conv2d_1 (Conv2D)           (None, 2, 2, 128)         147584    \n",
      "                                                                 \n",
      " conv2d_2 (Conv2D)           (None, 2, 2, 256)         295168    \n",
      "                                                                 \n",
      " flatten (Flatten)           (None, 1024)              0         \n",
      "                                                                 \n",
      " dense (Dense)               (None, 128)               131200    \n",
      "                                                                 \n",
      " dense_1 (Dense)             (None, 16)                2064      \n",
      "                                                                 \n",
      "=================================================================\n",
      "Total params: 577,296\n",
      "Trainable params: 577,296\n",
      "Non-trainable params: 0\n",
      "_________________________________________________________________\n"
     ]
    },
    {
     "name": "stderr",
     "output_type": "stream",
     "text": [
      "2023-04-17 11:46:53.603884: I tensorflow/core/platform/cpu_feature_guard.cc:193] This TensorFlow binary is optimized with oneAPI Deep Neural Network Library (oneDNN) to use the following CPU instructions in performance-critical operations:  AVX2 FMA\n",
      "To enable them in other operations, rebuild TensorFlow with the appropriate compiler flags.\n"
     ]
    }
   ],
   "source": [
    "class NormalPoD():\n",
    "    def __init__(self,spr_shape, channels=16, pad_val=0, crop_size=5):\n",
    "        self.destroy_data = []\n",
    "        self.spr_shape = spr_shape\n",
    "        self.channels = channels\n",
    "        self.pad_val = pad_val\n",
    "        self.crop_size = crop_size\n",
    "\n",
    "    # make a new noisy sprite using the channels and size\n",
    "    def init_noise_sprite(self):\n",
    "        noise_spr = np.random.randint(self.channels,size=(self.spr_shape[0],self.spr_shape[1]))\n",
    "        return noise_spr\n",
    "\n",
    "    # crop a sprite from the noise sprite (use with padding) - assume pos is (x,y) and center of target crop\n",
    "    def crop(self, spr, pos, size=5):\n",
    "        hpad = size//2\n",
    "        pad_spr = np.pad(spr,((hpad,hpad),(hpad,hpad)),constant_values=self.pad_val)   # pad the sprite \n",
    "        crop_spr = pad_spr[pos[0]:pos[0]+size,pos[1]:pos[1]+size]   # get the cropped sprite (should be size,size)\n",
    "        return pad_spr, crop_spr\n",
    "\n",
    "    # return the new level and the tile replaced (also add to training data) - assume pos is (x,y)\n",
    "    def destroy(self, cur_spr, bad_spr, pos, crop_size=5):\n",
    "        # turn the cur_spr value at the pos to the bad_spr value\n",
    "        cur_spr2 = np.copy(cur_spr)\n",
    "        og_val = cur_spr[pos[0],pos[1]]\n",
    "        cur_spr2[pos[0],pos[1]] = bad_spr[pos[0],pos[1]]\n",
    "\n",
    "        # crop around the area and add to training data\n",
    "        _, crop_spr = self.crop(cur_spr2,pos,crop_size)\n",
    "\n",
    "        return cur_spr2, og_val, crop_spr\n",
    "    \n",
    "    # calculate the hamming distance from 2 sprites\n",
    "    def calc_ham_dist(self, spr1, spr2):\n",
    "        return np.sum(spr1 != spr2)\n",
    "\n",
    "    # return the sprite that is closest in hamming distance from the goal set\n",
    "    def closest_spr(self, goal_set, noise_spr):\n",
    "        min_dist_i = np.argmin([self.calc_ham_dist(noise_spr, i) for i in goal_set])\n",
    "        return goal_set[min_dist_i]\n",
    "\n",
    "    \n",
    "    # make the training data for the path of destruction\n",
    "    def make_train_dat(self,goal_set,num_noise_spr=1000):\n",
    "        train_dat = []\n",
    "        with tqdm(total=num_noise_spr) as pbar:\n",
    "            for i in range(num_noise_spr):\n",
    "                # make a noise sprite and find the closest\n",
    "                noise_spr = self.init_noise_sprite()\n",
    "                targ_spr = self.closest_spr(goal_set,noise_spr).copy()\n",
    "\n",
    "                # make a list of all the positions in the sprite and shuffle it\n",
    "                pos_set = []\n",
    "                for x in range(self.spr_shape[0]):\n",
    "                    for y in range(self.spr_shape[1]):\n",
    "                        pos_set.append((x,y))\n",
    "                random.shuffle(pos_set)\n",
    "\n",
    "                # iterate over the goal sprite and change until it matches the noise spr (destroy)\n",
    "                for p in pos_set:\n",
    "                        # destroy the noise sprite\n",
    "                        targ_spr, og_val, crop_spr = self.destroy(targ_spr,noise_spr,p,self.crop_size)\n",
    "                        train_dat.append([crop_spr,og_val])\n",
    "                        # showSprPalette(targ_spr)\n",
    "                pbar.update(1)\n",
    "                    \n",
    "        return train_dat\n",
    "    \n",
    "    # make the path of destruction neural network model\n",
    "    # copy of architecture from the paper [Conv(128,3) -> Conv(128,3) -> MaxPool(2), Conv(256,3)]\n",
    "    # it doesn't work though... at least not with 5x5 crop size - need to ask Sam for exact implementation\n",
    "    def makePoDCNN(self):\n",
    "        self.pod_model = Sequential([\n",
    "            InputLayer(input_shape=(self.crop_size,self.crop_size,1)),\n",
    "            Conv2D(128, (3, 3), activation='relu',padding='SAME'),\n",
    "            MaxPooling2D((2, 2)),\n",
    "            Conv2D(128, (3, 3), activation='relu',padding='SAME'),\n",
    "            Conv2D(256, (3, 3), activation='relu',padding='SAME'),\n",
    "            Flatten(),\n",
    "            Dense(128),\n",
    "            Dense(self.channels,activation='softmax'),\n",
    "        ])\n",
    "        self.pod_model.summary()\n",
    "        self.opt = tf.keras.optimizers.RMSprop(learning_rate=0.001)\n",
    "        self.pod_model.compile(optimizer=self.opt,metrics=['accuracy'],loss='sparse_categorical_crossentropy') #not one-hot encoded\n",
    "        \n",
    "        \n",
    "    # import a model from a path\n",
    "    def importModel(self,model_path):\n",
    "        self.pod_model = tf.keras.models.load_model(model_path)\n",
    "        self.pod_model.summary()\n",
    "        self.opt = tf.keras.optimizers.RMSprop(learning_rate=0.001)\n",
    "        self.pod_model.compile(optimizer=self.opt,metrics=['accuracy'],loss='sparse_categorical_crossentropy')\n",
    "\n",
    "\n",
    "    # export the model to a path\n",
    "    def exportModel(self,model_path):\n",
    "        self.pod_model.save(model_path,save_format='h5')\n",
    "                            \n",
    "\n",
    "    # train the path of destruction model on the training data\n",
    "    def trainPoD(self,train_dat,EPOCHS=500,BATCH_SIZE=64,show_acc=False):\n",
    "        # train the model\n",
    "        X = np.array([i[0] for i in train_dat])\n",
    "        Y = np.array([i[1] for i in train_dat])\n",
    "        X = np.expand_dims(X,axis=-1)\n",
    "        Y = np.expand_dims(Y,axis=-1)\n",
    "        print(X.shape,Y.shape)\n",
    "\n",
    "        h = self.pod_model.fit(X,Y,epochs=EPOCHS,batch_size=BATCH_SIZE,shuffle=True)\n",
    "        if show_acc:\n",
    "            plt.plot(h.history['accuracy'])\n",
    "            plt.show()\n",
    "\n",
    "    # repair from a noise vector\n",
    "    def repair(self,init_spr=None,mod_iter='rand',eval_met='iter',num_iter=1000,animate=False):\n",
    "        # make a noise sprite\n",
    "        if init_spr is None:\n",
    "            init_spr = self.init_noise_sprite()\n",
    "        cur_spr = np.copy(init_spr)\n",
    "\n",
    "        if animate:\n",
    "            anim_set = []\n",
    "            anim_set.append(cur_spr)\n",
    "\n",
    "        # iterate over the noise sprite and change until the iterations are done\n",
    "        pi = 0\n",
    "        if eval_met == \"iter\":\n",
    "            with tqdm(total=num_iter) as pbar:\n",
    "                for i in range(num_iter):\n",
    "                    #select a position (randomly or sequentially)\n",
    "                    if mod_iter == \"rand\":\n",
    "                        x = np.random.randint(self.spr_shape[0])\n",
    "                        y = np.random.randint(self.spr_shape[1])\n",
    "                    else:\n",
    "                        x = pi%self.spr_shape[0]\n",
    "                        y = pi//self.spr_shape[0]\n",
    "                        pi += 1\n",
    "                        if pi >= self.spr_shape[0]*self.spr_shape[1]:\n",
    "                            pi = 0\n",
    "\n",
    "                    pbar.set_description(\"@ ({},{})\".format(x,y))\n",
    "\n",
    "                    #crop the area\n",
    "                    _, crop_spr = self.crop(cur_spr,(x,y),self.crop_size)\n",
    "                    \n",
    "                    # get the pixel change input from the model\n",
    "                    pred_px = self.pod_model.predict(np.array([crop_spr]),verbose=False)\n",
    "\n",
    "                    # change the tile\n",
    "                    cur_spr[x,y] = np.argmax(pred_px)\n",
    "\n",
    "                    anim_set.append(cur_spr.copy())\n",
    "\n",
    "                    pbar.update(1)\n",
    "\n",
    "        if animate:\n",
    "            return init_spr, cur_spr, anim_set\n",
    "        return init_spr, cur_spr\n",
    "\n",
    "if EXPERIMENT == \"normal\":\n",
    "    # Make the Path of Destruction  model\n",
    "    npod = NormalPoD((8,8),channels=16)     \n",
    "    npod.makePoDCNN() "
   ]
  },
  {
   "cell_type": "code",
   "execution_count": 7,
   "metadata": {},
   "outputs": [
    {
     "name": "stdout",
     "output_type": "stream",
     "text": [
      "64000\n"
     ]
    }
   ],
   "source": [
    "if EXPERIMENT == \"normal\":\n",
    "\n",
    "    if not CONFIGS[\"normal\"][\"IMPORT_TRAIN_DAT\"]:\n",
    "        # make the training data\n",
    "        goal_spr_char = pico_char_dat.copy()\n",
    "        train_dat = npod.make_train_dat(goal_spr_char,num_noise_spr=1000)\n",
    "        print(len(train_dat))\n",
    "\n",
    "        # export as .npy file\n",
    "        np.save('../data/rip_data/POD_train_dat.npy',train_dat)\n",
    "    else:\n",
    "        # import the training data\n",
    "        train_dat = np.load('../data/rip_data/POD_train_dat.npy',allow_pickle=True)\n",
    "        print(len(train_dat))"
   ]
  },
  {
   "cell_type": "code",
   "execution_count": 8,
   "metadata": {},
   "outputs": [
    {
     "name": "stdout",
     "output_type": "stream",
     "text": [
      "Model: \"sequential\"\n",
      "_________________________________________________________________\n",
      " Layer (type)                Output Shape              Param #   \n",
      "=================================================================\n",
      " conv2d (Conv2D)             (None, 5, 5, 128)         1280      \n",
      "                                                                 \n",
      " max_pooling2d (MaxPooling2D  (None, 2, 2, 128)        0         \n",
      " )                                                               \n",
      "                                                                 \n",
      " conv2d_1 (Conv2D)           (None, 2, 2, 128)         147584    \n",
      "                                                                 \n",
      " conv2d_2 (Conv2D)           (None, 2, 2, 256)         295168    \n",
      "                                                                 \n",
      " flatten (Flatten)           (None, 1024)              0         \n",
      "                                                                 \n",
      " dense (Dense)               (None, 128)               131200    \n",
      "                                                                 \n",
      " dense_1 (Dense)             (None, 16)                2064      \n",
      "                                                                 \n",
      "=================================================================\n",
      "Total params: 577,296\n",
      "Trainable params: 577,296\n",
      "Non-trainable params: 0\n",
      "_________________________________________________________________\n"
     ]
    }
   ],
   "source": [
    "# train or import the model\n",
    "if EXPERIMENT == \"normal\":\n",
    "    if CONFIGS[\"normal\"][\"TRAIN_NPOD\"]:\n",
    "        npod.trainPoD(train_dat,EPOCHS=500,BATCH_SIZE=64,show_acc=True)\n",
    "        npod.exportModel(CONFIGS[\"normal\"][\"NPOD_MODEL\"])\n",
    "    else:\n",
    "        npod.importModel(CONFIGS[\"normal\"][\"NPOD_MODEL\"])"
   ]
  },
  {
   "cell_type": "code",
   "execution_count": 9,
   "metadata": {},
   "outputs": [
    {
     "name": "stderr",
     "output_type": "stream",
     "text": [
      "@ (2,1): 100%|██████████| 128/128 [00:06<00:00, 20.05it/s]\n"
     ]
    },
    {
     "data": {
      "image/png": "[encoded data removed]",
      "text/plain": [
       "<Figure size 2000x700 with 2 Axes>"
      ]
     },
     "metadata": {},
     "output_type": "display_data"
    },
    {
     "name": "stderr",
     "output_type": "stream",
     "text": [
      "saving GIF 129...: 100%|██████████| 129/129 [00:04<00:00, 30.84it/s]\n"
     ]
    }
   ],
   "source": [
    "# show the output from repairing a noise sprite\n",
    "if EXPERIMENT == \"normal\":\n",
    "    init_spr, cur_spr, anims = npod.repair(mod_iter='rand',num_iter=128,animate=True)\n",
    "    showMultiSprPalette([init_spr,cur_spr],textArr=['init','final'])\n",
    "\n",
    "    # save the animation\n",
    "    animatePal(anims,\"../prelim_output/pod_anim/npod_50e.gif\",fps=32)"
   ]
  },
  {
   "attachments": {},
   "cell_type": "markdown",
   "metadata": {},
   "source": [
    "#### NPOD Sanity Checks"
   ]
  },
  {
   "cell_type": "code",
   "execution_count": 10,
   "metadata": {},
   "outputs": [
    {
     "name": "stdout",
     "output_type": "stream",
     "text": [
      "(8, 8)\n",
      "(2, 2)\n",
      "(5, 5)\n"
     ]
    },
    {
     "data": {
      "image/png": "[encoded data removed]",
      "text/plain": [
       "<Figure size 2000x700 with 5 Axes>"
      ]
     },
     "metadata": {},
     "output_type": "display_data"
    }
   ],
   "source": [
    "if EXPERIMENT == \"normal\":\n",
    "    # test destroy function\n",
    "    turt_spr = pico_char_dat[30]\n",
    "    n_spr = npod.init_noise_sprite()\n",
    "\n",
    "    pos = (5,0)\n",
    "    a,b,c = npod.destroy(turt_spr,n_spr,pos)\n",
    "    b2d = np.full((2,2),b)\n",
    "    print(a.shape)\n",
    "    print(b2d.shape)\n",
    "    print(c.shape)\n",
    "\n",
    "    # showMultiSprPalette([turt_spr,n_spr], ['turt','noise'])\n",
    "    showMultiSprPalette([turt_spr,n_spr,a,b2d,c],textArr=['turt','noise','new turt','pixel','crop'])\n"
   ]
  },
  {
   "cell_type": "code",
   "execution_count": 11,
   "metadata": {},
   "outputs": [
    {
     "name": "stderr",
     "output_type": "stream",
     "text": [
      "100%|██████████| 1/1 [00:00<00:00, 234.12it/s]"
     ]
    },
    {
     "name": "stdout",
     "output_type": "stream",
     "text": [
      "64\n"
     ]
    },
    {
     "name": "stderr",
     "output_type": "stream",
     "text": [
      "\n"
     ]
    }
   ],
   "source": [
    "# test train data creation\n",
    "if EXPERIMENT == \"normal\":\n",
    "    turt_spr = pico_char_dat[30]\n",
    "    tdat = npod.make_train_dat([turt_spr],num_noise_spr=1)\n",
    "    print(len(tdat))"
   ]
  },
  {
   "cell_type": "code",
   "execution_count": 12,
   "metadata": {},
   "outputs": [
    {
     "name": "stdout",
     "output_type": "stream",
     "text": [
      "(5, 5)\n"
     ]
    },
    {
     "data": {
      "image/png": "[encoded data removed]",
      "text/plain": [
       "<Figure size 2000x700 with 3 Axes>"
      ]
     },
     "metadata": {},
     "output_type": "display_data"
    }
   ],
   "source": [
    "# test output of the model\n",
    "if EXPERIMENT == \"normal\":\n",
    "    turt_spr = pico_char_dat[0].copy()\n",
    "    turt_spr2 = turt_spr.copy()\n",
    "    turt_spr2[4,2] = 14\n",
    "    _,c = npod.crop(turt_spr2,(4,2),5)\n",
    "    print(c.shape)\n",
    "\n",
    "    #fix the sprite\n",
    "    new_px = npod.pod_model.predict(np.array([c]),verbose=False)\n",
    "    turt_spr3 = np.copy(turt_spr2)\n",
    "    turt_spr3[4,2] = np.argmax(new_px)\n",
    "\n",
    "    showMultiSprPalette([turt_spr,turt_spr2,turt_spr3],textArr=['OG','destroy','repair'])"
   ]
  }
 ],
 "metadata": {
  "kernelspec": {
   "display_name": "bmo-venv",
   "language": "python",
   "name": "python3"
  },
  "language_info": {
   "codemirror_mode": {
    "name": "ipython",
    "version": 3
   },
   "file_extension": ".py",
   "mimetype": "text/x-python",
   "name": "python",
   "nbconvert_exporter": "python",
   "pygments_lexer": "ipython3",
   "version": "3.8.9"
  },
  "orig_nbformat": 4
 },
 "nbformat": 4,
 "nbformat_minor": 2
}
