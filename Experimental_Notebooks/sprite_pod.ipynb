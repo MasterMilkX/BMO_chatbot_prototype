{
 "cells": [
  {
   "attachments": {},
   "cell_type": "markdown",
   "metadata": {},
   "source": [
    "### ALGORITHM\n",
    "\n",
    "TRAINING\n",
    "1. Generate a noisy sprite\n",
    "2. Choose the closest goal sprite from the training data (hamming distance)\n",
    "3. Destroy the goal sprite (sequentially over pixles) until it matches the noisy sprite\n",
    "4. Add the level repair step to the training data\n",
    "5. Repeat until it matches the noise\n",
    "\n",
    "---\n",
    "\n",
    "GENERATION \n",
    "1. Initialize a noisy sprite\n",
    "2. Randomly or sequentially pick/fix a pixel\n",
    "3. Feed the level into the network to output a repair value\n",
    "4. Update the pixel with the value\n",
    "5. If the current sprite isn't valid, keep going"
   ]
  },
  {
   "attachments": {},
   "cell_type": "markdown",
   "metadata": {},
   "source": [
    "### Imports and Configuration"
   ]
  },
  {
   "cell_type": "code",
   "execution_count": 3,
   "metadata": {},
   "outputs": [
    {
     "name": "stderr",
     "output_type": "stream",
     "text": [
      "2023-04-20 17:59:41.219135: I tensorflow/core/platform/cpu_feature_guard.cc:193] This TensorFlow binary is optimized with oneAPI Deep Neural Network Library (oneDNN) to use the following CPU instructions in performance-critical operations:  AVX2 FMA\n",
      "To enable them in other operations, rebuild TensorFlow with the appropriate compiler flags.\n"
     ]
    }
   ],
   "source": [
    "import numpy as np\n",
    "import matplotlib.pyplot as plt\n",
    "import random\n",
    "from matplotlib.colors import ListedColormap\n",
    "from tqdm import tqdm\n",
    "\n",
    "# tensorflow\n",
    "import tensorflow as tf\n",
    "# from tensorflow import keras\n",
    "from tensorflow.keras import backend as K\n",
    "from tensorflow.keras import optimizers\n",
    "from tensorflow.keras.models import Sequential, load_model\n",
    "from tensorflow.keras.layers import InputLayer, Dense, Conv2D, Conv2DTranspose, Flatten, Layer, Reshape, Input, LeakyReLU, MaxPooling2D\n",
    "from tensorflow.keras.models import Model\n",
    "\n",
    "\n",
    "%matplotlib inline"
   ]
  },
  {
   "cell_type": "code",
   "execution_count": 4,
   "metadata": {},
   "outputs": [
    {
     "name": "stderr",
     "output_type": "stream",
     "text": [
      "/Users/milk/Desktop/GIL_Lab/BMO/BMO_chatbot_prototype/bmo-venv/lib/python3.8/site-packages/tqdm/auto.py:22: TqdmWarning: IProgress not found. Please update jupyter and ipywidgets. See https://ipywidgets.readthedocs.io/en/stable/user_install.html\n",
      "  from .autonotebook import tqdm as notebook_tqdm\n"
     ]
    }
   ],
   "source": [
    "#import from Python folder to get the utils\n",
    "import sys\n",
    "sys.path.append('../Python')\n",
    "from utils import picoSS2np, showMultiSprPalette, showMultiSprRGB, showSprRGB, showSprPalette, animatePal"
   ]
  },
  {
   "cell_type": "code",
   "execution_count": 5,
   "metadata": {},
   "outputs": [],
   "source": [
    "### CONSTANT VARIABLES   ###\n",
    "\n",
    "# PICO-8 Palette => use colormap for matplotlib\n",
    "PICO_PALETTE = ['#000000','#1D2B53','#7E2553','#008751','#AB5236','#5F574F','#C2C3C7','#FFF1E8','#FF004D','#FFA300','#FFEC27','#00E436','#29ADFF','#83769C','#FF77A8','#FFCCAA']\n"
   ]
  },
  {
   "cell_type": "code",
   "execution_count": 6,
   "metadata": {},
   "outputs": [
    {
     "name": "stdout",
     "output_type": "stream",
     "text": [
      "Food Dataset shape: (100, 8, 8)\n",
      "Char Dataset shape: (100, 8, 8)\n"
     ]
    },
    {
     "data": {
      "image/png": "[encoded data removed]",
      "text/plain": [
       "<Figure size 2000x700 with 2 Axes>"
      ]
     },
     "metadata": {},
     "output_type": "display_data"
    }
   ],
   "source": [
    "# import from the PICO sprites posted onto Twitter \n",
    "# Food: https://twitter.com/JUSTIN_CYR/status/634546317713391616\n",
    "# Characters: https://twitter.com/johanvinet/status/635814153601597441\n",
    "pico_food_dat = np.load('../data/rip_data/pico_food.npy',allow_pickle=True)\n",
    "pico_char_dat = np.load('../data/rip_data/pico_characters.npy',allow_pickle=True)\n",
    "\n",
    "print(f\"Food Dataset shape: {pico_food_dat.shape}\")\n",
    "print(f\"Char Dataset shape: {pico_char_dat.shape}\")\n",
    "\n",
    "# show a random food and character sprite \n",
    "rand_food = random.choice(pico_food_dat)\n",
    "rand_char = random.choice(pico_char_dat)\n",
    "showMultiSprPalette([rand_food,rand_char],textArr=['Food','Character'])"
   ]
  },
  {
   "cell_type": "code",
   "execution_count": 53,
   "metadata": {},
   "outputs": [],
   "source": [
    "###   CONFIUGURATIONS   ###\n",
    "\n",
    "EXPERIMENT = \"normal\"\n",
    "\n",
    "GEN_CONF = {\n",
    "    \"EPOCHS\" : 50,\n",
    "    \"BATCH_SIZE\" : 64,\n",
    "    \"LEARNING_RATE\" : 0.0001,\n",
    "    \"WINDOW\" : 4\n",
    "}\n",
    "\n",
    "CONFIGS = {\n",
    "    \"normal\": {\n",
    "        \"NEW_TRAIN_DAT\" : True,\n",
    "        \"TRAIN_DAT_PATH\" : f'../data/rip_data/POD_train_dat_w{GEN_CONF[\"WINDOW\"]}.npy',\n",
    "        \"TRAIN_NPOD\" : True,\n",
    "        \"NPOD_MODEL\" : f\"../models/gen_models/pod/npod_char-{GEN_CONF['EPOCHS']}eR_w{GEN_CONF['WINDOW']}.h5\",\n",
    "        \"SANITY\" : False\n",
    "    }\n",
    "}\n"
   ]
  },
  {
   "attachments": {},
   "cell_type": "markdown",
   "metadata": {},
   "source": [
    "### Normal PoD\n",
    "\n",
    "---\n",
    "\n",
    "#### Notes\n",
    "\n",
    "[window size: 5]\n",
    "[epochs: 50]\n",
    "- Abstract art-esque - not quite character looking though\n",
    "\n",
    "[window size: 8]\n",
    "[epochs: 50]\n",
    "- More character definition. Much more cohesive\n",
    "\n",
    "[window size: 9]\n",
    "[epochs: 50]\n",
    "- Not much change but makes a 'character' at earlier iterations\n",
    "\n",
    "[window size: 9 - TMNT edition]\n",
    "[epochs: 10 (reached 98%)]\n",
    "- perfectly recreates ninja turtles every time; can replace a tile with the same tile\n",
    "\n",
    "[window size: 4]\n",
    "[epochs: 50]\n",
    "\n",
    "\n"
   ]
  },
  {
   "cell_type": "code",
   "execution_count": 52,
   "metadata": {},
   "outputs": [
    {
     "name": "stdout",
     "output_type": "stream",
     "text": [
      "Model: \"sequential_7\"\n",
      "_________________________________________________________________\n",
      " Layer (type)                Output Shape              Param #   \n",
      "=================================================================\n",
      " conv2d_21 (Conv2D)          (None, 4, 4, 128)         1280      \n",
      "                                                                 \n",
      " max_pooling2d_7 (MaxPooling  (None, 2, 2, 128)        0         \n",
      " 2D)                                                             \n",
      "                                                                 \n",
      " conv2d_22 (Conv2D)          (None, 2, 2, 128)         147584    \n",
      "                                                                 \n",
      " conv2d_23 (Conv2D)          (None, 2, 2, 256)         295168    \n",
      "                                                                 \n",
      " flatten_7 (Flatten)         (None, 1024)              0         \n",
      "                                                                 \n",
      " dense_14 (Dense)            (None, 128)               131200    \n",
      "                                                                 \n",
      " dense_15 (Dense)            (None, 16)                2064      \n",
      "                                                                 \n",
      "=================================================================\n",
      "Total params: 577,296\n",
      "Trainable params: 577,296\n",
      "Non-trainable params: 0\n",
      "_________________________________________________________________\n"
     ]
    }
   ],
   "source": [
    "class NormalPoD():\n",
    "    def __init__(self,spr_shape, channels=16, pad_val=0, crop_size=5):\n",
    "        self.destroy_data = []\n",
    "        self.spr_shape = spr_shape\n",
    "        self.channels = channels\n",
    "        self.pad_val = pad_val\n",
    "        self.crop_size = crop_size\n",
    "\n",
    "    # make a new noisy sprite using the channels and size\n",
    "    def init_noise_sprite(self):\n",
    "        noise_spr = np.random.randint(self.channels,size=(self.spr_shape[0],self.spr_shape[1]))\n",
    "        return noise_spr\n",
    "\n",
    "    # crop a sprite from the noise sprite (use with padding) - assume pos is (x,y) and center of target crop\n",
    "    def crop(self, spr, pos, size=5):\n",
    "        hpad = size//2\n",
    "        pad_spr = np.pad(spr,((hpad,hpad),(hpad,hpad)),constant_values=self.pad_val)   # pad the sprite \n",
    "        crop_spr = pad_spr[pos[0]:pos[0]+size,pos[1]:pos[1]+size]   # get the cropped sprite (should be size,size)\n",
    "        return pad_spr, crop_spr\n",
    "\n",
    "    # return the new level and the tile replaced (also add to training data) - assume pos is (x,y)\n",
    "    def destroy(self, cur_spr, bad_spr, pos, crop_size=5):\n",
    "        # turn the cur_spr value at the pos to the bad_spr value\n",
    "        cur_spr2 = np.copy(cur_spr)\n",
    "        og_val = cur_spr[pos[0],pos[1]]\n",
    "        cur_spr2[pos[0],pos[1]] = bad_spr[pos[0],pos[1]]\n",
    "\n",
    "        # crop around the area and add to training data\n",
    "        _, crop_spr = self.crop(cur_spr2,pos,crop_size)\n",
    "\n",
    "        return cur_spr2, og_val, crop_spr\n",
    "    \n",
    "    # calculate the hamming distance from 2 sprites\n",
    "    def calc_ham_dist(self, spr1, spr2):\n",
    "        return np.sum(spr1 != spr2)\n",
    "\n",
    "    # return the sprite that is closest in hamming distance from the goal set\n",
    "    def closest_spr(self, goal_set, noise_spr):\n",
    "        min_dist_i = np.argmin([self.calc_ham_dist(noise_spr, i) for i in goal_set])\n",
    "        return goal_set[min_dist_i]\n",
    "\n",
    "    \n",
    "    # make the training data for the path of destruction\n",
    "    def make_train_dat(self,goal_set,num_noise_spr=1000):\n",
    "        train_dat = []\n",
    "        with tqdm(total=num_noise_spr) as pbar:\n",
    "            for i in range(num_noise_spr):\n",
    "                # make a noise sprite and find the closest\n",
    "                # noise_spr = self.init_noise_sprite()\n",
    "                # targ_spr = self.closest_spr(goal_set,noise_spr).copy()\n",
    "\n",
    "                #go through each goal sprite and make a noise sprite for it\n",
    "                targ_spr = goal_set[i%len(goal_set)]\n",
    "                noise_spr = self.init_noise_sprite()\n",
    "\n",
    "                # make a list of all the positions in the sprite and shuffle it\n",
    "                pos_set = []\n",
    "                for x in range(self.spr_shape[0]):\n",
    "                    for y in range(self.spr_shape[1]):\n",
    "                        pos_set.append((x,y))\n",
    "                random.shuffle(pos_set)\n",
    "\n",
    "                # iterate over the goal sprite and change until it matches the noise spr (destroy)\n",
    "                for p in pos_set:\n",
    "                        # destroy the noise sprite\n",
    "                        targ_spr, og_val, crop_spr = self.destroy(targ_spr,noise_spr,p,self.crop_size)\n",
    "                        train_dat.append([crop_spr,og_val])\n",
    "                        # showSprPalette(targ_spr)\n",
    "                pbar.update(1)\n",
    "                    \n",
    "        return train_dat\n",
    "    \n",
    "    # make the path of destruction neural network model\n",
    "    # copy of architecture from the paper [Conv(128,3) -> Conv(128,3) -> MaxPool(2), Conv(256,3)]\n",
    "    # it doesn't work though... at least not with 5x5 crop size - need to ask Sam for exact implementation\n",
    "    def makePoDCNN(self):\n",
    "        self.pod_model = Sequential([\n",
    "            InputLayer(input_shape=(self.crop_size,self.crop_size,1)),\n",
    "            Conv2D(128, (3, 3), activation='relu',padding='SAME'),\n",
    "            MaxPooling2D((2, 2)),\n",
    "            Conv2D(128, (3, 3), activation='relu',padding='SAME'),\n",
    "            Conv2D(256, (3, 3), activation='relu',padding='SAME'),\n",
    "            Flatten(),\n",
    "            Dense(128),\n",
    "            Dense(self.channels,activation='softmax'),\n",
    "        ])\n",
    "        self.pod_model.summary()\n",
    "        self.opt = tf.keras.optimizers.RMSprop(learning_rate=0.001)\n",
    "        self.pod_model.compile(optimizer=self.opt,metrics=['accuracy'],loss='sparse_categorical_crossentropy') #not one-hot encoded\n",
    "        \n",
    "        \n",
    "    # import a model from a path\n",
    "    def importModel(self,model_path):\n",
    "        self.pod_model = tf.keras.models.load_model(model_path)\n",
    "        self.pod_model.summary()\n",
    "        self.opt = tf.keras.optimizers.RMSprop(learning_rate=0.001)\n",
    "        self.pod_model.compile(optimizer=self.opt,metrics=['accuracy'],loss='sparse_categorical_crossentropy')\n",
    "\n",
    "\n",
    "    # export the model to a path\n",
    "    def exportModel(self,model_path):\n",
    "        self.pod_model.save(model_path,save_format='h5')\n",
    "                            \n",
    "\n",
    "    # train the path of destruction model on the training data\n",
    "    def trainPoD(self,train_dat,EPOCHS=500,BATCH_SIZE=64,show_acc=False):\n",
    "        # train the model\n",
    "        X = np.array([i[0] for i in train_dat])\n",
    "        Y = np.array([i[1] for i in train_dat])\n",
    "        X = np.expand_dims(X,axis=-1)\n",
    "        Y = np.expand_dims(Y,axis=-1)\n",
    "        print(X.shape,Y.shape)\n",
    "\n",
    "        h = self.pod_model.fit(X,Y,epochs=EPOCHS,batch_size=BATCH_SIZE,shuffle=True)\n",
    "        if show_acc:\n",
    "            plt.plot(h.history['accuracy'])\n",
    "            plt.show()\n",
    "\n",
    "    # repair from a noise vector\n",
    "    def repair(self,init_spr=None,mod_iter='rand',eval_met='iter',num_iter=1000,animate=False):\n",
    "        # make a noise sprite\n",
    "        if init_spr is None:\n",
    "            init_spr = self.init_noise_sprite()\n",
    "        cur_spr = np.copy(init_spr)\n",
    "\n",
    "        if animate:\n",
    "            anim_set = []\n",
    "            anim_set.append(cur_spr)\n",
    "\n",
    "        # iterate over the noise sprite and change until the iterations are done\n",
    "        pi = 0\n",
    "        if eval_met == \"iter\":\n",
    "            with tqdm(total=num_iter) as pbar:\n",
    "                for i in range(num_iter):\n",
    "                    #select a position (randomly or sequentially)\n",
    "                    if mod_iter == \"rand\":\n",
    "                        x = np.random.randint(self.spr_shape[0])\n",
    "                        y = np.random.randint(self.spr_shape[1])\n",
    "                    else:\n",
    "                        x = pi%self.spr_shape[0]\n",
    "                        y = pi//self.spr_shape[0]\n",
    "                        pi += 1\n",
    "                        if pi >= self.spr_shape[0]*self.spr_shape[1]:\n",
    "                            pi = 0\n",
    "\n",
    "                    pbar.set_description(\"@ ({},{})\".format(x,y))\n",
    "\n",
    "                    #crop the area\n",
    "                    _, crop_spr = self.crop(cur_spr,(x,y),self.crop_size)\n",
    "                    \n",
    "                    # get the pixel change input from the model\n",
    "                    pred_px = self.pod_model.predict(np.array([crop_spr]),verbose=False)\n",
    "\n",
    "                    # change the tile\n",
    "                    cur_spr[x,y] = np.argmax(pred_px)\n",
    "\n",
    "                    anim_set.append(cur_spr.copy())\n",
    "\n",
    "                    pbar.update(1)\n",
    "\n",
    "        if animate:\n",
    "            return init_spr, cur_spr, anim_set\n",
    "        return init_spr, cur_spr\n",
    "\n",
    "if EXPERIMENT == \"normal\":\n",
    "    # Make the Path of Destruction  model\n",
    "    npod = NormalPoD((8,8),channels=16,crop_size=GEN_CONF['WINDOW'])     \n",
    "    npod.makePoDCNN() "
   ]
  },
  {
   "cell_type": "code",
   "execution_count": 54,
   "metadata": {},
   "outputs": [
    {
     "name": "stderr",
     "output_type": "stream",
     "text": [
      "100%|██████████| 1000/1000 [00:03<00:00, 282.38it/s]\n",
      "/Users/milk/Desktop/GIL_Lab/BMO/BMO_chatbot_prototype/bmo-venv/lib/python3.8/site-packages/numpy/lib/npyio.py:501: VisibleDeprecationWarning: Creating an ndarray from ragged nested sequences (which is a list-or-tuple of lists-or-tuples-or ndarrays with different lengths or shapes) is deprecated. If you meant to do this, you must specify 'dtype=object' when creating the ndarray.\n",
      "  arr = np.asanyarray(arr)\n"
     ]
    },
    {
     "name": "stdout",
     "output_type": "stream",
     "text": [
      "64000\n"
     ]
    }
   ],
   "source": [
    "if EXPERIMENT == \"normal\":\n",
    "\n",
    "    if CONFIGS[\"normal\"][\"NEW_TRAIN_DAT\"]:\n",
    "        # make the training data\n",
    "        goal_spr_char = pico_char_dat.copy()\n",
    "        train_dat = npod.make_train_dat(goal_spr_char,num_noise_spr=(len(goal_spr_char)*10))\n",
    "\n",
    "        # ninja turtle set\n",
    "        # turtle_spr_char = pico_char_dat[30:34]\n",
    "        # showMultiSprPalette(turtle_spr_char)\n",
    "        # train_dat = npod.make_train_dat(turtle_spr_char,num_noise_spr=(len(turtle_spr_char)*100))\n",
    "\n",
    "        print(len(train_dat))\n",
    "\n",
    "        # export as .npy file\n",
    "        np.save(CONFIGS[\"normal\"][\"TRAIN_DAT_PATH\"],train_dat)\n",
    "    else:\n",
    "        # import the training data\n",
    "        train_dat = np.load(CONFIGS['normal'][\"TRAIN_DAT_PATH\"],allow_pickle=True)\n",
    "        print(len(train_dat))"
   ]
  },
  {
   "cell_type": "code",
   "execution_count": 43,
   "metadata": {},
   "outputs": [
    {
     "name": "stdout",
     "output_type": "stream",
     "text": [
      "(25600, 9, 9, 1) (25600, 1)\n",
      "Epoch 1/10\n",
      "800/800 [==============================] - 14s 16ms/step - loss: 0.4404 - accuracy: 0.8484\n",
      "Epoch 2/10\n",
      "800/800 [==============================] - 13s 16ms/step - loss: 0.1697 - accuracy: 0.9273\n",
      "Epoch 3/10\n",
      "800/800 [==============================] - 14s 17ms/step - loss: 0.1397 - accuracy: 0.9428\n",
      "Epoch 4/10\n",
      "800/800 [==============================] - 13s 16ms/step - loss: 0.1226 - accuracy: 0.9484\n",
      "Epoch 5/10\n",
      "800/800 [==============================] - 14s 17ms/step - loss: 0.1114 - accuracy: 0.9543\n",
      "Epoch 6/10\n",
      "800/800 [==============================] - 14s 17ms/step - loss: 0.1025 - accuracy: 0.9616\n",
      "Epoch 7/10\n",
      "800/800 [==============================] - 14s 17ms/step - loss: 0.0890 - accuracy: 0.9654\n",
      "Epoch 8/10\n",
      "800/800 [==============================] - 13s 16ms/step - loss: 0.0778 - accuracy: 0.9718\n",
      "Epoch 9/10\n",
      "800/800 [==============================] - 14s 17ms/step - loss: 0.0714 - accuracy: 0.9743\n",
      "Epoch 10/10\n",
      "800/800 [==============================] - 13s 16ms/step - loss: 0.0593 - accuracy: 0.9793\n"
     ]
    },
    {
     "data": {
      "image/png": "[encoded data removed]",
      "text/plain": [
       "<Figure size 640x480 with 1 Axes>"
      ]
     },
     "metadata": {},
     "output_type": "display_data"
    }
   ],
   "source": [
    "# train or import the model\n",
    "if EXPERIMENT == \"normal\":\n",
    "    if CONFIGS[\"normal\"][\"TRAIN_NPOD\"]:\n",
    "        npod.trainPoD(train_dat,EPOCHS=GEN_CONF['EPOCHS'],BATCH_SIZE=GEN_CONF['BATCH_SIZE'],show_acc=True)\n",
    "        npod.exportModel(CONFIGS[\"normal\"][\"NPOD_MODEL\"])\n",
    "    else:\n",
    "        npod.importModel(CONFIGS[\"normal\"][\"NPOD_MODEL\"])"
   ]
  },
  {
   "cell_type": "code",
   "execution_count": 45,
   "metadata": {},
   "outputs": [
    {
     "name": "stderr",
     "output_type": "stream",
     "text": [
      "@ (2,6):   2%|▏         | 4/256 [00:00<00:15, 16.13it/s]"
     ]
    },
    {
     "name": "stdout",
     "output_type": "stream",
     "text": [
      "same pixel @ (5,0)!\n"
     ]
    },
    {
     "name": "stderr",
     "output_type": "stream",
     "text": [
      "@ (7,0):   7%|▋         | 18/256 [00:00<00:11, 21.13it/s]"
     ]
    },
    {
     "name": "stdout",
     "output_type": "stream",
     "text": [
      "same pixel @ (6,2)!\n",
      "same pixel @ (0,4)!\n"
     ]
    },
    {
     "name": "stderr",
     "output_type": "stream",
     "text": [
      "@ (1,1):  11%|█         | 28/256 [00:01<00:10, 21.91it/s]"
     ]
    },
    {
     "name": "stdout",
     "output_type": "stream",
     "text": [
      "same pixel @ (4,7)!\n"
     ]
    },
    {
     "name": "stderr",
     "output_type": "stream",
     "text": [
      "@ (6,7):  14%|█▍        | 37/256 [00:01<00:09, 22.15it/s]"
     ]
    },
    {
     "name": "stdout",
     "output_type": "stream",
     "text": [
      "same pixel @ (0,1)!\n",
      "same pixel @ (4,4)!\n"
     ]
    },
    {
     "name": "stderr",
     "output_type": "stream",
     "text": [
      "@ (6,1):  17%|█▋        | 43/256 [00:02<00:09, 21.98it/s]"
     ]
    },
    {
     "name": "stdout",
     "output_type": "stream",
     "text": [
      "same pixel @ (3,5)!\n",
      "same pixel @ (4,3)!\n",
      "same pixel @ (7,1)!\n",
      "same pixel @ (3,6)!\n"
     ]
    },
    {
     "name": "stderr",
     "output_type": "stream",
     "text": [
      "@ (0,0):  19%|█▉        | 48/256 [00:02<00:09, 21.94it/s]"
     ]
    },
    {
     "name": "stdout",
     "output_type": "stream",
     "text": [
      "same pixel @ (6,1)!\n",
      "same pixel @ (4,4)!\n",
      "same pixel @ (2,3)!\n",
      "same pixel @ (4,5)!\n"
     ]
    },
    {
     "name": "stderr",
     "output_type": "stream",
     "text": [
      "@ (3,4):  21%|██        | 54/256 [00:02<00:09, 21.82it/s]"
     ]
    },
    {
     "name": "stdout",
     "output_type": "stream",
     "text": [
      "same pixel @ (2,6)!\n",
      "same pixel @ (3,6)!\n",
      "same pixel @ (0,7)!\n"
     ]
    },
    {
     "name": "stderr",
     "output_type": "stream",
     "text": [
      "@ (5,1):  23%|██▎       | 60/256 [00:02<00:08, 22.00it/s]"
     ]
    },
    {
     "name": "stdout",
     "output_type": "stream",
     "text": [
      "same pixel @ (2,2)!\n",
      "same pixel @ (1,6)!\n",
      "same pixel @ (5,0)!\n",
      "same pixel @ (1,5)!\n"
     ]
    },
    {
     "name": "stderr",
     "output_type": "stream",
     "text": [
      "@ (4,4):  26%|██▌       | 66/256 [00:03<00:09, 20.88it/s]"
     ]
    },
    {
     "name": "stdout",
     "output_type": "stream",
     "text": [
      "same pixel @ (4,2)!\n",
      "same pixel @ (5,5)!\n",
      "same pixel @ (4,2)!\n",
      "same pixel @ (0,0)!\n"
     ]
    },
    {
     "name": "stderr",
     "output_type": "stream",
     "text": [
      "@ (2,1):  28%|██▊       | 71/256 [00:03<00:08, 20.93it/s]"
     ]
    },
    {
     "name": "stdout",
     "output_type": "stream",
     "text": [
      "same pixel @ (4,4)!\n",
      "same pixel @ (5,4)!\n",
      "same pixel @ (3,1)!\n",
      "same pixel @ (4,2)!\n"
     ]
    },
    {
     "name": "stderr",
     "output_type": "stream",
     "text": [
      "@ (3,3):  30%|██▉       | 76/256 [00:03<00:08, 21.52it/s]"
     ]
    },
    {
     "name": "stdout",
     "output_type": "stream",
     "text": [
      "same pixel @ (2,1)!\n",
      "same pixel @ (5,1)!\n",
      "same pixel @ (7,7)!\n"
     ]
    },
    {
     "name": "stderr",
     "output_type": "stream",
     "text": [
      "@ (5,5):  32%|███▏      | 82/256 [00:03<00:08, 21.53it/s]"
     ]
    },
    {
     "name": "stdout",
     "output_type": "stream",
     "text": [
      "same pixel @ (4,0)!\n",
      "same pixel @ (3,4)!\n",
      "same pixel @ (2,1)!\n",
      "same pixel @ (5,0)!\n"
     ]
    },
    {
     "name": "stderr",
     "output_type": "stream",
     "text": [
      "@ (3,7):  34%|███▍      | 87/256 [00:04<00:07, 21.79it/s]"
     ]
    },
    {
     "name": "stdout",
     "output_type": "stream",
     "text": [
      "same pixel @ (5,5)!\n",
      "same pixel @ (0,1)!\n",
      "same pixel @ (1,5)!\n",
      "same pixel @ (1,2)!\n"
     ]
    },
    {
     "name": "stderr",
     "output_type": "stream",
     "text": [
      "@ (7,6):  37%|███▋      | 94/256 [00:04<00:07, 20.79it/s]"
     ]
    },
    {
     "name": "stdout",
     "output_type": "stream",
     "text": [
      "same pixel @ (1,5)!\n",
      "same pixel @ (0,7)!\n",
      "same pixel @ (6,2)!\n",
      "same pixel @ (1,7)!\n",
      "same pixel @ (1,0)!\n"
     ]
    },
    {
     "name": "stderr",
     "output_type": "stream",
     "text": [
      "@ (1,6):  39%|███▉      | 100/256 [00:04<00:07, 21.27it/s]"
     ]
    },
    {
     "name": "stdout",
     "output_type": "stream",
     "text": [
      "same pixel @ (4,7)!\n",
      "same pixel @ (7,5)!\n",
      "same pixel @ (1,4)!\n",
      "same pixel @ (7,0)!\n",
      "same pixel @ (1,6)!\n"
     ]
    },
    {
     "name": "stderr",
     "output_type": "stream",
     "text": [
      "@ (7,2):  41%|████      | 105/256 [00:04<00:07, 21.31it/s]"
     ]
    },
    {
     "name": "stdout",
     "output_type": "stream",
     "text": [
      "same pixel @ (1,6)!\n",
      "same pixel @ (7,1)!\n",
      "same pixel @ (3,7)!\n",
      "same pixel @ (1,7)!\n",
      "same pixel @ (3,3)!\n"
     ]
    },
    {
     "name": "stderr",
     "output_type": "stream",
     "text": [
      "@ (1,5):  43%|████▎     | 111/256 [00:05<00:06, 21.96it/s]"
     ]
    },
    {
     "name": "stdout",
     "output_type": "stream",
     "text": [
      "same pixel @ (1,6)!\n",
      "same pixel @ (1,4)!\n",
      "same pixel @ (1,5)!\n",
      "same pixel @ (6,5)!\n",
      "same pixel @ (0,2)!\n"
     ]
    },
    {
     "name": "stderr",
     "output_type": "stream",
     "text": [
      "@ (4,1):  45%|████▌     | 116/256 [00:05<00:06, 21.63it/s]"
     ]
    },
    {
     "name": "stdout",
     "output_type": "stream",
     "text": [
      "same pixel @ (1,5)!\n",
      "same pixel @ (1,7)!\n",
      "same pixel @ (4,5)!\n"
     ]
    },
    {
     "name": "stderr",
     "output_type": "stream",
     "text": [
      "@ (3,4):  48%|████▊     | 122/256 [00:05<00:06, 21.71it/s]"
     ]
    },
    {
     "name": "stdout",
     "output_type": "stream",
     "text": [
      "same pixel @ (2,2)!\n",
      "same pixel @ (3,0)!\n",
      "same pixel @ (0,7)!\n",
      "same pixel @ (7,7)!\n",
      "same pixel @ (5,5)!\n"
     ]
    },
    {
     "name": "stderr",
     "output_type": "stream",
     "text": [
      "@ (4,2):  50%|████▉     | 127/256 [00:05<00:05, 21.60it/s]"
     ]
    },
    {
     "name": "stdout",
     "output_type": "stream",
     "text": [
      "same pixel @ (3,4)!\n",
      "same pixel @ (5,3)!\n",
      "same pixel @ (1,6)!\n",
      "same pixel @ (0,3)!\n",
      "same pixel @ (6,2)!\n"
     ]
    },
    {
     "name": "stderr",
     "output_type": "stream",
     "text": [
      "@ (6,5):  51%|█████     | 131/256 [00:06<00:05, 21.69it/s]"
     ]
    },
    {
     "name": "stdout",
     "output_type": "stream",
     "text": [
      "same pixel @ (4,2)!\n",
      "same pixel @ (2,2)!\n",
      "same pixel @ (2,6)!\n",
      "same pixel @ (2,5)!\n"
     ]
    },
    {
     "name": "stderr",
     "output_type": "stream",
     "text": [
      "@ (1,2):  53%|█████▎    | 136/256 [00:06<00:05, 20.69it/s]"
     ]
    },
    {
     "name": "stdout",
     "output_type": "stream",
     "text": [
      "same pixel @ (6,5)!\n",
      "same pixel @ (7,7)!\n",
      "same pixel @ (3,0)!\n",
      "same pixel @ (6,7)!\n",
      "same pixel @ (1,1)!\n"
     ]
    },
    {
     "name": "stderr",
     "output_type": "stream",
     "text": [
      "@ (6,1):  55%|█████▌    | 141/256 [00:06<00:05, 20.93it/s]"
     ]
    },
    {
     "name": "stdout",
     "output_type": "stream",
     "text": [
      "same pixel @ (1,2)!\n",
      "same pixel @ (0,6)!\n",
      "same pixel @ (7,0)!\n",
      "same pixel @ (0,3)!\n"
     ]
    },
    {
     "name": "stderr",
     "output_type": "stream",
     "text": [
      "@ (1,1):  57%|█████▋    | 146/256 [00:06<00:05, 21.02it/s]"
     ]
    },
    {
     "name": "stdout",
     "output_type": "stream",
     "text": [
      "same pixel @ (6,1)!\n",
      "same pixel @ (1,7)!\n",
      "same pixel @ (1,2)!\n",
      "same pixel @ (6,5)!\n",
      "same pixel @ (0,2)!\n"
     ]
    },
    {
     "name": "stderr",
     "output_type": "stream",
     "text": [
      "@ (6,3):  59%|█████▉    | 151/256 [00:07<00:04, 21.24it/s]"
     ]
    },
    {
     "name": "stdout",
     "output_type": "stream",
     "text": [
      "same pixel @ (1,1)!\n",
      "same pixel @ (5,5)!\n",
      "same pixel @ (7,0)!\n",
      "same pixel @ (0,7)!\n",
      "same pixel @ (7,7)!\n"
     ]
    },
    {
     "name": "stderr",
     "output_type": "stream",
     "text": [
      "@ (1,4):  61%|██████    | 156/256 [00:07<00:04, 21.79it/s]"
     ]
    },
    {
     "name": "stdout",
     "output_type": "stream",
     "text": [
      "same pixel @ (6,3)!\n",
      "same pixel @ (1,1)!\n",
      "same pixel @ (0,5)!\n",
      "same pixel @ (1,3)!\n"
     ]
    },
    {
     "name": "stderr",
     "output_type": "stream",
     "text": [
      "@ (6,0):  63%|██████▎   | 161/256 [00:07<00:04, 21.64it/s]"
     ]
    },
    {
     "name": "stdout",
     "output_type": "stream",
     "text": [
      "same pixel @ (1,4)!\n",
      "same pixel @ (2,6)!\n",
      "same pixel @ (6,1)!\n",
      "same pixel @ (3,7)!\n"
     ]
    },
    {
     "name": "stderr",
     "output_type": "stream",
     "text": [
      "@ (6,2):  65%|██████▌   | 167/256 [00:07<00:04, 21.96it/s]"
     ]
    },
    {
     "name": "stdout",
     "output_type": "stream",
     "text": [
      "same pixel @ (5,6)!\n",
      "same pixel @ (6,7)!\n",
      "same pixel @ (3,4)!\n",
      "same pixel @ (0,2)!\n",
      "same pixel @ (3,6)!\n"
     ]
    },
    {
     "name": "stderr",
     "output_type": "stream",
     "text": [
      "@ (2,5):  67%|██████▋   | 172/256 [00:08<00:03, 21.58it/s]"
     ]
    },
    {
     "name": "stdout",
     "output_type": "stream",
     "text": [
      "same pixel @ (6,2)!\n",
      "same pixel @ (3,5)!\n",
      "same pixel @ (1,5)!\n",
      "same pixel @ (7,1)!\n"
     ]
    },
    {
     "name": "stderr",
     "output_type": "stream",
     "text": [
      "@ (5,4):  69%|██████▉   | 176/256 [00:08<00:03, 21.80it/s]"
     ]
    },
    {
     "name": "stdout",
     "output_type": "stream",
     "text": [
      "same pixel @ (2,5)!\n",
      "same pixel @ (0,3)!\n",
      "same pixel @ (4,6)!\n",
      "same pixel @ (6,5)!\n"
     ]
    },
    {
     "name": "stderr",
     "output_type": "stream",
     "text": [
      "@ (4,5):  71%|███████   | 181/256 [00:08<00:03, 21.00it/s]"
     ]
    },
    {
     "name": "stdout",
     "output_type": "stream",
     "text": [
      "same pixel @ (5,4)!\n",
      "same pixel @ (2,1)!\n",
      "same pixel @ (6,0)!\n",
      "same pixel @ (0,4)!\n",
      "same pixel @ (0,1)!\n"
     ]
    },
    {
     "name": "stderr",
     "output_type": "stream",
     "text": [
      "@ (1,3):  73%|███████▎  | 186/256 [00:08<00:03, 21.36it/s]"
     ]
    },
    {
     "name": "stdout",
     "output_type": "stream",
     "text": [
      "same pixel @ (4,5)!\n",
      "same pixel @ (2,5)!\n",
      "same pixel @ (4,5)!\n",
      "same pixel @ (1,0)!\n",
      "same pixel @ (6,7)!\n"
     ]
    },
    {
     "name": "stderr",
     "output_type": "stream",
     "text": [
      "@ (2,5):  75%|███████▍  | 191/256 [00:08<00:03, 21.29it/s]"
     ]
    },
    {
     "name": "stdout",
     "output_type": "stream",
     "text": [
      "same pixel @ (1,3)!\n",
      "same pixel @ (2,3)!\n",
      "same pixel @ (2,1)!\n",
      "same pixel @ (2,2)!\n",
      "same pixel @ (7,5)!\n"
     ]
    },
    {
     "name": "stderr",
     "output_type": "stream",
     "text": [
      "@ (4,0):  77%|███████▋  | 196/256 [00:09<00:02, 21.23it/s]"
     ]
    },
    {
     "name": "stdout",
     "output_type": "stream",
     "text": [
      "same pixel @ (2,5)!\n",
      "same pixel @ (0,5)!\n",
      "same pixel @ (6,7)!\n",
      "same pixel @ (1,1)!\n",
      "same pixel @ (5,5)!\n"
     ]
    },
    {
     "name": "stderr",
     "output_type": "stream",
     "text": [
      "@ (0,4):  79%|███████▊  | 201/256 [00:09<00:02, 21.88it/s]"
     ]
    },
    {
     "name": "stdout",
     "output_type": "stream",
     "text": [
      "same pixel @ (4,0)!\n",
      "same pixel @ (4,4)!\n",
      "same pixel @ (6,7)!\n",
      "same pixel @ (3,1)!\n",
      "same pixel @ (1,7)!\n"
     ]
    },
    {
     "name": "stderr",
     "output_type": "stream",
     "text": [
      "@ (7,7):  80%|████████  | 206/256 [00:09<00:02, 21.52it/s]"
     ]
    },
    {
     "name": "stdout",
     "output_type": "stream",
     "text": [
      "same pixel @ (0,4)!\n",
      "same pixel @ (4,4)!\n",
      "same pixel @ (1,3)!\n",
      "same pixel @ (3,0)!\n",
      "same pixel @ (1,5)!\n"
     ]
    },
    {
     "name": "stderr",
     "output_type": "stream",
     "text": [
      "@ (2,5):  82%|████████▏ | 211/256 [00:09<00:02, 21.84it/s]"
     ]
    },
    {
     "name": "stdout",
     "output_type": "stream",
     "text": [
      "same pixel @ (7,7)!\n",
      "same pixel @ (3,1)!\n",
      "same pixel @ (1,4)!\n",
      "same pixel @ (0,4)!\n",
      "same pixel @ (1,4)!\n"
     ]
    },
    {
     "name": "stderr",
     "output_type": "stream",
     "text": [
      "@ (7,1):  84%|████████▍ | 215/256 [00:10<00:01, 20.86it/s]"
     ]
    },
    {
     "name": "stdout",
     "output_type": "stream",
     "text": [
      "same pixel @ (2,5)!\n",
      "same pixel @ (5,6)!\n",
      "same pixel @ (6,2)!\n",
      "same pixel @ (2,2)!\n"
     ]
    },
    {
     "name": "stderr",
     "output_type": "stream",
     "text": [
      "@ (2,5):  86%|████████▌ | 219/256 [00:10<00:01, 20.05it/s]"
     ]
    },
    {
     "name": "stdout",
     "output_type": "stream",
     "text": [
      "same pixel @ (7,1)!\n",
      "same pixel @ (7,3)!\n",
      "same pixel @ (0,1)!\n",
      "same pixel @ (4,7)!\n"
     ]
    },
    {
     "name": "stderr",
     "output_type": "stream",
     "text": [
      "@ (7,3):  87%|████████▋ | 223/256 [00:10<00:01, 19.09it/s]"
     ]
    },
    {
     "name": "stdout",
     "output_type": "stream",
     "text": [
      "same pixel @ (2,5)!\n",
      "same pixel @ (1,4)!\n",
      "same pixel @ (0,7)!\n",
      "same pixel @ (7,3)!\n"
     ]
    },
    {
     "name": "stderr",
     "output_type": "stream",
     "text": [
      "@ (7,5):  89%|████████▉ | 228/256 [00:10<00:01, 20.38it/s]"
     ]
    },
    {
     "name": "stdout",
     "output_type": "stream",
     "text": [
      "same pixel @ (7,3)!\n",
      "same pixel @ (7,2)!\n",
      "same pixel @ (1,1)!\n",
      "same pixel @ (0,0)!\n"
     ]
    },
    {
     "name": "stderr",
     "output_type": "stream",
     "text": [
      "@ (6,5):  91%|█████████ | 233/256 [00:10<00:01, 20.28it/s]"
     ]
    },
    {
     "name": "stdout",
     "output_type": "stream",
     "text": [
      "same pixel @ (7,5)!\n",
      "same pixel @ (5,5)!\n",
      "same pixel @ (3,1)!\n",
      "same pixel @ (5,7)!\n",
      "same pixel @ (3,5)!\n"
     ]
    },
    {
     "name": "stderr",
     "output_type": "stream",
     "text": [
      "@ (7,3):  93%|█████████▎| 238/256 [00:11<00:00, 20.49it/s]"
     ]
    },
    {
     "name": "stdout",
     "output_type": "stream",
     "text": [
      "same pixel @ (6,5)!\n",
      "same pixel @ (5,3)!\n",
      "same pixel @ (6,0)!\n",
      "same pixel @ (3,6)!\n",
      "same pixel @ (1,1)!\n"
     ]
    },
    {
     "name": "stderr",
     "output_type": "stream",
     "text": [
      "@ (2,0):  95%|█████████▍| 243/256 [00:11<00:00, 21.37it/s]"
     ]
    },
    {
     "name": "stdout",
     "output_type": "stream",
     "text": [
      "same pixel @ (7,3)!\n",
      "same pixel @ (5,6)!\n",
      "same pixel @ (6,2)!\n",
      "same pixel @ (7,5)!\n",
      "same pixel @ (5,0)!\n"
     ]
    },
    {
     "name": "stderr",
     "output_type": "stream",
     "text": [
      "@ (1,4):  97%|█████████▋| 248/256 [00:11<00:00, 21.51it/s]"
     ]
    },
    {
     "name": "stdout",
     "output_type": "stream",
     "text": [
      "same pixel @ (2,0)!\n",
      "same pixel @ (5,0)!\n",
      "same pixel @ (6,3)!\n",
      "same pixel @ (3,3)!\n"
     ]
    },
    {
     "name": "stderr",
     "output_type": "stream",
     "text": [
      "@ (3,2):  99%|█████████▉| 253/256 [00:11<00:00, 21.66it/s]"
     ]
    },
    {
     "name": "stdout",
     "output_type": "stream",
     "text": [
      "same pixel @ (1,4)!\n",
      "same pixel @ (0,4)!\n",
      "same pixel @ (7,0)!\n",
      "same pixel @ (3,2)!\n",
      "same pixel @ (4,6)!\n"
     ]
    },
    {
     "name": "stderr",
     "output_type": "stream",
     "text": [
      "@ (4,1): 100%|██████████| 256/256 [00:12<00:00, 21.18it/s]\n"
     ]
    },
    {
     "name": "stdout",
     "output_type": "stream",
     "text": [
      "same pixel @ (3,2)!\n",
      "same pixel @ (5,2)!\n",
      "same pixel @ (4,1)!\n"
     ]
    },
    {
     "data": {
      "image/png": "[encoded data removed]",
      "text/plain": [
       "<Figure size 2000x700 with 2 Axes>"
      ]
     },
     "metadata": {},
     "output_type": "display_data"
    },
    {
     "name": "stderr",
     "output_type": "stream",
     "text": [
      "saving GIF 257...: 100%|██████████| 257/257 [00:13<00:00, 19.69it/s]\n"
     ]
    }
   ],
   "source": [
    "# show the output from repairing a noise sprite\n",
    "if EXPERIMENT == \"normal\":\n",
    "    init_spr, cur_spr, anims = npod.repair(mod_iter='rand',num_iter=256,animate=True)\n",
    "    showMultiSprPalette([init_spr,cur_spr],textArr=['init','final'])\n",
    "\n",
    "    # save the animation\n",
    "    animatePal(anims,f\"../prelim_output/pod_anim/npod_{GEN_CONF['EPOCHS']}e_w{GEN_CONF['WINDOW']}_TURTLE-2.gif\",fps=32,textArr=[f\"Iter: {i}\" for i in range(len(anims))])"
   ]
  },
  {
   "attachments": {},
   "cell_type": "markdown",
   "metadata": {},
   "source": [
    "#### NPOD Sanity Checks"
   ]
  },
  {
   "cell_type": "code",
   "execution_count": 50,
   "metadata": {},
   "outputs": [
    {
     "name": "stdout",
     "output_type": "stream",
     "text": [
      "(8, 8)\n",
      "(2, 2)\n",
      "(8, 8)\n"
     ]
    },
    {
     "data": {
      "image/png": "[encoded data removed]",
      "text/plain": [
       "<Figure size 2000x700 with 5 Axes>"
      ]
     },
     "metadata": {},
     "output_type": "display_data"
    }
   ],
   "source": [
    "if EXPERIMENT == \"normal\" and CONFIGS[\"normal\"][\"SANITY\"]:\n",
    "    # test destroy function\n",
    "    turt_spr = pico_char_dat[30]\n",
    "    n_spr = npod.init_noise_sprite()\n",
    "\n",
    "    pos = (4,4)\n",
    "    a,b,c = npod.destroy(turt_spr,n_spr,pos,crop_size=8)\n",
    "    b2d = np.full((2,2),b)\n",
    "    print(a.shape)\n",
    "    print(b2d.shape)\n",
    "    print(c.shape)\n",
    "\n",
    "    # showMultiSprPalette([turt_spr,n_spr], ['turt','noise'])\n",
    "    showMultiSprPalette([turt_spr,n_spr,a,b2d,c],textArr=['turt','noise','new turt','pixel','crop'])\n"
   ]
  },
  {
   "cell_type": "code",
   "execution_count": null,
   "metadata": {},
   "outputs": [
    {
     "name": "stderr",
     "output_type": "stream",
     "text": [
      "100%|██████████| 1/1 [00:00<00:00, 288.68it/s]"
     ]
    },
    {
     "name": "stdout",
     "output_type": "stream",
     "text": [
      "64\n"
     ]
    },
    {
     "name": "stderr",
     "output_type": "stream",
     "text": [
      "\n"
     ]
    }
   ],
   "source": [
    "# test train data creation\n",
    "if EXPERIMENT == \"normal\" and CONFIGS[\"normal\"][\"SANITY\"]:\n",
    "    turt_spr = pico_char_dat[30]\n",
    "    tdat = npod.make_train_dat([turt_spr],num_noise_spr=1)\n",
    "    print(len(tdat))"
   ]
  },
  {
   "cell_type": "code",
   "execution_count": null,
   "metadata": {},
   "outputs": [
    {
     "name": "stdout",
     "output_type": "stream",
     "text": [
      "(5, 5)\n"
     ]
    },
    {
     "ename": "InvalidArgumentError",
     "evalue": "Graph execution error:\n\nDetected at node 'sequential/flatten/Reshape' defined at (most recent call last):\n    File \"/Users/milk/.pyenv/versions/3.8.9/lib/python3.8/runpy.py\", line 194, in _run_module_as_main\n      return _run_code(code, main_globals, None,\n    File \"/Users/milk/.pyenv/versions/3.8.9/lib/python3.8/runpy.py\", line 87, in _run_code\n      exec(code, run_globals)\n    File \"/Users/milk/Desktop/GIL_Lab/BMO/BMO_chatbot_prototype/bmo-venv/lib/python3.8/site-packages/ipykernel_launcher.py\", line 17, in <module>\n      app.launch_new_instance()\n    File \"/Users/milk/Desktop/GIL_Lab/BMO/BMO_chatbot_prototype/bmo-venv/lib/python3.8/site-packages/traitlets/config/application.py\", line 1043, in launch_instance\n      app.start()\n    File \"/Users/milk/Desktop/GIL_Lab/BMO/BMO_chatbot_prototype/bmo-venv/lib/python3.8/site-packages/ipykernel/kernelapp.py\", line 712, in start\n      self.io_loop.start()\n    File \"/Users/milk/Desktop/GIL_Lab/BMO/BMO_chatbot_prototype/bmo-venv/lib/python3.8/site-packages/tornado/platform/asyncio.py\", line 215, in start\n      self.asyncio_loop.run_forever()\n    File \"/Users/milk/.pyenv/versions/3.8.9/lib/python3.8/asyncio/base_events.py\", line 570, in run_forever\n      self._run_once()\n    File \"/Users/milk/.pyenv/versions/3.8.9/lib/python3.8/asyncio/base_events.py\", line 1859, in _run_once\n      handle._run()\n    File \"/Users/milk/.pyenv/versions/3.8.9/lib/python3.8/asyncio/events.py\", line 81, in _run\n      self._context.run(self._callback, *self._args)\n    File \"/Users/milk/Desktop/GIL_Lab/BMO/BMO_chatbot_prototype/bmo-venv/lib/python3.8/site-packages/ipykernel/kernelbase.py\", line 510, in dispatch_queue\n      await self.process_one()\n    File \"/Users/milk/Desktop/GIL_Lab/BMO/BMO_chatbot_prototype/bmo-venv/lib/python3.8/site-packages/ipykernel/kernelbase.py\", line 499, in process_one\n      await dispatch(*args)\n    File \"/Users/milk/Desktop/GIL_Lab/BMO/BMO_chatbot_prototype/bmo-venv/lib/python3.8/site-packages/ipykernel/kernelbase.py\", line 406, in dispatch_shell\n      await result\n    File \"/Users/milk/Desktop/GIL_Lab/BMO/BMO_chatbot_prototype/bmo-venv/lib/python3.8/site-packages/ipykernel/kernelbase.py\", line 730, in execute_request\n      reply_content = await reply_content\n    File \"/Users/milk/Desktop/GIL_Lab/BMO/BMO_chatbot_prototype/bmo-venv/lib/python3.8/site-packages/ipykernel/ipkernel.py\", line 383, in do_execute\n      res = shell.run_cell(\n    File \"/Users/milk/Desktop/GIL_Lab/BMO/BMO_chatbot_prototype/bmo-venv/lib/python3.8/site-packages/ipykernel/zmqshell.py\", line 528, in run_cell\n      return super().run_cell(*args, **kwargs)\n    File \"/Users/milk/Desktop/GIL_Lab/BMO/BMO_chatbot_prototype/bmo-venv/lib/python3.8/site-packages/IPython/core/interactiveshell.py\", line 2940, in run_cell\n      result = self._run_cell(\n    File \"/Users/milk/Desktop/GIL_Lab/BMO/BMO_chatbot_prototype/bmo-venv/lib/python3.8/site-packages/IPython/core/interactiveshell.py\", line 2995, in _run_cell\n      return runner(coro)\n    File \"/Users/milk/Desktop/GIL_Lab/BMO/BMO_chatbot_prototype/bmo-venv/lib/python3.8/site-packages/IPython/core/async_helpers.py\", line 129, in _pseudo_sync_runner\n      coro.send(None)\n    File \"/Users/milk/Desktop/GIL_Lab/BMO/BMO_chatbot_prototype/bmo-venv/lib/python3.8/site-packages/IPython/core/interactiveshell.py\", line 3194, in run_cell_async\n      has_raised = await self.run_ast_nodes(code_ast.body, cell_name,\n    File \"/Users/milk/Desktop/GIL_Lab/BMO/BMO_chatbot_prototype/bmo-venv/lib/python3.8/site-packages/IPython/core/interactiveshell.py\", line 3373, in run_ast_nodes\n      if await self.run_code(code, result, async_=asy):\n    File \"/Users/milk/Desktop/GIL_Lab/BMO/BMO_chatbot_prototype/bmo-venv/lib/python3.8/site-packages/IPython/core/interactiveshell.py\", line 3433, in run_code\n      exec(code_obj, self.user_global_ns, self.user_ns)\n    File \"/var/folders/5h/0zjb1m296y1gvhtd9q40w4yc0000gn/T/ipykernel_87198/307434881.py\", line 10, in <module>\n      new_px = npod.pod_model.predict(np.array([c]),verbose=False)\n    File \"/Users/milk/Desktop/GIL_Lab/BMO/BMO_chatbot_prototype/bmo-venv/lib/python3.8/site-packages/keras/utils/traceback_utils.py\", line 65, in error_handler\n      return fn(*args, **kwargs)\n    File \"/Users/milk/Desktop/GIL_Lab/BMO/BMO_chatbot_prototype/bmo-venv/lib/python3.8/site-packages/keras/engine/training.py\", line 2350, in predict\n      tmp_batch_outputs = self.predict_function(iterator)\n    File \"/Users/milk/Desktop/GIL_Lab/BMO/BMO_chatbot_prototype/bmo-venv/lib/python3.8/site-packages/keras/engine/training.py\", line 2137, in predict_function\n      return step_function(self, iterator)\n    File \"/Users/milk/Desktop/GIL_Lab/BMO/BMO_chatbot_prototype/bmo-venv/lib/python3.8/site-packages/keras/engine/training.py\", line 2123, in step_function\n      outputs = model.distribute_strategy.run(run_step, args=(data,))\n    File \"/Users/milk/Desktop/GIL_Lab/BMO/BMO_chatbot_prototype/bmo-venv/lib/python3.8/site-packages/keras/engine/training.py\", line 2111, in run_step\n      outputs = model.predict_step(data)\n    File \"/Users/milk/Desktop/GIL_Lab/BMO/BMO_chatbot_prototype/bmo-venv/lib/python3.8/site-packages/keras/engine/training.py\", line 2079, in predict_step\n      return self(x, training=False)\n    File \"/Users/milk/Desktop/GIL_Lab/BMO/BMO_chatbot_prototype/bmo-venv/lib/python3.8/site-packages/keras/utils/traceback_utils.py\", line 65, in error_handler\n      return fn(*args, **kwargs)\n    File \"/Users/milk/Desktop/GIL_Lab/BMO/BMO_chatbot_prototype/bmo-venv/lib/python3.8/site-packages/keras/engine/training.py\", line 561, in __call__\n      return super().__call__(*args, **kwargs)\n    File \"/Users/milk/Desktop/GIL_Lab/BMO/BMO_chatbot_prototype/bmo-venv/lib/python3.8/site-packages/keras/utils/traceback_utils.py\", line 65, in error_handler\n      return fn(*args, **kwargs)\n    File \"/Users/milk/Desktop/GIL_Lab/BMO/BMO_chatbot_prototype/bmo-venv/lib/python3.8/site-packages/keras/engine/base_layer.py\", line 1132, in __call__\n      outputs = call_fn(inputs, *args, **kwargs)\n    File \"/Users/milk/Desktop/GIL_Lab/BMO/BMO_chatbot_prototype/bmo-venv/lib/python3.8/site-packages/keras/utils/traceback_utils.py\", line 96, in error_handler\n      return fn(*args, **kwargs)\n    File \"/Users/milk/Desktop/GIL_Lab/BMO/BMO_chatbot_prototype/bmo-venv/lib/python3.8/site-packages/keras/engine/sequential.py\", line 413, in call\n      return super().call(inputs, training=training, mask=mask)\n    File \"/Users/milk/Desktop/GIL_Lab/BMO/BMO_chatbot_prototype/bmo-venv/lib/python3.8/site-packages/keras/engine/functional.py\", line 511, in call\n      return self._run_internal_graph(inputs, training=training, mask=mask)\n    File \"/Users/milk/Desktop/GIL_Lab/BMO/BMO_chatbot_prototype/bmo-venv/lib/python3.8/site-packages/keras/engine/functional.py\", line 668, in _run_internal_graph\n      outputs = node.layer(*args, **kwargs)\n    File \"/Users/milk/Desktop/GIL_Lab/BMO/BMO_chatbot_prototype/bmo-venv/lib/python3.8/site-packages/keras/utils/traceback_utils.py\", line 65, in error_handler\n      return fn(*args, **kwargs)\n    File \"/Users/milk/Desktop/GIL_Lab/BMO/BMO_chatbot_prototype/bmo-venv/lib/python3.8/site-packages/keras/engine/base_layer.py\", line 1132, in __call__\n      outputs = call_fn(inputs, *args, **kwargs)\n    File \"/Users/milk/Desktop/GIL_Lab/BMO/BMO_chatbot_prototype/bmo-venv/lib/python3.8/site-packages/keras/utils/traceback_utils.py\", line 96, in error_handler\n      return fn(*args, **kwargs)\n    File \"/Users/milk/Desktop/GIL_Lab/BMO/BMO_chatbot_prototype/bmo-venv/lib/python3.8/site-packages/keras/layers/reshaping/flatten.py\", line 104, in call\n      return tf.reshape(inputs, flattened_shape)\nNode: 'sequential/flatten/Reshape'\nInput to reshape is a tensor with 1024 values, but the requested shape requires a multiple of 4096\n\t [[{{node sequential/flatten/Reshape}}]] [Op:__inference_predict_function_16469]",
     "output_type": "error",
     "traceback": [
      "\u001b[0;31m---------------------------------------------------------------------------\u001b[0m",
      "\u001b[0;31mInvalidArgumentError\u001b[0m                      Traceback (most recent call last)",
      "\u001b[1;32m/Users/milk/Desktop/GIL_Lab/BMO/BMO_chatbot_prototype/Experimental_Notebooks/sprite_pod.ipynb Cell 16\u001b[0m in \u001b[0;36m1\n\u001b[1;32m      <a href='vscode-notebook-cell:/Users/milk/Desktop/GIL_Lab/BMO/BMO_chatbot_prototype/Experimental_Notebooks/sprite_pod.ipynb#X21sZmlsZQ%3D%3D?line=6'>7</a>\u001b[0m \u001b[39mprint\u001b[39m(c\u001b[39m.\u001b[39mshape)\n\u001b[1;32m      <a href='vscode-notebook-cell:/Users/milk/Desktop/GIL_Lab/BMO/BMO_chatbot_prototype/Experimental_Notebooks/sprite_pod.ipynb#X21sZmlsZQ%3D%3D?line=8'>9</a>\u001b[0m \u001b[39m#fix the sprite\u001b[39;00m\n\u001b[0;32m---> <a href='vscode-notebook-cell:/Users/milk/Desktop/GIL_Lab/BMO/BMO_chatbot_prototype/Experimental_Notebooks/sprite_pod.ipynb#X21sZmlsZQ%3D%3D?line=9'>10</a>\u001b[0m new_px \u001b[39m=\u001b[39m npod\u001b[39m.\u001b[39;49mpod_model\u001b[39m.\u001b[39;49mpredict(np\u001b[39m.\u001b[39;49marray([c]),verbose\u001b[39m=\u001b[39;49m\u001b[39mFalse\u001b[39;49;00m)\n\u001b[1;32m     <a href='vscode-notebook-cell:/Users/milk/Desktop/GIL_Lab/BMO/BMO_chatbot_prototype/Experimental_Notebooks/sprite_pod.ipynb#X21sZmlsZQ%3D%3D?line=10'>11</a>\u001b[0m turt_spr3 \u001b[39m=\u001b[39m np\u001b[39m.\u001b[39mcopy(turt_spr2)\n\u001b[1;32m     <a href='vscode-notebook-cell:/Users/milk/Desktop/GIL_Lab/BMO/BMO_chatbot_prototype/Experimental_Notebooks/sprite_pod.ipynb#X21sZmlsZQ%3D%3D?line=11'>12</a>\u001b[0m turt_spr3[\u001b[39m4\u001b[39m,\u001b[39m2\u001b[39m] \u001b[39m=\u001b[39m np\u001b[39m.\u001b[39margmax(new_px)\n",
      "File \u001b[0;32m~/Desktop/GIL_Lab/BMO/BMO_chatbot_prototype/bmo-venv/lib/python3.8/site-packages/keras/utils/traceback_utils.py:70\u001b[0m, in \u001b[0;36mfilter_traceback.<locals>.error_handler\u001b[0;34m(*args, **kwargs)\u001b[0m\n\u001b[1;32m     67\u001b[0m     filtered_tb \u001b[39m=\u001b[39m _process_traceback_frames(e\u001b[39m.\u001b[39m__traceback__)\n\u001b[1;32m     68\u001b[0m     \u001b[39m# To get the full stack trace, call:\u001b[39;00m\n\u001b[1;32m     69\u001b[0m     \u001b[39m# `tf.debugging.disable_traceback_filtering()`\u001b[39;00m\n\u001b[0;32m---> 70\u001b[0m     \u001b[39mraise\u001b[39;00m e\u001b[39m.\u001b[39mwith_traceback(filtered_tb) \u001b[39mfrom\u001b[39;00m \u001b[39mNone\u001b[39m\n\u001b[1;32m     71\u001b[0m \u001b[39mfinally\u001b[39;00m:\n\u001b[1;32m     72\u001b[0m     \u001b[39mdel\u001b[39;00m filtered_tb\n",
      "File \u001b[0;32m~/Desktop/GIL_Lab/BMO/BMO_chatbot_prototype/bmo-venv/lib/python3.8/site-packages/tensorflow/python/eager/execute.py:52\u001b[0m, in \u001b[0;36mquick_execute\u001b[0;34m(op_name, num_outputs, inputs, attrs, ctx, name)\u001b[0m\n\u001b[1;32m     50\u001b[0m \u001b[39mtry\u001b[39;00m:\n\u001b[1;32m     51\u001b[0m   ctx\u001b[39m.\u001b[39mensure_initialized()\n\u001b[0;32m---> 52\u001b[0m   tensors \u001b[39m=\u001b[39m pywrap_tfe\u001b[39m.\u001b[39mTFE_Py_Execute(ctx\u001b[39m.\u001b[39m_handle, device_name, op_name,\n\u001b[1;32m     53\u001b[0m                                       inputs, attrs, num_outputs)\n\u001b[1;32m     54\u001b[0m \u001b[39mexcept\u001b[39;00m core\u001b[39m.\u001b[39m_NotOkStatusException \u001b[39mas\u001b[39;00m e:\n\u001b[1;32m     55\u001b[0m   \u001b[39mif\u001b[39;00m name \u001b[39mis\u001b[39;00m \u001b[39mnot\u001b[39;00m \u001b[39mNone\u001b[39;00m:\n",
      "\u001b[0;31mInvalidArgumentError\u001b[0m: Graph execution error:\n\nDetected at node 'sequential/flatten/Reshape' defined at (most recent call last):\n    File \"/Users/milk/.pyenv/versions/3.8.9/lib/python3.8/runpy.py\", line 194, in _run_module_as_main\n      return _run_code(code, main_globals, None,\n    File \"/Users/milk/.pyenv/versions/3.8.9/lib/python3.8/runpy.py\", line 87, in _run_code\n      exec(code, run_globals)\n    File \"/Users/milk/Desktop/GIL_Lab/BMO/BMO_chatbot_prototype/bmo-venv/lib/python3.8/site-packages/ipykernel_launcher.py\", line 17, in <module>\n      app.launch_new_instance()\n    File \"/Users/milk/Desktop/GIL_Lab/BMO/BMO_chatbot_prototype/bmo-venv/lib/python3.8/site-packages/traitlets/config/application.py\", line 1043, in launch_instance\n      app.start()\n    File \"/Users/milk/Desktop/GIL_Lab/BMO/BMO_chatbot_prototype/bmo-venv/lib/python3.8/site-packages/ipykernel/kernelapp.py\", line 712, in start\n      self.io_loop.start()\n    File \"/Users/milk/Desktop/GIL_Lab/BMO/BMO_chatbot_prototype/bmo-venv/lib/python3.8/site-packages/tornado/platform/asyncio.py\", line 215, in start\n      self.asyncio_loop.run_forever()\n    File \"/Users/milk/.pyenv/versions/3.8.9/lib/python3.8/asyncio/base_events.py\", line 570, in run_forever\n      self._run_once()\n    File \"/Users/milk/.pyenv/versions/3.8.9/lib/python3.8/asyncio/base_events.py\", line 1859, in _run_once\n      handle._run()\n    File \"/Users/milk/.pyenv/versions/3.8.9/lib/python3.8/asyncio/events.py\", line 81, in _run\n      self._context.run(self._callback, *self._args)\n    File \"/Users/milk/Desktop/GIL_Lab/BMO/BMO_chatbot_prototype/bmo-venv/lib/python3.8/site-packages/ipykernel/kernelbase.py\", line 510, in dispatch_queue\n      await self.process_one()\n    File \"/Users/milk/Desktop/GIL_Lab/BMO/BMO_chatbot_prototype/bmo-venv/lib/python3.8/site-packages/ipykernel/kernelbase.py\", line 499, in process_one\n      await dispatch(*args)\n    File \"/Users/milk/Desktop/GIL_Lab/BMO/BMO_chatbot_prototype/bmo-venv/lib/python3.8/site-packages/ipykernel/kernelbase.py\", line 406, in dispatch_shell\n      await result\n    File \"/Users/milk/Desktop/GIL_Lab/BMO/BMO_chatbot_prototype/bmo-venv/lib/python3.8/site-packages/ipykernel/kernelbase.py\", line 730, in execute_request\n      reply_content = await reply_content\n    File \"/Users/milk/Desktop/GIL_Lab/BMO/BMO_chatbot_prototype/bmo-venv/lib/python3.8/site-packages/ipykernel/ipkernel.py\", line 383, in do_execute\n      res = shell.run_cell(\n    File \"/Users/milk/Desktop/GIL_Lab/BMO/BMO_chatbot_prototype/bmo-venv/lib/python3.8/site-packages/ipykernel/zmqshell.py\", line 528, in run_cell\n      return super().run_cell(*args, **kwargs)\n    File \"/Users/milk/Desktop/GIL_Lab/BMO/BMO_chatbot_prototype/bmo-venv/lib/python3.8/site-packages/IPython/core/interactiveshell.py\", line 2940, in run_cell\n      result = self._run_cell(\n    File \"/Users/milk/Desktop/GIL_Lab/BMO/BMO_chatbot_prototype/bmo-venv/lib/python3.8/site-packages/IPython/core/interactiveshell.py\", line 2995, in _run_cell\n      return runner(coro)\n    File \"/Users/milk/Desktop/GIL_Lab/BMO/BMO_chatbot_prototype/bmo-venv/lib/python3.8/site-packages/IPython/core/async_helpers.py\", line 129, in _pseudo_sync_runner\n      coro.send(None)\n    File \"/Users/milk/Desktop/GIL_Lab/BMO/BMO_chatbot_prototype/bmo-venv/lib/python3.8/site-packages/IPython/core/interactiveshell.py\", line 3194, in run_cell_async\n      has_raised = await self.run_ast_nodes(code_ast.body, cell_name,\n    File \"/Users/milk/Desktop/GIL_Lab/BMO/BMO_chatbot_prototype/bmo-venv/lib/python3.8/site-packages/IPython/core/interactiveshell.py\", line 3373, in run_ast_nodes\n      if await self.run_code(code, result, async_=asy):\n    File \"/Users/milk/Desktop/GIL_Lab/BMO/BMO_chatbot_prototype/bmo-venv/lib/python3.8/site-packages/IPython/core/interactiveshell.py\", line 3433, in run_code\n      exec(code_obj, self.user_global_ns, self.user_ns)\n    File \"/var/folders/5h/0zjb1m296y1gvhtd9q40w4yc0000gn/T/ipykernel_87198/307434881.py\", line 10, in <module>\n      new_px = npod.pod_model.predict(np.array([c]),verbose=False)\n    File \"/Users/milk/Desktop/GIL_Lab/BMO/BMO_chatbot_prototype/bmo-venv/lib/python3.8/site-packages/keras/utils/traceback_utils.py\", line 65, in error_handler\n      return fn(*args, **kwargs)\n    File \"/Users/milk/Desktop/GIL_Lab/BMO/BMO_chatbot_prototype/bmo-venv/lib/python3.8/site-packages/keras/engine/training.py\", line 2350, in predict\n      tmp_batch_outputs = self.predict_function(iterator)\n    File \"/Users/milk/Desktop/GIL_Lab/BMO/BMO_chatbot_prototype/bmo-venv/lib/python3.8/site-packages/keras/engine/training.py\", line 2137, in predict_function\n      return step_function(self, iterator)\n    File \"/Users/milk/Desktop/GIL_Lab/BMO/BMO_chatbot_prototype/bmo-venv/lib/python3.8/site-packages/keras/engine/training.py\", line 2123, in step_function\n      outputs = model.distribute_strategy.run(run_step, args=(data,))\n    File \"/Users/milk/Desktop/GIL_Lab/BMO/BMO_chatbot_prototype/bmo-venv/lib/python3.8/site-packages/keras/engine/training.py\", line 2111, in run_step\n      outputs = model.predict_step(data)\n    File \"/Users/milk/Desktop/GIL_Lab/BMO/BMO_chatbot_prototype/bmo-venv/lib/python3.8/site-packages/keras/engine/training.py\", line 2079, in predict_step\n      return self(x, training=False)\n    File \"/Users/milk/Desktop/GIL_Lab/BMO/BMO_chatbot_prototype/bmo-venv/lib/python3.8/site-packages/keras/utils/traceback_utils.py\", line 65, in error_handler\n      return fn(*args, **kwargs)\n    File \"/Users/milk/Desktop/GIL_Lab/BMO/BMO_chatbot_prototype/bmo-venv/lib/python3.8/site-packages/keras/engine/training.py\", line 561, in __call__\n      return super().__call__(*args, **kwargs)\n    File \"/Users/milk/Desktop/GIL_Lab/BMO/BMO_chatbot_prototype/bmo-venv/lib/python3.8/site-packages/keras/utils/traceback_utils.py\", line 65, in error_handler\n      return fn(*args, **kwargs)\n    File \"/Users/milk/Desktop/GIL_Lab/BMO/BMO_chatbot_prototype/bmo-venv/lib/python3.8/site-packages/keras/engine/base_layer.py\", line 1132, in __call__\n      outputs = call_fn(inputs, *args, **kwargs)\n    File \"/Users/milk/Desktop/GIL_Lab/BMO/BMO_chatbot_prototype/bmo-venv/lib/python3.8/site-packages/keras/utils/traceback_utils.py\", line 96, in error_handler\n      return fn(*args, **kwargs)\n    File \"/Users/milk/Desktop/GIL_Lab/BMO/BMO_chatbot_prototype/bmo-venv/lib/python3.8/site-packages/keras/engine/sequential.py\", line 413, in call\n      return super().call(inputs, training=training, mask=mask)\n    File \"/Users/milk/Desktop/GIL_Lab/BMO/BMO_chatbot_prototype/bmo-venv/lib/python3.8/site-packages/keras/engine/functional.py\", line 511, in call\n      return self._run_internal_graph(inputs, training=training, mask=mask)\n    File \"/Users/milk/Desktop/GIL_Lab/BMO/BMO_chatbot_prototype/bmo-venv/lib/python3.8/site-packages/keras/engine/functional.py\", line 668, in _run_internal_graph\n      outputs = node.layer(*args, **kwargs)\n    File \"/Users/milk/Desktop/GIL_Lab/BMO/BMO_chatbot_prototype/bmo-venv/lib/python3.8/site-packages/keras/utils/traceback_utils.py\", line 65, in error_handler\n      return fn(*args, **kwargs)\n    File \"/Users/milk/Desktop/GIL_Lab/BMO/BMO_chatbot_prototype/bmo-venv/lib/python3.8/site-packages/keras/engine/base_layer.py\", line 1132, in __call__\n      outputs = call_fn(inputs, *args, **kwargs)\n    File \"/Users/milk/Desktop/GIL_Lab/BMO/BMO_chatbot_prototype/bmo-venv/lib/python3.8/site-packages/keras/utils/traceback_utils.py\", line 96, in error_handler\n      return fn(*args, **kwargs)\n    File \"/Users/milk/Desktop/GIL_Lab/BMO/BMO_chatbot_prototype/bmo-venv/lib/python3.8/site-packages/keras/layers/reshaping/flatten.py\", line 104, in call\n      return tf.reshape(inputs, flattened_shape)\nNode: 'sequential/flatten/Reshape'\nInput to reshape is a tensor with 1024 values, but the requested shape requires a multiple of 4096\n\t [[{{node sequential/flatten/Reshape}}]] [Op:__inference_predict_function_16469]"
     ]
    }
   ],
   "source": [
    "# test output of the model\n",
    "if EXPERIMENT == \"normal\" and CONFIGS[\"normal\"][\"SANITY\"]:\n",
    "    turt_spr = pico_char_dat[0].copy()\n",
    "    turt_spr2 = turt_spr.copy()\n",
    "    turt_spr2[4,2] = 14\n",
    "    _,c = npod.crop(turt_spr2,(4,2),5)\n",
    "    print(c.shape)\n",
    "\n",
    "    #fix the sprite\n",
    "    new_px = npod.pod_model.predict(np.array([c]),verbose=False)\n",
    "    turt_spr3 = np.copy(turt_spr2)\n",
    "    turt_spr3[4,2] = np.argmax(new_px)\n",
    "\n",
    "    showMultiSprPalette([turt_spr,turt_spr2,turt_spr3],textArr=['OG','destroy','repair'])"
   ]
  },
  {
   "attachments": {},
   "cell_type": "markdown",
   "metadata": {},
   "source": [
    "### TEXT ENCODED PoD\n",
    "\n",
    "---\n",
    "\n",
    "#### Notes\n",
    "\n",
    "\n"
   ]
  },
  {
   "cell_type": "code",
   "execution_count": null,
   "metadata": {},
   "outputs": [],
   "source": []
  }
 ],
 "metadata": {
  "kernelspec": {
   "display_name": "bmo-venv",
   "language": "python",
   "name": "python3"
  },
  "language_info": {
   "codemirror_mode": {
    "name": "ipython",
    "version": 3
   },
   "file_extension": ".py",
   "mimetype": "text/x-python",
   "name": "python",
   "nbconvert_exporter": "python",
   "pygments_lexer": "ipython3",
   "version": "3.8.9"
  },
  "orig_nbformat": 4,
  "vscode": {
   "interpreter": {
    "hash": "f94925f3cff0b0ac90dd538919dcd2d4d02467fa3fdafdf86812e92b857d43c1"
   }
  }
 },
 "nbformat": 4,
 "nbformat_minor": 2
}
