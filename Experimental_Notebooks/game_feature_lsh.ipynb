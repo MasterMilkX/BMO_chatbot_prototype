{
 "cells": [
  {
   "cell_type": "markdown",
   "metadata": {},
   "source": [
    "# LSH TEST \n",
    "Uses locality sensitive hashing on a large dataset to create subsets and find similar games for recomendations "
   ]
  },
  {
   "cell_type": "markdown",
   "metadata": {},
   "source": [
    "### Imports"
   ]
  },
  {
   "cell_type": "code",
   "execution_count": 1,
   "metadata": {},
   "outputs": [
    {
     "name": "stderr",
     "output_type": "stream",
     "text": [
      "/Users/milk/Desktop/GIL_Lab/BMO/BMO_chatbot_prototype/bmo-venv/lib/python3.8/site-packages/tqdm/auto.py:22: TqdmWarning: IProgress not found. Please update jupyter and ipywidgets. See https://ipywidgets.readthedocs.io/en/stable/user_install.html\n",
      "  from .autonotebook import tqdm as notebook_tqdm\n"
     ]
    }
   ],
   "source": [
    "# Library imports\n",
    "import numpy as np\n",
    "import spacy\n",
    "import math\n",
    "from nltk.tokenize import word_tokenize\n",
    "from tqdm import tqdm\n",
    "from nltk.corpus import stopwords\n",
    "from sklearn.metrics.pairwise import cosine_similarity, euclidean_distances\n",
    "import gensim\n",
    "\n",
    "nlp = spacy.load(\"en_core_web_sm\")\n",
    "\n",
    "# External file imports\n",
    "import sys  \n",
    "sys.path.insert(0, '../')\n",
    "from Python.lsh import VanillaLSH"
   ]
  },
  {
   "cell_type": "code",
   "execution_count": 2,
   "metadata": {},
   "outputs": [
    {
     "name": "stdout",
     "output_type": "stream",
     "text": [
      "59771\n"
     ]
    }
   ],
   "source": [
    "# import the dataset\n",
    "FEAT_FILE = \"../data/game_datfeat.txt\"\n",
    "\n",
    "def loadFeatData():\n",
    "    DAT = {}\n",
    "    with open(FEAT_FILE, \"r\") as f:\n",
    "        lines = [l.strip() for l in f.readlines()]\n",
    "        CUR_GAME = \"\"\n",
    "        for l in lines:\n",
    "            # empty line (between entries)\n",
    "            if l == \"\":\n",
    "                continue\n",
    "            #new entry\n",
    "            else:\n",
    "                if l[0] == \"+\":\n",
    "                    CUR_GAME = l[2:]\n",
    "                    DAT[CUR_GAME] = {\"tags\":[],\"entities\":[],\"features\":[]}\n",
    "                elif l[0] == \"#\":\n",
    "                    DAT[CUR_GAME][\"tags\"] = [t.lower() for t in l[2:].split(\",\")]\n",
    "                elif l[0] == \"@\":\n",
    "                    DAT[CUR_GAME][\"entities\"] = l[2:].split(\",\")\n",
    "                elif l[0] == \"-\":\n",
    "                    DAT[CUR_GAME][\"features\"].append(l[2:])\n",
    "    return DAT\n",
    "\n",
    "\n",
    "#get all of the tags and the entities from the game data\n",
    "def getTagsEntities():\n",
    "    # get all of the tags and entities\n",
    "    ALL_TAGS = []\n",
    "    ALL_ENTITIES = []\n",
    "    for g in GAME_DATA:\n",
    "        ALL_TAGS += [t.lower() for t in GAME_DATA[g][\"tags\"]]\n",
    "        ALL_ENTITIES += [e.lower() for e in GAME_DATA[g][\"entities\"]]\n",
    "\n",
    "    # remove duplicates\n",
    "    ALL_TAGS = list(set(ALL_TAGS))\n",
    "    ALL_ENTITIES = list(set(ALL_ENTITIES))\n",
    "\n",
    "    return ALL_TAGS, ALL_ENTITIES\n",
    "\n",
    "\n",
    "GAME_DATA = loadFeatData()\n",
    "ALL_TAGS, ALL_ENTITIES = getTagsEntities()\n",
    "\n",
    "print(len(GAME_DATA))"
   ]
  },
  {
   "cell_type": "markdown",
   "metadata": {},
   "source": [
    "### Encoding"
   ]
  },
  {
   "cell_type": "code",
   "execution_count": 7,
   "metadata": {},
   "outputs": [],
   "source": [
    "#tokenizes the text\n",
    "custom_stopwords = [\"game\", \",\", \".\", \"!\"]\n",
    "def tokenize(txt):\n",
    "    raw_toks = word_tokenize(txt)\n",
    "    toks = [w.lower() for w in raw_toks if w.lower() not in stopwords.words(\"english\") and w.lower() not in custom_stopwords]\n",
    "    #add the custom tag words (can be compound words)\n",
    "    for t in ALL_TAGS:\n",
    "        if t in txt and t not in toks:\n",
    "            toks.append(t)\n",
    "    return toks\n",
    "\n",
    "# simplifies the prompt by tokenizing and turn into one string\n",
    "def simplify(prompt):\n",
    "    #tokenize the prompt\n",
    "    prompt_toks = tokenize(prompt)\n",
    "    #turn into one string\n",
    "    prompt_str = \" \".join(prompt_toks)\n",
    "    return prompt_str\n",
    "\n",
    "# encode all of the games for doc2vec\n",
    "def encodeGames():\n",
    "    # tokenize all of the games\n",
    "    GAMES = []\n",
    "    with tqdm(total=len(GAME_DATA), desc=\"Tokenzing games\") as pbar:\n",
    "\n",
    "        for g in GAME_DATA:\n",
    "            tags = GAME_DATA[g][\"tags\"]   # get the tags\n",
    "            ents = GAME_DATA[g][\"entities\"]  # get the entities\n",
    "            \n",
    "            txt = \" \".join(tags + ents)   # combine the tags and entities\n",
    "            txt_toks = simplify(txt)   # tokenize the text\n",
    "\n",
    "            GAMES.append(txt_toks)\n",
    "            pbar.update(1)\n",
    "    \n",
    "    #preprocess for doc2vec\n",
    "    doc_games = []\n",
    "    with tqdm(total=len(GAMES), desc=\"Preprocessing games for doc2vec\") as pbar2:\n",
    "        for i, line in enumerate(GAMES):\n",
    "            tokens = gensim.utils.simple_preprocess(line)\n",
    "            # For training data, add tags\n",
    "            doc_games.append(gensim.models.doc2vec.TaggedDocument(tokens, [i]))\n",
    "            pbar2.update(1)\n",
    "    return doc_games, GAMES\n",
    "    "
   ]
  },
  {
   "cell_type": "code",
   "execution_count": 4,
   "metadata": {},
   "outputs": [],
   "source": [
    "IMPORT = False"
   ]
  },
  {
   "cell_type": "code",
   "execution_count": 6,
   "metadata": {},
   "outputs": [
    {
     "name": "stdout",
     "output_type": "stream",
     "text": [
      "> MODEL AND DATA IMPORTED!\n"
     ]
    }
   ],
   "source": [
    "# create from scratch\n",
    "if not IMPORT:\n",
    "\n",
    "    ### TRAIN MODEL ###\n",
    "\n",
    "    train_corpus, TOK_GAMES = encodeGames()\n",
    "\n",
    "    #train doc2vec model for encoding\n",
    "    doc2vec = gensim.models.doc2vec.Doc2Vec(vector_size=50, min_count=2, epochs=40)\n",
    "    doc2vec.build_vocab(list(train_corpus))\n",
    "\n",
    "    # test the model\n",
    "    print(doc2vec.infer_vector(['top-down', 'multiplayer', 'action', 'knights', 'castles', 'assassinations']))\n",
    "\n",
    "    ### VECTORIZE ###\n",
    "\n",
    "    #get vector for each game\n",
    "    VEC_GAMES = []\n",
    "    GAME_NAMES = list(GAME_DATA.keys())\n",
    "    with tqdm(total=len(GAME_NAMES), desc=\"Getting vectors for games\") as pbar3:\n",
    "        for i, g in enumerate(TOK_GAMES):\n",
    "            VEC_GAMES.append({\"name\":GAME_NAMES[i], \"vector\":doc2vec.infer_vector(g.split(\" \"))})\n",
    "            pbar3.update(1)\n",
    "\n",
    "    ### EXPORT ###\n",
    "\n",
    "     #export the model\n",
    "    doc2vec.save(\"../models/doc2vec/game_doc2vec_model_mini\")\n",
    "\n",
    "    #export the game name, tokens, and vectors to a file\n",
    "    with open(\"../models/doc2vec/game_doc2vec_dat_mini.txt\", \"w+\") as f:\n",
    "        for i, g in enumerate(VEC_GAMES):\n",
    "            vstr = \" \".join([str(v) for v in g[\"vector\"]])\n",
    "            f.write(f\"{g['name']}\\n{TOK_GAMES[i]}\\n{vstr}\\n\\n\")\n",
    "\n",
    "    print(\"> MODEL AND DATA EXPORTED!\")\n",
    "        \n",
    "        \n",
    "\n",
    "# otherwise import everything\n",
    "else:\n",
    "    #import the trained model\n",
    "    doc2vec = gensim.models.doc2vec.Doc2Vec.load(\"../models/doc2vec/game_doc2vec_model_mini\")\n",
    "\n",
    "    #import the games and their vectors\n",
    "    with open(\"../models/doc2vec/game_doc2vec_dat.txt\", \"r\") as f:\n",
    "        lines = [l.strip() for l in f.readlines()]\n",
    "        VEC_GAMES = []\n",
    "        TOK_GAMES = []\n",
    "        for i in range(0, len(lines), 4):\n",
    "            VEC_GAMES.append({\"name\":lines[i], \"vector\":np.array([float(v) for v in lines[i+2].split(\" \")])})\n",
    "            TOK_GAMES.append(lines[i+1])\n",
    "\n",
    "    print(\"> MODEL AND DATA IMPORTED!\")\n",
    "            \n"
   ]
  },
  {
   "cell_type": "markdown",
   "metadata": {},
   "source": [
    "### USE LSH WITH DATASET"
   ]
  },
  {
   "cell_type": "code",
   "execution_count": 10,
   "metadata": {},
   "outputs": [
    {
     "name": "stderr",
     "output_type": "stream",
     "text": [
      "Hashing games: 100%|██████████| 59771/59771 [03:36<00:00, 276.19it/s] \n"
     ]
    }
   ],
   "source": [
    "# setup the vanilla lsh and hash\n",
    "vec_dim = len(VEC_GAMES[0][\"vector\"])\n",
    "van_lsh = VanillaLSH(250, 50, 1, vec_dim)\n",
    "for game in tqdm(VEC_GAMES, desc=\"Hashing games\"):\n",
    "    van_lsh.hash(game[\"vector\"])\n"
   ]
  },
  {
   "cell_type": "code",
   "execution_count": 11,
   "metadata": {},
   "outputs": [],
   "source": [
    "# return games that are close to the prompt\n",
    "def getClosestGames(prompt):\n",
    "    #make the vector\n",
    "    prompt_tok = tokenize(prompt)\n",
    "    prompt_vec = doc2vec.infer_vector(prompt_tok)\n",
    "\n",
    "    #get the closest games\n",
    "    cgi = van_lsh.query(prompt_vec)\n",
    "    closest_game_names = [VEC_GAMES[i][\"name\"] for i in cgi]\n",
    "\n",
    "    return closest_game_names"
   ]
  },
  {
   "cell_type": "code",
   "execution_count": 14,
   "metadata": {},
   "outputs": [
    {
     "name": "stdout",
     "output_type": "stream",
     "text": [
      "> a pixel skateboarding game in a cyberpunk future\n",
      "GAMES: 52\n",
      "RECOMMENDATIONS: [\"PENNY ARCADE'S ON THE RAIN-SLICK PRECIPICE OF DARKNESS 3\", 'PATRICIAN IV', 'KUNG-FU MASTER', 'RAT HOTEL', 'BURNOUT: CHAMPIONSHIP DRAG RACING', 'THE UNSOLVED: HYPER SCIENCE ADVENTURE', 'HELLO KITTY NO MAGICAL MUSEUM', 'KNUCKLE BASH 2', 'WHITE BREATH: PERFECT EDITION', 'BYTEPATH', 'SPIRIT OF ADVENTURE', 'HOLLYWOOD HERO: COMEBACK', 'CHOPPER DROP', 'ESTRANGED: ACT II', 'THE GREAT BATTLE IV', 'MEGA MAN 5', \"MEGA MAN 8: ANNIVERSARY COLLECTOR'S EDITION\", 'SUPER GODZILLA', 'MICKEY TO DONALD: MAGICAL ADVENTURE 3', 'RIDICULOUS REALITY', 'GRAND PRIX RALLY II', 'HAVE A N.I.C.E. DAY!', 'INITIAL D', 'ALIEN BASH II', 'DANCE DANCE REVOLUTION: HOTTEST PARTY 5', 'DEAD REEFS', 'MOTHER 25TH ANNIVERSARY EDITION', 'TAKEN SOULS: BLOOD RITUAL', 'JOHN DEERE: HARVEST IN THE HEARTLAND', 'ACA NEOGEO BURNING FIGHT', 'POCOYO PARTY', 'FARNHAM FABLES', 'THE GREAT ACE ATTORNEY CHRONICLES', 'AVOID THE AWFUL THING THAT VAGUELY RESEMBLES A BANANA!!', 'COUNTDOWN VAMPIRES', 'DESTROY THE PORN', 'HELL FIGHTER', 'INSANITY', 'KOOL-AID MAN', 'WIZARDS & WARRIORS III: KUROS...VISIONS OF POWER', 'SUPER MARIO WORLD ANNUAL CONTEST 9', 'BUGGY CHALLENGE', 'THE FURY', 'ANAL: THE RECTUM ADVENTURE', 'CLAY PIGEONS', 'YAKUZA: KIWAMI', 'AIROU DE PUZZLE', \"KEIBA EIGHT '99 HARU NATSU\", 'PACHINKO TETSUJIN: SHICHIBAN SHOUBU', 'HOYLE POKER', 'UP PERISCOPE', 'READER RABBIT']\n",
      "\n",
      "> a cute, relaxing, atmospheric farming rpg with animal characters\n",
      "GAMES: 21\n",
      "RECOMMENDATIONS: ['XTREME ACES RACING', 'MEGA CHERIL PERILS', 'WAR OF THE HUMAN TANKS: LIMITED OPERATIONS', 'ACA NEOGEO FATAL FURY', 'ION ASSAULT', 'ELLI', 'BLOODRAYNE', 'HUMPTY DUMPTY', 'SLUSH INVADERS', 'WULFPACK', 'STREET MACHINE', 'COWBOY SHOOTOUT', 'CANOEING', 'UEFA EURO 2012', 'ALIENS: A COMIC BOOK ADVENTURE', 'BISHOUJO TSUUSHIN: CHAT NO SUSUME', 'GALILEO MYSTERY: THE CROWN OF MIDAS', 'HOLD-UP', 'HARVEST MOON GBC', 'DOOM, THE ROGUELIKE', 'BIBI & TINA: DAS GRO E REITERFEST']\n",
      "\n",
      "> a physics-based shopping simulator in a 90s mall\n",
      "GAMES: 6\n",
      "RECOMMENDATIONS: [\"DEXTER'S LABORATORY: CHESS CHALLENGE\", 'DANGEROUS DAVE', 'SUBMISSION', 'STAR CASTLE PC', 'TIMBER', 'MASHOU DENKI: LA VALEUR']\n",
      "\n"
     ]
    }
   ],
   "source": [
    "prompts = [\n",
    "    \"a pixel skateboarding game in a cyberpunk future\",                  #recs: the ramp, jet set radio, cyberpunk 2077\n",
    "    \"a cute, relaxing, atmospheric farming rpg with animal characters\",  #recs: stardew valley, night in the woods, a short hike\n",
    "    \"a physics-based shopping simulator in a 90s mall\",                   #recs: goat simulator, retrowave, donut county\n",
    "    # \"a first-person goat skateboarding game\"\n",
    "    ]  \n",
    "\n",
    "for p in prompts:\n",
    "    print(f\"> {p}\")\n",
    "    recs = getClosestGames(p)\n",
    "    print(f\"GAMES: {len(recs)}\")\n",
    "    print(f\"RECOMMENDATIONS: {recs}\")\n",
    "    print(\"\")"
   ]
  },
  {
   "cell_type": "code",
   "execution_count": 16,
   "metadata": {},
   "outputs": [
    {
     "name": "stdout",
     "output_type": "stream",
     "text": [
      "> COSINE SIMILARITY BETWEEN STARDEW VALLEY AND SANITY GAMES\n",
      "DOOM, THE ROGUELIKE: 0.05775723614468901\n",
      "HARVEST MOON GBC: 0.04661868511385689\n",
      "BABA IS YOU: 0.06437132771768969\n"
     ]
    }
   ],
   "source": [
    "BASE_GAME = \"STARDEW VALLEY\"\n",
    "SANITY_GAMES = [\"MEGA MAN 5\", \"HARVEST MOON GBC\", \"BABA IS YOU\"]\n",
    "\n",
    "# get the vector for the base game\n",
    "base_vec = None\n",
    "for g in VEC_GAMES:\n",
    "    if g[\"name\"] == BASE_GAME:\n",
    "        base_vec = g[\"vector\"]\n",
    "        break\n",
    "\n",
    "# get the vectors for the sanity games\n",
    "sanity_vecs = []\n",
    "for g in VEC_GAMES:\n",
    "    if g[\"name\"] in SANITY_GAMES:\n",
    "        sanity_vecs.append(g[\"vector\"])\n",
    "\n",
    "# get the cosine similarity between the base game and the sanity games\n",
    "print(f\"> COSINE SIMILARITY BETWEEN {BASE_GAME} AND SANITY GAMES\")\n",
    "for i, g in enumerate(SANITY_GAMES):\n",
    "    print(f\"{g}: {euclidean_distances(base_vec.reshape(1, -1), sanity_vecs[i].reshape(1, -1))[0][0]}\")"
   ]
  },
  {
   "cell_type": "markdown",
   "metadata": {},
   "source": [
    "### Bag of Words"
   ]
  },
  {
   "cell_type": "code",
   "execution_count": 3,
   "metadata": {},
   "outputs": [],
   "source": [
    "# create the encoding format for the bag of words\n",
    "def makeBag():\n",
    "    # get the set of all tags and entities\n",
    "    TOKENs = []\n",
    "    TOKENs += ALL_TAGS\n",
    "    TOKENs += ALL_ENTITIES\n",
    "    TOKENs = [t for t in list(set(TOKENs))]  #make unique\n",
    "    TOKENs.sort()\n",
    "\n",
    "    #enumerate into a set\n",
    "    TOKEN_SET = {}\n",
    "    for i, t in enumerate(TOKENs):\n",
    "        TOKEN_SET[t] = i\n",
    "\n",
    "    return TOKEN_SET\n",
    "\n",
    "# return encodingq for a bag of words\n",
    "def getBag(bag_idx, words):\n",
    "    bag = [0 for _ in range(len(bag_idx))]\n",
    "    for w in words:  #assume all words in bag for speed\n",
    "        bag[bag_idx[w]] = 1\n",
    "    return bag\n",
    "\n",
    "\n",
    "# encode each game as a bag of words set\n",
    "def bagGames(bag_idx):\n",
    "    # encode each game as a bag of words\n",
    "    BAG_GAMES = {}\n",
    "    for g in tqdm(list(GAME_DATA.keys()), desc=\"Encoding games as bag of words\"):\n",
    "        game = GAME_DATA[g]\n",
    "        bag = getBag(bag_idx, game[\"tags\"]+game[\"entities\"])\n",
    "        BAG_GAMES[g] = bag\n",
    "\n",
    "    return BAG_GAMES\n"
   ]
  },
  {
   "cell_type": "code",
   "execution_count": 4,
   "metadata": {},
   "outputs": [
    {
     "name": "stderr",
     "output_type": "stream",
     "text": [
      "Encoding games as bag of words: 100%|██████████| 59771/59771 [02:24<00:00, 413.73it/s]\n"
     ]
    }
   ],
   "source": [
    "BAG_IDX = makeBag()\n",
    "BAG_GAMES = bagGames(BAG_IDX)"
   ]
  },
  {
   "cell_type": "code",
   "execution_count": 22,
   "metadata": {},
   "outputs": [
    {
     "name": "stderr",
     "output_type": "stream",
     "text": [
      "Hashing games: 100%|██████████| 59771/59771 [03:46<00:00, 264.06it/s]\n"
     ]
    }
   ],
   "source": [
    "### LSH ###\n",
    "\n",
    "# setup the vanilla lsh and hash\n",
    "vec_dim = len(BAG_GAMES[\"STARDEW VALLEY\"])\n",
    "van_lsh = VanillaLSH(2, 2, 1, vec_dim)\n",
    "\n",
    "# hash and save the index\n",
    "game_idx = []\n",
    "for k,v in tqdm(BAG_GAMES.items(), desc=\"Hashing games\"):\n",
    "    van_lsh.hash(v)\n",
    "    game_idx.append(k)"
   ]
  },
  {
   "cell_type": "code",
   "execution_count": 23,
   "metadata": {},
   "outputs": [
    {
     "name": "stdout",
     "output_type": "stream",
     "text": [
      "> a pixel skateboarding game in a cyberpunk future\n",
      "[439, 836, 1070, 1137, 1289, 1484, 2322, 3473, 3931, 4099, 4188, 4561, 5268, 5376, 5756, 5989, 6090, 6140, 6188, 6383, 6458, 6952, 7029, 7214, 7408, 7513, 8352, 8788, 8910, 9010, 9076, 9346, 9390, 9576, 9657, 10434, 10448, 10530, 10536, 10768, 10787, 10993, 11031, 11419, 11437, 11474, 11512, 11862, 12036, 12059, 12076, 12244, 12275, 12352, 12354, 12423, 12787, 13017, 13201, 13610, 13628, 13671, 13698, 13707, 13780, 13988, 14037, 14259, 14370, 14627, 14716, 15140, 15318, 15347, 15434, 15568, 15751, 16418, 16420, 16474, 16564, 16791, 16870, 16976, 17156, 17291, 17377, 17537, 17624, 17714, 17960, 18007, 18018, 18136, 18402, 18462, 18537, 18754, 18915, 19214, 19364, 19722, 20225, 20244, 20249, 20326, 20519, 20689, 21194, 21295, 21332, 21426, 21485, 21629, 21924, 21940, 22181, 22285, 22326, 22350, 22815, 23050, 23122, 23155, 23480, 23528, 23747, 23780, 24071, 24136, 24265, 25420, 25983, 26224, 26442, 26742, 26759, 27104, 27629, 27811, 28000, 28388, 28945, 29015, 29358, 29995, 30271, 30356, 30518, 30618, 31233, 31441, 31507, 31731, 31896, 31906, 32096, 32710, 33322, 33341, 33521, 33658, 33980, 34217, 34275, 34281, 34434, 34561, 34651, 34849, 34930, 35183, 35188, 35242, 35366, 35376, 35537, 35548, 36272, 36754, 36937, 37101, 37173, 37194, 37302, 37753, 37757, 37758, 37844, 37850, 37999, 38028, 38386, 38886, 39003, 39085, 39343, 39423, 39558, 39984, 40043, 40251, 40379, 40382, 40627, 40985, 41233, 41395, 41905, 42124, 42229, 42344, 42437, 42765, 42914, 43193, 43218, 43841, 43856, 43963, 44126, 44196, 44497, 44675, 44915, 44919, 45167, 45288, 45428, 45500, 45645, 45835, 46031, 46054, 46587, 46597, 47054, 47567, 47908, 47963, 48069, 48278, 48326, 48435, 48586, 48587, 48647, 48692, 49200, 50204, 50232, 50684, 50831, 51122, 51435, 51473, 51653, 51740, 51882, 51893, 52862, 52913, 53235, 53238, 53405, 53540, 53657, 54053, 54077, 54155, 54255, 54300, 54417, 55368, 55380, 55402, 55413, 55679, 55718, 55764, 55830, 56005, 56729, 56765, 56923, 57320, 57345, 57588, 57860, 57939, 58077, 58081, 58399, 58495, 58543, 58620, 58624, 58722, 59328, 59575, 59603, 405, 845, 2014, 2565, 2847, 3172, 3340, 3375, 3739, 4009, 4336, 4521, 5156, 5159, 5916, 5987, 6005, 6430, 7290, 7306, 7328, 7906, 8159, 8208, 8227, 8401, 8903, 9012, 9319, 9396, 9726, 9742, 10062, 10073, 10079, 10210, 10284, 10291, 10636, 10660, 10696, 11065, 11132, 11407, 11435, 11713, 11722, 11787, 11980, 12174, 12404, 12630, 12975, 13566, 13705, 13725, 13762, 13985, 14242, 14247, 14349, 14459, 14600, 14721, 14904, 15263, 15413, 15427, 15723, 15814, 15815, 15876, 16008, 16401, 16743, 16851, 17084, 17095, 17143, 17438, 17597, 17719, 17987, 18005, 18098, 18113, 18249, 18332, 18407, 18667, 18920, 18985, 19086, 19215, 19352, 19384, 19951, 20135, 20494, 21090, 21091, 21124, 21126, 21180, 21250, 21256, 21259, 21467, 21832, 21969, 22011, 22088, 22163, 22644, 22699, 22755, 22766, 22772, 23556, 23564, 23691, 23894, 23909, 24054, 24061, 24541, 24563, 24681, 25098, 25488, 25526, 25645, 25886, 25971, 26093, 26593, 26988, 27406, 27445, 27471, 27706, 27872, 28371, 28535, 29193, 29317, 29336, 29456, 29459, 29747, 29819, 30157, 30295, 30602, 30855, 30874, 30899, 30965, 31108, 31125, 31777, 31871, 31936, 32414, 32669, 33079, 33292, 33333, 33526, 33592, 33637, 33998, 34001, 34120, 34197, 34289, 34367, 34643, 34962, 35043, 35107, 35200, 35226, 35320, 35392, 35909, 35961, 36005, 36047, 36234, 36283, 36491, 36537, 36546, 36561, 36605, 36875, 36984, 37110, 37219, 37727, 37813, 37825, 37849, 38020, 38277, 38290, 38677, 39184, 39185, 39331, 39529, 39584, 39648, 39653, 39740, 39869, 39994, 40096, 40393, 40573, 40576, 40700, 41198, 41202, 41210, 41393, 41619, 41776, 42571, 42825, 42840, 42957, 43201, 43408, 43730, 43759, 43836, 43938, 43957, 44785, 44913, 45133, 45197, 45247, 45418, 45971, 46005, 46121, 46221, 46661, 46773, 47553, 47801, 47944, 47967, 48000, 48226, 48231, 48520, 48699, 48771, 49186, 49413, 49489, 49540, 49724, 49748, 50907, 50948, 51252, 51692, 52147, 52240, 52346, 52919, 52986, 53078, 53408, 53481, 53813, 53907, 53934, 54152, 54177, 54283, 54466, 54780, 54963, 55094, 55528, 55541, 55597, 55638, 55799, 56096, 56873, 56875, 57084, 57353, 57426, 57593, 57684, 57823, 57861, 57949, 58149, 58539, 58605, 58841, 58865, 58936, 58948, 59135, 59321, 59354, 59366, 59368, 59532]\n",
      "GAMES: 620\n",
      "RECOMMENDATIONS: ['COSMIC STAR HEROINE', 'ARCHON CLASSIC', 'GENDER BENDER DNA TWISTER EXTREME', \"SPUD'S QUEST\", \"TRAPS N' GEMSTONES\", 'HEKTOR', 'THIEF: DEADLY SHADOWS', 'TCHECO IN THE CASTLE OF LUCIO', 'PULSECHARGE', 'MURDER', 'JAGGED ALLIANCE: CROSSFIRE', 'NEXT DAY: SURVIVAL', 'PRISONER', 'HITMAN 2', 'EVERREACH: PROJECT EDEN', 'RING OF ELYSIUM', 'OVERRIDE 2: SUPER MECH LEAGUE', 'AGORAPHOBIA', 'SUPERLIMINAL', \"THAT'S MAHJONG!\", 'HYLICS 2', 'THE 25TH WARD: THE SILVER CASE', 'ASH OF GODS: REDEMPTION', 'BLOODWYCH', 'COLOUR FLUX', 'DUNGEON HUNTER 5', 'YAKUZA 6: THE SONG OF LIFE', 'BLOWOUT', 'COOK-OUT', 'EVIL GENOME', 'RAPID FIRE', 'CAVE EXPLORER', 'ZOMBIE ISLAND', 'GATEWAY TO THE SAVAGE FRONTIER', \"GILLIGAN'S GOLD\", \"ACTIVISION'S ATARI 2600 ACTION PACK\", \"ADIBOO & PAZIRAL'S SECRET\", 'AGTMNS: A GAME THAT MAKES NO SENSE', \"AIGINA'S PROPHECY\", 'AMPHIBIAN!', 'ANDROMEDA (ZONG)', 'ARMOR CRITICAL', 'ARMY MEN: WORLD WAR: LAND, SEA, AIR', 'BARNYARD', 'BAT ATTACK', 'BATMAN: THE VIDEO GAME', 'BATTLE PRINCESS MADELYN ROYAL EDITION', 'BLOOD & BACON', 'BOOYM', 'BOULDER DASH III CLASSIC', 'BOULE & BILL: A LA RESCOUSSE!', 'BUCKAROO', 'BUJINGAI: THE FORSAKEN CITY', \"CABELA'S HUNTING EXPEDITIONS\", \"CABELA'S SURVIVAL: SHADOWS OF KATMAI\", 'CAPTAIN AMERICA IN: THE DOOM TUBE OF DR. MEGALOMANN', 'CHUCKIE EGG', 'CONTROL: ULTIMATE EDITION', 'CRIMZON CLOVER: WORLD IGNITION', 'DEFCON 5', 'DELBO', 'DERBY DAY', 'DESTINY: THE TAKEN KING: LEGENDARY EDITION', 'DESTRUCTION DERBY', 'DIE ORIGINAL MOORHUHN JAGD', \"DON'T PRESS THE LETTER Q\", \"DOUG: DOUG'S BIG GAME\", 'DYLAN DOG 10: I VAMPIRI', 'THE EGGSTERMINATOR', 'FACEOFF!', 'FATAL INERTIA EX', \"GAME & WATCH: MARIO'S CEMENT FACTORY\", 'GHOSTMUNCHERGALAXIAN', 'GLADIATOR VS', 'GOINDOL', 'GRELL & FELLA', 'HARDWARE: ONLINE ARENA', 'JAWZ', 'JAZZ JACKRABBIT 2', \"JIM HENSON'S MUPPET ADVENTURE\", 'JUNKOID', 'KIRBY MASS ATTACK', 'KONAMI GB COLLECTION: VOL.4', 'LABYRINTHSUPERMIND', 'THE LEGEND OF ZELDA: ORACLE OF SEASONS', 'LITTLE BLUE', 'LORDS OF MIDNIGHT', 'MAGIC CASTLE', 'MAPLESTORY 2', 'MASTER NINJA: SHADOW WARRIOR OF DEATH', 'MERV THE MERCILESS', 'METEOR (NY ELEKTRONIK APS)', 'METROID DREAD', 'MINI NINJAS ADVENTURES', 'MSIBAMBA SHEL BAMBA', 'MUTANT MONTY', 'NARUTO SHIPPUDEN: ULTIMATE NINJA IMPACT', 'NINJA-KUN: ASHURA NO SHOU', 'ONE FOR THE ROADMUTATIONS', 'PATAPON 2', 'PIN PONG', 'PRO JUMPER! GUILTY GEAR TANGENT!?', 'RETURN OF R2', 'REVIVAL XANADU', 'REX BLADE: THE APOCALYPSE', 'ROBBY', 'RUN FOR THE MONEY', 'SCAN COMMAND: JURASSIC PARK', 'SLIME OF GUSTO DRAGON QUEST: BALLISTIC TAILS BRIGADE', 'SOB!', 'SON SHU SI', 'SPACE ACE (1994)', 'SPACE RANGER: RETURN TO EARTH', \"SPIKE'S WATER BALLOONS\", 'STATE OF DECAY: YEAR ONE SURVIVAL EDITION', 'STEEL LORDS', 'SUPER CHINESE WORLD 2: UCHUUICHI BUTOU TAIKAI', 'SUPER SAM', 'SUPER WING COMMANDER', 'SUPERSTARFIGHTER', 'TITAN A.E. DEMO CD', 'TRANS-ATLANTIC BALLOON CHALLENGE: THE GAME', 'TRINE 2', 'TRON (S+S SOFT)', 'VIDEO EIGHT', 'THE VISION OF ESCAFLOWNE', 'WING COMMANDER II: DELUXE EDITION', 'WITCH IT!', \"ZELDA II: AMIDA'S CURSE\", 'ZONA 0', 'RAYMAN 10TH ANNIVERSARY COLLECTION', 'HOPE TO HOPP', 'ONE STEP BEYOND', 'ROBOT KNIGHTS', 'SPLITZ', 'UFOURIA: THE SAGA', 'VAC-SUIT JACK', 'ATV OFFROAD FURY 2', 'FORD SIMULATOR III', 'HEART LIKE A WHEEL', 'LED STORM RALLY 2011', 'POLARIS SNOCROSS', 'TRACKMANIA 2: CANYON', 'VIRTUAL KARTS', \"TOM CLANCY'S THE DIVISION 2\", 'BACK-TRON', 'BRILLIANT PEBBLES', 'CANNON BALL (NOVOMATIC)', 'COMEDY', 'CRIMSON DRAGON', 'THE GALACTIC PLAGUE', 'GUNFIGHT 3 IN 1', 'HEAVY METAL SOLID', 'KILLER SAUCERS', 'MAGINCROSS', 'MAMORUKUN CURSE!', 'MONSTER ZERO', 'SAUCERY', 'SUPER STARDUST ULTRA VR', 'SWAT: TARGET LIBERTY', 'TORNADO ECR', 'ULTRA TANK', 'ZOMBIE BRAIN EATERS', 'REEL FISHING: OCEAN CHALLENGE', 'BARBIE ADVENTURE: RIDING CLUB', 'EA SPORTS ACTIVE: PERSONAL TRAINER', 'SHIN NIPPON PRO WRESTLING: TOUKON ROAD: BRAVE SPIRITS', '1 ON 1 GOVERNMENT', 'ACA NEOGEO NEO TURF MASTERS', 'BAKURYU', 'BIG BASS WORLD CHAMPIONSHIP', 'COME ON BABY', 'COMPUTER FOOTBALL STRATEGY', \"DALEY THOMPSON'S DECATHLON\", 'ELITE SOCCER', 'EQUESTRIAN', 'FINAL FURLONG', \"FISHERMAN'S BAIT: MARLIN CHALLENGE\", 'MARIO LEMIEUX HOCKEY', 'ZUM', 'THE PRO YAKYUU', 'RUGBY 2005', 'SHOOT THE RAPIDS', 'SIMPLE 1500 SERIES VOL. 87: THE KYOUTEI', 'SPEEDBALL 2: EVOLUTION', 'VALORA VALLEY GOLF', 'VERSUS NET SOCCER', \"V-GOAL SOCCER '96\", 'WII FIT U', 'WII SPORTS RESORT', 'WWF SMACKDOWN! JUST BRING IT', 'STARFLIGHT', 'ULTIMATE PARTY CHALLENGE', 'BABAR TO THE RESCUE', 'THE BERENSTAIN BEARS AND THE SPOOKY OLD TREE', 'BOMB THREAT', 'CIRCLE WORLD', 'CONCERT', 'CYBER ILLUSION', 'DUNGEON REALM', 'EL HOMBRE QUE SUSURRABA A LAS BALAS', 'FINAL MYSTERY: MURDER CLUB', 'GAKUEN TOSHI VARA NOIR ROSES', 'GALAXY ANGEL II: ZETTAI RYOUIKI NO TOBIRA', 'HATCHAKE AYAYO-SAN 1-2-3', 'JOURNEY OF CHEF', 'LANE MASTODON VS. THE BLUBBERMEN', \"LOST DUTCHMAN'S GOLD\", 'NAOMI: BISHOUJO-TACHI NO YAKATA', 'PANTOS STORY', 'PIRATE COVE', 'POLICE QUEST 3: THE KINDRED', \"PUTT-PUTT: PEP'S BIRTHDAY SURPRISE\", 'SCOOBY DOO THE BROS. ADVENTURE', 'SHINJUKU MONOGATARI', 'STEINSGATE: VARIANT SPACE OCTET', 'STRONG BAD EPISODE 1: HOMESTAR RUINER', 'THE WIZARD AND THE PRINCESS', 'WONDER WORLD AMUSEMENT PARK', 'THE ZORK ANTHOLOGY', 'CRIMSON TEARS', 'RUNE FACTORY: A FANTASY HARVEST MOON', 'BRAIN LORD', 'DEATH BRINGER', 'THE ELDER SCROLLS III: MORROWIND: GAME OF THE YEAR EDITION', 'THE ELDER SCROLLS ONLINE: MORROWIND', 'THE GATE OF FIRMAMENT', 'HOURAI GAKUEN NO BOUKEN!: TENKOUSEI SCRAMBLE', 'LAGNACURE', 'LIGHT FANTASY GAIDEN: NYA NYAN GA NYAN', 'MEDAROT: KABUTO VERSION', 'PAPER MARIO PRO MODE', 'POK MON MYSTERY DUNGEON: EXPLORERS OF DARKNESS', 'POK MON SNAKEWOOD', 'TRANSYLVANIAN CASTLE', 'TROUBLESHOOTER', 'DREAM HOUSE', 'AVENGERS', 'ARKEON', 'SUPER CARTRIDGE VER 5: 7 IN 1', 'MAGIC CRAYONS', 'ACTRIS!', 'AMADO', 'ATOMIC II', 'BLOONS', 'BLOONS TD', 'BOUNCE & BREAK', 'BREAK IN', 'ELEVATOR MUSIC', 'ORBITS', 'PANIC!', 'SHAPO', \"START 'N' TRIS\", 'TROPIX! YOUR ISLAND GETAWAY', 'BATTLE ATAK', 'CARCASSONNE', \"FOUR'LL FALL\", 'HOYLE MAHJONG TILES', 'MAHJONG KYO RETSUDEN', 'MAHJONGG MYSTERIES: ANCIENT EGYPT', 'COVER ME IN LEAVES', 'LUCIUS II: THE PROPHECY', 'THE ARMAGEDDON MAN', 'ARMIES OF EXIGO', 'CARD SHARKS (ACCOLADE)', 'CRITICAL HIT', 'DRAGON SEEDS', \"KID'S CARDS\", 'KNIGHT FORTIX 2', 'MACROSS: TRUE LOVE SONG', 'MORITA SHOGI 64', 'NOBUNAGA NO YABOU: RETURNS', 'PLANTS VS. ZOMBIES 2', 'DAEMON BRIDE', 'DC VERSUS MARVEL', 'DONG DONG NEVER DIE', 'DRAGON BALL Z: BUDOKAI HD COLLECTION', 'LUCIFER RING', \"MIKIKO'S HAICUCHI\", 'NARUTO: GEKITOU NINJA TAISEN! 3', 'RAVE MASTER', 'SUPER BIKKURIMAN', \"LE JOURNAL INTERACTIF 94 ET LE JEU DES STARS DE L'INFO\", 'LITTLE MONSTER AT SCHOOL', 'MUZZY: LEARN FRENCH THE FUN WAY', 'TOUT POUR R USSIR CE1', 'TRIVIA WHIZ CONSTRUCTION SET', \"FANTASY TAVERN SEXTET VOL. 2: ADVENTURER'S DAYS\", 'SAKURA HALLOWEEN', 'TO HEART PORTABLE', 'CHRISTMAS CLASSICS', 'COOL COOL JAM', 'MOJIB RIBBON', 'ROCK BAND 2', 'SINGSTAR QUEEN', 'ULTIMATE BAND', 'U-SING : GIRLS NIGHT', 'BIBI & TINA: DAS GRO E REITERFEST', 'DIVE BOMBER (EPYX, INC.)', 'ARE YOU SMARTER THAN A 5TH GRADER? (2015)', 'CODE DE LA ROUTE', 'FORTRESS FOREVER', 'THE LAND OF EYAS', 'RISE OF NATIONS: EXTENDED EDITION', 'OPERATION FLASHPOINT: DRAGON RISING', \"THERE'S POOP IN MY SOUP\", 'INFINITY SAGA', 'THE ROOM THREE', 'DARQ: COMPLETE EDITION', 'BETWEEN ME AND THE NIGHT', 'STORIES OF BETHEM: FULL MOON', 'CIVIL WAR: BULL RUN 1861', 'TARIM: GUARDIANS', 'SPARTAN', 'ROAH', 'PINBALL FX2 VR', 'ASHES OF THE SINGULARITY: ESCALATION', 'SAGA SCARLET GRACE: AMBITIONS', 'MULTIMIRROR', \"SUPER LUCKY'S TALE\", 'PAW PATROL: ON A ROLL!', 'FLASH POINT: FIRE RESCUE', 'DOKI DOKI LITERATURE CLUB PLUS!', 'BATTLE OF BRITAIN', 'R.B.I. BASEBALL 20', 'WINTER SPORTS GAMES', 'BARRAGE', 'THE PROPHECY', 'KAPITAL: SPARKS OF REVOLUTION', 'HELIX', '100 HIDDEN FROGS', 'WATCH OUT', 'PRETTY GIRLS BREAKOUT!', 'AWAKENING', '3 DAYS: ZOO MYSTERY', 'MONOCHROME ORDER', 'GEM LEGENDS', '3 CHOUME NO TAMA: TAMA AND FRIENDS: 3 CHOUME OBAKE PANIC!!', '36 FRAGMENTS OF MIDNIGHT', 'ALIEN BRIGADE', 'ALIEN OLYMPICS', \"ALLISON OF ASTRA: ALLISON DOESN'T GO HAWAIIAN\", 'ASPECT STAR N', 'AST RIX: OPERATION GETAFIX', 'BARBIE: EXPLORER', 'BASKET CASE', 'BIPBOP II', 'BIRDIE', 'BLAST CORPS', 'BOMBERMAN 64', 'BRICKOUT!', 'CANNON BALL', 'CETIMIEX', 'COMMUNITY POM: OMOIDE O DAKISHIMETE', \"DEATH STRANDING: DIRECTOR'S CUT\", 'DESTROY THE PORN', \"DEVIL MAY CRY 3: DANTE'S AWAKENING: SPECIAL EDITION\", 'DIAMOND PETE', \"DON'T BUY THIS\", 'DUNGEON SIEGE: THRONE OF AGONY', 'DUNGEONS & DRAGONS', 'E STATICA', 'ENCHANTED', 'EYES', 'FATHOMS DEEP', 'FLYING IN ON THE BIG BIRD', \"GEOMETRY MAY: I SWEAR IT'S A NICE FREE GAME\", \"THE GODFATHER: THE DON'S EDITION\", 'GODZILLA: THE SERIES', 'HANDY HARVY', 'HEIMDALL', 'HEISEI TENSAI BAKABON', 'HERZOG', 'HOVER BLADE', 'JAMMIN', \"KING NEPTUNE'S ADVENTURE\", 'KNOT IN 3D', 'LE AVVENTURE DI LUPIN III: IL TESORO DEL RE STREGON', 'LEEDMEES', 'THE LEGEND OF ZELDA: FOUR SWORDS ANNIVERSARY EDITION', 'LUNAR LANDER (ION INTERNATIONAL)', 'MALICIOUS', 'MASTER WON LIU 3D', 'METAL JACKET', 'METARA', 'MIKE GUNNER', 'MIMANA IYAR CHRONICLE', 'MONSTER HUNTER G', 'MOTHER LODE', 'MUGEN SENSHI VALIS: THE LEGEND OF A FANTASM SOLDIER', 'NIGHT AT THE MUSEUM: BATTLE OF THE SMITHSONIAN THE VIDEO GAME', 'ONE MUST FALL: BATTLEGROUNDS', 'THE ORB OF ZARRAMIER', 'PAC-IN-TIME', 'PATAPON 3', 'PIGGY', 'PINBALL FX2', 'RADICAL SPECTRUM: VOLUME 1', 'REFRAIN: PRISM MEMORIES', 'ROWLY', 'SIMULMAN 11: JAILHOUSE ROCK', 'SIMULMAN 3: NEL REGNO DI DOORS', 'SKATEBOARDER', 'SKEASY', 'SLALOM', 'SNAKEOUT', 'SNAPPER', 'SNARF', 'SPACE LASER', 'STAR WARS PINBALL', 'STILLHUNT', 'STRANGER THINGS', 'SUBMARINE COMMANDER', 'SUPER BUSTER BROS.', 'THANATOS', 'THUNDER BOY', 'TIME RUNNERS 09: THE TIME DEMON', 'TIME RUNNERS 19: THE NIGHTMARE PRINCE', 'TIME RUNNERS 24: BEYOND ALL DIMENSIONS', 'WACKY STORIES', 'WALL BALL', 'WHAT IF \"ADVENTURE TIME\" WAS A 3D ANIME GAME', 'WRONG WAY DRIVER', 'WWII: TANK BATTLES', 'ZACK', 'ZARK!', 'ANOTHER SUPER MARIO BROS. WII', 'ASHE', 'BLINKY GOES UP', 'DORAEMON 4: NOBITA TO TSUKI NO OUKOKU', 'JACK THE GIANTKILLER', 'JUMP BESI JUMP', 'LEOVIGILDO', 'MR. ROBOT: JUNIOR EDITION', 'OIL PANIC', \"POWERFEST '94: SUPER MARIO BROS.: THE LOST LEVELS\", 'SUPER RYU WORLD', '280 ZZZAPDODGEM', 'DESCENT INTO CHAOS', 'DOWNHILL BIKERS', \"DRIVIN' FORCE\", 'GALLOP RACER 2', 'IMPACT RACING', 'PIMP MY RIDE', 'ROAD & TRACK PRESENTS: THE NEED FOR SPEED', 'TOTALLY ACCURATE BATTLE ZOMBIELATOR', 'DEAD SPACE 3: AWAKENED', 'RESIDENT EVIL 7: BIOHAZARD: GOLD EDITION', '1942: JOINT STRIKE', '1944: THE LOOP MASTER', 'ALPHA-1', 'AQUANAUT (POWER HOUSE)', 'BITMANIA', 'BULLET GIRLS 2', 'CPT. CUSTARD', 'DISHONORED: THE KNIFE OF DUNWALL', 'DOG FIGHT (ELLIS HORWOOD)', 'DOWNLOAD 2', 'THE EARTH DIES SCREAMING', 'FIERY NIGHT', 'FIRE GALAXY', 'LASER GATES', 'M.A.D.', 'MAZE INVADERS', 'POWER STRIKE', 'R-TYPE DIMENSIONS', 'SPACE WASTE', 'SUPER COBRA ARCADE', 'SUPERBIKE', 'TORQUE', 'TROPHY HUNTING: BEAR & MOOSE', 'TYPHOON', 'ZPC', 'ZUGY', 'FOOTBALL MANAGER HANDHELD 2010', 'PREMIER MANAGER 2', 'PUNCHER', 'HBO BOXING', 'ABC WIDE WORLD OF SPORTS BOXING', 'THE BLACK BASS (JAPAN)', 'CAMPEONATO BRASILEIRO 2005', 'CHAMPIONSHIP WATER-SKIING', 'COOL BOARDERS POCKET', 'CROSSCHECK', 'DOWNHILL: SKI JUMP', \"ESPN LET'S GO SKIING\", 'INTERNATIONAL SENSIBLE SOCCER', \"J.LEAGUE SUPER SOCCER '95: JIKKYOU STADIUM\", \"JIMMY CONNORS' TENNIS\", 'KASHIWAGI SHIGETAKA NO TOP WATER BASSING', 'MAGGI SNACKBALL', 'MARIO TENNIS: POWER TOUR', 'NBA LIVE 16', 'NCAA FOOTBALL 12', 'NCAA GAMEBREAKER 2000', 'NCAA: ROAD TO THE FINAL FOUR', 'NFL FOOTBALL', 'POWER LEAGUE II', 'R.B.I. BASEBALL 3', 'RUN AND GUN 2', 'SKATEBOARD SAM', 'ULTIMATE BASKETBALL', 'WAKEBOARDING HD', 'WATER-SKI CHALLENGE', 'WII SPORTS CLUB', 'ZIG ZAG BALL', 'CHAOS LA MAISON', 'DISNEY MOVE', 'ALIEN DRUG LORDS: THE CHYROPIAN CONNECTION', 'CAN CAN BUNNY EXTRA', 'CAN CAN BUNNY EXTRA DX', 'CHRONICLES OF THE SWORD', 'CSI: HARD EVIDENCE', 'DAEMON QUEST, THE FIRST SAGA: THE LEGEND OF THE DOOR', 'DAS ERBE', 'DAS TELEKOMMANDO KEHRT ZUR CK', 'DENNOU SUIKODEN', 'DORA THE EXPLORER: BACKPACK ADVENTURE', 'DUPLICITY: BEYOND THE LIES', 'ENDLESS OCEAN: BLUE WORLD', 'GAMES FOR TODDLERS', 'HADES CHALLENGE', 'HAKUOKI: WARRIORS OF THE SHINSENGUMI', 'HITCHHIKER', 'LA ABAD A DEL CRIMEN (REMAKE)', 'LA B TE DU G VAUDAN', \"LA QU TE DE L'OISEAU DU TEMPS\", 'THE LOST CRYSTAL', 'MESSAGE FROM ANDROMEDA', \"MTV'S BEAVIS AND BUTT-HEAD DO U.\", \"RETURN TO PIRATE'S ISLE\", 'SECRETS OF THE PYRAMID OF LIGHT', 'SENTIENT', 'SILVERLOAD', 'THE STONECUTTER', 'THRALLBOUND: THE ESCAPE FROM THE VIKINGS', 'WALLACE & GROMIT IN MUZZLED', 'WAVER: THE SEEKER 2', 'WITH YOU: MITSUMETE ITAI', \"ZACK & WIKI: QUEST FOR BARBAROS' TREASURE\", 'ZOKU HATSUKOI MONOGATARI: SHUUGAKU RYOKOU', 'DRAGON BALL Z: GOKUU GEKITOUDEN', 'ELDER GATE', 'THE FOUR CRYSTALS OF TRAZERE', 'GOTHIC II', 'HARVEST MOON 2 GBC', 'KONUNG: LEGEND OF THE NORTH', 'POK MON ECLIPSE', 'POK MON GALACTA', 'RAGNAROK TACTICS', 'SACRED ODYSSEY: RISE OF AYDEN', 'VAIN DREAM', 'WORDS WORTH', 'ACA NEOGEO SENGOKU 2', 'SAMURAI WARRIOR: THE BATTLES OF.... USAGI YOJIMBO', 'MIGHTY MIND', 'TRIVIAL PURSUIT', \"BLUE'S ART TIME ACTIVITIES\", '3-D MAZE (PHOENIX PUBLISHING ASSOCIATES)', '3D-IRRGARTEN', 'BERUSKY', 'BRICK RACE', 'CANDY CRUSH SODA SAGA', 'ECKN', 'GOBBLERS', 'HATCH CATCH', 'HINTS HUNTER', \"KIRBY'S AVALANCHE\", 'KOPIDO', 'SUPER SOUKOBAN', 'TALL: TWINS TOWER', 'WILD SNAKE', 'GO: THE EUROPEAN COMPUTER GO CHAMPION', \"SPONGEBOB'S ATLANTIS SQUAREPANTIS SQUAREOFF\", 'TRIVIAL PURSUIT: THE COMPUTER GAME', 'BINGO 64', \"ONE NIGHT AT FLUMPTY'S\", 'KOIKATSU SUNSHINE', 'FAX', 'CARNAGE HEART EZ: EASY ZAPPING', 'COMET CRASH', 'GANGBUSTERS', 'HARPOON: THE NEXT MISSION', 'HEROES OF MIGHT AND MAGIC V', \"MACARTHUR'S WAR\", 'MARINE BUSTER', 'NEBULA COMMANDER', 'PROVIANT', 'STRAWBERRY DAISENRYAKU: NOVU', 'UP PERISCOPE', 'WORMS: WORLD PARTY: REMASTERED', 'GLADIATOR (KEYPUNCH SOFTWARE)', 'GROOVE ON FIGHT: GOUKETSUJI ICHIZOKU 3', 'KAGEKI', \"THE KING OF FIGHTERS '98\", 'PHANTOM FIGHTER', 'ULTRA VORTEK', 'MICROZINE 02', 'MICROZINE 32', \"RICHARD SCARRY'S BEST ELECTRONIC WORD BOOK EVER!\", 'TWEENIES: GAME TIME', \"YOGI BEAR'S MATH ADVENTURES\", 'FIGHT IPPATSU! JUDEN-CHAN!! CC', 'IKUIKU PAKKUN', 'A PETAL AMONG THORNS', 'SAKURA SAKURA: HARU URARA', 'TSUKIHIME: A PIECE OF BLUE GLASS MOON', 'DANCING STAGE FEVER', 'SINGSTAR MADE IN GERMANY', 'TAIKO NO TATSUJIN: THE DRUM MASTER!', \"HELL'S KITCHEN: THE GAME\", 'THE IDOLM@STER: STELLA STAGE', 'MINDER', 'MOTTO! NYAN TO WONDERFUL 2', 'THE SIMS 4: GET TO WORK', 'DCS WORLD: STEAM EDITION', 'FALCON OPERATION: COUNTERSTRIKE', 'FLIGHT ASSIGNMENT: AIRLINE TRANSPORT PILOT', 'FLIGHT PATH 737', 'U.S. NAVY FIGHTERS GOLD']\n",
      "\n",
      "> a cute, relaxing, atmospheric farming rpg with animal characters\n",
      "[2092, 3993, 4517, 4730, 6318, 6996, 7276, 8114, 9839, 10648, 11665, 11736, 12217, 12422, 12703, 14044, 14089, 14603, 15039, 17122, 17859, 18715, 18747, 18973, 19058, 19311, 19937, 21073, 23088, 24499, 24678, 25058, 25078, 25390, 25447, 25645, 26338, 26498, 27739, 28277, 28716, 34078, 34371, 34582, 35978, 36481, 36683, 37135, 37381, 37920, 38018, 38021, 38494, 39489, 40772, 40780, 41281, 41961, 42019, 42184, 42849, 44652, 44828, 47008, 47789, 48020, 49130, 49131, 50119, 52616, 53043, 53351, 53572, 56268, 56404, 57171, 57373, 57422, 57823, 57885, 58779, 58967, 58999, 59119, 59127, 222, 342, 558, 635, 1546, 1830, 1929, 2074, 2079, 2413, 2426, 2460, 2815, 2892, 2948, 3015, 3085, 3174, 3227, 3249, 3504, 4100, 4142, 4294, 4563, 5436, 5676, 5779, 6602, 7088, 7298, 7852, 8074, 8151, 8543, 8854, 8909, 10259, 10336, 10338, 10357, 10530, 10667, 10785, 10800, 10848, 11181, 11339, 11348, 11746, 11825, 11982, 12073, 12079, 12163, 12176, 12230, 12314, 12355, 12603, 12929, 12986, 13026, 13180, 13235, 13375, 13517, 13892, 13973, 14004, 14028, 14075, 14311, 14367, 14736, 14820, 14826, 14827, 14829, 14930, 15083, 15126, 15284, 15435, 15549, 15655, 16358, 16738, 17006, 17009, 17010, 17157, 17316, 17612, 17698, 17763, 18003, 18290, 18978, 19024, 19111, 19115, 19159, 19309, 19321, 19354, 19365, 19451, 19633, 19663, 19747, 19972, 20029, 20244, 20298, 20338, 20458, 20700, 20798, 20878, 20886, 20933, 21095, 21522, 21741, 22030, 22052, 22150, 22174, 22329, 22332, 22374, 22386, 23079, 23244, 23325, 23355, 23467, 23549, 24098, 24464, 24523, 24627, 25209, 25325, 25412, 25527, 25604, 25858, 25917, 25949, 25952, 26139, 26419, 26583, 26613, 26908, 27007, 27105, 27187, 27375, 27744, 27917, 28140, 28267, 28322, 28432, 28604, 29119, 29169, 29189, 29214, 29258, 29726, 29757, 29765, 29783, 30042, 30059, 30221, 30335, 30390, 30443, 30501, 30543, 30833, 30870, 31015, 31258, 31458, 31489, 31517, 31531, 31620, 31868, 32020, 32129, 32308, 32351, 32617, 32637, 32810, 32888, 33174, 33287, 33606, 33821, 33835, 33868, 33916, 34209, 34827, 34991, 35213, 35451, 35805, 36030, 36034, 36037, 36521, 36676, 36685, 36716, 36864, 37066, 37127, 37345, 37625, 37682, 37744, 37781, 38183, 38364, 38564, 39001, 39011, 39021, 39326, 39363, 39894, 39914, 39979, 40505, 40538, 40788, 40815, 41071, 41223, 41273, 41280, 41407, 41788, 41812, 42106, 42160, 42335, 42568, 43261, 43291, 43584, 43825, 44080, 44378, 44469, 44739, 44953, 45005, 45086, 45359, 45456, 46026, 46047, 46245, 46359, 46643, 47076, 47091, 47108, 47126, 47189, 47323, 47514, 47576, 47926, 48395, 48435, 48522, 48559, 48611, 48815, 48902, 49296, 49395, 49558, 49791, 49946, 50205, 50324, 50359, 50442, 50642, 50648, 50885, 50968, 51017, 51789, 51870, 51911, 52058, 52124, 52144, 52301, 52332, 52415, 53012, 53213, 53535, 53566, 53983, 54179, 54225, 54308, 54464, 54497, 54533, 54576, 54819, 55118, 55155, 55619, 55712, 56082, 56159, 56280, 56371, 56492, 56706, 56847, 57722, 57729, 57782, 57832, 57833, 57875, 57992, 58480, 58494, 58570, 58584, 58619, 58883, 59023, 59120, 59509, 59537, 59665]\n",
      "GAMES: 441\n",
      "RECOMMENDATIONS: ['LEGO JURASSIC WORLD', 'DISNEY HIGH SCHOOL MUSICAL 3: SENIOR YEAR DANCE', 'BATTLES OF NORGHAN', \"JETS'N'GUNS 2\", 'DELEVELED', 'THE ALIEN CUBE', 'PASSPARTOUT: THE STARVING ARTIST', 'VRITRA COMPLETE EDITION', 'ELIXIR', 'ALIEN GREED 3', 'BIG TROUBLE IN LITTLE CHINA', 'BIT GENERATIONS: SOUNDVOYAGER', 'BUBBLE AND SQUEAK', 'CAPTAIN AMERICA AND THE AVENGERS', 'CHESTER CHEETAH: WILD WILD QUEST', 'DOWNLAND', 'DRAGON BEAT: LEGEND OF PINBALL', 'EYETOY: OPERATION SPY', \"FUN 'N GAMES DELUXE\", 'THE LEGEND OF SPYRO: DAWN OF THE DRAGON', 'MEGA MAN IV', 'NINJA GAIDEN EPISODE III: THE ANCIENT SHIP OF DOOM', 'NINJA SPIRIT', 'OPERATION NEPTUNE', 'OZZY & DRIX', 'PHANTOM 2040', 'RACE TRACK DRIVER', 'SIMPLE CHARACTER 2000 SERIES VOL. 17: SENTOU MECHA XABUNGLE: THE RACE IN ACTION', 'TRAVIS STRIKES AGAIN: NO MORE HEROES', 'ALDO AGAIN', 'BLEED COMPLETE BUNDLE', 'DLC QUEST: LIVE FREEMIUM OR DIE', 'DONKEY KONG COUNTRY (A TRIBUTE TO DKC)', 'HAROLD (THE HAIRY HERMIT)', 'HURRICAN', 'LEOVIGILDO', 'SMART BALL', 'SUPER DUPER METROID', 'GRAN TURISMO 6: ANNIVERSARY EDITION', \"NEED FOR SPEED: CARBON: COLLECTOR'S EDITION\", 'SPORTS SUPERBIKE', 'BUNDESLIGA MANAGER', 'IKE IKE! NEKKETSU HOCKEY BU: SUBETTE KORONDE DAIRANT', '2 ON 2 OPEN ICE CHALLENGE', \"JERRY GLANVILLE'S PIGSKIN FOOTBRAWL\", 'NBA JAM 2K20: TOURNAMENT EDITION', 'NHL OPEN ICE: 2 ON 2 CHALLENGE', 'SEGA BASS FISHING 2', 'STRIKER 96', 'WORLD CUP SOCCER STAR', 'ZEN-NIHON JOSHI PRO WRESTLING: QUEEN OF QUEENS', 'ZOO DISC GOLF', 'ACE ATTORNEY INVESTIGATIONS: MILES EDGEWORTH', 'CRIME SCENE', 'THE HUGO TRIOLOGY', 'HUNTER KILLER', 'LEAVES: THE RETURN', 'NIGHT TRAP: 25TH ANNIVERSARY EDITION', 'NUCLEAR SUB ADVENTURE', 'PETTIGREWS DIARY', \"SESAME STREET: ELMO'S DEEP SEA ADVENTURE\", \"D'ARK GAIDEN\", 'DRAGON S SEIKI', 'CROSSCOUNTRY CANADA', 'RENEGADES DELUXE', 'CROSSWORDS & WORD GAMES', 'DRAGON TILES', 'DRAGON TILES [AGA]', 'MYSTERY QUEST: CURSE OF THE ANCIENT SPIRITS', 'NISHIJIN PACHINKO MONOGATARI', 'WRESTLE ANGELS: DOUBLE IMPACT', \"BLADESTORM: THE HUNDRED YEARS' WAR\", 'DAISENRYAKU EXPERT', 'ASONDE KAZU SUUJI', 'CRAZY PAINT: DUCKBUMPS', 'SIMPLE 1500 JITSUYOU SERIES VOL. 08: 1 JIKAN DE WAKARU KABUSHIKI TOUSHI', 'VIDEOMATION', 'WORLD-WISE', 'A PETAL AMONG THORNS', 'SHARK DATING SIMULATOR XL', 'DIVA GIRLS: DIVAS ON ICE', 'MY PLANETARIUM', 'ODDBALLZ: YOUR WACKY COMPUTER PETZ', 'THE SIMS 2: MANSION & GARDEN STUFF', 'THE SIMS 3: INTO THE FUTURE', 'GROW HOME', 'ABYSS: THE WRAITHS OF EDEN', 'ARMILLO', 'BELOW KRYLL', \"FRANE: DRAGONS' ODYSSEY\", 'BLOB FROM SPACE', 'CAMPAIGN', \"SAINT SEIYA: SOLDIERS' SOUL\", 'FAR CRY 3', 'COMBAT WINGS: BATTLE OF BRITAIN', 'BLOODY GOOD TIME', 'WATCHDOGS', 'TURBO PUG', 'NORTHERN TALE', 'ANODE', 'PANG ADVENTURES', 'DEAD IN BERMUDA', 'CRAZYCARS3D', 'GALAXY CANNON RIDER', 'DEMIGODS', 'TWILIGHT STRUGGLE', 'BLOODNET', 'EXTREME FORKLIFTING 2', 'SENTRY KNIGHT TACTICS', 'ANGELDUST', 'BIO INC. REDEMPTION', 'MECHANISM', 'ALBA: A WILDLIFE ADVENTURE', 'SUN WUKONG VS ROBOT', 'WOLFENSTEIN: YOUNGBLOOD', 'FALL GUYS', 'AGES OF MAGES: THE LAST KEEPER', 'GONE IN NOVEMBER', 'SUPER TENNIS BLAST', 'KNIFEBOY', 'THE COLONY', 'THE JACKBOX PARTY PACK 8', '1993', '4 GAMES ON ONE GAME PAK: MOVIES', '4. TIMES REVLEX', '9 LIVES', 'AGTMNS: A GAME THAT MAKES NO SENSE', 'ALIEN SYNDROME', 'ANDROMEDA', 'ANGRY VIDEO GAME NERD VS DR. WILY', 'ANTITERROR STRIKE', 'ATOMIC BOMBERMAN', 'BALL CRAZY', 'BALLCRAZY', 'BLACK HOLE', 'BLITZ (COMMODORE ZONE)', \"BOMBERMAN '93\", 'BOULDERHEAD 04', 'BOUNCE!', 'BRIAN THE LION', 'BRICKS OF ATLANTIS', 'BUBBLE FACTORY', 'BUST-A-MOVE BASH!', \"CABELA'S TROPHY BUCKS\", 'CAVERN RUN 64', 'COLOR OVERLOAD', 'CONFIDENTIAL MISSION', 'COOL HERDERS', 'CREEPY CORRIDORS', \"CROSS'N CIRCLE\", 'DGENERATION', \"DEAD MAN'S HAND\", \"DISNEY'S PETER PAN: THE LEGEND OF NEVERLAND\", 'DONKEY KONG COUNTRY 2: BRIGAND BARRAGE', 'DOOMSDAY BLUES', 'DOTSUBO-CHAN', 'DRAGON BALL GT: TRANSFORMATION', 'E.V.O.: SEARCH FOR EDEN', 'EGGOMANIA', 'FIDO', 'FIRESTONE IDLE RPG', 'FIRST QUEEN IV: VARCIA SENKI', 'THE FIRST SKUNK BUNDLE', 'FISCHE FISCHEN', 'FORTY NINER', 'G MEN', 'GALF STREEM', 'GETBACKERS DAKKANYA: URASHINSHIKU SAIKYOU BATTLE', 'GOJIRA-KUN', 'THE GREAT BATTLE IV', 'GUNMAN CLIVE HD COLLECTION', \"JACKIE CHAN'S ACTION KUNG FU\", 'KING ARTHUR', 'LAND OF MIRE MARE', 'LANDER (COMPUTE)', 'LANDER 2', 'THE LEGEND OF ZELDA: PARALLEL WORLDS', 'LLAMATRON: 2112', 'MANHOLE', \"MARY SHELLEY'S FRANKENSTEINBRAM STOKER'S DRACULA\", 'MAZE GAME', 'METAMOR JUPITER', 'MOON CRISIS 1999', 'OPERATION USHKURAT', 'OSTFRIESLANDGAMES', 'PAC-MAN PARTY 3D', 'PAC-MAN WORLD 2', 'PANIC EXPRESS', 'PHANTIS', 'PHARAOH REBIRTH', 'PIGS IN SPACE', 'PINATA', 'PIXEL CITY SKATER', 'POWER RANGERS SUPER MEGAFORCE', 'POY POY', 'PROJECT HORIZON', 'RAIL RUNNER', 'RASTER RUNNER', 'REVIVAL XANADU', 'RIVER CITY RANSOM', 'ROBO RUMBLE', 'ROLLER COASTER', 'THE SCHEME', 'SEGA AGES FANTASY ZONE', 'SHADOW KNIGHTS: ART OF NINJA COMBAT!', 'SHADOW OF THE BEAST III', \"SHAW'S NIGHTMARE II\", 'SINBAD AND THE THRONE OF THE FALCON', 'SPACEWAR', 'SS ACHILLES', 'STREET FIGHTER X MEGA MAN', 'STRIKEPOINT', 'SUPER BOMBERMAN 5: GOLD CARTRIDGE', 'SUPER CAT BROS', 'SUPER WORMS', 'SUPERBALLZ', 'SWAP ZAP', 'WIDRO', 'TRAPPER', 'TWIN DRAGON', 'ULTRAMAN 2: SHUTSUGEKI KATOKU TAI', 'UNDERGROUND (CP VERLAG)', 'V-FROGGER', 'VOYAGER I: SABOTAGE OF THE ROBOT SHIP', 'ZIG-ZAG (MIRROSOFT)', 'ADVENTURE ISLAND 3', 'THE AMAZING ADVENTURES OF HARRY HADDOCK', 'BASIC MARIO HACK', 'THE FANCY PANTS ADVENTURES', 'GIMMICK! YUMETARO ODYSSEY', 'HIKARI SHINWA: PALTHENA NO KAGAMI', 'JUMP BLOCK JUMP', 'KOFFI: YELLOW KOPTER', \"MONTY'S HONEY RUN\", \"NEBS 'N DEBS\", 'NINJA HATTORI-KUN: NINJA WA SYUGYOU DE GOZARU NO MAKI', 'NINJAJAR!', 'QUACKERS', 'SPARE PARTS', 'SUPER MONKEY BALL: BANANA BLITZ', 'SUTTE HAKKUN: EVENT VERSION', 'KENTUCKY DERBY (BALLANTINE BOOKS)', '4X4 EVO', 'ATV OFFROAD FURY 4', 'BMX XXX', 'DAVE MIRRA FREESTYLE BMX 2', 'GRAN TURISMO SPORT', 'JEREMY MCGRATH SUPERCROSS 2000', 'MONSTER TRUCK WARS', 'NEED FOR MADNESS', 'NYANCLE RACING', 'RACE MANIA', 'SEGA AGES: OUTRUN', 'X-TREME EXPRESS: WORLD GRAND PRIX', 'IN COLD BLOOD', 'PYST', 'DEZAEMON KIDS!', 'AH-3 THUNDERSTRIKE', 'ALIENS FROM SUBTERRANIA', 'AMAZON (CA-VERLAGS)', 'AMIGA-INVADERS', 'ANDROID 2', 'BATTLE CITY: 4 PLAYERS HACK', 'BATTLE PROBE', 'BOOM (567 KBYTE)', 'CAL.50: CALIBER FIFTY', 'CAVERN FIGHTER', 'CHOPPER 1', 'CODENAME:GORDON', 'CONTENTIOUS', 'DEVASTATION', 'DODONPACHI DAIOUJOU TAMASHII', 'ESCAPE THE VIRUS: SWARM SURVIVAL', 'GALAXIAN SLEENA', \"GUTS N' GLORY\", 'HARDLINE', 'THE HELION', 'HEROES OF MIDGARD', 'INNSMOUTH NO YAKATA', 'LUPIN THE THIRD: THE TYPING', 'MICRO INVADERS', 'MOZZIE ZAPPER', 'PANORAMA COTTON', 'PHOENIX RECOVERED', 'RIVER RAID', 'ROBOT RUN', 'SHEEPOID', 'SITTING TARGET: RELOADED', 'STAR TREK: THE ROMULAN ATTACK', 'SUPER AMOK', 'TURBO CHOPPER SIMULATOR', 'WINGS 2', 'THE WIZARDS DOMAIN', 'XARQ', 'YEAAAARGH!', 'PRO EVOLUTION SOCCER MANAGEMENT', 'BACKYARD BASEBALL 1997', 'BOWLING (ANDROMEDA SOFTWARE)', 'CRICKET 2000', 'FAMICOM YAKYUU BAN', 'HI-RES COMPUTER GOLF', 'JUMBO OZAKI NO HOLE IN ONE PROFESSIONAL', 'JUN CLASSIC COUNTRY CLUB & ROPE CLUB', 'JUNIOR SPORTS BASKETBALL', 'NBA2K ONLINE', 'NHL FACEOFF 2003', 'NHL POWERPLAY 98', 'NUMAN ATHLETICS', 'POOL HUSTLER', \"ROBIN SMITH'S INTERNATIONAL CRICKET\", 'SANSPO FISHING: KEIRYUU OU', 'STERLING SHARPE: END 2 END', 'TOP HAND RODEO TOUR', 'TRUE GOLF CLASSICS: WICKED 18', 'U-MOVE SUPER SPORTS', 'VIRTUA TENNIS 2', 'SIMPLE 1500 SERIES VOL. 82: THE SENSUIKAN', 'SHINING STARS: SUPER STARCADE', 'ADVENTURE PLAYER', 'BENEATH FOLLY', 'THE BEVERLY HILLBILLIES', 'BIG BAD WOLF', 'CHRONICLES OF MYSTERY: THE LEGEND OF THE SACRED TREASURE', 'CLEVER KIDS: PONY WORLD', \"DR. SCRIME'S SPOOK SCHOOL\", 'DRAGON BALL: REVENGE OF KING PICCOLO', 'DUKE GRABOWSKI: MIGHTY SWASHBUCKLER', \"GRACKON'S CURSE\", 'GRIM: MYSTERY OF WASULES', 'HUSH: INTO THE DARKNESS', 'IHATOVO MONOGARATI', 'KIMAGURE ORANGE ROAD', \"L'AFFAIRE MORLOV\", 'LE PACTE', 'LEATHER GODDESSES OF PHOBOS: SOLID GOLD EDITION', 'THE LOST PHIRIOUS PART 2: THE PLANETS', 'THE MURAL', 'THE MUTANT SPIDERS', 'OXBRIDGE', 'PENTAGRAM', 'POK MON YELLOW VERSION: SPECIAL PIKACHU EDITION', 'RETURN TO ITHACA', 'SUPERTED: THE SEARCH FOR SPOT', 'SWORD OF SAROS', 'TWO SHOT DIARY', 'WISHBONE AND THE AMAZING ODYSSEY', 'FORTUNE QUEST: DICE WO KOROGASE', 'ATELIER VIOLET: THE ALCHEMIST OF GRAMNAD 2: THE MEMORIES OF ULTRAMARINE', 'BLOOD OF OLD', 'DISGAEA 1 COMPLETE', 'EPHEMERAL FANTASIA', 'FALLOUT 76 TRICENTENNIAL EDITION', 'FINAL FANTASY: MYSTIC QUEST', 'JOJO NO KIMYOU NA BOUKEN', \"THE LEGEND OF ALON D'AR\", 'POK MON MASTERS EX', 'POK MON RUBY VERSION', 'SD GUNDAM EIYUUDEN: MUSHA DENSETSU', 'SLAYERS WONDERFUL', \"ULTIZURK 3: THE GUILDMASTER'S QUEST\", 'EROTIC EMPIRE', 'FARM FRENZY: ANIMAL COUNTRY', \"FORK PARKER'S CRUNCH OUT\", 'GIRLS LIFE: FASHION ADDICT', 'KIDOU KEISATSU PATLABOR: OPERATION TOKYO BAY', 'RAILROAD TYCOON II', 'WAKU WAKU SWEETS: HAPPY SWEETS MAKING', 'BATMAN III', 'HASBRO FAMILY GAME NIGHT 3', 'ART BY NUMBERS 15', 'ATOMIC II', 'BEST OF BOARD GAMES DS', 'BLITZWAYS', 'BOLO ADVENTURES III', 'CHICKTIONARY', 'COLOSSUS MAH JONG', 'FLAG CATCHER', 'GETRIS', 'HOUDINI ESCAPE', \"LEGENDS OF OZ: DOROTHY'S RETURN\", 'MASTER HEAD', 'ORDLEIK', 'PIKIINYA!', 'PLORRDS', 'PUSH-IT', 'THE SARUMUNE OF TETRIS', 'SCHNEBITZ', 'SUPER MOLE', 'TELEGRAPH CROSSWORDS', 'TETRISPHERE', 'JETAN: MARTIAN CHESS', 'MAHJONG FOCUS', 'MEMO', 'REVERSI (THORN EMI)', 'SHOUGI SAIKYOU: PRO NI MANABU', 'SPACED OUT', '3 CARD HIGH LOW POKER', 'BANDITO', 'CASINO FUNPAK', 'COLOBOT', 'ANGEL ARMY', 'COWBOY CASINO: INTERACTIVE POKER', 'DAIKAIREI: NANKAI NO SHITOU TSUIKA SCENARIO', 'HUMANS III: EVOLUTION: LOST IN TIME...', 'MARIO + RABBIDS SPARKS OF HOPE', 'MIND WARP', \"NOBUNAGA'S AMBITION SPHERE OF INFLUENCE\", 'PRODUCE', 'REEDEREI', 'ROLLERCOASTER TYCOON: LOOPY LANDSCAPES', 'SAVAGE MOON: THE HERA CAMPAIGN', 'SUPER ROBOT TAISEN MX PORTABLE', \"YU-GI-OH! 5D'S WORLD CHAMPIONSHIP 2011: OVER THE NEXUS\", 'ZAN SCENARIO COLLECTION VOLUME 2', 'KENGO: LEGEND OF THE 9', 'MELTY BLOOD: ACTRESS AGAIN: CURRENT CODE', 'TUFF E NUFF', 'YIE AR KUNG~FU', 'BALLOONING', 'CLASSIC CONCENTRATION', 'ENGLISHFRENCH', 'KIDS STATION: BOKURA TO ASOBOU! ULTRAMAN TV', 'MATHS INVADERS', 'KISARAGI GOLD * STAR: NONSTOP GO GO!!', 'KOUKAN NIKKI', 'MIYAKO: AWAYUKI NO UTAGE', 'PRINCESS EVANGILE', 'PRINCESS EVANGILE PORTABLE', 'SCHOOL WARS: SOTSUGYOU SENSEN', 'YARUDORA PORTABLE: SAMPAGUITA', 'QUIET', 'RHYTM TENGOKU', 'SINGSTAR: QUEEN', 'SPACE CHANNEL 5 VR: KINDA FUNKY NEWS FLASH', 'TRAXXPAD: PORTABLE STUDIO', 'JUNIOR MYSTERY QUEST', 'PETZ FANTASY 3D', 'THE SIMS 2: PETS', 'SU-27 FLANKER', 'WARBIRDS: RED BARON', 'NAZO-OH']\n",
      "\n",
      "> a physics shopping simulator in a 90s mall\n",
      "[949, 1040, 1719, 1726, 3406, 3448, 4552, 4624, 4679, 5422, 5438, 5782, 6144, 6656, 6705, 6776, 7344, 7624, 7757, 7885, 7965, 8093, 8501, 8640, 8714, 9099, 9244, 9534, 9586, 9669, 9674, 9941, 10062, 10113, 10245, 10629, 10696, 10862, 11008, 11244, 11400, 11438, 11878, 12847, 13004, 13917, 14507, 14623, 14928, 15316, 15745, 15983, 16245, 16336, 16632, 17281, 17324, 17883, 18494, 18817, 19327, 19343, 19381, 20375, 20416, 21217, 21268, 21422, 21536, 21597, 21650, 22019, 22228, 22884, 23125, 23784, 24239, 24247, 24275, 24471, 24493, 24835, 24847, 24878, 25081, 25149, 25206, 25248, 25377, 25648, 25708, 25767, 25805, 25886, 25967, 26073, 26496, 26602, 26613, 28069, 28560, 29792, 29941, 30091, 30578, 30967, 31730, 31788, 33476, 33537, 33764, 33765, 34004, 34946, 35334, 35544, 35770, 35798, 36043, 36067, 36137, 36672, 36686, 36927, 36979, 37009, 37223, 38275, 38588, 38741, 38777, 39604, 40614, 40620, 40902, 40953, 41146, 41785, 41982, 42490, 42576, 43156, 43344, 44934, 45242, 46695, 47526, 49665, 49697, 49759, 50703, 50983, 51710, 52008, 52181, 52182, 52364, 52827, 52936, 53004, 53005, 53006, 53775, 54168, 54173, 54373, 54989, 55320, 55878, 55991, 56158, 56353, 56497, 56720, 56775, 57045, 57132, 57359, 57622, 57739, 57881, 58005, 58109, 58770, 58855, 58991, 58992, 59019, 110, 171, 398, 423, 830, 897, 1041, 1346, 1374, 1469, 1712, 2293, 2531, 2649, 2832, 2874, 2889, 3162, 3193, 3692, 3802, 3930, 4053, 4579, 5207, 5856, 6241, 6584, 6626, 6672, 6975, 7296, 7872, 7910, 8210, 8717, 8783, 9071, 9200, 9267, 9340, 10022, 10280, 10364, 10752, 10989, 11110, 11261, 11511, 11960, 12012, 12062, 12444, 12534, 12672, 12700, 13622, 13869, 14604, 15231, 15308, 15577, 15698, 15816, 16436, 16461, 16931, 16992, 17115, 17496, 17747, 17797, 18288, 18531, 18551, 18602, 18686, 18902, 19000, 19039, 19040, 19114, 19598, 20422, 21344, 21500, 21547, 21647, 21978, 22111, 22176, 22211, 22284, 22313, 22387, 23347, 23410, 23411, 23568, 23699, 24018, 24079, 24231, 24238, 24280, 24324, 24401, 24578, 25076, 25083, 25108, 25284, 25326, 25370, 25760, 26202, 26447, 26471, 26628, 26639, 26781, 26808, 26889, 27111, 28121, 28204, 28395, 28396, 28473, 28680, 28857, 29077, 29610, 30391, 30633, 31472, 31787, 31800, 31837, 32083, 32257, 32419, 32512, 32809, 33092, 33497, 33652, 33865, 33914, 34279, 34366, 34671, 34677, 34800, 35092, 35093, 36440, 36503, 37190, 37627, 37788, 37929, 38583, 38587, 38611, 38876, 38923, 39192, 39282, 39670, 39902, 40113, 40559, 40637, 40842, 41121, 41130, 41227, 41349, 41524, 41858, 41936, 41947, 42344, 42484, 42681, 42703, 42791, 42887, 43129, 43146, 43152, 43207, 43255, 43554, 43673, 43804, 43835, 44139, 44530, 45147, 45152, 45187, 45457, 45626, 45788, 45790, 45818, 45882, 46335, 47238, 47282, 47817, 47987, 48093, 48250, 48818, 49137, 49189, 49806, 49828, 50312, 50500, 50649, 50772, 50847, 50864, 51076, 51097, 51102, 51186, 51200, 51369, 51505, 51565, 51653, 51685, 51691, 51734, 51782, 51819, 51853, 52014, 52129, 52136, 52139, 52318, 52634, 53129, 53154, 53271, 53594, 54155, 54407, 54550, 54566, 54736, 54824, 54903, 55272, 56193, 56268, 56311, 56381, 56507, 56530, 56699, 56786, 56912, 56941, 56995, 57035, 57160, 57267, 57454, 57460, 57519, 58082, 58372, 58743, 58885, 58933, 59090, 59708]\n",
      "GAMES: 472\n",
      "RECOMMENDATIONS: ['AIR BRAWL', 'PIXELJUNK NOM NOM GALAXY', 'DUNGEONS: THE EYE OF DRACONUS', 'I WANT TO BE HUMAN', 'ORWELL: KEEPING AN EYE ON YOU', 'THE BOOK OF UNWRITTEN TALES 2', 'FREEDOM FIGHTER', 'OPUS MAGNUM', 'RECURSED', 'MYST III: EXILE', 'DAWN', 'CAR MECHANIC SIMULATOR 2021', 'SUPER CHOPPER', 'ESKIMO BOB: STARRING ALFONZO', 'SPARKLITE', 'EBONY SPIRE: HERESY', 'THE GREAT GEOMETRIC MULTIVERSE TOUR', 'RISK OF RAIN 2', 'TEAM RACING LEAGUE', 'INITIATION', 'HAMSTERDAM', 'DREAMWORLD', 'PARANOIA: HAPPINESS IS MANDATORY', 'ABYSS', '3D ARCADE FISHING', 'THE TEAR', 'WWE 2K BATTLEGROUNDS', 'TROLLHUNTERS: DEFENDERS OF ARCADIA', 'EXIT 2', 'STEREDENN: BINARY STARS', 'CITIZEN SLEEPER', 'KLONOA PHANTASY REVERIE SERIES', 'AWAKENING', 'AIRBALL', '1007 BOLTS', 'ALIEN 8 REMAKE', \"ALLISON OF ASTRA: ALLISON DOESN'T GO HAWAIIAN\", 'APE ESCAPE', 'ARMORED CORE: SILENT LINE PORTABLE', 'AWESOME EARL IN SKATEROCK', 'BARBIE AND THE MAGIC OF PEGASUS', \"BAT 'N' BALL\", 'BLOODBORNE: THE OLD HUNTERS', 'CLIFFHANGER', 'CONQUEST (1983)', 'DIZZY 3 AND A HALF', 'ESCAPE FROM COLDITZ', 'FABLE: THE JOURNEY', 'FORTUNE SUMMONERS: SECRET OF THE ELEMENTAL STONE', 'GHOSTIE', 'HARD HAT CONSTRUCTION CO.', 'THE HORSE LORD', 'INFILTRATE', \"IT'S MAGIC II\", 'KARAKURI NINPOU', 'LINK IN THE BOMB FACTORY', 'LOCKSMITH', 'MEGA MAN ZERO 3', 'MYSTICAL NINJA STARRING GOEMON', 'NURSERY NIGHTMARE', 'PHIL OF THE FUTURE', 'PICK UP ALL', 'PINBALL FUN', \"ROCK BOSHERS DX: DIRECTOR'S CUT\", 'ROCKMAN DASH 2: EPISODE 2: GREAT INHERITANCE', 'SMASHING PUMPKINS INTO SMALL PILES OF PUTRID DEBRIS', 'SNIPER ELITE V2: KILL HITLER', 'SOUTHERN BELLE', 'SPATTER', 'SPIDERBOT', 'SPLAT!', 'STRAY SHEEP: POE TO MERRY NO DAIBOUKEN', 'SUPER MARIO ALL-STARS NES', 'THE TOMB', 'TRIPLE ACTION', 'WITCHWAY', 'LOST IN PURPLE', 'MIRIAM: THE ESCAPE', \"SHANTAE: RISKY'S REVENGE\", 'THE ADVENTURES OF FREDDY FISH', 'AKUJI THE DEMON', 'CAVEMAN CAPERS', 'CHAOS HEAT', \"CHIP 'N DALE RESCUE RANGERS: THE ADVENTURES IN NIMNUL'S CASTLE\", 'DONKEY KONG COUNTRY 3', 'EGGHEAD 4: EGGHEAD ENTERTAINS', 'FAMICOM MINI: TAKAHASHI MEIJIN NO BOUKEN JIMA', 'FLOYD OF THE JUNGLE', 'HAGAR', 'LEVEL SHOCK', 'MAGIC MADNESS', 'MAXWELL MOUSE AND THE MISSING GAME MYSTERY', 'METAL SLUG ADVANCE', 'MR. ROBOT: JUNIOR EDITION', 'ODD BOT OUT', 'POINTLESS PLATFORM', 'SUPER DONKEY KONG 99', 'SUPER WAKANA LAND', 'SUTTE HAKKUN: EVENT VERSION', 'MAXIMUM RACING: SPRINT CARS', 'ROLLING 95', 'ANNIVERSARY COLLECTION: ARCADE CLASSICS', 'ASTROMILON', 'BATTLETANX: GLOBAL ASSAULT', 'COSMIC RACER', 'EAT LEAD: THE RETURN OF MATT HAZARD', 'KILLER RING', 'LASERWARP', 'TIME CRISIS: PROJECT TITAN', 'TOUHOU 08: IMPERISHABLE NIGHT', 'WAR MACHINE (PLAYERS SOFTWARE)', 'WAR OF AERO: PROJECT MEIOU', 'ZURAN DEFENDER', 'BIG STRIKER', 'DUEL (BIGK)', 'FISH ON! BASS', \"HARDBALL '94\", 'HESGAMES', 'K B NO OMOCHABAKO: HOSHI KUZUSHI', 'KICK OFF + EXTRA TIME', 'LAKE MASTERS EX', 'NHL BREAKAWAY 99', 'NHL RIVALS 2004', 'PRO SKATEBOARD SIMULATOR', 'R.B.I. BASEBALL', 'RAPALA: WE FISH', 'SKEET', 'BRAINSTORM 128', 'THE ADVENTURES OF DOWN UNDER DAN', 'ANGRY BIRDS DS', 'ARABIANS LOST: THE ENGAGEMENT ON DESERT', 'DANGER! ADVENTURER AT WORK!', 'HARRY & HARRY: MISSION TORPEDO', 'HARVEST MOON: LIGHT OF HOPE', 'ISLAND OF MYSTERY ADVENTURE', 'JESUS', 'KOMOCCHI', \"THE MUMMY MYSTERY: STARRING MERCER MAYER'S LITTLE MONSTER PRIVATE EYE\", 'NINTENDOGS: LAB & FRIENDS', 'RAA RAA THE NOISY LION', 'THE REVENGE OF MORIARTY', 'STAR COMMANDER 1: THE ESCAPE', 'TARANTULA 1955', 'ELIE NO ATELIER GB', 'HAMTARO: HAM-HAMS UNITE!', 'WAR ALONG THE MOHAWK', 'WILDCATTING', 'JEWEL QUEST TRILOGY', 'JUNIOR BOARD GAMES', 'KUNIO NO ODEN', 'SIDE TRAK', 'TETRIS (HAYRETTIN YILDIZ)', 'HARDWOOD HEARTS', 'PESTEN', 'SUPER REAL MAHJONG PIV', 'SUPER REAL MAHJONG PIV CUSTOM', 'BLACKJACK AKA TWENTY-ONE', 'YAMASA DIGI GUIDE: UMEKAGETSU R', 'SAYA NO UTA', 'TALKMAN TRAVEL: PARIS', 'TALKMAN TRAVEL: ROME', 'TALKMAN TRAVEL: TOKYO', 'FORTUNE BUILDER', 'MAJESTY: THE FANTASY KINGDOM', 'MANGROVE', 'PANZER GENERAL', 'VIDEOCART-8: MAGIC NUMBERS', 'BURIKI ONE', 'S NGU ZH W JI NG ZH NGB', 'STREET FIGHTER III: THIRD STRIKE ONLINE EDITION', 'YIE AR KUNG FU II', 'CENTER SHIKEN TRIAL: EIGO NO TETSUJIN', 'EUROPEAN NATIONS & LOCATIONS', 'KONAMI KIDS PLAYGROUND: ALPHABET CIRCUS', \"LIVING BOOKS: RUFF'S BONE\", 'THE QUADDLE FAMILY MYSTERIES: QUADDLE 2', 'SCHOOLHOUSE ROCK! THINKING GAMES DELUXE', 'U.K. GEOGRAPHY', 'GARNET CRADLE PORTABLE: KAGI NO HIMIKO', \"LA CORDA D'ORO\", 'SENGOKU HIME: SENRAN NI MAU OTOMETACHI', '8BIT MUSIC POWER', 'DANCE DANCE REVOLUTION: 2ND REMIX: APPEND CLUB VERSION VOL. 1', 'DINO PETS: THE VIRTUAL PET GAME', 'I LOVE BABIES', 'NINTENDOGS: CHIHUAHUA & FRIENDS', 'NINTENDOGS: DACHSHUND & FRIENDS', 'PET VET: MARINE PATROL', 'THOMAS WAS ALONE', 'NOLIMITS 2 ROLLER COASTER SIMULATION', \"PENGUINS ARENA: SEDNA'S WORLD\", 'ELDRITCH', 'TALISMAN: DIGITAL EDITION', 'MEGA COIN SQUAD', 'ROGUE CONTINUUM', \"HAMILTON'S GREAT ADVENTURE\", 'STORM IN A TEACUP', 'NIGHT SHIFT', 'BUNCH OF HEROES', 'SAM & MAX 105: REALITY 2.0', 'FOR HONOR', 'QUAKE II MISSION PACK: GROUND ZERO', 'FREDDI FISH 3: THE CASE OF THE STOLEN CONCH SHELL', 'F1 2016', 'MIGHT & MAGIC: CLASH OF HEROES', 'MIDNIGHT', 'NIGHT MYSTERIES: THE AMPHORA PRISONER', 'RIDE', '18 WHEELS OF STEEL: EXTREME TRUCKER 2', 'BLIND TRUST', 'SPUD!', 'PRECURSORS', 'CAVEMAN WARRIORS', 'CIRCUIT SUPERSTARS', 'SLASH IT', 'KNIGHT CLUB +', 'IMAGESTRIKER', 'NORDLICHT', 'ANNO 1800', 'UNRAVEL TWO', 'FIGHTERS LEGACY', 'WINGSPAN', 'SAMURAI ACES III: SENGOKU CANNON', 'SUMMER CAMP', 'RADICAL REX', 'SINBAD', 'OUT OF THE PARK BASEBALL 19', 'SUPER AUTO PETS', 'BATTLEFIELD 2042', 'CUTTHROAT GUNBOAT', '2112 AD', \"A.C.E.: ANOTHER CENTURY'S EPISODE 2: SPECIAL VOCAL VERSION\", \"AMERICA'S MOST HAUNTED\", 'ARMIES OF ARMAGEDDON: WDK-2K', 'ASSEMBLY LINE', \"AZUR RING: VIRGIN AND SLAVE'S PHYLACTERIES\", 'BATTLE PONG!!', 'BOMB FUSION', 'BONANZA BROTHERS', 'BOULDER DASH JUNIOR', 'CAPTURE (COURBOIS SOFTWARE)', 'CASTLEVANIA: LORDS OF SHADOW', \"CHARLIE'S ANGELS\", 'CHERRY BOMB', 'DE-FUSION', \"DISNEY'S 101 DALMATIANS II: PATCH'S LONDON ADVENTURE\", 'EYETOY: PLAY', 'GEKITOU! CRASH GEAR TURBO: GEAR CHAMPION LEAGUE', 'GHOST SWEEPER MIKAMI: JOREISHI WA NICE BODY', 'GRID GATE', \"HALLOWE'EN\", 'HEKTIK', 'JET ACE', 'JEWEL MASTER', 'KURU KURU MARUMARU', \"LAGAF': LES AVENTURES DE MOKTAR - VOL 1: LA ZOUBIDA\", 'LEGEND OF MYRA', 'MAD MIX 2: EN EL CASTILLO DE LOS FANTASMAS', 'MAX STEEL: COVERT MISSIONS', 'MECHWARRIOR', 'MOON BUGGY', 'NARCO TERROR', 'NAUTILUS', 'NERVES OF STEEL', 'NIGHTMARE CREATURES', 'OMEGA RUN', 'ORGUSS', 'OUTER RIDGE', 'OUTLAST II', 'PAC-MAN PLUS', 'POPFUL MAIL', 'ROCKY', 'SONIC AND THE FALLEN STAR', 'SPACE SPRINT', 'SPEC OPS: RANGERS LEAD THE WAY', \"SPITFIRE '40\", 'STOLEN', 'THE SUITE LIFE OF ZACK & CODY: TIPTON TROUBLE', 'SUPER CAULDRON', 'SUPER JAMES POND', 'SUPER RUSSIAN ROULETTE', 'SUPER TAXMAN 2', 'SWINGY', 'UNDEAD KNIGHTS', 'VALIS IV', 'VALIS: THE FANTASM SOLDIER', 'WALLACE & GROMIT IN PROJECT ZOO', \"WHISTLER'S BROTHER\", 'YOOMP!', 'ZEN PINBALL 3D', 'JUSTIN DANGER', 'LOST CAVERN', 'SKYLANDERS: TRAP TEAM', 'YOYO!', 'SUPER METROID: DARKHOLME HOSPITAL', \"ASTRO'S PLAYROOM\", 'DONKEY KONG ARCADE', 'DONKEY KONG COUNTRY 3: TAG TEAM TROUBLE', 'DOTTIE DREADS NOUGHT', 'FUZZY LOGIC', 'GINGA NINKYOUDEN', 'GUMSHOE (A&F SOFTWARE)', 'MATCH PATCH', 'RETRO: 8 ARCADE CLASSICS FROM YESTERYEAR', 'SPOOKS & SPIDERS', 'STRINGER', 'TARZAN GOES APE', 'TEDDYBOY BLUES', 'VS. SUPER MARIO BROS.', 'WEETABIX VERSUS THE TITCHIES', 'JAMBO! SAFARI', 'ATV: ALL TERRAIN VEHICLE SIMULATOR', 'MONSTER ENERGY SUPERCROSS 2: THE OFFICIAL VIDEOGAME', 'MOTORSTORM: PACIFIC RIFT', 'POWER DRIVE RALLY', 'POWER DROME', 'RALLY DRIVER', 'SONIC RIDERS: ZERO GRAVITY', 'TECHNO DRIVE', 'WORLD GRAND PRIX', \"AGENT X II: THE MAD PROF'S BACK!\", 'CAVERN RAIDER', 'CROSSROADS (COMPUTE! PLUBLICATIONS, INC.)', 'HALAGA', 'LASERCADE', 'THE LAST REFUGE', 'LEVEL POINT', 'MOBILE ATTACK', 'OPERATION HANOI', 'POWEROIDS', 'RADAR SCOPE', 'SHEEP VS FOX DX', 'SPEC OPS II: OMEGA SQUAD', \"TOM CLANCY'S GHOST RECON 2: SUMMIT STRIKE\", 'ULTIMATE DOOM', 'XARAX', \"YARS' RETURN\", 'EA SPORTS ACTIVE 2', 'GIANT GRAM: ALL JAPAN PRO WRESTLING 2', 'THE ACTIVISION DECATHLON', 'ADIDAS MICOACH', \"ARENA FOOTBALL '95\", 'CHAMPIONSHIP GOLF: THE GREAT COURSES OF THE WORLD: VOLUME 1: PEBBLE BEACH', 'CHAMPIONSHIP GOLF: THE GREAT COURSES OF THE WORLD: VOLUME ONE: PEBBLE BEACH', 'NBA 09: THE INSIDE', 'NBA SHOOTOUT 2000', 'SIMPLE 1500 SERIES VOL. 62: THE SKI', 'TOP PRO GOLF', 'VIRTUAL POOL: TOURNAMENT EDITION', 'WORLD LEAGUE SOCCER', 'ADVENTURES OF BERTRAM FIDDLE: EPISODE 1: A DREADLY BUSINESS', 'THE ADVENTURES OF BUSY BILLY', 'AFRICAN ADVENTURE: IN SEARCH OF DR. LIVINGSTON', 'AZTEC TOMB REVISITED (PART II)', \"BALDUR'S GATE III\", 'CANDY LAND ADVENTURE', 'CELLS & SERPENTS', 'DE ANTAGONISTEN', 'DRACULA II', 'ERBEN DER ERDE: DIE GRO E SUCHE', 'GUY: KILL THE TARGET', 'HAUNTSFIELD', 'INDIANA JONES AND THE CALL OF THUNDER', 'KLATWA', \"KNIGHT'S APPRENTICE\", 'LAIR OF THE NECROMANCER', 'LIFEFORM', 'MANIAC MANSION (JAPAN)', 'MYSTERY P.I.: THE LOTTERY TICKET', 'NEVER 7: THE END OF INFINITY', 'NEW WORLD: THE TUPIS', 'POLICE QUEST 3: THE KINDRED', 'THE QUILL: ADVENTURE WRITING SYSTEM', 'RYOUKI NO ORI', 'SAKURA SUCCUBUS IV', 'SEA ADVENTURE', 'SHAMAN KING: POWER OF SPIRIT', 'SPIDER-MAN CARTOON MAKER', 'SPY STORY', 'THE STAFF OF ZARANOL', 'STORMCYCLE', 'SUPER ULTRA MACHINE CYBORG MARILYN DX', 'TRUBERBROOK', 'VERA CRUZ', 'WHODUNNIT', \"WITCH'S WISH\", 'DECEPTION III: DARK DELUSION', 'BS ZELDA NO DENSETSU: KAMIGAMI NO TRIFORCE', \"FUBUKI'S JOURNEY\", 'GAKUEN SENKI: KYOUFU NO PUPPET KEIKAKU', 'GLORY OF HERACLES', 'THE LEGEND OF BLACKSILVER', 'MATEN NO SOUMETSU', 'NURMANS', 'NUSHI TSURI 64: SHIOKAZE NINOTTE', 'OUGON NO KIZUNA', 'POKEMMO', 'SHINSEIKI EVANGELION 2: EVANGELIONS', 'MUGSY', 'POPULOUS', 'SOREFIST', '3, 2, 1... WORDSUP!', 'PLAY HOTCH POTCH WITH MISTERTRONIC', 'THE 7COLORS', 'CHINA TOWN', \"DRAGON'S PYRAMIDS\", 'EGGBERT', 'LEXIS', 'LOG!CAL', 'PICROSS S GENESIS & MASTER SYSTEM EDITION', 'PUZZLE PIECE PANIC!', 'SCORPIONS', \"SOLITAIRE'S JOURNEY\", 'STREAKING', 'SUN SHINE', \"TONGUEMAN'S LOGIC\", 'TOYPOP', 'TRAPTHEM', 'VACATION QUEST AUSTRALIA', 'VIKING INVASION 2: TOWER DEFENSE', '3 GAME PACK!: MOUSE TRAPSIMONOPERATION', 'CHESS NET', 'CONNECT FOUR (SUNSHINE PUBLICATIONS LTD.)', \"FOUR'LL FALL\", 'GO BOARD', 'GO: SPECIAL EDITION', 'HOP STEP JUMP', 'JANG-GI', 'THE KING OF FIGHTERS: BATTLE DE PARADISE', 'MAGIC 2014', 'PLAYHOUSE STRIPPOKER', 'SIMON 2001', 'SMALL WORLD 2', 'SORRY!', 'ANTE-UP AT THE FRIDAY NIGHT POKER CLUB', 'PACHINKO 365 NICHI', 'ACROSS THE RUBICON', 'AFRIKA KORPS', 'BALLERBURG', 'DEAD AHEAD: ZOMBIE WARFARE', 'MACROSS: TRUE LOVE SONG', 'PIKMIN', 'RUSE', 'SANGOKUSHI II: HAOU NO TAIRIKU', 'STAR TREK (MIKRO-GEN)', 'SUPER ROBOT WARS IV SCRAMBLE', 'TORTUGA: PIRATES OF THE NEW WORLD', 'BATTLE MASTER: KYUUKYOKU NO SENSHI-TACHI', 'ACTIVE HEALTH WITH CAROL VORDERMAN', 'ASONDE KAZU SUUJI', \"BLINKY BILL'S EXTRAORDINARY CARTOON MAKER\", 'COCO NOTES', 'FACTOR BLAST', 'FISHER-PRICE: READY FOR SCHOOL: READING', 'KEYBOARD KAOS 2', 'LOST IN SPACE: ANIMATED MATH ADVENTURE', 'MR. PIXELS CARTOON KIT', 'NERO 2000', 'PASS YOUR DRIVING THEORY TEST: 2010 EDITION', 'PQ: THE PARTY QUIZ GAME', 'SESAME STREET: PALS AROUND TOWN', 'TALKING PHRASEBOOK', 'TRAUMA CENTER: UNDER THE KNIFE 2', 'THE IDOLM@STER: GRAVURE FOR YOU! VOL. 9', 'BLOOD+ FINAL PIECE', 'COOL COOL TOON', 'LUPIN THE 3RD: PUNCH THE MONKEY! GAME EDITION', 'CHRISTMAS SEAMAN: OMOI O TSUTAERU MOU HITOTSU NO HOUHOU', 'KAZE NO OKA KOUEN NITE', 'METROPOLISMANIA 2', 'SCARAMOUCHE', 'SAT 1: 5 MAL 5']\n",
      "\n"
     ]
    }
   ],
   "source": [
    "# return games that are close to the prompt\n",
    "def getClosestGames(prompt):\n",
    "    #make the vector\n",
    "    prompt_tok = tokenize(prompt)\n",
    "    prompt_vec = getBag(BAG_IDX, prompt_tok)\n",
    "\n",
    "    #get the closest games\n",
    "    cgi = van_lsh.query(prompt_vec)\n",
    "    print(cgi)\n",
    "    closest_game_names = [game_idx[i] for i in cgi]\n",
    "\n",
    "    return closest_game_names\n",
    "\n",
    "\n",
    "prompts = [\n",
    "    \"a pixel skateboarding game in a cyberpunk future\",                  #recs: the ramp, jet set radio, cyberpunk 2077\n",
    "    \"a cute, relaxing, atmospheric farming rpg with animal characters\",  #recs: stardew valley, night in the woods, a short hike\n",
    "    \"a physics shopping simulator in a 90s mall\",                   #recs: goat simulator, retrowave, donut county\n",
    "    # \"a first-person goat skateboarding game\"\n",
    "    ]  \n",
    "\n",
    "for p in prompts:\n",
    "    print(f\"> {p}\")\n",
    "    recs = getClosestGames(p)\n",
    "    print(f\"GAMES: {len(recs)}\")\n",
    "    print(f\"RECOMMENDATIONS: {recs}\")\n",
    "    print(\"\")"
   ]
  },
  {
   "cell_type": "code",
   "execution_count": 24,
   "metadata": {},
   "outputs": [
    {
     "name": "stdout",
     "output_type": "stream",
     "text": [
      "> EUCLIDEAN SIMILARITY BETWEEN STARDEW VALLEY AND SANITY GAMES\n",
      "DOOM, THE ROGUELIKE: 9.695359714832659\n",
      "HARVEST MOON GBC: 7.874007874011811\n",
      "BABA IS YOU: 7.874007874011811\n",
      "ULTRAKILL: 8.54400374531753\n",
      "THIEF: 8.94427190999916\n",
      "FEZ: 8.888194417315589\n"
     ]
    }
   ],
   "source": [
    "BASE_GAME = \"STARDEW VALLEY\"\n",
    "SANITY_GAMES = [\"DOOM, THE ROGUELIKE\", \"HARVEST MOON GBC\", \"BABA IS YOU\", \"ULTRAKILL\", \"THIEF\", \"FEZ\"]\n",
    "\n",
    "# get the vector for the base game\n",
    "base_vec = np.array(BAG_GAMES[BASE_GAME])\n",
    "sanity_vecs = np.array([BAG_GAMES[g] for g in SANITY_GAMES])\n",
    "\n",
    "# get the cosine similarity between the base game and the sanity games\n",
    "print(f\"> EUCLIDEAN SIMILARITY BETWEEN {BASE_GAME} AND SANITY GAMES\")\n",
    "for i, g in enumerate(SANITY_GAMES):\n",
    "    print(f\"{g}: {euclidean_distances(base_vec.reshape(1, -1), sanity_vecs[i].reshape(1, -1))[0][0]}\")\n",
    "    "
   ]
  }
 ],
 "metadata": {
  "kernelspec": {
   "display_name": "Python 3.8.9 ('bmo-venv': venv)",
   "language": "python",
   "name": "python3"
  },
  "language_info": {
   "codemirror_mode": {
    "name": "ipython",
    "version": 3
   },
   "file_extension": ".py",
   "mimetype": "text/x-python",
   "name": "python",
   "nbconvert_exporter": "python",
   "pygments_lexer": "ipython3",
   "version": "3.8.9 (default, Mar  9 2022, 15:20:58) \n[Clang 10.0.1 (clang-1001.0.46.4)]"
  },
  "orig_nbformat": 4,
  "vscode": {
   "interpreter": {
    "hash": "f94925f3cff0b0ac90dd538919dcd2d4d02467fa3fdafdf86812e92b857d43c1"
   }
  }
 },
 "nbformat": 4,
 "nbformat_minor": 2
}
