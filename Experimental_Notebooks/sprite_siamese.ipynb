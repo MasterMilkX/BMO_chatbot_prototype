{
 "cells": [
  {
   "attachments": {},
   "cell_type": "markdown",
   "metadata": {},
   "source": [
    "## Sprite Siamese Network\n",
    "- Intended to be a \"CLIP\"-like text2image evaluator to determine which text encodings are closest to images using few-shot learning\n",
    "- Code taken from the Siamese Network architecture used in the fingerprint clustering and from https://keras.io/examples/vision/siamese_network/\n",
    "\n",
    "---"
   ]
  },
  {
   "attachments": {},
   "cell_type": "markdown",
   "metadata": {},
   "source": [
    "#### Imports and Configuration"
   ]
  },
  {
   "cell_type": "code",
   "execution_count": 1,
   "metadata": {},
   "outputs": [
    {
     "name": "stderr",
     "output_type": "stream",
     "text": [
      "/Users/milk/Desktop/GIL_Lab/BMO/BMO_chatbot_prototype/bmo-venv/lib/python3.8/site-packages/tqdm/auto.py:22: TqdmWarning: IProgress not found. Please update jupyter and ipywidgets. See https://ipywidgets.readthedocs.io/en/stable/user_install.html\n",
      "  from .autonotebook import tqdm as notebook_tqdm\n",
      "2023-04-25 12:18:56.981788: I tensorflow/core/platform/cpu_feature_guard.cc:193] This TensorFlow binary is optimized with oneAPI Deep Neural Network Library (oneDNN) to use the following CPU instructions in performance-critical operations:  AVX2 FMA\n",
      "To enable them in other operations, rebuild TensorFlow with the appropriate compiler flags.\n"
     ]
    }
   ],
   "source": [
    "# Imports\n",
    "\n",
    "import numpy as np\n",
    "import matplotlib.pyplot as plt\n",
    "import random\n",
    "from matplotlib.colors import ListedColormap\n",
    "from tqdm import tqdm\n",
    "from sentence_transformers import SentenceTransformer\n",
    "\n",
    "# tensorflow\n",
    "import tensorflow as tf\n",
    "from tensorflow.keras import backend as K\n",
    "from tensorflow.keras import optimizers\n",
    "from tensorflow.keras.models import Sequential, load_model\n",
    "from tensorflow.keras.layers import Conv2D, MaxPooling2D, Dense, Flatten, Dropout, BatchNormalization, Activation, Input"
   ]
  },
  {
   "cell_type": "code",
   "execution_count": 2,
   "metadata": {},
   "outputs": [],
   "source": [
    "#import from Python folder to get the utils\n",
    "import sys\n",
    "sys.path.append('../Python')\n",
    "from utils import picoSS2np, showMultiSprPalette, showMultiSprRGB, showSprRGB, showSprPalette, animatePal"
   ]
  },
  {
   "cell_type": "code",
   "execution_count": 3,
   "metadata": {},
   "outputs": [],
   "source": [
    "### CONSTANT VARIABLES   ###\n",
    "\n",
    "# PICO-8 Palette => use colormap for matplotlib\n",
    "PICO_PALETTE = ['#000000','#1D2B53','#7E2553','#008751','#AB5236','#5F574F','#C2C3C7','#FFF1E8','#FF004D','#FFA300','#FFEC27','#00E436','#29ADFF','#83769C','#FF77A8','#FFCCAA']\n"
   ]
  },
  {
   "cell_type": "code",
   "execution_count": 4,
   "metadata": {},
   "outputs": [
    {
     "name": "stdout",
     "output_type": "stream",
     "text": [
      "Food Dataset shape: (100, 8, 8)\n",
      "Char Dataset shape: (100, 8, 8)\n"
     ]
    },
    {
     "data": {
      "image/png": "[encoded data removed]",
      "text/plain": [
       "<Figure size 2000x700 with 2 Axes>"
      ]
     },
     "metadata": {},
     "output_type": "display_data"
    }
   ],
   "source": [
    "# import the dataset to use (pico-characters)\n",
    "\n",
    "# import from the PICO sprites posted onto Twitter \n",
    "# Food: https://twitter.com/JUSTIN_CYR/status/634546317713391616\n",
    "# Characters: https://twitter.com/johanvinet/status/635814153601597441\n",
    "pico_food_dat = np.load('../data/rip_data/pico_food.npy',allow_pickle=True)\n",
    "pico_char_dat = np.load('../data/rip_data/pico_characters.npy',allow_pickle=True)\n",
    "\n",
    "print(f\"Food Dataset shape: {pico_food_dat.shape}\")\n",
    "print(f\"Char Dataset shape: {pico_char_dat.shape}\")\n",
    "\n",
    "# show a random food and character sprite \n",
    "rand_food = random.choice(pico_food_dat)\n",
    "rand_char = random.choice(pico_char_dat)\n",
    "showMultiSprPalette([rand_food,rand_char],textArr=['Food','Character'])"
   ]
  },
  {
   "cell_type": "code",
   "execution_count": 5,
   "metadata": {},
   "outputs": [
    {
     "name": "stderr",
     "output_type": "stream",
     "text": [
      "Encoding labels: 100%|██████████| 100/100 [00:07<00:00, 13.37it/s]\n"
     ]
    }
   ],
   "source": [
    "# get the text descriptions and convert to embeddings\n",
    "\n",
    "# import sentence-transformer for text embedding \n",
    "SBERT_MODEL = SentenceTransformer('bert-base-nli-mean-tokens')\n",
    "\n",
    "def sentEmb(txt):\n",
    "    return SBERT_MODEL.encode([txt])[0]\n",
    "\n",
    "# import the text data\n",
    "pico_char_labels = np.array([l.strip() for l in open('../data/rip_data/character_desc.txt','r').readlines()])\n",
    "\n",
    "# encode the labels\n",
    "pico_char_labels_emb = []\n",
    "with tqdm(total=len(pico_char_labels)) as pbar:\n",
    "    pbar.set_description(\"Encoding labels\")\n",
    "    for l in pico_char_labels:\n",
    "        pico_char_labels_emb.append(sentEmb(l))\n",
    "        pbar.update(1)"
   ]
  },
  {
   "cell_type": "code",
   "execution_count": 6,
   "metadata": {},
   "outputs": [
    {
     "name": "stdout",
     "output_type": "stream",
     "text": [
      "Character: a red robot dog\n"
     ]
    },
    {
     "data": {
      "image/png": "[encoded data removed]",
      "text/plain": [
       "<Figure size 200x200 with 1 Axes>"
      ]
     },
     "metadata": {},
     "output_type": "display_data"
    },
    {
     "name": "stdout",
     "output_type": "stream",
     "text": [
      "Encoding length: 768\n"
     ]
    }
   ],
   "source": [
    "# show a random character and its description\n",
    "rand_char_idx = random.randint(0,len(pico_char_labels))\n",
    "print(f\"Character: {pico_char_labels[rand_char_idx]}\")\n",
    "showSprPalette(pico_char_dat[rand_char_idx])\n",
    "\n",
    "desc_enc = pico_char_labels_emb[rand_char_idx]\n",
    "print(f\"Encoding length: {len(desc_enc)}\")"
   ]
  },
  {
   "attachments": {},
   "cell_type": "markdown",
   "metadata": {},
   "source": [
    "#### Siamese Network Setup"
   ]
  },
  {
   "cell_type": "code",
   "execution_count": 12,
   "metadata": {},
   "outputs": [
    {
     "name": "stderr",
     "output_type": "stream",
     "text": [
      "/var/folders/5h/0zjb1m296y1gvhtd9q40w4yc0000gn/T/ipykernel_9235/1505579227.py:17: VisibleDeprecationWarning: Creating an ndarray from ragged nested sequences (which is a list-or-tuple of lists-or-tuples-or ndarrays with different lengths or shapes) is deprecated. If you meant to do this, you must specify 'dtype=object' when creating the ndarray.\n",
      "  return np.array(pairX), np.array(pairY)\n"
     ]
    }
   ],
   "source": [
    "# pairs up images to text \n",
    "def pairing(imgs, text):\n",
    "    pairX = []    # texts - image\n",
    "    pairY = []    # 1 for positive, 0 for negative\n",
    "\n",
    "    for i in range(len(imgs)):\n",
    "        # pair text to the correct image (positive pair)\n",
    "        pairX.append([text[i],imgs[i]])\n",
    "        pairY.append(1)\n",
    "\n",
    "        # pair text to a random image (negative pair)\n",
    "        all_but_i = list(range(len(imgs)))\n",
    "        rand_img = random.choice(all_but_i[:i] + all_but_i[i+1:])\n",
    "        pairX.append([text[i],imgs[rand_img]])\n",
    "        pairY.append(0)\n",
    "\n",
    "    return np.array(pairX), np.array(pairY)\n",
    "\n",
    "\n",
    "X_dat, y_dat = pairing(pico_char_dat, pico_char_labels_emb)"
   ]
  },
  {
   "cell_type": "code",
   "execution_count": null,
   "metadata": {},
   "outputs": [],
   "source": []
  }
 ],
 "metadata": {
  "kernelspec": {
   "display_name": "bmo-venv",
   "language": "python",
   "name": "python3"
  },
  "language_info": {
   "codemirror_mode": {
    "name": "ipython",
    "version": 3
   },
   "file_extension": ".py",
   "mimetype": "text/x-python",
   "name": "python",
   "nbconvert_exporter": "python",
   "pygments_lexer": "ipython3",
   "version": "3.8.9"
  },
  "orig_nbformat": 4
 },
 "nbformat": 4,
 "nbformat_minor": 2
}
