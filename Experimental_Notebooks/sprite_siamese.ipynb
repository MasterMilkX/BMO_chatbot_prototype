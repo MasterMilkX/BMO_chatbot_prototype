{
 "cells": [
  {
   "attachments": {},
   "cell_type": "markdown",
   "metadata": {},
   "source": [
    "## Sprite Siamese Network\n",
    "- Intended to be a \"CLIP\"-like text2image evaluator to determine which text encodings are closest to images using few-shot learning\n",
    "- Code taken from the Siamese Network architecture used in the fingerprint clustering and from https://keras.io/examples/vision/siamese_network/\n",
    "\n",
    "---\n",
    "\n",
    "### NOTES\n",
    "\n",
    "Overall\n",
    "- trains very quickly, has intended output of a single distance value from a text to image comparison\n",
    "- text embedding information may be getting too condensed and lost in the network\n",
    "\n",
    "1-1 text to correct image / wrong image pairing\n",
    "- too close in similarity for final distance\n",
    "- gets it completely wrong between the pos / neg anchors sometimes\n",
    "\n",
    "1-99 text to correct image / everything else pairings\n",
    "- learns nothing; everything is perfectly in the middle (50% similarity)\n",
    "\n"
   ]
  },
  {
   "attachments": {},
   "cell_type": "markdown",
   "metadata": {},
   "source": [
    "#### Imports and Configuration"
   ]
  },
  {
   "cell_type": "code",
   "execution_count": 26,
   "metadata": {},
   "outputs": [],
   "source": [
    "# Imports\n",
    "\n",
    "import numpy as np\n",
    "import matplotlib.pyplot as plt\n",
    "import random\n",
    "from matplotlib.colors import ListedColormap\n",
    "from tqdm import tqdm\n",
    "from sentence_transformers import SentenceTransformer\n",
    "\n",
    "# tensorflow\n",
    "import tensorflow as tf\n",
    "from tensorflow.keras import backend as K\n",
    "from tensorflow.keras import optimizers\n",
    "from tensorflow.keras.models import Sequential, load_model, Model\n",
    "from tensorflow.keras.layers import Conv2D, MaxPooling2D, Dense, Flatten, Dropout, Reshape, Activation, Input, GlobalAveragePooling2D, Lambda"
   ]
  },
  {
   "cell_type": "code",
   "execution_count": 2,
   "metadata": {},
   "outputs": [],
   "source": [
    "#import from Python folder to get the utils\n",
    "import sys\n",
    "sys.path.append('../Python')\n",
    "from utils import picoSS2np, showMultiSprPalette, showMultiSprRGB, showSprRGB, showSprPalette, animatePal"
   ]
  },
  {
   "cell_type": "code",
   "execution_count": 3,
   "metadata": {},
   "outputs": [],
   "source": [
    "### CONSTANT VARIABLES   ###\n",
    "\n",
    "# PICO-8 Palette => use colormap for matplotlib\n",
    "PICO_PALETTE = ['#000000','#1D2B53','#7E2553','#008751','#AB5236','#5F574F','#C2C3C7','#FFF1E8','#FF004D','#FFA300','#FFEC27','#00E436','#29ADFF','#83769C','#FF77A8','#FFCCAA']\n"
   ]
  },
  {
   "cell_type": "code",
   "execution_count": 4,
   "metadata": {},
   "outputs": [
    {
     "name": "stdout",
     "output_type": "stream",
     "text": [
      "Food Dataset shape: (100, 8, 8)\n",
      "Char Dataset shape: (100, 8, 8)\n"
     ]
    },
    {
     "data": {
      "image/png": "[encoded data removed]",
      "text/plain": [
       "<Figure size 2000x700 with 2 Axes>"
      ]
     },
     "metadata": {},
     "output_type": "display_data"
    }
   ],
   "source": [
    "# import the dataset to use (pico-characters)\n",
    "\n",
    "# import from the PICO sprites posted onto Twitter \n",
    "# Food: https://twitter.com/JUSTIN_CYR/status/634546317713391616\n",
    "# Characters: https://twitter.com/johanvinet/status/635814153601597441\n",
    "pico_food_dat = np.load('../data/rip_data/pico_food.npy',allow_pickle=True)\n",
    "pico_char_dat = np.load('../data/rip_data/pico_characters.npy',allow_pickle=True)\n",
    "\n",
    "print(f\"Food Dataset shape: {pico_food_dat.shape}\")\n",
    "print(f\"Char Dataset shape: {pico_char_dat.shape}\")\n",
    "\n",
    "# show a random food and character sprite \n",
    "rand_food = random.choice(pico_food_dat)\n",
    "rand_char = random.choice(pico_char_dat)\n",
    "showMultiSprPalette([rand_food,rand_char],textArr=['Food','Character'])"
   ]
  },
  {
   "cell_type": "code",
   "execution_count": 5,
   "metadata": {},
   "outputs": [
    {
     "name": "stderr",
     "output_type": "stream",
     "text": [
      "Encoding labels: 100%|██████████| 100/100 [00:07<00:00, 13.37it/s]\n"
     ]
    }
   ],
   "source": [
    "# get the text descriptions and convert to embeddings\n",
    "\n",
    "# import sentence-transformer for text embedding \n",
    "SBERT_MODEL = SentenceTransformer('bert-base-nli-mean-tokens')\n",
    "\n",
    "def sentEmb(txt):\n",
    "    return SBERT_MODEL.encode([txt])[0]\n",
    "\n",
    "# import the text data\n",
    "pico_char_labels = np.array([l.strip() for l in open('../data/rip_data/character_desc.txt','r').readlines()])\n",
    "\n",
    "# encode the labels\n",
    "pico_char_labels_emb = []\n",
    "with tqdm(total=len(pico_char_labels)) as pbar:\n",
    "    pbar.set_description(\"Encoding labels\")\n",
    "    for l in pico_char_labels:\n",
    "        pico_char_labels_emb.append(sentEmb(l))\n",
    "        pbar.update(1)"
   ]
  },
  {
   "cell_type": "code",
   "execution_count": 6,
   "metadata": {},
   "outputs": [
    {
     "name": "stdout",
     "output_type": "stream",
     "text": [
      "Character: a red robot dog\n"
     ]
    },
    {
     "data": {
      "image/png": "[encoded data removed]",
      "text/plain": [
       "<Figure size 200x200 with 1 Axes>"
      ]
     },
     "metadata": {},
     "output_type": "display_data"
    },
    {
     "name": "stdout",
     "output_type": "stream",
     "text": [
      "Encoding length: 768\n"
     ]
    }
   ],
   "source": [
    "# show a random character and its description\n",
    "rand_char_idx = random.randint(0,len(pico_char_labels))\n",
    "print(f\"Character: {pico_char_labels[rand_char_idx]}\")\n",
    "showSprPalette(pico_char_dat[rand_char_idx])\n",
    "\n",
    "desc_enc = pico_char_labels_emb[rand_char_idx]\n",
    "print(f\"Encoding length: {len(desc_enc)}\")"
   ]
  },
  {
   "cell_type": "code",
   "execution_count": 172,
   "metadata": {},
   "outputs": [],
   "source": [
    "# configure the training parameters\n",
    "SIAM_CONFIG = {\n",
    "    \"EPOCHS\": 20,\n",
    "    \"BATCH_SIZE\": 16,\n",
    "    \"VAL_SPLIT\": 0.1,\n",
    "    \"EXPORT_MODEL\": True\n",
    "}\n",
    "\n",
    "SIAM_CONFIG[\"MODEL_PATH\"] = f\"../models/siamese_txt2img/smn_pico_char-{SIAM_CONFIG['EPOCHS']}e.h5\""
   ]
  },
  {
   "attachments": {},
   "cell_type": "markdown",
   "metadata": {},
   "source": [
    "#### Siamese Network Setup"
   ]
  },
  {
   "cell_type": "code",
   "execution_count": 173,
   "metadata": {},
   "outputs": [],
   "source": [
    "# pairs up one good image and one bad image to text (1-1)\n",
    "def pairing_1_1(imgs, text):\n",
    "    pairX = []    # texts - image\n",
    "    pairY = []    # 1 for positive, 0 for negative\n",
    "\n",
    "    imgs = np.expand_dims(imgs,axis=-1) # expand the dimensions of the images\n",
    "\n",
    "    for i in range(len(imgs)):\n",
    "        # pair text to the correct image (positive pair)\n",
    "        pairX.append([text[i],imgs[i]])\n",
    "        pairY.append(1)\n",
    "\n",
    "        # [1-1 test]\n",
    "        # pair text to a random image (negative pair)\n",
    "        all_but_i = list(range(len(imgs)))\n",
    "        rand_img = random.choice(all_but_i[:i] + all_but_i[i+1:])\n",
    "        pairX.append([text[i],imgs[rand_img]])\n",
    "        pairY.append(0)\n",
    "\n",
    "    return np.array(pairX), np.array(pairY)\n",
    "\n",
    "# pairs up the correct image to text with everything else as negative exampkes (1-99)\n",
    "def pairing_1_99(imgs, text):\n",
    "    pairX = []    # texts - image\n",
    "    pairY = []    # 1 for positive, 0 for negative\n",
    "\n",
    "    imgs = np.expand_dims(imgs,axis=-1) # expand the dimensions of the images\n",
    "\n",
    "    for i in range(len(imgs)):\n",
    "        # pair text to the correct image (positive pair)\n",
    "        pairX.append([text[i],imgs[i]])\n",
    "        pairY.append(1)\n",
    "\n",
    "        # [1-99 test]\n",
    "        # pair off the rest of the images to the text (negative pair)  \n",
    "        for j in range(len(imgs)):\n",
    "            if j != i:\n",
    "                pairX.append([text[i],imgs[j]])\n",
    "                pairY.append(0)\n",
    "\n",
    "    return np.array(pairX), np.array(pairY)\n",
    "\n",
    "# split data into train and validation sets\n",
    "def train_val_split(X,y,vperc=0.1):\n",
    "    # shuffle the data\n",
    "    idx = np.arange(len(X))\n",
    "    np.random.shuffle(idx)\n",
    "    X = X[idx]\n",
    "    y = y[idx]\n",
    "\n",
    "    # split the data\n",
    "    split = int(len(X) * (1-vperc))\n",
    "    X_train, X_val = X[:split], X[split:]\n",
    "    y_train, y_val = y[:split], y[split:]\n",
    "\n",
    "    return X_train, X_val, y_train, y_val\n"
   ]
  },
  {
   "cell_type": "code",
   "execution_count": 174,
   "metadata": {},
   "outputs": [
    {
     "name": "stdout",
     "output_type": "stream",
     "text": [
      "X_dat_txt shape: (180, 768)\n",
      "X_dat_img shape: (180, 8, 8, 1)\n",
      "y_train shape: (180,)\n",
      "\n",
      "Xv_dat_txt shape: (20, 768)\n",
      "Xv_dat_img shape: (20, 8, 8, 1)\n",
      "y_val shape: (20,)\n"
     ]
    },
    {
     "name": "stderr",
     "output_type": "stream",
     "text": [
      "/var/folders/5h/0zjb1m296y1gvhtd9q40w4yc0000gn/T/ipykernel_9235/1446962577.py:20: VisibleDeprecationWarning: Creating an ndarray from ragged nested sequences (which is a list-or-tuple of lists-or-tuples-or ndarrays with different lengths or shapes) is deprecated. If you meant to do this, you must specify 'dtype=object' when creating the ndarray.\n",
      "  return np.array(pairX), np.array(pairY)\n"
     ]
    }
   ],
   "source": [
    "# make the training data\n",
    "X_dat, y_dat = pairing_1_1(pico_char_dat, pico_char_labels_emb)\n",
    "\n",
    "# split into train and validation sets\n",
    "X_train, X_val, y_train, y_val = train_val_split(X_dat, y_dat, vperc=SIAM_CONFIG[\"VAL_SPLIT\"])\n",
    "\n",
    "Xt_dat_txt = np.array([t for t in X_train[:,0]])\n",
    "Xt_dat_img = np.array([i for i in X_train[:,1]])\n",
    "\n",
    "Xv_dat_txt = np.array([t for t in X_val[:,0]])\n",
    "Xv_dat_img = np.array([i for i in X_val[:,1]])\n",
    "\n",
    "print(f\"X_dat_txt shape: {Xt_dat_txt.shape}\")\n",
    "print(f\"X_dat_img shape: {Xt_dat_img.shape}\")\n",
    "print(f\"y_train shape: {y_train.shape}\")\n",
    "\n",
    "print(\"\")\n",
    "print(f\"Xv_dat_txt shape: {Xv_dat_txt.shape}\")\n",
    "print(f\"Xv_dat_img shape: {Xv_dat_img.shape}\")\n",
    "print(f\"y_val shape: {y_val.shape}\")"
   ]
  },
  {
   "cell_type": "code",
   "execution_count": 175,
   "metadata": {},
   "outputs": [],
   "source": [
    "# feature extracting siamese network\n",
    "def siamese_model(inputShape, embeddingDim=64):\n",
    "    model = Sequential()\n",
    "    model.add(Input(inputShape))\n",
    "    \n",
    "    model.add(Conv2D(16, (2, 2), padding=\"same\", activation=\"relu\"))\n",
    "    model.add(MaxPooling2D((2, 2)))\n",
    "    model.add(Dropout(0.3))\n",
    "    \n",
    "    model.add(Conv2D(32, (2, 2), padding=\"same\", activation=\"relu\"))\n",
    "    model.add(MaxPooling2D((2, 2)))\n",
    "    model.add(Dropout(0.3))\n",
    "    \n",
    "    model.add(Conv2D(64, (2, 2), padding=\"same\", activation=\"relu\"))\n",
    "    model.add(MaxPooling2D((2, 2)))\n",
    "    model.add(Dropout(0.3))\n",
    "    \n",
    "    # model.add(Conv2D(128, (2, 2), padding=\"same\", activation=\"relu\"))\n",
    "    # model.add(MaxPooling2D((2, 2)))\n",
    "    # model.add(Dropout(0.3))\n",
    "    \n",
    "    model.add(GlobalAveragePooling2D())\n",
    "    model.add(Dense(embeddingDim))\n",
    "    \n",
    "    model.summary()\n",
    "    \n",
    "    return model\n",
    "    "
   ]
  },
  {
   "cell_type": "code",
   "execution_count": 176,
   "metadata": {},
   "outputs": [],
   "source": [
    "# siamese loss function for few-shot learning\n",
    "def contrastive_loss(y, preds, margin=1):\n",
    "    y = tf.cast(y, preds.dtype)\n",
    "    \n",
    "    # calculate the contrastive loss between the true labels and the predicted labels\n",
    "    squaredPreds = K.square(preds)\n",
    "    squaredMargin = K.square(K.maximum(margin - preds, 0))\n",
    "    loss = K.mean(y * squaredPreds + (1 - y) * squaredMargin)\n",
    "    \n",
    "    return loss\n",
    "\n",
    "# euclidean distance calculation to determine similarity between text 2 image\n",
    "def euclidean_distance(vectors):\n",
    "    # unpack the vectors into separate lists\n",
    "    (fa, fb) = vectors\n",
    "    \n",
    "    # compute the sum of squared distances between the vectors\n",
    "    sumSquared = K.sum(K.square(fa - fb), axis=1,keepdims=True)\n",
    "    \n",
    "    # return the euclidean distance between the vectors\n",
    "    return K.sqrt(K.maximum(sumSquared, K.epsilon()))"
   ]
  },
  {
   "cell_type": "code",
   "execution_count": 177,
   "metadata": {},
   "outputs": [
    {
     "name": "stdout",
     "output_type": "stream",
     "text": [
      "Model: \"sequential_57\"\n",
      "_________________________________________________________________\n",
      " Layer (type)                Output Shape              Param #   \n",
      "=================================================================\n",
      " dense_56 (Dense)            (None, 64)                49216     \n",
      "                                                                 \n",
      " reshape_28 (Reshape)        (None, 8, 8, 1)           0         \n",
      "                                                                 \n",
      "=================================================================\n",
      "Total params: 49,216\n",
      "Trainable params: 49,216\n",
      "Non-trainable params: 0\n",
      "_________________________________________________________________\n",
      "Model: \"sequential_58\"\n",
      "_________________________________________________________________\n",
      " Layer (type)                Output Shape              Param #   \n",
      "=================================================================\n",
      " conv2d_85 (Conv2D)          (None, 8, 8, 16)          80        \n",
      "                                                                 \n",
      " max_pooling2d_85 (MaxPoolin  (None, 4, 4, 16)         0         \n",
      " g2D)                                                            \n",
      "                                                                 \n",
      " dropout_84 (Dropout)        (None, 4, 4, 16)          0         \n",
      "                                                                 \n",
      " conv2d_86 (Conv2D)          (None, 4, 4, 32)          2080      \n",
      "                                                                 \n",
      " max_pooling2d_86 (MaxPoolin  (None, 2, 2, 32)         0         \n",
      " g2D)                                                            \n",
      "                                                                 \n",
      " dropout_85 (Dropout)        (None, 2, 2, 32)          0         \n",
      "                                                                 \n",
      " conv2d_87 (Conv2D)          (None, 2, 2, 64)          8256      \n",
      "                                                                 \n",
      " max_pooling2d_87 (MaxPoolin  (None, 1, 1, 64)         0         \n",
      " g2D)                                                            \n",
      "                                                                 \n",
      " dropout_86 (Dropout)        (None, 1, 1, 64)          0         \n",
      "                                                                 \n",
      " global_average_pooling2d_27  (None, 64)               0         \n",
      "  (GlobalAveragePooling2D)                                       \n",
      "                                                                 \n",
      " dense_57 (Dense)            (None, 64)                4160      \n",
      "                                                                 \n",
      "=================================================================\n",
      "Total params: 14,576\n",
      "Trainable params: 14,576\n",
      "Non-trainable params: 0\n",
      "_________________________________________________________________\n",
      "<class 'keras.engine.keras_tensor.KerasTensor'>\n",
      "<class 'keras.engine.keras_tensor.KerasTensor'>\n",
      "Model: \"model_34\"\n",
      "__________________________________________________________________________________________________\n",
      " Layer (type)                   Output Shape         Param #     Connected to                     \n",
      "==================================================================================================\n",
      " input_84 (InputLayer)          [(None, 768)]        0           []                               \n",
      "                                                                                                  \n",
      " dense_56 (Dense)               (None, 64)           49216       ['input_84[0][0]']               \n",
      "                                                                                                  \n",
      " reshape_28 (Reshape)           (None, 8, 8, 1)      0           ['dense_56[0][0]']               \n",
      "                                                                                                  \n",
      " input_85 (InputLayer)          [(None, 8, 8, 1)]    0           []                               \n",
      "                                                                                                  \n",
      " sequential_58 (Sequential)     (None, 64)           14576       ['reshape_28[0][0]',             \n",
      "                                                                  'input_85[0][0]']               \n",
      "                                                                                                  \n",
      " tf.math.subtract_13 (TFOpLambd  (None, 64)          0           ['sequential_58[0][0]',          \n",
      " a)                                                               'sequential_58[1][0]']          \n",
      "                                                                                                  \n",
      " tf.math.square_13 (TFOpLambda)  (None, 64)          0           ['tf.math.subtract_13[0][0]']    \n",
      "                                                                                                  \n",
      " tf.math.reduce_sum_13 (TFOpLam  (None, 1)           0           ['tf.math.square_13[0][0]']      \n",
      " bda)                                                                                             \n",
      "                                                                                                  \n",
      " tf.math.maximum_26 (TFOpLambda  (None, 1)           0           ['tf.math.reduce_sum_13[0][0]']  \n",
      " )                                                                                                \n",
      "                                                                                                  \n",
      " tf.math.maximum_27 (TFOpLambda  (None, 1)           0           ['tf.math.maximum_26[0][0]']     \n",
      " )                                                                                                \n",
      "                                                                                                  \n",
      " tf.math.sqrt_13 (TFOpLambda)   (None, 1)            0           ['tf.math.maximum_27[0][0]']     \n",
      "                                                                                                  \n",
      "==================================================================================================\n",
      "Total params: 63,792\n",
      "Trainable params: 63,792\n",
      "Non-trainable params: 0\n",
      "__________________________________________________________________________________________________\n"
     ]
    }
   ],
   "source": [
    "# CREATE THE ENTIRE SIAMESE NETWORK ARCHITECTURE\n",
    "\n",
    "GEN_INPUT_SHAPE = (8,8,1)\n",
    "TEXT_INPUT_SHAPE = (768,)\n",
    "\n",
    "#####     make the anchor, positive, negative inputs     #####\n",
    "\n",
    "# text first (anchor) - reshape from 768 to 8x8x1\n",
    "textIn = Sequential()\n",
    "textIn.add(Input(TEXT_INPUT_SHAPE))\n",
    "textIn.add(Dense(np.prod(GEN_INPUT_SHAPE)))\n",
    "textIn.add(Reshape(GEN_INPUT_SHAPE))\n",
    "# textIn.add(Lambda(lambda x: K.cast(x, dtype='float32')))\n",
    "textIn.summary()\n",
    "\n",
    "# image second (positive, negative)\n",
    "imgIn = Input(GEN_INPUT_SHAPE)\n",
    "\n",
    "#####     get the features from the siamese model     #####\n",
    "\n",
    "featureExtractor = siamese_model(GEN_INPUT_SHAPE)\n",
    "featsA = Model(inputs=textIn.input, outputs=featureExtractor(textIn.output)).output\n",
    "featsB = featureExtractor(imgIn)\n",
    "\n",
    "print(type(featsA))\n",
    "print(type(featsB))\n",
    "\n",
    "\n",
    "#construct the siamese network + compile\n",
    "distance = euclidean_distance([featsA, featsB])\n",
    "smn = Model(inputs=[textIn.input, imgIn], outputs=distance)\n",
    "smn.summary()\n",
    "smn.compile(loss=contrastive_loss, optimizer=\"adam\")"
   ]
  },
  {
   "cell_type": "code",
   "execution_count": 178,
   "metadata": {},
   "outputs": [
    {
     "name": "stdout",
     "output_type": "stream",
     "text": [
      "Text input shape: (None, 768)\n",
      "Image input shape: (None, 8, 8, 1)\n",
      "Feature A shape: (None, 64)\n",
      "Feature B shape: (None, 64)\n",
      "Distance shape: (None, 1)\n",
      "Siamse network input shape: [(None, 768), (None, 8, 8, 1)]\n"
     ]
    }
   ],
   "source": [
    "# sanity check the model\n",
    "print(f\"Text input shape: {textIn.input_shape}\")\n",
    "print(f\"Image input shape: {imgIn.shape}\")\n",
    "print(f\"Feature A shape: {featsA.shape}\")\n",
    "print(f\"Feature B shape: {featsB.shape}\")\n",
    "print(f\"Distance shape: {distance.shape}\")\n",
    "\n",
    "print(f\"Siamse network input shape: {smn.input_shape}\")"
   ]
  },
  {
   "attachments": {},
   "cell_type": "markdown",
   "metadata": {},
   "source": [
    "#### Run Siamese Network"
   ]
  },
  {
   "cell_type": "code",
   "execution_count": 183,
   "metadata": {},
   "outputs": [],
   "source": [
    "# plot the training history\n",
    "def plot_training(H):\n",
    "    # construct a plot that plots and saves the training history\n",
    "    # plt.style.use(\"ggplot\")\n",
    "    plt.figure()\n",
    "    plt.plot(H.history[\"loss\"], label=\"train_loss\")\n",
    "    if \"val_loss\" in H.history:\n",
    "        plt.plot(H.history[\"val_loss\"], label=\"val_loss\")\n",
    "    plt.title(\"Training Loss\")\n",
    "    plt.xlabel(\"Epoch #\")\n",
    "    plt.ylabel(\"Loss\")\n",
    "    plt.legend(loc=\"upper right\")\n",
    "    plt.show()"
   ]
  },
  {
   "cell_type": "code",
   "execution_count": 180,
   "metadata": {},
   "outputs": [
    {
     "name": "stdout",
     "output_type": "stream",
     "text": [
      "Epoch 1/20\n",
      "12/12 [==============================] - 2s 20ms/step - loss: 66.3058 - val_loss: 2.3783\n",
      "Epoch 2/20\n",
      "12/12 [==============================] - 0s 6ms/step - loss: 11.3608 - val_loss: 0.8139\n",
      "Epoch 3/20\n",
      "12/12 [==============================] - 0s 5ms/step - loss: 4.9330 - val_loss: 0.4197\n",
      "Epoch 4/20\n",
      "12/12 [==============================] - 0s 5ms/step - loss: 2.8037 - val_loss: 0.2772\n",
      "Epoch 5/20\n",
      "12/12 [==============================] - 0s 5ms/step - loss: 1.7501 - val_loss: 0.2129\n",
      "Epoch 6/20\n",
      "12/12 [==============================] - 0s 9ms/step - loss: 1.4335 - val_loss: 0.1911\n",
      "Epoch 7/20\n",
      "12/12 [==============================] - 0s 6ms/step - loss: 1.1299 - val_loss: 0.1865\n",
      "Epoch 8/20\n",
      "12/12 [==============================] - 0s 6ms/step - loss: 0.7061 - val_loss: 0.1910\n",
      "Epoch 9/20\n",
      "12/12 [==============================] - 0s 6ms/step - loss: 0.8628 - val_loss: 0.2016\n",
      "Epoch 10/20\n",
      "12/12 [==============================] - 0s 6ms/step - loss: 0.5666 - val_loss: 0.2133\n",
      "Epoch 11/20\n",
      "12/12 [==============================] - 0s 6ms/step - loss: 0.4431 - val_loss: 0.2207\n",
      "Epoch 12/20\n",
      "12/12 [==============================] - 0s 6ms/step - loss: 0.4173 - val_loss: 0.2263\n",
      "Epoch 13/20\n",
      "12/12 [==============================] - 0s 6ms/step - loss: 0.4802 - val_loss: 0.2303\n",
      "Epoch 14/20\n",
      "12/12 [==============================] - 0s 6ms/step - loss: 0.4291 - val_loss: 0.2354\n",
      "Epoch 15/20\n",
      "12/12 [==============================] - 0s 6ms/step - loss: 0.3465 - val_loss: 0.2381\n",
      "Epoch 16/20\n",
      "12/12 [==============================] - 0s 6ms/step - loss: 0.4227 - val_loss: 0.2402\n",
      "Epoch 17/20\n",
      "12/12 [==============================] - 0s 5ms/step - loss: 0.3424 - val_loss: 0.2421\n",
      "Epoch 18/20\n",
      "12/12 [==============================] - 0s 5ms/step - loss: 0.3374 - val_loss: 0.2422\n",
      "Epoch 19/20\n",
      "12/12 [==============================] - 0s 6ms/step - loss: 0.4334 - val_loss: 0.2441\n",
      "Epoch 20/20\n",
      "12/12 [==============================] - 0s 6ms/step - loss: 0.3519 - val_loss: 0.2471\n"
     ]
    },
    {
     "data": {
      "image/png": "[encoded data removed]",
      "text/plain": [
       "<Figure size 640x480 with 1 Axes>"
      ]
     },
     "metadata": {},
     "output_type": "display_data"
    }
   ],
   "source": [
    "# train the model\n",
    "# with tf.device('/device:GPU:0'):\n",
    "history = smn.fit(\n",
    "    [Xt_dat_txt, Xt_dat_img], y_train,\n",
    "    validation_data=([Xv_dat_txt, Xv_dat_img], y_val),\n",
    "    batch_size=SIAM_CONFIG['BATCH_SIZE'],\n",
    "    epochs=SIAM_CONFIG['EPOCHS'],\n",
    "    shuffle=True)\n",
    "\n",
    "plot_training(history)\n",
    "\n",
    "# save the model\n",
    "if SIAM_CONFIG[\"SAVE_MODEL\"]:\n",
    "    smn.save(SIAM_CONFIG[\"MODEL_PATH\"])"
   ]
  },
  {
   "attachments": {},
   "cell_type": "markdown",
   "metadata": {},
   "source": [
    "#### Test the model output"
   ]
  },
  {
   "cell_type": "code",
   "execution_count": 181,
   "metadata": {},
   "outputs": [
    {
     "name": "stdout",
     "output_type": "stream",
     "text": [
      "WARNING:tensorflow:6 out of the last 13 calls to <function Model.make_predict_function.<locals>.predict_function at 0x18625c5e0> triggered tf.function retracing. Tracing is expensive and the excessive number of tracings could be due to (1) creating @tf.function repeatedly in a loop, (2) passing tensors with different shapes, (3) passing Python objects instead of tensors. For (1), please define your @tf.function outside of the loop. For (2), @tf.function has reduce_retracing=True option that can avoid unnecessary retracing. For (3), please refer to https://www.tensorflow.org/guide/function#controlling_retracing and https://www.tensorflow.org/api_docs/python/tf/function for  more details.\n",
      "1/1 [==============================] - 0s 128ms/step\n",
      "1/1 [==============================] - 0s 20ms/step\n"
     ]
    }
   ],
   "source": [
    "NUM_TEST_PAIRS = 5\n",
    "\n",
    "# get some random samples\n",
    "# rand_i = random.sample(range(len(pico_char_dat)), NUM_TEST_PAIRS)\n",
    "rand_not_i = random.sample(range(len(pico_char_dat)), NUM_TEST_PAIRS)\n",
    "\n",
    "# preset samples for comparison\n",
    "rand_i = [21,53,90,96,99,30]  #tails, finn, link, samus, pikachu, leonardo\n",
    "rand_not_i.append(31)  # add raphael\n",
    "# rand_not_i = [0,1,2,3,4,5]  # \n",
    "\n",
    "\n",
    "# get the text and image (and bad imgs)\n",
    "test_txt = pico_char_labels[rand_i]\n",
    "test_txt_emb = np.array(pico_char_labels_emb)[rand_i]\n",
    "test_img = pico_char_dat[rand_i]\n",
    "test_not_img = pico_char_dat[rand_not_i]\n",
    "\n",
    "# show the prediction output from the model\n",
    "pos = smn.predict([[test_txt_emb], [test_img]])\n",
    "neg = smn.predict([[test_txt_emb], [test_not_img]])\n",
    "\n",
    "# print(pos.shape)\n",
    "# print(neg.shape)"
   ]
  },
  {
   "cell_type": "code",
   "execution_count": 182,
   "metadata": {},
   "outputs": [
    {
     "name": "stdout",
     "output_type": "stream",
     "text": [
      "Text: an orange fox with red shoes\n"
     ]
    },
    {
     "data": {
      "image/png": "[encoded data removed]",
      "text/plain": [
       "<Figure size 2000x700 with 2 Axes>"
      ]
     },
     "metadata": {},
     "output_type": "display_data"
    },
    {
     "name": "stdout",
     "output_type": "stream",
     "text": [
      "Text: a boy with a white hat with ears, blue shirt and black pants wearing a green backpack\n"
     ]
    },
    {
     "data": {
      "image/png": "[encoded data removed]",
      "text/plain": [
       "<Figure size 2000x700 with 2 Axes>"
      ]
     },
     "metadata": {},
     "output_type": "display_data"
    },
    {
     "name": "stdout",
     "output_type": "stream",
     "text": [
      "Text: a man with green clothes and yellow hair with a sword and shield\n"
     ]
    },
    {
     "data": {
      "image/png": "[encoded data removed]",
      "text/plain": [
       "<Figure size 2000x700 with 2 Axes>"
      ]
     },
     "metadata": {},
     "output_type": "display_data"
    },
    {
     "name": "stdout",
     "output_type": "stream",
     "text": [
      "Text: a robot with a red helmet and green glasses with an orange suit and blue gun\n"
     ]
    },
    {
     "data": {
      "image/png": "[encoded data removed]",
      "text/plain": [
       "<Figure size 2000x700 with 2 Axes>"
      ]
     },
     "metadata": {},
     "output_type": "display_data"
    },
    {
     "name": "stdout",
     "output_type": "stream",
     "text": [
      "Text: a yellow monster with black ears and red cheeks\n"
     ]
    },
    {
     "data": {
      "image/png": "[encoded data removed]",
      "text/plain": [
       "<Figure size 2000x700 with 2 Axes>"
      ]
     },
     "metadata": {},
     "output_type": "display_data"
    },
    {
     "name": "stdout",
     "output_type": "stream",
     "text": [
      "Text: a green turtle standing up with a blue bandana on its eyes\n"
     ]
    },
    {
     "data": {
      "image/png": "[encoded data removed]",
      "text/plain": [
       "<Figure size 2000x700 with 2 Axes>"
      ]
     },
     "metadata": {},
     "output_type": "display_data"
    }
   ],
   "source": [
    "# show the output\n",
    "for i in range(len(test_txt)):\n",
    "    print(f\"Text: {test_txt[i]}\")\n",
    "    showMultiSprPalette([test_img[i],test_not_img[i]],textArr=[pos[i],neg[i]])\n"
   ]
  }
 ],
 "metadata": {
  "kernelspec": {
   "display_name": "bmo-venv",
   "language": "python",
   "name": "python3"
  },
  "language_info": {
   "codemirror_mode": {
    "name": "ipython",
    "version": 3
   },
   "file_extension": ".py",
   "mimetype": "text/x-python",
   "name": "python",
   "nbconvert_exporter": "python",
   "pygments_lexer": "ipython3",
   "version": "3.8.9"
  },
  "orig_nbformat": 4
 },
 "nbformat": 4,
 "nbformat_minor": 2
}
