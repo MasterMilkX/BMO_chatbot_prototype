{
 "cells": [
  {
   "attachments": {},
   "cell_type": "markdown",
   "metadata": {},
   "source": [
    "## Sprite Siamese Network\n",
    "- Intended to be a \"CLIP\"-like text2image evaluator to determine which text encodings are closest to images using few-shot learning\n",
    "- Code taken from the Siamese Network architecture used in the fingerprint clustering and from https://keras.io/examples/vision/siamese_network/\n",
    "\n",
    "---\n",
    "\n",
    "### NOTES\n",
    "\n",
    "Overall\n",
    "- trains very quickly, has intended output of a single distance value from a text to image comparison\n",
    "- text embedding information may be getting too condensed and lost in the network\n",
    "\n",
    "1-1 text to correct image / wrong image pairing\n",
    "- too close in similarity for final distance\n",
    "- gets it completely wrong between the pos / neg anchors sometimes\n",
    "\n",
    "1-99 text to correct image / everything else pairings\n",
    "- learns nothing; everything is perfectly in the middle (50% similarity)\n",
    "\n"
   ]
  },
  {
   "attachments": {},
   "cell_type": "markdown",
   "metadata": {},
   "source": [
    "#### Imports and Configuration"
   ]
  },
  {
   "cell_type": "code",
   "execution_count": 26,
   "metadata": {},
   "outputs": [],
   "source": [
    "# Imports\n",
    "\n",
    "import numpy as np\n",
    "import matplotlib.pyplot as plt\n",
    "import random\n",
    "from matplotlib.colors import ListedColormap\n",
    "from tqdm import tqdm\n",
    "from sentence_transformers import SentenceTransformer\n",
    "\n",
    "# tensorflow\n",
    "import tensorflow as tf\n",
    "from tensorflow.keras import backend as K\n",
    "from tensorflow.keras import optimizers\n",
    "from tensorflow.keras.models import Sequential, load_model, Model\n",
    "from tensorflow.keras.layers import Conv2D, MaxPooling2D, Dense, Flatten, Dropout, Reshape, Activation, Input, GlobalAveragePooling2D, Lambda"
   ]
  },
  {
   "cell_type": "code",
   "execution_count": 2,
   "metadata": {},
   "outputs": [],
   "source": [
    "#import from Python folder to get the utils\n",
    "import sys\n",
    "sys.path.append('../Python')\n",
    "from utils import picoSS2np, showMultiSprPalette, showMultiSprRGB, showSprRGB, showSprPalette, animatePal"
   ]
  },
  {
   "cell_type": "code",
   "execution_count": 3,
   "metadata": {},
   "outputs": [],
   "source": [
    "### CONSTANT VARIABLES   ###\n",
    "\n",
    "# PICO-8 Palette => use colormap for matplotlib\n",
    "PICO_PALETTE = ['#000000','#1D2B53','#7E2553','#008751','#AB5236','#5F574F','#C2C3C7','#FFF1E8','#FF004D','#FFA300','#FFEC27','#00E436','#29ADFF','#83769C','#FF77A8','#FFCCAA']\n"
   ]
  },
  {
   "cell_type": "code",
   "execution_count": 4,
   "metadata": {},
   "outputs": [
    {
     "name": "stdout",
     "output_type": "stream",
     "text": [
      "Food Dataset shape: (100, 8, 8)\n",
      "Char Dataset shape: (100, 8, 8)\n"
     ]
    },
    {
     "data": {
      "image/png": "[encoded data removed]",
      "text/plain": [
       "<Figure size 2000x700 with 2 Axes>"
      ]
     },
     "metadata": {},
     "output_type": "display_data"
    }
   ],
   "source": [
    "# import the dataset to use (pico-characters)\n",
    "\n",
    "# import from the PICO sprites posted onto Twitter \n",
    "# Food: https://twitter.com/JUSTIN_CYR/status/634546317713391616\n",
    "# Characters: https://twitter.com/johanvinet/status/635814153601597441\n",
    "pico_food_dat = np.load('../data/rip_data/pico_food.npy',allow_pickle=True)\n",
    "pico_char_dat = np.load('../data/rip_data/pico_characters.npy',allow_pickle=True)\n",
    "\n",
    "print(f\"Food Dataset shape: {pico_food_dat.shape}\")\n",
    "print(f\"Char Dataset shape: {pico_char_dat.shape}\")\n",
    "\n",
    "# show a random food and character sprite \n",
    "rand_food = random.choice(pico_food_dat)\n",
    "rand_char = random.choice(pico_char_dat)\n",
    "showMultiSprPalette([rand_food,rand_char],textArr=['Food','Character'])"
   ]
  },
  {
   "cell_type": "code",
   "execution_count": 5,
   "metadata": {},
   "outputs": [
    {
     "name": "stderr",
     "output_type": "stream",
     "text": [
      "Encoding labels: 100%|██████████| 100/100 [00:07<00:00, 13.37it/s]\n"
     ]
    }
   ],
   "source": [
    "# get the text descriptions and convert to embeddings\n",
    "\n",
    "# import sentence-transformer for text embedding \n",
    "SBERT_MODEL = SentenceTransformer('bert-base-nli-mean-tokens')\n",
    "\n",
    "def sentEmb(txt):\n",
    "    return SBERT_MODEL.encode([txt])[0]\n",
    "\n",
    "# import the text data\n",
    "pico_char_labels = np.array([l.strip() for l in open('../data/rip_data/character_desc.txt','r').readlines()])\n",
    "\n",
    "# encode the labels\n",
    "pico_char_labels_emb = []\n",
    "with tqdm(total=len(pico_char_labels)) as pbar:\n",
    "    pbar.set_description(\"Encoding labels\")\n",
    "    for l in pico_char_labels:\n",
    "        pico_char_labels_emb.append(sentEmb(l))\n",
    "        pbar.update(1)"
   ]
  },
  {
   "cell_type": "code",
   "execution_count": 6,
   "metadata": {},
   "outputs": [
    {
     "name": "stdout",
     "output_type": "stream",
     "text": [
      "Character: a red robot dog\n"
     ]
    },
    {
     "data": {
      "image/png": "[encoded data removed]",
      "text/plain": [
       "<Figure size 200x200 with 1 Axes>"
      ]
     },
     "metadata": {},
     "output_type": "display_data"
    },
    {
     "name": "stdout",
     "output_type": "stream",
     "text": [
      "Encoding length: 768\n"
     ]
    }
   ],
   "source": [
    "# show a random character and its description\n",
    "rand_char_idx = random.randint(0,len(pico_char_labels))\n",
    "print(f\"Character: {pico_char_labels[rand_char_idx]}\")\n",
    "showSprPalette(pico_char_dat[rand_char_idx])\n",
    "\n",
    "desc_enc = pico_char_labels_emb[rand_char_idx]\n",
    "print(f\"Encoding length: {len(desc_enc)}\")"
   ]
  },
  {
   "cell_type": "code",
   "execution_count": 152,
   "metadata": {},
   "outputs": [],
   "source": [
    "# configure the training parameters\n",
    "SIAM_CONFIG = {\n",
    "    \"EPOCHS\": 0,\n",
    "    \"BATCH_SIZE\": 16,\n",
    "    \"VAL_SPLIT\": 0.1}\n",
    "\n",
    "SIAM_CONFIG[\"MODEL_PATH\"] = f\"../models/siamese_txt2img/smn_pico_char-{SIAM_CONFIG['EPOCHS']}e.h5\""
   ]
  },
  {
   "attachments": {},
   "cell_type": "markdown",
   "metadata": {},
   "source": [
    "#### Siamese Network Setup"
   ]
  },
  {
   "cell_type": "code",
   "execution_count": 153,
   "metadata": {},
   "outputs": [],
   "source": [
    "# pairs up one good image and one bad image to text (1-1)\n",
    "def pairing_1_1(imgs, text):\n",
    "    pairX = []    # texts - image\n",
    "    pairY = []    # 1 for positive, 0 for negative\n",
    "\n",
    "    imgs = np.expand_dims(imgs,axis=-1) # expand the dimensions of the images\n",
    "\n",
    "    for i in range(len(imgs)):\n",
    "        # pair text to the correct image (positive pair)\n",
    "        pairX.append([text[i],imgs[i]])\n",
    "        pairY.append(1)\n",
    "\n",
    "        # [1-1 test]\n",
    "        # pair text to a random image (negative pair)\n",
    "        all_but_i = list(range(len(imgs)))\n",
    "        rand_img = random.choice(all_but_i[:i] + all_but_i[i+1:])\n",
    "        pairX.append([text[i],imgs[rand_img]])\n",
    "        pairY.append(0)\n",
    "\n",
    "    return np.array(pairX), np.array(pairY)\n",
    "\n",
    "# pairs up the correct image to text with everything else as negative exampkes (1-99)\n",
    "def pairing_1_99(imgs, text):\n",
    "    pairX = []    # texts - image\n",
    "    pairY = []    # 1 for positive, 0 for negative\n",
    "\n",
    "    imgs = np.expand_dims(imgs,axis=-1) # expand the dimensions of the images\n",
    "\n",
    "    for i in range(len(imgs)):\n",
    "        # pair text to the correct image (positive pair)\n",
    "        pairX.append([text[i],imgs[i]])\n",
    "        pairY.append(1)\n",
    "\n",
    "        # [1-99 test]\n",
    "        # pair off the rest of the images to the text (negative pair)  \n",
    "        for j in range(len(imgs)):\n",
    "            if j != i:\n",
    "                pairX.append([text[i],imgs[j]])\n",
    "                pairY.append(0)\n",
    "\n",
    "    return np.array(pairX), np.array(pairY)\n",
    "\n",
    "# split data into train and validation sets\n",
    "def train_val_split(X,y,vperc=0.1):\n",
    "    # shuffle the data\n",
    "    idx = np.arange(len(X))\n",
    "    np.random.shuffle(idx)\n",
    "    X = X[idx]\n",
    "    y = y[idx]\n",
    "\n",
    "    # split the data\n",
    "    split = int(len(X) * (1-vperc))\n",
    "    X_train, X_val = X[:split], X[split:]\n",
    "    y_train, y_val = y[:split], y[split:]\n",
    "\n",
    "    return X_train, X_val, y_train, y_val\n"
   ]
  },
  {
   "cell_type": "code",
   "execution_count": 154,
   "metadata": {},
   "outputs": [
    {
     "name": "stdout",
     "output_type": "stream",
     "text": [
      "X_dat_txt shape: (180, 768)\n",
      "X_dat_img shape: (180, 8, 8, 1)\n",
      "y_train shape: (180,)\n",
      "\n",
      "Xv_dat_txt shape: (20, 768)\n",
      "Xv_dat_img shape: (20, 8, 8, 1)\n",
      "y_val shape: (20,)\n"
     ]
    },
    {
     "name": "stderr",
     "output_type": "stream",
     "text": [
      "/var/folders/5h/0zjb1m296y1gvhtd9q40w4yc0000gn/T/ipykernel_9235/1356692895.py:29: VisibleDeprecationWarning: Creating an ndarray from ragged nested sequences (which is a list-or-tuple of lists-or-tuples-or ndarrays with different lengths or shapes) is deprecated. If you meant to do this, you must specify 'dtype=object' when creating the ndarray.\n",
      "  return np.array(pairX), np.array(pairY)\n"
     ]
    }
   ],
   "source": [
    "# make the training data\n",
    "X_dat, y_dat = pairing_1_1(pico_char_dat, pico_char_labels_emb)\n",
    "\n",
    "# split into train and validation sets\n",
    "X_train, X_val, y_train, y_val = train_val_split(X_dat, y_dat, vperc=SIAM_CONFIG[\"VAL_SPLIT\"])\n",
    "\n",
    "Xt_dat_txt = np.array([t for t in X_train[:,0]])\n",
    "Xt_dat_img = np.array([i for i in X_train[:,1]])\n",
    "\n",
    "Xv_dat_txt = np.array([t for t in X_val[:,0]])\n",
    "Xv_dat_img = np.array([i for i in X_val[:,1]])\n",
    "\n",
    "print(f\"X_dat_txt shape: {Xt_dat_txt.shape}\")\n",
    "print(f\"X_dat_img shape: {Xt_dat_img.shape}\")\n",
    "print(f\"y_train shape: {y_train.shape}\")\n",
    "\n",
    "print(\"\")\n",
    "print(f\"Xv_dat_txt shape: {Xv_dat_txt.shape}\")\n",
    "print(f\"Xv_dat_img shape: {Xv_dat_img.shape}\")\n",
    "print(f\"y_val shape: {y_val.shape}\")"
   ]
  },
  {
   "cell_type": "code",
   "execution_count": 155,
   "metadata": {},
   "outputs": [],
   "source": [
    "# feature extracting siamese network\n",
    "def siamese_model(inputShape, embeddingDim=64):\n",
    "    model = Sequential()\n",
    "    model.add(Input(inputShape))\n",
    "    \n",
    "    model.add(Conv2D(16, (2, 2), padding=\"same\", activation=\"relu\"))\n",
    "    model.add(MaxPooling2D((2, 2)))\n",
    "    model.add(Dropout(0.3))\n",
    "    \n",
    "    model.add(Conv2D(32, (2, 2), padding=\"same\", activation=\"relu\"))\n",
    "    model.add(MaxPooling2D((2, 2)))\n",
    "    model.add(Dropout(0.3))\n",
    "    \n",
    "    model.add(Conv2D(64, (2, 2), padding=\"same\", activation=\"relu\"))\n",
    "    model.add(MaxPooling2D((2, 2)))\n",
    "    model.add(Dropout(0.3))\n",
    "    \n",
    "    # model.add(Conv2D(128, (2, 2), padding=\"same\", activation=\"relu\"))\n",
    "    # model.add(MaxPooling2D((2, 2)))\n",
    "    # model.add(Dropout(0.3))\n",
    "    \n",
    "    model.add(GlobalAveragePooling2D())\n",
    "    model.add(Dense(embeddingDim))\n",
    "    \n",
    "    model.summary()\n",
    "    \n",
    "    return model\n",
    "    "
   ]
  },
  {
   "cell_type": "code",
   "execution_count": 156,
   "metadata": {},
   "outputs": [],
   "source": [
    "# siamese loss function for few-shot learning\n",
    "def contrastive_loss(y, preds, margin=1):\n",
    "    y = tf.cast(y, preds.dtype)\n",
    "    \n",
    "    # calculate the contrastive loss between the true labels and the predicted labels\n",
    "    squaredPreds = K.square(preds)\n",
    "    squaredMargin = K.square(K.maximum(margin - preds, 0))\n",
    "    loss = K.mean(y * squaredPreds + (1 - y) * squaredMargin)\n",
    "    \n",
    "    return loss\n",
    "\n",
    "# euclidean distance calculation to determine similarity between text 2 image\n",
    "def euclidean_distance(vectors):\n",
    "    # unpack the vectors into separate lists\n",
    "    (fa, fb) = vectors\n",
    "    \n",
    "    # compute the sum of squared distances between the vectors\n",
    "    sumSquared = K.sum(K.square(fa - fb), axis=1,keepdims=True)\n",
    "    \n",
    "    # return the euclidean distance between the vectors\n",
    "    return K.sqrt(K.maximum(sumSquared, K.epsilon()))"
   ]
  },
  {
   "cell_type": "code",
   "execution_count": 157,
   "metadata": {},
   "outputs": [
    {
     "name": "stdout",
     "output_type": "stream",
     "text": [
      "Model: \"sequential_53\"\n",
      "_________________________________________________________________\n",
      " Layer (type)                Output Shape              Param #   \n",
      "=================================================================\n",
      " dense_52 (Dense)            (None, 64)                49216     \n",
      "                                                                 \n",
      " reshape_26 (Reshape)        (None, 8, 8, 1)           0         \n",
      "                                                                 \n",
      "=================================================================\n",
      "Total params: 49,216\n",
      "Trainable params: 49,216\n",
      "Non-trainable params: 0\n",
      "_________________________________________________________________\n",
      "Model: \"sequential_54\"\n",
      "_________________________________________________________________\n",
      " Layer (type)                Output Shape              Param #   \n",
      "=================================================================\n",
      " conv2d_79 (Conv2D)          (None, 8, 8, 16)          80        \n",
      "                                                                 \n",
      " max_pooling2d_79 (MaxPoolin  (None, 4, 4, 16)         0         \n",
      " g2D)                                                            \n",
      "                                                                 \n",
      " dropout_78 (Dropout)        (None, 4, 4, 16)          0         \n",
      "                                                                 \n",
      " conv2d_80 (Conv2D)          (None, 4, 4, 32)          2080      \n",
      "                                                                 \n",
      " max_pooling2d_80 (MaxPoolin  (None, 2, 2, 32)         0         \n",
      " g2D)                                                            \n",
      "                                                                 \n",
      " dropout_79 (Dropout)        (None, 2, 2, 32)          0         \n",
      "                                                                 \n",
      " conv2d_81 (Conv2D)          (None, 2, 2, 64)          8256      \n",
      "                                                                 \n",
      " max_pooling2d_81 (MaxPoolin  (None, 1, 1, 64)         0         \n",
      " g2D)                                                            \n",
      "                                                                 \n",
      " dropout_80 (Dropout)        (None, 1, 1, 64)          0         \n",
      "                                                                 \n",
      " global_average_pooling2d_25  (None, 64)               0         \n",
      "  (GlobalAveragePooling2D)                                       \n",
      "                                                                 \n",
      " dense_53 (Dense)            (None, 64)                4160      \n",
      "                                                                 \n",
      "=================================================================\n",
      "Total params: 14,576\n",
      "Trainable params: 14,576\n",
      "Non-trainable params: 0\n",
      "_________________________________________________________________\n",
      "<class 'keras.engine.keras_tensor.KerasTensor'>\n",
      "<class 'keras.engine.keras_tensor.KerasTensor'>\n",
      "Model: \"model_30\"\n",
      "__________________________________________________________________________________________________\n",
      " Layer (type)                   Output Shape         Param #     Connected to                     \n",
      "==================================================================================================\n",
      " input_78 (InputLayer)          [(None, 768)]        0           []                               \n",
      "                                                                                                  \n",
      " dense_52 (Dense)               (None, 64)           49216       ['input_78[0][0]']               \n",
      "                                                                                                  \n",
      " reshape_26 (Reshape)           (None, 8, 8, 1)      0           ['dense_52[0][0]']               \n",
      "                                                                                                  \n",
      " input_79 (InputLayer)          [(None, 8, 8, 1)]    0           []                               \n",
      "                                                                                                  \n",
      " sequential_54 (Sequential)     (None, 64)           14576       ['reshape_26[0][0]',             \n",
      "                                                                  'input_79[0][0]']               \n",
      "                                                                                                  \n",
      " tf.math.subtract_11 (TFOpLambd  (None, 64)          0           ['sequential_54[0][0]',          \n",
      " a)                                                               'sequential_54[1][0]']          \n",
      "                                                                                                  \n",
      " tf.math.square_11 (TFOpLambda)  (None, 64)          0           ['tf.math.subtract_11[0][0]']    \n",
      "                                                                                                  \n",
      " tf.math.reduce_sum_11 (TFOpLam  (None, 1)           0           ['tf.math.square_11[0][0]']      \n",
      " bda)                                                                                             \n",
      "                                                                                                  \n",
      " tf.math.maximum_22 (TFOpLambda  (None, 1)           0           ['tf.math.reduce_sum_11[0][0]']  \n",
      " )                                                                                                \n",
      "                                                                                                  \n",
      " tf.math.maximum_23 (TFOpLambda  (None, 1)           0           ['tf.math.maximum_22[0][0]']     \n",
      " )                                                                                                \n",
      "                                                                                                  \n",
      " tf.math.sqrt_11 (TFOpLambda)   (None, 1)            0           ['tf.math.maximum_23[0][0]']     \n",
      "                                                                                                  \n",
      "==================================================================================================\n",
      "Total params: 63,792\n",
      "Trainable params: 63,792\n",
      "Non-trainable params: 0\n",
      "__________________________________________________________________________________________________\n"
     ]
    }
   ],
   "source": [
    "# CREATE THE ENTIRE SIAMESE NETWORK ARCHITECTURE\n",
    "\n",
    "GEN_INPUT_SHAPE = (8,8,1)\n",
    "TEXT_INPUT_SHAPE = (768,)\n",
    "\n",
    "#####     make the anchor, positive, negative inputs     #####\n",
    "\n",
    "# text first (anchor) - reshape from 768 to 8x8x1\n",
    "textIn = Sequential()\n",
    "textIn.add(Input(TEXT_INPUT_SHAPE))\n",
    "textIn.add(Dense(np.prod(GEN_INPUT_SHAPE)))\n",
    "textIn.add(Reshape(GEN_INPUT_SHAPE))\n",
    "# textIn.add(Lambda(lambda x: K.cast(x, dtype='float32')))\n",
    "textIn.summary()\n",
    "\n",
    "# image second (positive, negative)\n",
    "imgIn = Input(GEN_INPUT_SHAPE)\n",
    "\n",
    "#####     get the features from the siamese model     #####\n",
    "\n",
    "featureExtractor = siamese_model(GEN_INPUT_SHAPE)\n",
    "featsA = Model(inputs=textIn.input, outputs=featureExtractor(textIn.output)).output\n",
    "featsB = featureExtractor(imgIn)\n",
    "\n",
    "print(type(featsA))\n",
    "print(type(featsB))\n",
    "\n",
    "\n",
    "#construct the siamese network + compile\n",
    "distance = euclidean_distance([featsA, featsB])\n",
    "smn = Model(inputs=[textIn.input, imgIn], outputs=distance)\n",
    "smn.summary()\n",
    "smn.compile(loss=contrastive_loss, optimizer=\"adam\")"
   ]
  },
  {
   "cell_type": "code",
   "execution_count": 158,
   "metadata": {},
   "outputs": [
    {
     "name": "stdout",
     "output_type": "stream",
     "text": [
      "Text input shape: (None, 768)\n",
      "Image input shape: (None, 8, 8, 1)\n",
      "Feature A shape: (None, 64)\n",
      "Feature B shape: (None, 64)\n",
      "Distance shape: (None, 1)\n",
      "Siamse network input shape: [(None, 768), (None, 8, 8, 1)]\n"
     ]
    }
   ],
   "source": [
    "# sanity check the model\n",
    "print(f\"Text input shape: {textIn.input_shape}\")\n",
    "print(f\"Image input shape: {imgIn.shape}\")\n",
    "print(f\"Feature A shape: {featsA.shape}\")\n",
    "print(f\"Feature B shape: {featsB.shape}\")\n",
    "print(f\"Distance shape: {distance.shape}\")\n",
    "\n",
    "print(f\"Siamse network input shape: {smn.input_shape}\")"
   ]
  },
  {
   "attachments": {},
   "cell_type": "markdown",
   "metadata": {},
   "source": [
    "#### Run Siamese Network"
   ]
  },
  {
   "cell_type": "code",
   "execution_count": 159,
   "metadata": {},
   "outputs": [],
   "source": [
    "# plot the training history\n",
    "def plot_training(H):\n",
    "    # construct a plot that plots and saves the training history\n",
    "    plt.style.use(\"ggplot\")\n",
    "    plt.figure()\n",
    "    plt.plot(H.history[\"loss\"], label=\"train_loss\")\n",
    "    if \"val_loss\" in H.history:\n",
    "        plt.plot(H.history[\"val_loss\"], label=\"val_loss\")\n",
    "    plt.title(\"Training Loss\")\n",
    "    plt.xlabel(\"Epoch #\")\n",
    "    plt.ylabel(\"Loss\")\n",
    "    plt.legend(loc=\"lower left\")\n",
    "    plt.show()"
   ]
  },
  {
   "cell_type": "code",
   "execution_count": 160,
   "metadata": {},
   "outputs": [
    {
     "name": "stdout",
     "output_type": "stream",
     "text": [
      "Epoch 1/100\n",
      "12/12 [==============================] - 2s 25ms/step - loss: 61.4701 - val_loss: 1.7414\n",
      "Epoch 2/100\n",
      "12/12 [==============================] - 0s 6ms/step - loss: 11.5878 - val_loss: 0.5114\n",
      "Epoch 3/100\n",
      "12/12 [==============================] - 0s 6ms/step - loss: 4.7530 - val_loss: 0.2780\n",
      "Epoch 4/100\n",
      "12/12 [==============================] - 0s 6ms/step - loss: 2.5068 - val_loss: 0.2676\n",
      "Epoch 5/100\n",
      "12/12 [==============================] - 0s 6ms/step - loss: 2.0487 - val_loss: 0.2934\n",
      "Epoch 6/100\n",
      "12/12 [==============================] - 0s 6ms/step - loss: 1.5326 - val_loss: 0.3222\n",
      "Epoch 7/100\n",
      "12/12 [==============================] - 0s 6ms/step - loss: 1.0609 - val_loss: 0.3465\n",
      "Epoch 8/100\n",
      "12/12 [==============================] - 0s 6ms/step - loss: 0.9522 - val_loss: 0.3689\n",
      "Epoch 9/100\n",
      "12/12 [==============================] - 0s 6ms/step - loss: 0.7932 - val_loss: 0.3961\n",
      "Epoch 10/100\n",
      "12/12 [==============================] - 0s 6ms/step - loss: 0.7335 - val_loss: 0.4194\n",
      "Epoch 11/100\n",
      "12/12 [==============================] - 0s 6ms/step - loss: 0.6122 - val_loss: 0.4387\n",
      "Epoch 12/100\n",
      "12/12 [==============================] - 0s 6ms/step - loss: 0.5311 - val_loss: 0.4523\n",
      "Epoch 13/100\n",
      "12/12 [==============================] - 0s 6ms/step - loss: 0.4994 - val_loss: 0.4602\n",
      "Epoch 14/100\n",
      "12/12 [==============================] - 0s 6ms/step - loss: 0.4144 - val_loss: 0.4699\n",
      "Epoch 15/100\n",
      "12/12 [==============================] - 0s 6ms/step - loss: 0.3795 - val_loss: 0.4761\n",
      "Epoch 16/100\n",
      "12/12 [==============================] - 0s 5ms/step - loss: 0.4069 - val_loss: 0.4785\n",
      "Epoch 17/100\n",
      "12/12 [==============================] - 0s 10ms/step - loss: 0.3440 - val_loss: 0.4809\n",
      "Epoch 18/100\n",
      "12/12 [==============================] - 0s 7ms/step - loss: 0.3425 - val_loss: 0.4841\n",
      "Epoch 19/100\n",
      "12/12 [==============================] - 0s 6ms/step - loss: 0.3951 - val_loss: 0.4874\n",
      "Epoch 20/100\n",
      "12/12 [==============================] - 0s 8ms/step - loss: 0.3952 - val_loss: 0.4894\n",
      "Epoch 21/100\n",
      "12/12 [==============================] - 0s 6ms/step - loss: 0.3185 - val_loss: 0.4924\n",
      "Epoch 22/100\n",
      "12/12 [==============================] - 0s 6ms/step - loss: 0.3997 - val_loss: 0.4947\n",
      "Epoch 23/100\n",
      "12/12 [==============================] - 0s 6ms/step - loss: 0.3561 - val_loss: 0.4950\n",
      "Epoch 24/100\n",
      "12/12 [==============================] - 0s 6ms/step - loss: 0.3273 - val_loss: 0.4929\n",
      "Epoch 25/100\n",
      "12/12 [==============================] - 0s 6ms/step - loss: 0.3699 - val_loss: 0.4927\n",
      "Epoch 26/100\n",
      "12/12 [==============================] - 0s 6ms/step - loss: 0.3799 - val_loss: 0.4928\n",
      "Epoch 27/100\n",
      "12/12 [==============================] - 0s 5ms/step - loss: 0.3827 - val_loss: 0.4922\n",
      "Epoch 28/100\n",
      "12/12 [==============================] - 0s 8ms/step - loss: 0.3402 - val_loss: 0.4916\n",
      "Epoch 29/100\n",
      "12/12 [==============================] - 0s 6ms/step - loss: 0.3147 - val_loss: 0.4912\n",
      "Epoch 30/100\n",
      "12/12 [==============================] - 0s 9ms/step - loss: 0.3394 - val_loss: 0.4920\n",
      "Epoch 31/100\n",
      "12/12 [==============================] - 0s 6ms/step - loss: 0.3302 - val_loss: 0.4927\n",
      "Epoch 32/100\n",
      "12/12 [==============================] - 0s 6ms/step - loss: 0.3214 - val_loss: 0.4894\n",
      "Epoch 33/100\n",
      "12/12 [==============================] - 0s 5ms/step - loss: 0.3248 - val_loss: 0.4834\n",
      "Epoch 34/100\n",
      "12/12 [==============================] - 0s 7ms/step - loss: 0.3329 - val_loss: 0.4859\n",
      "Epoch 35/100\n",
      "12/12 [==============================] - 0s 7ms/step - loss: 0.3501 - val_loss: 0.4833\n",
      "Epoch 36/100\n",
      "12/12 [==============================] - 0s 5ms/step - loss: 0.3172 - val_loss: 0.4849\n",
      "Epoch 37/100\n",
      "12/12 [==============================] - 0s 6ms/step - loss: 0.2746 - val_loss: 0.4832\n",
      "Epoch 38/100\n",
      "12/12 [==============================] - 0s 6ms/step - loss: 0.2989 - val_loss: 0.4762\n",
      "Epoch 39/100\n",
      "12/12 [==============================] - 0s 5ms/step - loss: 0.3221 - val_loss: 0.4661\n",
      "Epoch 40/100\n",
      "12/12 [==============================] - 0s 6ms/step - loss: 0.3438 - val_loss: 0.4613\n",
      "Epoch 41/100\n",
      "12/12 [==============================] - 0s 5ms/step - loss: 0.3069 - val_loss: 0.4601\n",
      "Epoch 42/100\n",
      "12/12 [==============================] - 0s 8ms/step - loss: 0.3244 - val_loss: 0.4591\n",
      "Epoch 43/100\n",
      "12/12 [==============================] - 0s 5ms/step - loss: 0.3660 - val_loss: 0.4719\n",
      "Epoch 44/100\n",
      "12/12 [==============================] - 0s 6ms/step - loss: 0.3519 - val_loss: 0.4782\n",
      "Epoch 45/100\n",
      "12/12 [==============================] - 0s 6ms/step - loss: 0.3224 - val_loss: 0.4784\n",
      "Epoch 46/100\n",
      "12/12 [==============================] - 0s 6ms/step - loss: 0.3029 - val_loss: 0.4765\n",
      "Epoch 47/100\n",
      "12/12 [==============================] - 0s 6ms/step - loss: 0.3179 - val_loss: 0.4723\n",
      "Epoch 48/100\n",
      "12/12 [==============================] - 0s 5ms/step - loss: 0.3410 - val_loss: 0.4749\n",
      "Epoch 49/100\n",
      "12/12 [==============================] - 0s 5ms/step - loss: 0.3128 - val_loss: 0.4740\n",
      "Epoch 50/100\n",
      "12/12 [==============================] - 0s 5ms/step - loss: 0.2973 - val_loss: 0.4710\n",
      "Epoch 51/100\n",
      "12/12 [==============================] - 0s 5ms/step - loss: 0.2907 - val_loss: 0.4613\n",
      "Epoch 52/100\n",
      "12/12 [==============================] - 0s 6ms/step - loss: 0.3258 - val_loss: 0.4514\n",
      "Epoch 53/100\n",
      "12/12 [==============================] - 0s 5ms/step - loss: 0.2935 - val_loss: 0.4385\n",
      "Epoch 54/100\n",
      "12/12 [==============================] - 0s 5ms/step - loss: 0.3088 - val_loss: 0.4416\n",
      "Epoch 55/100\n",
      "12/12 [==============================] - 0s 6ms/step - loss: 0.3029 - val_loss: 0.4278\n",
      "Epoch 56/100\n",
      "12/12 [==============================] - 0s 6ms/step - loss: 0.3147 - val_loss: 0.4245\n",
      "Epoch 57/100\n",
      "12/12 [==============================] - 0s 6ms/step - loss: 0.3049 - val_loss: 0.4207\n",
      "Epoch 58/100\n",
      "12/12 [==============================] - 0s 5ms/step - loss: 0.3076 - val_loss: 0.4115\n",
      "Epoch 59/100\n",
      "12/12 [==============================] - 0s 5ms/step - loss: 0.3280 - val_loss: 0.4055\n",
      "Epoch 60/100\n",
      "12/12 [==============================] - 0s 6ms/step - loss: 0.2907 - val_loss: 0.4253\n",
      "Epoch 61/100\n",
      "12/12 [==============================] - 0s 5ms/step - loss: 0.2747 - val_loss: 0.4395\n",
      "Epoch 62/100\n",
      "12/12 [==============================] - 0s 5ms/step - loss: 0.3335 - val_loss: 0.4344\n",
      "Epoch 63/100\n",
      "12/12 [==============================] - 0s 5ms/step - loss: 0.2857 - val_loss: 0.4319\n",
      "Epoch 64/100\n",
      "12/12 [==============================] - 0s 5ms/step - loss: 0.3307 - val_loss: 0.4291\n",
      "Epoch 65/100\n",
      "12/12 [==============================] - 0s 6ms/step - loss: 0.2713 - val_loss: 0.4108\n",
      "Epoch 66/100\n",
      "12/12 [==============================] - 0s 6ms/step - loss: 0.2945 - val_loss: 0.4067\n",
      "Epoch 67/100\n",
      "12/12 [==============================] - 0s 6ms/step - loss: 0.3035 - val_loss: 0.4078\n",
      "Epoch 68/100\n",
      "12/12 [==============================] - 0s 6ms/step - loss: 0.3398 - val_loss: 0.4083\n",
      "Epoch 69/100\n",
      "12/12 [==============================] - 0s 6ms/step - loss: 0.2946 - val_loss: 0.4019\n",
      "Epoch 70/100\n",
      "12/12 [==============================] - 0s 5ms/step - loss: 0.2769 - val_loss: 0.3975\n",
      "Epoch 71/100\n",
      "12/12 [==============================] - 0s 5ms/step - loss: 0.2863 - val_loss: 0.3946\n",
      "Epoch 72/100\n",
      "12/12 [==============================] - 0s 6ms/step - loss: 0.3127 - val_loss: 0.3973\n",
      "Epoch 73/100\n",
      "12/12 [==============================] - 0s 5ms/step - loss: 0.2918 - val_loss: 0.4022\n",
      "Epoch 74/100\n",
      "12/12 [==============================] - 0s 5ms/step - loss: 0.3005 - val_loss: 0.3966\n",
      "Epoch 75/100\n",
      "12/12 [==============================] - 0s 5ms/step - loss: 0.3004 - val_loss: 0.3858\n",
      "Epoch 76/100\n",
      "12/12 [==============================] - 0s 8ms/step - loss: 0.2972 - val_loss: 0.3953\n",
      "Epoch 77/100\n",
      "12/12 [==============================] - 0s 6ms/step - loss: 0.3083 - val_loss: 0.3981\n",
      "Epoch 78/100\n",
      "12/12 [==============================] - 0s 6ms/step - loss: 0.2918 - val_loss: 0.3996\n",
      "Epoch 79/100\n",
      "12/12 [==============================] - 0s 6ms/step - loss: 0.3145 - val_loss: 0.3987\n",
      "Epoch 80/100\n",
      "12/12 [==============================] - 0s 6ms/step - loss: 0.2838 - val_loss: 0.4044\n",
      "Epoch 81/100\n",
      "12/12 [==============================] - 0s 6ms/step - loss: 0.2914 - val_loss: 0.4100\n",
      "Epoch 82/100\n",
      "12/12 [==============================] - 0s 6ms/step - loss: 0.2917 - val_loss: 0.4116\n",
      "Epoch 83/100\n",
      "12/12 [==============================] - 0s 6ms/step - loss: 0.2741 - val_loss: 0.4156\n",
      "Epoch 84/100\n",
      "12/12 [==============================] - 0s 6ms/step - loss: 0.3107 - val_loss: 0.4163\n",
      "Epoch 85/100\n",
      "12/12 [==============================] - 0s 6ms/step - loss: 0.3094 - val_loss: 0.4030\n",
      "Epoch 86/100\n",
      "12/12 [==============================] - 0s 6ms/step - loss: 0.3075 - val_loss: 0.3821\n",
      "Epoch 87/100\n",
      "12/12 [==============================] - 0s 6ms/step - loss: 0.2782 - val_loss: 0.3679\n",
      "Epoch 88/100\n",
      "12/12 [==============================] - 0s 6ms/step - loss: 0.2887 - val_loss: 0.3610\n",
      "Epoch 89/100\n",
      "12/12 [==============================] - 0s 6ms/step - loss: 0.3026 - val_loss: 0.3589\n",
      "Epoch 90/100\n",
      "12/12 [==============================] - 0s 6ms/step - loss: 0.2953 - val_loss: 0.3571\n",
      "Epoch 91/100\n",
      "12/12 [==============================] - 0s 6ms/step - loss: 0.2436 - val_loss: 0.3558\n",
      "Epoch 92/100\n",
      "12/12 [==============================] - 0s 6ms/step - loss: 0.2820 - val_loss: 0.3686\n",
      "Epoch 93/100\n",
      "12/12 [==============================] - 0s 6ms/step - loss: 0.2811 - val_loss: 0.3805\n",
      "Epoch 94/100\n",
      "12/12 [==============================] - 0s 6ms/step - loss: 0.2711 - val_loss: 0.3837\n",
      "Epoch 95/100\n",
      "12/12 [==============================] - 0s 6ms/step - loss: 0.2697 - val_loss: 0.3839\n",
      "Epoch 96/100\n",
      "12/12 [==============================] - 0s 6ms/step - loss: 0.2745 - val_loss: 0.3828\n",
      "Epoch 97/100\n",
      "12/12 [==============================] - 0s 6ms/step - loss: 0.2720 - val_loss: 0.3864\n",
      "Epoch 98/100\n",
      "12/12 [==============================] - 0s 6ms/step - loss: 0.2795 - val_loss: 0.3851\n",
      "Epoch 99/100\n",
      "12/12 [==============================] - 0s 8ms/step - loss: 0.2707 - val_loss: 0.3910\n",
      "Epoch 100/100\n",
      "12/12 [==============================] - 0s 7ms/step - loss: 0.2912 - val_loss: 0.3842\n"
     ]
    },
    {
     "data": {
      "image/png": "[encoded data removed]",
      "text/plain": [
       "<Figure size 640x480 with 1 Axes>"
      ]
     },
     "metadata": {},
     "output_type": "display_data"
    }
   ],
   "source": [
    "# train the model\n",
    "# with tf.device('/device:GPU:0'):\n",
    "history = smn.fit(\n",
    "    [Xt_dat_txt, Xt_dat_img], y_train,\n",
    "    validation_data=([Xv_dat_txt, Xv_dat_img], y_val),\n",
    "    batch_size=SIAM_CONFIG['BATCH_SIZE'],\n",
    "    epochs=SIAM_CONFIG['EPOCHS'],\n",
    "    shuffle=True)\n",
    "\n",
    "plot_training(history)\n",
    "smn.save(SIAM_CONFIG[\"MODEL_PATH\"])"
   ]
  },
  {
   "attachments": {},
   "cell_type": "markdown",
   "metadata": {},
   "source": [
    "#### Test the model output"
   ]
  },
  {
   "cell_type": "code",
   "execution_count": 161,
   "metadata": {},
   "outputs": [
    {
     "name": "stdout",
     "output_type": "stream",
     "text": [
      "1/1 [==============================] - 0s 135ms/step\n",
      "1/1 [==============================] - 0s 53ms/step\n"
     ]
    }
   ],
   "source": [
    "NUM_TEST_PAIRS = 5\n",
    "\n",
    "# get some random samples\n",
    "# rand_i = random.sample(range(len(pico_char_dat)), NUM_TEST_PAIRS)\n",
    "rand_not_i = random.sample(range(len(pico_char_dat)), NUM_TEST_PAIRS)\n",
    "\n",
    "# preset samples for comparison\n",
    "rand_i = [21,53,90,96,99,30]  #tails, finn, link, samus, pikachu, leonardo\n",
    "rand_not_i.append(31)  # add raphael\n",
    "# rand_not_i = [0,1,2,3,4,5]  # \n",
    "\n",
    "\n",
    "# get the text and image (and bad imgs)\n",
    "test_txt = pico_char_labels[rand_i]\n",
    "test_txt_emb = np.array(pico_char_labels_emb)[rand_i]\n",
    "test_img = pico_char_dat[rand_i]\n",
    "test_not_img = pico_char_dat[rand_not_i]\n",
    "\n",
    "# show the prediction output from the model\n",
    "pos = smn.predict([[test_txt_emb], [test_img]])\n",
    "neg = smn.predict([[test_txt_emb], [test_not_img]])\n",
    "\n",
    "# print(pos.shape)\n",
    "# print(neg.shape)"
   ]
  },
  {
   "cell_type": "code",
   "execution_count": 162,
   "metadata": {},
   "outputs": [
    {
     "name": "stdout",
     "output_type": "stream",
     "text": [
      "Text: an orange fox with red shoes\n"
     ]
    },
    {
     "data": {
      "image/png": "[encoded data removed]",
      "text/plain": [
       "<Figure size 2000x700 with 2 Axes>"
      ]
     },
     "metadata": {},
     "output_type": "display_data"
    },
    {
     "name": "stdout",
     "output_type": "stream",
     "text": [
      "Text: a boy with a white hat with ears, blue shirt and black pants wearing a green backpack\n"
     ]
    },
    {
     "data": {
      "image/png": "[encoded data removed]",
      "text/plain": [
       "<Figure size 2000x700 with 2 Axes>"
      ]
     },
     "metadata": {},
     "output_type": "display_data"
    },
    {
     "name": "stdout",
     "output_type": "stream",
     "text": [
      "Text: a man with green clothes and yellow hair with a sword and shield\n"
     ]
    },
    {
     "data": {
      "image/png": "[encoded data removed]",
      "text/plain": [
       "<Figure size 2000x700 with 2 Axes>"
      ]
     },
     "metadata": {},
     "output_type": "display_data"
    },
    {
     "name": "stdout",
     "output_type": "stream",
     "text": [
      "Text: a robot with a red helmet and green glasses with an orange suit and blue gun\n"
     ]
    },
    {
     "data": {
      "image/png": "[encoded data removed]",
      "text/plain": [
       "<Figure size 2000x700 with 2 Axes>"
      ]
     },
     "metadata": {},
     "output_type": "display_data"
    },
    {
     "name": "stdout",
     "output_type": "stream",
     "text": [
      "Text: a yellow monster with black ears and red cheeks\n"
     ]
    },
    {
     "data": {
      "image/png": "[encoded data removed]",
      "text/plain": [
       "<Figure size 2000x700 with 2 Axes>"
      ]
     },
     "metadata": {},
     "output_type": "display_data"
    },
    {
     "name": "stdout",
     "output_type": "stream",
     "text": [
      "Text: a green turtle standing up with a blue bandana on its eyes\n"
     ]
    },
    {
     "data": {
      "image/png": "[encoded data removed]",
      "text/plain": [
       "<Figure size 2000x700 with 2 Axes>"
      ]
     },
     "metadata": {},
     "output_type": "display_data"
    }
   ],
   "source": [
    "# show the output\n",
    "for i in range(len(test_txt)):\n",
    "    print(f\"Text: {test_txt[i]}\")\n",
    "    showMultiSprPalette([test_img[i],test_not_img[i]],textArr=[pos[i],neg[i]])\n"
   ]
  }
 ],
 "metadata": {
  "kernelspec": {
   "display_name": "bmo-venv",
   "language": "python",
   "name": "python3"
  },
  "language_info": {
   "codemirror_mode": {
    "name": "ipython",
    "version": 3
   },
   "file_extension": ".py",
   "mimetype": "text/x-python",
   "name": "python",
   "nbconvert_exporter": "python",
   "pygments_lexer": "ipython3",
   "version": "3.8.9"
  },
  "orig_nbformat": 4
 },
 "nbformat": 4,
 "nbformat_minor": 2
}
